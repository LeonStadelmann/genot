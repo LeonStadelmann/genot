{
 "cells": [
  {
   "cell_type": "code",
   "execution_count": null,
   "metadata": {},
   "outputs": [],
   "source": [
    "%load_ext autoreload\n",
    "%autoreload 2"
   ]
  },
  {
   "cell_type": "code",
   "execution_count": null,
   "metadata": {},
   "outputs": [],
   "source": [
    "#import jax\n",
    "#jax.config.update('jax_platform_name', 'cpu')"
   ]
  },
  {
   "cell_type": "code",
   "execution_count": null,
   "metadata": {},
   "outputs": [],
   "source": [
    "from entot.data.data import create_gaussians, create_gaussian_split\n",
    "from entot.plotting.plots import plot_1D\n",
    "from entot.models.models import NoiseOutsourcingModel\n",
    "from entot.models.utils import MixtureNormalSampler\n",
    "import matplotlib.pyplot as plt\n",
    "import numpy as np\n",
    "import jax\n",
    "import jax.numpy as jnp"
   ]
  },
  {
   "cell_type": "code",
   "execution_count": null,
   "metadata": {},
   "outputs": [],
   "source": [
    "sampler_source = MixtureNormalSampler([0], 1, 100, 0.5)\n",
    "sampler_target = MixtureNormalSampler([-1.0,1.0], 1, 100, 0.1)"
   ]
  },
  {
   "cell_type": "code",
   "execution_count": null,
   "metadata": {},
   "outputs": [],
   "source": [
    "sm = NoiseOutsourcingModel(0.1, 512, 512, iterations=3000, inner_iterations=20, input_dim=1, noise_dim=4, std=0.1, callback=plot_1D, callback_iters=5)"
   ]
  },
  {
   "cell_type": "code",
   "execution_count": null,
   "metadata": {},
   "outputs": [],
   "source": [
    "sm(sampler_source, sampler_target)"
   ]
  },
  {
   "cell_type": "code",
   "execution_count": null,
   "metadata": {},
   "outputs": [],
   "source": [
    "sm.metrics"
   ]
  },
  {
   "cell_type": "code",
   "execution_count": null,
   "metadata": {},
   "outputs": [],
   "source": [
    "plt."
   ]
  },
  {
   "cell_type": "code",
   "execution_count": null,
   "metadata": {},
   "outputs": [],
   "source": [
    "import seaborn as sns\n",
    "sample_0 = sm.sample(jnp.array([0]))\n",
    "print(f\"Variance p(Y|X=0.5) is {jnp.var(sample_0):.2f}\")\n",
    "sns.kdeplot(sample_0)\n"
   ]
  },
  {
   "cell_type": "code",
   "execution_count": null,
   "metadata": {},
   "outputs": [],
   "source": [
    "import seaborn as sns\n",
    "sample_0 = sm.sample(jnp.array([0]))\n",
    "print(f\"Variance p(Y|X=0.5) is {jnp.var(sample_0):.2f}\")\n",
    "sns.kdeplot(sample_0)\n"
   ]
  },
  {
   "cell_type": "code",
   "execution_count": null,
   "metadata": {},
   "outputs": [],
   "source": [
    "sample_05 = sm.sample(jnp.array([0.5]))\n",
    "print(f\"Variance p(Y|X=0.5) is {jnp.var(sample_05):.2f}\")\n",
    "sns.kdeplot(sample_0)"
   ]
  },
  {
   "cell_type": "code",
   "execution_count": null,
   "metadata": {},
   "outputs": [],
   "source": [
    "plt.plot(np.arange(len(sm.metrics[\"phi_obj\"])), sm.metrics[\"phi_obj\"])"
   ]
  },
  {
   "cell_type": "code",
   "execution_count": null,
   "metadata": {},
   "outputs": [],
   "source": [
    "plt.plot(np.arange(len(sm.metrics[\"t_obj\"])), sm.metrics[\"t_obj\"])"
   ]
  },
  {
   "cell_type": "code",
   "execution_count": null,
   "metadata": {},
   "outputs": [],
   "source": []
  }
 ],
 "metadata": {
  "kernelspec": {
   "display_name": "ott",
   "language": "python",
   "name": "ott"
  },
  "language_info": {
   "codemirror_mode": {
    "name": "ipython",
    "version": 3
   },
   "file_extension": ".py",
   "mimetype": "text/x-python",
   "name": "python",
   "nbconvert_exporter": "python",
   "pygments_lexer": "ipython3",
   "version": "3.10.10"
  },
  "orig_nbformat": 4
 },
 "nbformat": 4,
 "nbformat_minor": 2
}
