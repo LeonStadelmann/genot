{
 "cells": [
  {
   "cell_type": "code",
   "execution_count": 1,
   "id": "51105a00-2cd3-49cd-a8c5-1d7a6474c9a7",
   "metadata": {},
   "outputs": [],
   "source": [
    "import cellrank\n"
   ]
  },
  {
   "cell_type": "code",
   "execution_count": 2,
   "id": "430abbbd-f1dc-4c3d-a1bc-98492e68ef5b",
   "metadata": {},
   "outputs": [],
   "source": [
    "import scanpy as sc"
   ]
  },
  {
   "cell_type": "code",
   "execution_count": 3,
   "id": "8f473558-df4f-45dd-80fd-8d8fc4dd621b",
   "metadata": {},
   "outputs": [],
   "source": [
    "import scanpy as sc\n",
    "adata = sc.read(\"/home/icb/dominik.klein/data/genot/pancreas_l2_cost.h5ad\")\n",
    "from cellrank.kernels import VelocityKernel\n",
    "sc.pp.neighbors(adata)"
   ]
  },
  {
   "cell_type": "code",
   "execution_count": 4,
   "id": "26c205cb-9c8f-452f-ba10-176f5aef6e20",
   "metadata": {},
   "outputs": [],
   "source": [
    "kernel = VelocityKernel(adata, attr=\"obsm\", xkey=\"velocities\", vkey=\"velocities\")"
   ]
  },
  {
   "cell_type": "code",
   "execution_count": 5,
   "id": "9320dd50-1ac8-4c91-b1ab-f29d94f385a5",
   "metadata": {},
   "outputs": [
    {
     "name": "stderr",
     "output_type": "stream",
     "text": [
      "100%|██████████| 7197/7197 [00:08<00:00, 889.41cell/s] \n",
      "100%|██████████| 7197/7197 [00:01<00:00, 6197.11cell/s]\n"
     ]
    },
    {
     "data": {
      "text/plain": [
       "VelocityKernel[n=7197, model='deterministic', similarity='correlation', softmax_scale=1.854]"
      ]
     },
     "execution_count": 5,
     "metadata": {},
     "output_type": "execute_result"
    }
   ],
   "source": [
    "kernel.compute_transition_matrix()"
   ]
  },
  {
   "cell_type": "code",
   "execution_count": 6,
   "id": "35b572cf-82c9-4b6b-ad0e-9acce1967daa",
   "metadata": {},
   "outputs": [],
   "source": [
    "g = cellrank.estimators.GPCCA(kernel)"
   ]
  },
  {
   "cell_type": "code",
   "execution_count": 7,
   "id": "29185ee0-1f4e-4579-a80c-355c537ac176",
   "metadata": {},
   "outputs": [
    {
     "name": "stderr",
     "output_type": "stream",
     "text": [
      "--------------------------------------------------------------------------\n",
      "WARNING: There was an error initializing an OpenFabrics device.\n",
      "\n",
      "  Local host:   gpusrv46\n",
      "  Local device: mlx5_0\n",
      "--------------------------------------------------------------------------\n"
     ]
    },
    {
     "name": "stdout",
     "output_type": "stream",
     "text": [
      "WARNING: The following terminal states have different number of cells than requested (30): {'Alpha_2': 6}\n"
     ]
    },
    {
     "name": "stderr",
     "output_type": "stream",
     "text": [
      "/home/icb/dominik.klein/mambaforge/envs/cr_new/lib/python3.11/site-packages/anndata/_core/aligned_df.py:67: ImplicitModificationWarning: Transforming to str index.\n",
      "  warnings.warn(\"Transforming to str index.\", ImplicitModificationWarning)\n"
     ]
    },
    {
     "data": {
      "text/plain": [
       "0.7037037037037037"
      ]
     },
     "execution_count": 7,
     "metadata": {},
     "output_type": "execute_result"
    }
   ],
   "source": [
    "g.tsi(n_macrostates=15, cluster_key=\"celltype\", terminal_states=[\"Alpha\", \"Beta\", \"Delta\", \"Epsilon\"])"
   ]
  },
  {
   "cell_type": "code",
   "execution_count": 8,
   "id": "32fd7011-9f2f-4bf8-aad2-bc7b8b489371",
   "metadata": {},
   "outputs": [],
   "source": [
    "adata = sc.read(\"/home/icb/dominik.klein/data/genot/pancreas_l2_cost_2.h5ad\")"
   ]
  },
  {
   "cell_type": "code",
   "execution_count": 9,
   "id": "67dd0611-c615-43e3-b62c-e18a76e2f880",
   "metadata": {},
   "outputs": [
    {
     "name": "stderr",
     "output_type": "stream",
     "text": [
      "100%|██████████| 7197/7197 [00:01<00:00, 3653.53cell/s]\n",
      "100%|██████████| 7197/7197 [00:01<00:00, 5256.75cell/s]\n",
      "/home/icb/dominik.klein/mambaforge/envs/cr_new/lib/python3.11/site-packages/anndata/_core/aligned_df.py:67: ImplicitModificationWarning: Transforming to str index.\n",
      "  warnings.warn(\"Transforming to str index.\", ImplicitModificationWarning)\n"
     ]
    },
    {
     "data": {
      "text/plain": [
       "0.7222222222222222"
      ]
     },
     "execution_count": 9,
     "metadata": {},
     "output_type": "execute_result"
    }
   ],
   "source": [
    "sc.pp.neighbors(adata)\n",
    "kernel = VelocityKernel(adata, attr=\"obsm\", xkey=\"velocities\", vkey=\"velocities\")\n",
    "kernel.compute_transition_matrix()\n",
    "g = cellrank.estimators.GPCCA(kernel)\n",
    "g.tsi(n_macrostates=15, cluster_key=\"celltype\", terminal_states=[\"Alpha\", \"Beta\", \"Delta\", \"Epsilon\"])"
   ]
  },
  {
   "cell_type": "code",
   "execution_count": 10,
   "id": "b45af382-49fa-4340-aa54-91b5365f9198",
   "metadata": {},
   "outputs": [
    {
     "name": "stderr",
     "output_type": "stream",
     "text": [
      "100%|██████████| 7197/7197 [00:01<00:00, 6851.24cell/s]\n",
      "[0]PETSC ERROR: ------------------------------------------------------------------------\n",
      "[0]PETSC ERROR: Caught signal number 13 Broken Pipe: Likely while reading or writing to a socket\n",
      "[0]PETSC ERROR: Try option -start_in_debugger or -on_error_attach_debugger\n",
      "[0]PETSC ERROR: or see https://petsc.org/release/faq/#valgrind and https://petsc.org/release/faq/\n",
      "[0]PETSC ERROR: configure using --with-debugging=yes, recompile, link, and run \n",
      "[0]PETSC ERROR: to get more information on the crash.\n",
      "100%|██████████| 7197/7197 [00:00<00:00, 8511.67cell/s]\n",
      "[0]PETSC ERROR: ------------------------------------------------------------------------\n",
      "[0]PETSC ERROR: Caught signal number 13 Broken Pipe: Likely while reading or writing to a socket\n",
      "[0]PETSC ERROR: Try option -start_in_debugger or -on_error_attach_debugger\n",
      "[0]PETSC ERROR: or see https://petsc.org/release/faq/#valgrind and https://petsc.org/release/faq/\n",
      "[0]PETSC ERROR: configure using --with-debugging=yes, recompile, link, and run \n",
      "[0]PETSC ERROR: to get more information on the crash.\n",
      "/home/icb/dominik.klein/mambaforge/envs/cr_new/lib/python3.11/site-packages/anndata/_core/aligned_df.py:67: ImplicitModificationWarning: Transforming to str index.\n",
      "  warnings.warn(\"Transforming to str index.\", ImplicitModificationWarning)\n"
     ]
    },
    {
     "data": {
      "text/plain": [
       "0.7222222222222222"
      ]
     },
     "execution_count": 10,
     "metadata": {},
     "output_type": "execute_result"
    }
   ],
   "source": [
    "adata = sc.read(\"/home/icb/dominik.klein/data/genot/pancreas_l2_cost_3.h5ad\")\n",
    "sc.pp.neighbors(adata)\n",
    "kernel = VelocityKernel(adata, attr=\"obsm\", xkey=\"velocities\", vkey=\"velocities\")\n",
    "kernel.compute_transition_matrix()\n",
    "g = cellrank.estimators.GPCCA(kernel)\n",
    "g.tsi(n_macrostates=15, cluster_key=\"celltype\", terminal_states=[\"Alpha\", \"Beta\", \"Delta\", \"Epsilon\"])"
   ]
  },
  {
   "cell_type": "code",
   "execution_count": 14,
   "id": "d83c4b32-5f8e-4f64-8efc-e9023bb28d3e",
   "metadata": {},
   "outputs": [],
   "source": [
    "import numpy as np\n",
    "res = np.array([0.7037037037037037, 0.7222222222222222, 0.7222222222222222])"
   ]
  },
  {
   "cell_type": "code",
   "execution_count": 15,
   "id": "b5524d6a-6393-4c86-ad34-202593fc91a3",
   "metadata": {},
   "outputs": [
    {
     "data": {
      "text/plain": [
       "0.7160493827160495"
      ]
     },
     "execution_count": 15,
     "metadata": {},
     "output_type": "execute_result"
    }
   ],
   "source": [
    "np.mean(res)"
   ]
  },
  {
   "cell_type": "code",
   "execution_count": 16,
   "id": "53671ebd-cd00-4730-8811-c463ae49ee3f",
   "metadata": {},
   "outputs": [
    {
     "data": {
      "text/plain": [
       "0.008729713347982055"
      ]
     },
     "execution_count": 16,
     "metadata": {},
     "output_type": "execute_result"
    }
   ],
   "source": [
    "np.std(res)"
   ]
  },
  {
   "cell_type": "code",
   "execution_count": null,
   "id": "0b2e783d-a144-457d-884e-b6f85365dba5",
   "metadata": {},
   "outputs": [],
   "source": []
  }
 ],
 "metadata": {
  "kernelspec": {
   "display_name": "cr_new",
   "language": "python",
   "name": "cr_new"
  },
  "language_info": {
   "codemirror_mode": {
    "name": "ipython",
    "version": 3
   },
   "file_extension": ".py",
   "mimetype": "text/x-python",
   "name": "python",
   "nbconvert_exporter": "python",
   "pygments_lexer": "ipython3",
   "version": "3.11.9"
  }
 },
 "nbformat": 4,
 "nbformat_minor": 5
}
