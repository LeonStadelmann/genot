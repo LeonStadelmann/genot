{
 "cells": [
  {
   "cell_type": "code",
   "execution_count": 1,
   "id": "51105a00-2cd3-49cd-a8c5-1d7a6474c9a7",
   "metadata": {},
   "outputs": [],
   "source": [
    "import cellrank\n"
   ]
  },
  {
   "cell_type": "code",
   "execution_count": 2,
   "id": "430abbbd-f1dc-4c3d-a1bc-98492e68ef5b",
   "metadata": {},
   "outputs": [],
   "source": [
    "import scanpy as sc"
   ]
  },
  {
   "cell_type": "code",
   "execution_count": 3,
   "id": "8f473558-df4f-45dd-80fd-8d8fc4dd621b",
   "metadata": {},
   "outputs": [],
   "source": [
    "import scanpy as sc\n",
    "adata = sc.read(\"/home/icb/dominik.klein/data/genot/pancreas_geodesic_cost.h5ad\")\n",
    "from cellrank.kernels import VelocityKernel\n",
    "sc.pp.neighbors(adata)"
   ]
  },
  {
   "cell_type": "code",
   "execution_count": 4,
   "id": "26c205cb-9c8f-452f-ba10-176f5aef6e20",
   "metadata": {},
   "outputs": [],
   "source": [
    "kernel = VelocityKernel(adata, attr=\"obsm\", xkey=\"velocities\", vkey=\"velocities\")"
   ]
  },
  {
   "cell_type": "code",
   "execution_count": 5,
   "id": "9320dd50-1ac8-4c91-b1ab-f29d94f385a5",
   "metadata": {},
   "outputs": [
    {
     "name": "stderr",
     "output_type": "stream",
     "text": [
      "100%|██████████| 7197/7197 [00:00<00:00, 8860.48cell/s]\n",
      "100%|██████████| 7197/7197 [00:00<00:00, 9441.71cell/s]\n"
     ]
    },
    {
     "data": {
      "text/plain": [
       "VelocityKernel[n=7197, model='deterministic', similarity='correlation', softmax_scale=1.984]"
      ]
     },
     "execution_count": 5,
     "metadata": {},
     "output_type": "execute_result"
    }
   ],
   "source": [
    "kernel.compute_transition_matrix()"
   ]
  },
  {
   "cell_type": "code",
   "execution_count": 6,
   "id": "35b572cf-82c9-4b6b-ad0e-9acce1967daa",
   "metadata": {},
   "outputs": [],
   "source": [
    "g = cellrank.estimators.GPCCA(kernel)"
   ]
  },
  {
   "cell_type": "code",
   "execution_count": 7,
   "id": "29185ee0-1f4e-4579-a80c-355c537ac176",
   "metadata": {},
   "outputs": [
    {
     "name": "stderr",
     "output_type": "stream",
     "text": [
      "--------------------------------------------------------------------------\n",
      "WARNING: There was an error initializing an OpenFabrics device.\n",
      "\n",
      "  Local host:   gpusrv46\n",
      "  Local device: mlx5_0\n",
      "--------------------------------------------------------------------------\n"
     ]
    },
    {
     "name": "stdout",
     "output_type": "stream",
     "text": [
      "WARNING: The following terminal states have different number of cells than requested (30): {'Alpha_1': 27}\n"
     ]
    },
    {
     "name": "stderr",
     "output_type": "stream",
     "text": [
      "/home/icb/dominik.klein/mambaforge/envs/cr_new/lib/python3.11/site-packages/anndata/_core/aligned_df.py:67: ImplicitModificationWarning: Transforming to str index.\n",
      "  warnings.warn(\"Transforming to str index.\", ImplicitModificationWarning)\n"
     ]
    },
    {
     "data": {
      "text/plain": [
       "0.7777777777777778"
      ]
     },
     "execution_count": 7,
     "metadata": {},
     "output_type": "execute_result"
    }
   ],
   "source": [
    "g.tsi(n_macrostates=15, cluster_key=\"celltype\", terminal_states=[\"Alpha\", \"Beta\", \"Delta\", \"Epsilon\"])"
   ]
  },
  {
   "cell_type": "code",
   "execution_count": 8,
   "id": "32fd7011-9f2f-4bf8-aad2-bc7b8b489371",
   "metadata": {},
   "outputs": [],
   "source": [
    "adata = sc.read(\"/home/icb/dominik.klein/data/genot/pancreas_geodesic_cost_2.h5ad\")"
   ]
  },
  {
   "cell_type": "code",
   "execution_count": 9,
   "id": "ccef850d-9d83-4588-80a9-34cf96a5f08e",
   "metadata": {},
   "outputs": [],
   "source": [
    "sc.pp.neighbors(adata)"
   ]
  },
  {
   "cell_type": "code",
   "execution_count": 10,
   "id": "587fef2a-6660-4f9a-9ccc-6d817baa39f2",
   "metadata": {},
   "outputs": [],
   "source": [
    "kernel = VelocityKernel(adata, attr=\"obsm\", xkey=\"velocities\", vkey=\"velocities\")"
   ]
  },
  {
   "cell_type": "code",
   "execution_count": 11,
   "id": "3c45dd7f-76cb-4f4c-80ce-a106dc0e1959",
   "metadata": {},
   "outputs": [
    {
     "name": "stderr",
     "output_type": "stream",
     "text": [
      "100%|██████████| 7197/7197 [00:01<00:00, 6476.21cell/s]\n",
      "[0]PETSC ERROR: ------------------------------------------------------------------------\n",
      "[0]PETSC ERROR: Caught signal number 13 Broken Pipe: Likely while reading or writing to a socket\n",
      "[0]PETSC ERROR: Try option -start_in_debugger or -on_error_attach_debugger\n",
      "[0]PETSC ERROR: or see https://petsc.org/release/faq/#valgrind and https://petsc.org/release/faq/\n",
      "[0]PETSC ERROR: configure using --with-debugging=yes, recompile, link, and run \n",
      "[0]PETSC ERROR: to get more information on the crash.\n",
      "100%|██████████| 7197/7197 [00:01<00:00, 6168.61cell/s]\n",
      "[0]PETSC ERROR: ------------------------------------------------------------------------\n",
      "[0]PETSC ERROR: Caught signal number 13 Broken Pipe: Likely while reading or writing to a socket\n",
      "[0]PETSC ERROR: Try option -start_in_debugger or -on_error_attach_debugger\n",
      "[0]PETSC ERROR: or see https://petsc.org/release/faq/#valgrind and https://petsc.org/release/faq/\n",
      "[0]PETSC ERROR: configure using --with-debugging=yes, recompile, link, and run \n",
      "[0]PETSC ERROR: to get more information on the crash.\n"
     ]
    },
    {
     "data": {
      "text/plain": [
       "VelocityKernel[n=7197, model='deterministic', similarity='correlation', softmax_scale=2.009]"
      ]
     },
     "execution_count": 11,
     "metadata": {},
     "output_type": "execute_result"
    }
   ],
   "source": [
    "kernel.compute_transition_matrix()"
   ]
  },
  {
   "cell_type": "code",
   "execution_count": 12,
   "id": "3c9cd517-4d4e-4334-9e9e-c939697bceb8",
   "metadata": {},
   "outputs": [],
   "source": [
    "g = cellrank.estimators.GPCCA(kernel)"
   ]
  },
  {
   "cell_type": "code",
   "execution_count": 13,
   "id": "e62807a6-8a5c-4c04-b4b4-0a98102391b0",
   "metadata": {},
   "outputs": [
    {
     "name": "stderr",
     "output_type": "stream",
     "text": [
      "/home/icb/dominik.klein/mambaforge/envs/cr_new/lib/python3.11/site-packages/anndata/_core/aligned_df.py:67: ImplicitModificationWarning: Transforming to str index.\n",
      "  warnings.warn(\"Transforming to str index.\", ImplicitModificationWarning)\n"
     ]
    },
    {
     "data": {
      "text/plain": [
       "0.7777777777777778"
      ]
     },
     "execution_count": 13,
     "metadata": {},
     "output_type": "execute_result"
    }
   ],
   "source": [
    "g.tsi(n_macrostates=15, cluster_key=\"celltype\", terminal_states=[\"Alpha\", \"Beta\", \"Delta\", \"Epsilon\"])"
   ]
  },
  {
   "cell_type": "code",
   "execution_count": 14,
   "id": "2d383b4d-fb75-4796-92f8-240c865e4ad9",
   "metadata": {},
   "outputs": [
    {
     "name": "stderr",
     "output_type": "stream",
     "text": [
      "100%|██████████| 7197/7197 [00:01<00:00, 5599.90cell/s]\n",
      "[0]PETSC ERROR: ------------------------------------------------------------------------\n",
      "[0]PETSC ERROR: Caught signal number 13 Broken Pipe: Likely while reading or writing to a socket\n",
      "[0]PETSC ERROR: Try option -start_in_debugger or -on_error_attach_debugger\n",
      "[0]PETSC ERROR: or see https://petsc.org/release/faq/#valgrind and https://petsc.org/release/faq/\n",
      "[0]PETSC ERROR: configure using --with-debugging=yes, recompile, link, and run \n",
      "[0]PETSC ERROR: to get more information on the crash.\n",
      "100%|██████████| 7197/7197 [00:01<00:00, 6995.01cell/s]\n",
      "/home/icb/dominik.klein/mambaforge/envs/cr_new/lib/python3.11/site-packages/anndata/_core/aligned_df.py:67: ImplicitModificationWarning: Transforming to str index.\n",
      "  warnings.warn(\"Transforming to str index.\", ImplicitModificationWarning)\n"
     ]
    },
    {
     "data": {
      "text/plain": [
       "0.7777777777777778"
      ]
     },
     "execution_count": 14,
     "metadata": {},
     "output_type": "execute_result"
    }
   ],
   "source": [
    "adata = sc.read(\"/home/icb/dominik.klein/data/genot/pancreas_geodesic_cost_3.h5ad\")\n",
    "sc.pp.neighbors(adata)\n",
    "kernel = VelocityKernel(adata, attr=\"obsm\", xkey=\"velocities\", vkey=\"velocities\")\n",
    "kernel.compute_transition_matrix()\n",
    "g = cellrank.estimators.GPCCA(kernel)\n",
    "g.tsi(n_macrostates=15, cluster_key=\"celltype\", terminal_states=[\"Alpha\", \"Beta\", \"Delta\", \"Epsilon\"])"
   ]
  },
  {
   "cell_type": "code",
   "execution_count": null,
   "id": "43d6cc0f-ae20-4c17-aec6-c678ab0238d9",
   "metadata": {},
   "outputs": [],
   "source": []
  }
 ],
 "metadata": {
  "kernelspec": {
   "display_name": "cr_new",
   "language": "python",
   "name": "cr_new"
  },
  "language_info": {
   "codemirror_mode": {
    "name": "ipython",
    "version": 3
   },
   "file_extension": ".py",
   "mimetype": "text/x-python",
   "name": "python",
   "nbconvert_exporter": "python",
   "pygments_lexer": "ipython3",
   "version": "3.11.9"
  }
 },
 "nbformat": 4,
 "nbformat_minor": 5
}
