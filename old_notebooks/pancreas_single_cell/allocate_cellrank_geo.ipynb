{
 "cells": [
  {
   "cell_type": "code",
   "execution_count": 1,
   "id": "3967b0b2-17a8-44f4-a751-28dddca0a43c",
   "metadata": {},
   "outputs": [],
   "source": [
    "import scanpy as sc"
   ]
  },
  {
   "cell_type": "code",
   "execution_count": 30,
   "id": "25fd957c-05b2-4c0c-b67e-721fc2378d0c",
   "metadata": {},
   "outputs": [],
   "source": [
    "adata_l2_1 = sc.read(\"/home/icb/dominik.klein/data/genot/pancreas_l2_cost.h5ad\")\n",
    "adata_l2_2 = sc.read(\"/home/icb/dominik.klein/data/genot/pancreas_l2_cost_2.h5ad\")\n",
    "adata_l2_3 = sc.read(\"/home/icb/dominik.klein/data/genot/pancreas_l2_cost_3.h5ad\")"
   ]
  },
  {
   "cell_type": "code",
   "execution_count": 31,
   "id": "dc0551e0-a965-4eaf-9f9e-b1325387bf21",
   "metadata": {},
   "outputs": [],
   "source": [
    "adata_geo_1 = sc.read(\"/home/icb/dominik.klein/data/genot/pancreas_geodesic_cost.h5ad\")\n",
    "adata_geo_2 = sc.read(\"/home/icb/dominik.klein/data/genot/pancreas_geodesic_cost_2.h5ad\")\n",
    "adata_geo_3 = sc.read(\"/home/icb/dominik.klein/data/genot/pancreas_geodesic_cost_3.h5ad\")"
   ]
  },
  {
   "cell_type": "code",
   "execution_count": 32,
   "id": "3e7eb5bf-90af-4a24-a834-40df7459d4af",
   "metadata": {},
   "outputs": [],
   "source": [
    "preds_l2_1 = adata_l2_1.obsm[\"velocities\"] + adata_l2_1.obsm[\"X_pca\"] \n",
    "preds_l2_2 = adata_l2_2.obsm[\"velocities\"] + adata_l2_2.obsm[\"X_pca\"] \n",
    "preds_l2_3 = adata_l2_3.obsm[\"velocities\"] + adata_l2_3.obsm[\"X_pca\"] "
   ]
  },
  {
   "cell_type": "code",
   "execution_count": 33,
   "id": "aa459a72-5f9d-47a0-8ff1-14d4a674b9f8",
   "metadata": {},
   "outputs": [],
   "source": [
    "preds_geo_1 = adata_geo_1.obsm[\"velocities\"] + adata_geo_1.obsm[\"X_pca\"] \n",
    "preds_geo_2 = adata_geo_2.obsm[\"velocities\"] + adata_geo_2.obsm[\"X_pca\"] \n",
    "preds_geo_3 = adata_geo_3.obsm[\"velocities\"] + adata_geo_3.obsm[\"X_pca\"] "
   ]
  },
  {
   "cell_type": "code",
   "execution_count": 4,
   "id": "2a595b36-4c0c-4bd1-95a8-398dbc1aacb1",
   "metadata": {},
   "outputs": [],
   "source": [
    "from typing import Tuple, Callable, Union, List, Optional\n",
    "import scipy.sparse as sp\n",
    "import jax.numpy as jnp\n",
    "import jax\n",
    "import pandas as pd\n",
    "\n",
    "def get_nearest_neighbors(\n",
    "    input_batch: jnp.ndarray, target: jnp.ndarray, k: int = 30\n",
    ") -> Tuple[jnp.ndarray, jnp.ndarray]:\n",
    "    \"\"\"Get the k nearest neighbors of the input batch in the target.\"\"\"\n",
    "    if target.shape[0] < k:\n",
    "        raise ValueError(f\"k is {k}, but must be smaller or equal than {target.shape[0]}.\")\n",
    "    pairwise_euclidean_distances = jnp.sqrt(jnp.sum((input_batch - target) ** 2, axis=-1))\n",
    "    negative_distances, indices = jax.lax.top_k(-1 * pairwise_euclidean_distances, k=k)\n",
    "    return -1 * negative_distances, indices\n",
    "\n",
    "def project_transport_matrix(  \n",
    "        predicted_tgt_cells: jnp.ndarray,\n",
    "        tgt_cells: jnp.ndarray,\n",
    "        batch_size: int = 1024,\n",
    "        k: int = 1,\n",
    "    ) -> sp.csr_matrix:\n",
    "        \"\"\"Project Neural OT map onto cells.\"\"\"\n",
    "\n",
    "        get_knn_fn = jax.vmap(get_nearest_neighbors, in_axes=(0, None, None))\n",
    "        row_indices: Union[jnp.ndarray, List[jnp.ndarray]] = []\n",
    "        column_indices: Union[jnp.ndarray, List[jnp.ndarray]] = []\n",
    "        distances_list: Union[jnp.ndarray, List[jnp.ndarray]] = []\n",
    "        for index in range(0, len(predicted_tgt_cells), batch_size):\n",
    "            _, indices = get_knn_fn(predicted_tgt_cells[index : index + batch_size], tgt_cells, k)\n",
    "            column_indices.append(indices.flatten())\n",
    "            row_indices.append(\n",
    "                jnp.repeat(jnp.arange(index, index + min(batch_size, len(predicted_tgt_cells) - index)), min(k, len(tgt_cells)))\n",
    "            )\n",
    "        ri = jnp.concatenate(row_indices)\n",
    "        ci = jnp.concatenate(column_indices)\n",
    "        mat = np.zeros((len(ri), len(tgt_cells)))\n",
    "        mat[ri,ci] = 1.0\n",
    "        return mat\n",
    "\n",
    "def aggregate_transport_matrix(adata_source, adata_target, tmat, aggregation_key = \"celltype\", forward = True):\n",
    "    df_source = adata_source.obs[aggregation_key]\n",
    "    df_target = adata_target.obs[aggregation_key]\n",
    "\n",
    "    annotations_source = adata_source.obs[aggregation_key].cat.categories\n",
    "    annotations_target = adata_target.obs[aggregation_key].cat.categories\n",
    "\n",
    "    tm = pd.DataFrame(\n",
    "        np.zeros((len(annotations_source), len(annotations_target))),\n",
    "        index=annotations_source,\n",
    "        columns=annotations_target,\n",
    "    )\n",
    "    \n",
    "    for annotation_src in annotations_source:\n",
    "        for annotation_tgt in annotations_target:\n",
    "            tm.loc[annotation_src, annotation_tgt] = tmat[\n",
    "                np.ix_((df_source == annotation_src).squeeze(), (df_target == annotation_tgt).squeeze())\n",
    "            ].sum()\n",
    "    return tm.div(tm.sum(axis=int(forward)), axis=int(not forward))"
   ]
  },
  {
   "cell_type": "code",
   "execution_count": 34,
   "id": "08e8b469-891a-48b7-9de1-3a4ddb78bf2d",
   "metadata": {},
   "outputs": [],
   "source": [
    "adatas = [adata_l2_1, adata_l2_2, adata_l2_3, adata_geo_1, adata_geo_2, adata_geo_3]\n",
    "preds = [preds_l2_1, preds_l2_2, preds_l2_3, preds_geo_1, preds_geo_2, preds_geo_3]\n",
    "agg_tms = [None] * 6"
   ]
  },
  {
   "cell_type": "code",
   "execution_count": 36,
   "id": "96584505-204c-49ed-8b73-c82b5136f452",
   "metadata": {},
   "outputs": [],
   "source": [
    "for i, (adata, pred) in enumerate(zip(adatas, preds)):\n",
    "    source = adata[adata.obs[\"day\"]==\"14.5\"].obsm[\"X_pca\"]\n",
    "    target = adata[adata.obs[\"day\"]==\"15.5\"].obsm[\"X_pca\"]\n",
    "    tm = project_transport_matrix(pred[adata.obs[\"day\"]==\"14.5\"], target)\n",
    "    adata_source = adata[adata.obs[\"day\"]==\"14.5\"]\n",
    "    adata_target = adata[adata.obs[\"day\"]==\"15.5\"]\n",
    "    agg_tms[i] = aggregate_transport_matrix(adata_source, adata_target, tm, forward=False)"
   ]
  },
  {
   "cell_type": "code",
   "execution_count": 58,
   "id": "a81948b4-ea64-4d79-a769-7857d649bc98",
   "metadata": {},
   "outputs": [],
   "source": [
    "tms_red = [None] * 6\n",
    "for i, tm in enumerate(agg_tms):\n",
    "    tm_red = tm[[\"Alpha\", \"Beta\", \"Delta\", \"Epsilon\"]].loc[[\"Ngn3 low EP\", \"Ngn3 High late\"]].T\n",
    "    tm_red[\"cost\"] = \"geo\" if i>2 else \"l2\"\n",
    "    tms_red[i] = tm_red"
   ]
  },
  {
   "cell_type": "code",
   "execution_count": 59,
   "id": "101fa812-99b3-4dee-954c-ab2a12e9ef81",
   "metadata": {},
   "outputs": [],
   "source": [
    "df_concat = pd.concat(tms_red)"
   ]
  },
  {
   "cell_type": "code",
   "execution_count": 60,
   "id": "2a336946-1462-4f0d-82e2-94678bfba371",
   "metadata": {},
   "outputs": [],
   "source": [
    "df_concat = df_concat.fillna(0)"
   ]
  },
  {
   "cell_type": "code",
   "execution_count": 61,
   "id": "132623ab-56cc-490c-9b50-8c1c911a4521",
   "metadata": {},
   "outputs": [
    {
     "data": {
      "text/html": [
       "<div>\n",
       "<style scoped>\n",
       "    .dataframe tbody tr th:only-of-type {\n",
       "        vertical-align: middle;\n",
       "    }\n",
       "\n",
       "    .dataframe tbody tr th {\n",
       "        vertical-align: top;\n",
       "    }\n",
       "\n",
       "    .dataframe thead th {\n",
       "        text-align: right;\n",
       "    }\n",
       "</style>\n",
       "<table border=\"1\" class=\"dataframe\">\n",
       "  <thead>\n",
       "    <tr style=\"text-align: right;\">\n",
       "      <th></th>\n",
       "      <th>Ngn3 low EP</th>\n",
       "      <th>Ngn3 High late</th>\n",
       "      <th>cost</th>\n",
       "    </tr>\n",
       "  </thead>\n",
       "  <tbody>\n",
       "    <tr>\n",
       "      <th>Alpha</th>\n",
       "      <td>0.117574</td>\n",
       "      <td>0.003713</td>\n",
       "      <td>l2</td>\n",
       "    </tr>\n",
       "    <tr>\n",
       "      <th>Beta</th>\n",
       "      <td>0.189071</td>\n",
       "      <td>0.020765</td>\n",
       "      <td>l2</td>\n",
       "    </tr>\n",
       "    <tr>\n",
       "      <th>Delta</th>\n",
       "      <td>0.438776</td>\n",
       "      <td>0.040816</td>\n",
       "      <td>l2</td>\n",
       "    </tr>\n",
       "    <tr>\n",
       "      <th>Epsilon</th>\n",
       "      <td>0.230189</td>\n",
       "      <td>0.113208</td>\n",
       "      <td>l2</td>\n",
       "    </tr>\n",
       "    <tr>\n",
       "      <th>Alpha</th>\n",
       "      <td>0.140845</td>\n",
       "      <td>0.006402</td>\n",
       "      <td>l2</td>\n",
       "    </tr>\n",
       "    <tr>\n",
       "      <th>Beta</th>\n",
       "      <td>0.171039</td>\n",
       "      <td>0.030430</td>\n",
       "      <td>l2</td>\n",
       "    </tr>\n",
       "    <tr>\n",
       "      <th>Delta</th>\n",
       "      <td>0.300000</td>\n",
       "      <td>0.037500</td>\n",
       "      <td>l2</td>\n",
       "    </tr>\n",
       "    <tr>\n",
       "      <th>Epsilon</th>\n",
       "      <td>0.231405</td>\n",
       "      <td>0.099174</td>\n",
       "      <td>l2</td>\n",
       "    </tr>\n",
       "    <tr>\n",
       "      <th>Alpha</th>\n",
       "      <td>0.115942</td>\n",
       "      <td>0.007905</td>\n",
       "      <td>l2</td>\n",
       "    </tr>\n",
       "    <tr>\n",
       "      <th>Beta</th>\n",
       "      <td>0.208167</td>\n",
       "      <td>0.023904</td>\n",
       "      <td>l2</td>\n",
       "    </tr>\n",
       "    <tr>\n",
       "      <th>Delta</th>\n",
       "      <td>0.407080</td>\n",
       "      <td>0.035398</td>\n",
       "      <td>l2</td>\n",
       "    </tr>\n",
       "    <tr>\n",
       "      <th>Epsilon</th>\n",
       "      <td>0.175926</td>\n",
       "      <td>0.129630</td>\n",
       "      <td>l2</td>\n",
       "    </tr>\n",
       "    <tr>\n",
       "      <th>Alpha</th>\n",
       "      <td>0.124260</td>\n",
       "      <td>0.175542</td>\n",
       "      <td>geo</td>\n",
       "    </tr>\n",
       "    <tr>\n",
       "      <th>Beta</th>\n",
       "      <td>0.132062</td>\n",
       "      <td>0.170904</td>\n",
       "      <td>geo</td>\n",
       "    </tr>\n",
       "    <tr>\n",
       "      <th>Delta</th>\n",
       "      <td>0.000000</td>\n",
       "      <td>0.000000</td>\n",
       "      <td>geo</td>\n",
       "    </tr>\n",
       "    <tr>\n",
       "      <th>Epsilon</th>\n",
       "      <td>0.139241</td>\n",
       "      <td>0.265823</td>\n",
       "      <td>geo</td>\n",
       "    </tr>\n",
       "    <tr>\n",
       "      <th>Alpha</th>\n",
       "      <td>0.160275</td>\n",
       "      <td>0.227139</td>\n",
       "      <td>geo</td>\n",
       "    </tr>\n",
       "    <tr>\n",
       "      <th>Beta</th>\n",
       "      <td>0.114709</td>\n",
       "      <td>0.169288</td>\n",
       "      <td>geo</td>\n",
       "    </tr>\n",
       "    <tr>\n",
       "      <th>Delta</th>\n",
       "      <td>0.230769</td>\n",
       "      <td>0.153846</td>\n",
       "      <td>geo</td>\n",
       "    </tr>\n",
       "    <tr>\n",
       "      <th>Epsilon</th>\n",
       "      <td>0.186047</td>\n",
       "      <td>0.244186</td>\n",
       "      <td>geo</td>\n",
       "    </tr>\n",
       "    <tr>\n",
       "      <th>Alpha</th>\n",
       "      <td>0.155512</td>\n",
       "      <td>0.185039</td>\n",
       "      <td>geo</td>\n",
       "    </tr>\n",
       "    <tr>\n",
       "      <th>Beta</th>\n",
       "      <td>0.132316</td>\n",
       "      <td>0.167091</td>\n",
       "      <td>geo</td>\n",
       "    </tr>\n",
       "    <tr>\n",
       "      <th>Delta</th>\n",
       "      <td>0.000000</td>\n",
       "      <td>0.000000</td>\n",
       "      <td>geo</td>\n",
       "    </tr>\n",
       "    <tr>\n",
       "      <th>Epsilon</th>\n",
       "      <td>0.161871</td>\n",
       "      <td>0.219424</td>\n",
       "      <td>geo</td>\n",
       "    </tr>\n",
       "  </tbody>\n",
       "</table>\n",
       "</div>"
      ],
      "text/plain": [
       "         Ngn3 low EP  Ngn3 High late cost\n",
       "Alpha       0.117574        0.003713   l2\n",
       "Beta        0.189071        0.020765   l2\n",
       "Delta       0.438776        0.040816   l2\n",
       "Epsilon     0.230189        0.113208   l2\n",
       "Alpha       0.140845        0.006402   l2\n",
       "Beta        0.171039        0.030430   l2\n",
       "Delta       0.300000        0.037500   l2\n",
       "Epsilon     0.231405        0.099174   l2\n",
       "Alpha       0.115942        0.007905   l2\n",
       "Beta        0.208167        0.023904   l2\n",
       "Delta       0.407080        0.035398   l2\n",
       "Epsilon     0.175926        0.129630   l2\n",
       "Alpha       0.124260        0.175542  geo\n",
       "Beta        0.132062        0.170904  geo\n",
       "Delta       0.000000        0.000000  geo\n",
       "Epsilon     0.139241        0.265823  geo\n",
       "Alpha       0.160275        0.227139  geo\n",
       "Beta        0.114709        0.169288  geo\n",
       "Delta       0.230769        0.153846  geo\n",
       "Epsilon     0.186047        0.244186  geo\n",
       "Alpha       0.155512        0.185039  geo\n",
       "Beta        0.132316        0.167091  geo\n",
       "Delta       0.000000        0.000000  geo\n",
       "Epsilon     0.161871        0.219424  geo"
      ]
     },
     "execution_count": 61,
     "metadata": {},
     "output_type": "execute_result"
    }
   ],
   "source": [
    "df_concat"
   ]
  },
  {
   "cell_type": "code",
   "execution_count": 66,
   "id": "1427935c-5abe-4ae2-9079-38d6a3971dd3",
   "metadata": {},
   "outputs": [
    {
     "data": {
      "text/plain": [
       "<Axes: xlabel='None', ylabel='Ngn3 low EP'>"
      ]
     },
     "execution_count": 66,
     "metadata": {},
     "output_type": "execute_result"
    },
    {
     "data": {
      "image/png": "[encoded data removed]",
      "text/plain": [
       "<Figure size 640x480 with 1 Axes>"
      ]
     },
     "metadata": {},
     "output_type": "display_data"
    }
   ],
   "source": [
    "sns.barplot(df_concat, x=df_concat.index, y=\"Ngn3 low EP\", hue=\"cost\", palette=[\"green\", \"orange\"], errorbar=\"se\")"
   ]
  },
  {
   "cell_type": "code",
   "execution_count": 67,
   "id": "3365de00-a87d-4b3b-8a6a-33b279b8e465",
   "metadata": {},
   "outputs": [
    {
     "data": {
      "text/plain": [
       "<Axes: xlabel='None', ylabel='Ngn3 High late'>"
      ]
     },
     "execution_count": 67,
     "metadata": {},
     "output_type": "execute_result"
    },
    {
     "data": {
      "image/png": "[encoded data removed]",
      "text/plain": [
       "<Figure size 640x480 with 1 Axes>"
      ]
     },
     "metadata": {},
     "output_type": "display_data"
    }
   ],
   "source": [
    "sns.barplot(df_concat, x=df_concat.index, y=\"Ngn3 High late\", hue=\"cost\", palette=[\"green\", \"orange\"], errorbar=\"se\")"
   ]
  },
  {
   "cell_type": "code",
   "execution_count": 68,
   "id": "9ed869ef-388c-4e34-acc3-f7d8f73ab2c7",
   "metadata": {},
   "outputs": [
    {
     "data": {
      "text/html": [
       "<div>\n",
       "<style scoped>\n",
       "    .dataframe tbody tr th:only-of-type {\n",
       "        vertical-align: middle;\n",
       "    }\n",
       "\n",
       "    .dataframe tbody tr th {\n",
       "        vertical-align: top;\n",
       "    }\n",
       "\n",
       "    .dataframe thead th {\n",
       "        text-align: right;\n",
       "    }\n",
       "</style>\n",
       "<table border=\"1\" class=\"dataframe\">\n",
       "  <thead>\n",
       "    <tr style=\"text-align: right;\">\n",
       "      <th></th>\n",
       "      <th>Ngn3 low EP</th>\n",
       "      <th>Ngn3 High late</th>\n",
       "    </tr>\n",
       "    <tr>\n",
       "      <th>cost</th>\n",
       "      <th></th>\n",
       "      <th></th>\n",
       "    </tr>\n",
       "  </thead>\n",
       "  <tbody>\n",
       "    <tr>\n",
       "      <th>geo</th>\n",
       "      <td>0.128088</td>\n",
       "      <td>0.164857</td>\n",
       "    </tr>\n",
       "    <tr>\n",
       "      <th>l2</th>\n",
       "      <td>0.227168</td>\n",
       "      <td>0.045737</td>\n",
       "    </tr>\n",
       "  </tbody>\n",
       "</table>\n",
       "</div>"
      ],
      "text/plain": [
       "      Ngn3 low EP  Ngn3 High late\n",
       "cost                             \n",
       "geo      0.128088        0.164857\n",
       "l2       0.227168        0.045737"
      ]
     },
     "execution_count": 68,
     "metadata": {},
     "output_type": "execute_result"
    }
   ],
   "source": [
    "df_concat.groupby(\"cost\").mean()"
   ]
  },
  {
   "cell_type": "code",
   "execution_count": 69,
   "id": "90e6bc75-64b2-4520-907c-a0d63c12563c",
   "metadata": {},
   "outputs": [
    {
     "data": {
      "text/html": [
       "<div>\n",
       "<style scoped>\n",
       "    .dataframe tbody tr th:only-of-type {\n",
       "        vertical-align: middle;\n",
       "    }\n",
       "\n",
       "    .dataframe tbody tr th {\n",
       "        vertical-align: top;\n",
       "    }\n",
       "\n",
       "    .dataframe thead th {\n",
       "        text-align: right;\n",
       "    }\n",
       "</style>\n",
       "<table border=\"1\" class=\"dataframe\">\n",
       "  <thead>\n",
       "    <tr style=\"text-align: right;\">\n",
       "      <th></th>\n",
       "      <th>Ngn3 low EP</th>\n",
       "      <th>Ngn3 High late</th>\n",
       "    </tr>\n",
       "    <tr>\n",
       "      <th>cost</th>\n",
       "      <th></th>\n",
       "      <th></th>\n",
       "    </tr>\n",
       "  </thead>\n",
       "  <tbody>\n",
       "    <tr>\n",
       "      <th>geo</th>\n",
       "      <td>0.067418</td>\n",
       "      <td>0.084425</td>\n",
       "    </tr>\n",
       "    <tr>\n",
       "      <th>l2</th>\n",
       "      <td>0.105270</td>\n",
       "      <td>0.043405</td>\n",
       "    </tr>\n",
       "  </tbody>\n",
       "</table>\n",
       "</div>"
      ],
      "text/plain": [
       "      Ngn3 low EP  Ngn3 High late\n",
       "cost                             \n",
       "geo      0.067418        0.084425\n",
       "l2       0.105270        0.043405"
      ]
     },
     "execution_count": 69,
     "metadata": {},
     "output_type": "execute_result"
    }
   ],
   "source": [
    "df_concat.groupby(\"cost\").std()"
   ]
  },
  {
   "cell_type": "code",
   "execution_count": 70,
   "id": "4222e22d-b8c7-414d-96cb-4105be5e8ed9",
   "metadata": {},
   "outputs": [
    {
     "data": {
      "text/html": [
       "<div>\n",
       "<style scoped>\n",
       "    .dataframe tbody tr th:only-of-type {\n",
       "        vertical-align: middle;\n",
       "    }\n",
       "\n",
       "    .dataframe tbody tr th {\n",
       "        vertical-align: top;\n",
       "    }\n",
       "\n",
       "    .dataframe thead th {\n",
       "        text-align: right;\n",
       "    }\n",
       "</style>\n",
       "<table border=\"1\" class=\"dataframe\">\n",
       "  <thead>\n",
       "    <tr style=\"text-align: right;\">\n",
       "      <th></th>\n",
       "      <th>Ngn3 low EP</th>\n",
       "      <th>Ngn3 High late</th>\n",
       "    </tr>\n",
       "    <tr>\n",
       "      <th>cost</th>\n",
       "      <th></th>\n",
       "      <th></th>\n",
       "    </tr>\n",
       "  </thead>\n",
       "  <tbody>\n",
       "    <tr>\n",
       "      <th>geo</th>\n",
       "      <td>0.004545</td>\n",
       "      <td>0.007128</td>\n",
       "    </tr>\n",
       "    <tr>\n",
       "      <th>l2</th>\n",
       "      <td>0.011082</td>\n",
       "      <td>0.001884</td>\n",
       "    </tr>\n",
       "  </tbody>\n",
       "</table>\n",
       "</div>"
      ],
      "text/plain": [
       "      Ngn3 low EP  Ngn3 High late\n",
       "cost                             \n",
       "geo      0.004545        0.007128\n",
       "l2       0.011082        0.001884"
      ]
     },
     "execution_count": 70,
     "metadata": {},
     "output_type": "execute_result"
    }
   ],
   "source": [
    "df_concat.groupby(\"cost\").var()"
   ]
  },
  {
   "cell_type": "code",
   "execution_count": null,
   "id": "8c23522e-691b-470a-8d99-08d49a89ba2b",
   "metadata": {},
   "outputs": [],
   "source": []
  }
 ],
 "metadata": {
  "kernelspec": {
   "display_name": "entot_pip",
   "language": "python",
   "name": "entot_pip"
  },
  "language_info": {
   "codemirror_mode": {
    "name": "ipython",
    "version": 3
   },
   "file_extension": ".py",
   "mimetype": "text/x-python",
   "name": "python",
   "nbconvert_exporter": "python",
   "pygments_lexer": "ipython3",
   "version": "3.11.4"
  }
 },
 "nbformat": 4,
 "nbformat_minor": 5
}
