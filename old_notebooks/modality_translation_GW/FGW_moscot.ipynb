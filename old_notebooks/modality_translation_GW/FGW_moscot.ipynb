{
 "cells": [
  {
   "cell_type": "code",
   "execution_count": 5,
   "id": "faad4054-8187-49e1-8c6e-9dda9d98fd2d",
   "metadata": {},
   "outputs": [],
   "source": [
    "from moscot.problems.cross_modality import TranslationProblem\n",
    "import numpy as np\n",
    "import sys\n",
    "import jax.numpy as jnp\n",
    "import scanpy as sc\n",
    "from typing import Any, Tuple\n",
    "from sklearn.linear_model import LinearRegression\n",
    "from sklearn.neighbors import NearestNeighbors\n",
    "import scipy\n",
    "from sklearn import preprocessing as pp\n",
    "import os\n",
    "from ott.geometry import costs, geometry, graph, pointcloud\n",
    "import jax\n",
    "import pandas as pd\n"
   ]
  },
  {
   "cell_type": "code",
   "execution_count": 2,
   "id": "0241af61-aac4-4cb8-abec-454e377ee575",
   "metadata": {},
   "outputs": [],
   "source": [
    "def get_nearest_neighbors(\n",
    "        X: jnp.ndarray, Y: jnp.ndarray, k: int = 30\n",
    "    ) -> Tuple[jnp.ndarray, jnp.ndarray]:  \n",
    "        concat = jnp.concatenate((X, Y), axis=0)\n",
    "        pairwise_euclidean_distances = pointcloud.PointCloud(concat, concat).cost_matrix\n",
    "        distances, indices = jax.lax.approx_min_k(\n",
    "            pairwise_euclidean_distances, k=k, recall_target=0.95, aggregate_to_topk=True\n",
    "        )\n",
    "        return distances, indices\n",
    "\n",
    "def create_cost_matrix(X: jnp.array, Y: jnp.array, k_neighbors: int, **kwargs: Any) -> jnp.array:\n",
    "    distances, indices = get_nearest_neighbors(X, Y, k_neighbors)\n",
    "    a = jnp.zeros((len(X) + len(Y), len(X) + len(Y)))\n",
    "    adj_matrix = a.at[\n",
    "        jnp.repeat(jnp.arange(len(X) + len(Y)), repeats=k_neighbors).flatten(), indices.flatten()\n",
    "    ].set(distances.flatten())\n",
    "    return graph.Graph.from_graph(adj_matrix[:len(X), len(X):], normalize=kwargs.pop(\"normalize\", True), **kwargs).cost_matrix\n"
   ]
  },
  {
   "cell_type": "code",
   "execution_count": 3,
   "id": "02cb504f-ed70-4a09-bfd4-09d04b5a3ae5",
   "metadata": {},
   "outputs": [],
   "source": [
    "adata_atac = sc.read(\"../../data/bone_marrow_atac.h5ad\")\n",
    "adata_rna = sc.read(\"../../data/bone_marrow_rna.h5ad\")"
   ]
  },
  {
   "cell_type": "code",
   "execution_count": 6,
   "id": "bc9968ed-1316-4fce-a84c-75a2f478bea1",
   "metadata": {},
   "outputs": [],
   "source": [
    "adata_atac.obsm[\"ATAC_lsi_l2_norm\"] = pp.normalize(\n",
    "    adata_atac.obsm[\"ATAC_lsi_red\"], norm=\"l2\"\n",
    ")"
   ]
  },
  {
   "cell_type": "code",
   "execution_count": 10,
   "id": "23a0feec-8286-4beb-997e-8010fbbe715d",
   "metadata": {},
   "outputs": [
    {
     "name": "stderr",
     "output_type": "stream",
     "text": [
      "/home/icb/dominik.klein/mambaforge/envs/moscot_up/lib/python3.11/site-packages/anndata/_core/anndata.py:1113: FutureWarning: is_categorical_dtype is deprecated and will be removed in a future version. Use isinstance(dtype, CategoricalDtype) instead\n",
      "  if not is_categorical_dtype(df_full[k]):\n"
     ]
    },
    {
     "name": "stdout",
     "output_type": "stream",
     "text": [
      "\u001b[34mINFO    \u001b[0m Solving `\u001b[1;36m1\u001b[0m` problems                                                                                      \n",
      "\u001b[34mINFO    \u001b[0m Solving problem OTProblem\u001b[1m[\u001b[0m\u001b[33mstage\u001b[0m=\u001b[32m'prepared'\u001b[0m, \u001b[33mshape\u001b[0m=\u001b[1m(\u001b[0m\u001b[1;36m6224\u001b[0m, \u001b[1;36m6224\u001b[0m\u001b[1m)\u001b[0m\u001b[1m]\u001b[0m.                                          \n",
      "\u001b[31mWARNING \u001b[0m Solver did not converge                                                                                   \n"
     ]
    }
   ],
   "source": [
    "ftp = TranslationProblem(adata_src=adata_atac, adata_tgt=adata_rna)\n",
    "ftp = ftp.prepare(\n",
    "    src_attr=\"ATAC_lsi_l2_norm\", tgt_attr=\"GEX_X_pca\", joint_attr=\"geneactivity_scvi\"\n",
    ")\n",
    "ftp = ftp.solve(epsilon=0.5e-2, alpha=0.7)\n",
    "translated_fused = ftp.translate(source=\"src\", target=\"tgt\", forward=True)"
   ]
  },
  {
   "cell_type": "code",
   "execution_count": 11,
   "id": "d0984d9b-a5d7-46fe-83d1-861b0f90ac2f",
   "metadata": {},
   "outputs": [
    {
     "data": {
      "text/plain": [
       "0.4342"
      ]
     },
     "execution_count": 11,
     "metadata": {},
     "output_type": "execute_result"
    }
   ],
   "source": [
    "import scipy\n",
    "def foscttm(\n",
    "    x: np.ndarray,\n",
    "    y: np.ndarray,\n",
    ") -> float:\n",
    "    d = scipy.spatial.distance_matrix(x, y)\n",
    "    foscttm_x = (d < np.expand_dims(np.diag(d), axis=1)).mean(axis=1)\n",
    "    foscttm_y = (d < np.expand_dims(np.diag(d), axis=0)).mean(axis=0)\n",
    "    fracs = []\n",
    "    for i in range(len(foscttm_x)):\n",
    "        fracs.append((foscttm_x[i] + foscttm_y[i]) / 2)\n",
    "    return np.mean(fracs).round(4)\n",
    "    \n",
    "foscttm(adata_rna.obsm[\"GEX_X_pca\"], translated_fused)"
   ]
  },
  {
   "cell_type": "code",
   "execution_count": null,
   "id": "ac948222-a0c9-4ffa-8925-ef5c84115348",
   "metadata": {},
   "outputs": [],
   "source": [
    "tp = TranslationProblem(adata_src, adata_tgt)\n",
    "tp = tp.prepare(src_attr = \"source_train\", tgt_attr = \"target_train\")\n",
    "if cost == \"graph\":\n",
    "    cm = create_cost_matrix(source, source, k_neighbors=len(source)+1)\n",
    "    df_x = pd.DataFrame(cm, index=adata_src.obs_names, columns=adata_src.obs_names)\n",
    "    tp[\"src\", \"tgt\"].set_x(df_x, tag=\"cost_matrix\")\n",
    "    cm = create_cost_matrix(target, target, k_neighbors=len(target)+1)\n",
    "    df_y = pd.DataFrame(cm, index=adata_tgt.obs_names, columns=adata_tgt.obs_names)\n",
    "    tp[\"src\", \"tgt\"].set_y(df_y, tag=\"cost_matrix\")\n",
    "tp = tp.solve(epsilon=epsilon, scale_cost=\"mean\")"
   ]
  }
 ],
 "metadata": {
  "kernelspec": {
   "display_name": "moscot_up",
   "language": "python",
   "name": "moscot_up"
  },
  "language_info": {
   "codemirror_mode": {
    "name": "ipython",
    "version": 3
   },
   "file_extension": ".py",
   "mimetype": "text/x-python",
   "name": "python",
   "nbconvert_exporter": "python",
   "pygments_lexer": "ipython3",
   "version": "3.11.5"
  }
 },
 "nbformat": 4,
 "nbformat_minor": 5
}
