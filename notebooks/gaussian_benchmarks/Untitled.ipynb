{
 "cells": [
  {
   "cell_type": "code",
   "execution_count": 3,
   "id": "bb72ebef-a580-433d-8a41-5f7719f5ca0b",
   "metadata": {},
   "outputs": [
    {
     "name": "stderr",
     "output_type": "stream",
     "text": [
      "2023-09-22 09:09:34.889834: W external/xla/xla/service/gpu/nvptx_compiler.cc:698] The NVIDIA driver's CUDA version is 12.1 which is older than the ptxas CUDA version (12.2.128). Because the driver is older than the ptxas version, XLA is disabling parallel compilation, which may slow down compilation. You should update your NVIDIA driver or use the NVIDIA-provided CUDA forward compatibility packages.\n",
      "100%|██████████| 10000/10000 [36:56<00:00,  4.51it/s]\n"
     ]
    }
   ],
   "source": [
    "import ott\n",
    "import numpy as np\n",
    "from entot.models.model import OTFlowMatching\n",
    "from entot.nets.nets import MLP_vector_field, MLP_bridge\n",
    "import sys\n",
    "import os\n",
    "\n",
    "\n",
    "\n",
    "source_data_train = np.load(\"/home/icb/dominik.klein/git_repos/genot_benchmarks/input_data/gaussian_data/gaussian_source_samples_0.1_32.npy\")\n",
    "target_data_train = np.load(\"/home/icb/dominik.klein/git_repos/genot_benchmarks/input_data/gaussian_data/gaussian_target_samples_0.1_32.npy\")\n",
    "source_data_test = np.load(\"/home/icb/dominik.klein/git_repos/genot_benchmarks/input_data/gaussian_data/gaussian_source_samples_0.1_32.npy\")\n",
    "target_data_test = np.load(\"/home/icb/dominik.klein/git_repos/genot_benchmarks/input_data/gaussian_data/gaussian_target_samples_0.1_32.npy\")\n",
    "epsilon = 0.1\n",
    "seed=0\n",
    "\n",
    "\n",
    "ot_solver=ott.solvers.linear.sinkhorn.Sinkhorn()\n",
    "neural_net = MLP_vector_field(target_data_train.shape[1], latent_embed_dim = 256, num_layers=8, n_frequencies=256)\n",
    "bridge_net = MLP_bridge(target_data_train.shape[1], target_data_train.shape[1], bridge_type=\"mean\")\n",
    "\n",
    "otfm = OTFlowMatching(neural_net, iterations=10_000,  bridge_net=bridge_net,  ot_solver=ot_solver, epsilon=epsilon, input_dim=source_data_train.shape[1], output_dim=target_data_train.shape[1], k_noise_per_x=1,  seed=seed)\n",
    "otfm(source_data_train, target_data_train, 1024, 1024)\n",
    "\n",
    "res = [None] * 2\n",
    "\n",
    "#for i in range(2):\n",
    "#    res[i] = otfm.transport(source_data_test, seed=i)[0][0,...]\n",
    "\n",
    "#samples = np.asarray(res)\n",
    "\n",
    "\n"
   ]
  },
  {
   "cell_type": "code",
   "execution_count": 4,
   "id": "5696125f-e4b4-4e6b-85fd-e4631ed59fb5",
   "metadata": {},
   "outputs": [],
   "source": [
    "res = [None] * 2\n",
    "\n",
    "for i in range(2):\n",
    "    res[i] = otfm.transport(source_data_test, seed=i)[0][0,...]\n",
    "\n",
    "samples = np.asarray(res)"
   ]
  },
  {
   "cell_type": "code",
   "execution_count": 5,
   "id": "62dec878-66c9-4dc7-9ba1-1637f0ce51dc",
   "metadata": {},
   "outputs": [],
   "source": [
    "opt_coupling = np.load(\"/home/icb/dominik.klein/git_repos/genot_benchmarks/input_data/gaussian_data/gaussian_optimal_samples_0.1_32.npy\")"
   ]
  },
  {
   "cell_type": "code",
   "execution_count": 8,
   "id": "451319a8-f443-4997-8a1b-47ca5cd0276e",
   "metadata": {},
   "outputs": [
    {
     "data": {
      "text/plain": [
       "13.768306681742834"
      ]
     },
     "execution_count": 8,
     "metadata": {},
     "output_type": "execute_result"
    }
   ],
   "source": [
    "compute_BW_UVP_by_gt_samples(opt_coupling, np.concatenate((source_data_train, np.squeeze(samples[0,...])), axis=1))"
   ]
  },
  {
   "cell_type": "code",
   "execution_count": 17,
   "id": "dd9b3ab8-a947-40d7-a7b7-8caea29e7833",
   "metadata": {},
   "outputs": [
    {
     "data": {
      "text/plain": [
       "14.085117601788403"
      ]
     },
     "execution_count": 17,
     "metadata": {},
     "output_type": "execute_result"
    }
   ],
   "source": [
    "compute_BW_UVP_by_gt_samples(opt_coupling, np.concatenate((source_data_train, np.squeeze(samples[0,...])), axis=1))"
   ]
  },
  {
   "cell_type": "code",
   "execution_count": null,
   "id": "6b6bcdcd-3e28-4634-b8eb-f50c3dffc131",
   "metadata": {},
   "outputs": [],
   "source": []
  },
  {
   "cell_type": "code",
   "execution_count": null,
   "id": "fcb455dc-f0c9-4c30-8d57-7d34f61fcd60",
   "metadata": {},
   "outputs": [],
   "source": []
  },
  {
   "cell_type": "code",
   "execution_count": null,
   "id": "b7b48880-aa1b-4d6b-90a0-6ba81faf5017",
   "metadata": {},
   "outputs": [],
   "source": []
  },
  {
   "cell_type": "code",
   "execution_count": 4,
   "id": "ca247d79-c48d-4766-9428-592cdc07c578",
   "metadata": {},
   "outputs": [
    {
     "data": {
      "text/plain": [
       "0.000975609756097561"
      ]
     },
     "execution_count": 4,
     "metadata": {},
     "output_type": "execute_result"
    }
   ],
   "source": [
    "otfm.t_offset"
   ]
  },
  {
   "cell_type": "code",
   "execution_count": 6,
   "id": "7447896b-f2ba-45dc-aa86-806b8985cdbb",
   "metadata": {},
   "outputs": [],
   "source": [
    "n_samples=1024\n",
    "\n",
    "t = (jax.random.uniform(jax.random.PRNGKey(0), (1,)) + jnp.arange(n_samples) / n_samples) % (1 - otfm.t_offset)"
   ]
  },
  {
   "cell_type": "code",
   "execution_count": 7,
   "id": "37f38149-13e7-4454-ab21-9cb4fbaec757",
   "metadata": {},
   "outputs": [
    {
     "data": {
      "text/plain": [
       "(1024,)"
      ]
     },
     "execution_count": 7,
     "metadata": {},
     "output_type": "execute_result"
    }
   ],
   "source": [
    "t.shape"
   ]
  },
  {
   "cell_type": "code",
   "execution_count": 8,
   "id": "d41b99c7-adbd-4db6-bde5-737ee6f241b4",
   "metadata": {},
   "outputs": [
    {
     "data": {
      "text/plain": [
       "(1024,)"
      ]
     },
     "execution_count": 8,
     "metadata": {},
     "output_type": "execute_result"
    }
   ],
   "source": [
    "jax.random.uniform(jax.random.PRNGKey(0), (1024,)).shape"
   ]
  },
  {
   "cell_type": "code",
   "execution_count": 22,
   "id": "5dc7a339-9420-4edf-97fb-25398140d358",
   "metadata": {},
   "outputs": [],
   "source": [
    "res = [None] * 2\n",
    "\n",
    "for i in range(2):\n",
    "    res[i] = otfm.transport(source_data_test, seed=i)[0][0,...]\n",
    "\n",
    "samples = np.asarray(res)"
   ]
  },
  {
   "cell_type": "code",
   "execution_count": 3,
   "id": "d518ffc0-d8d4-4559-86b1-4b6a4c175333",
   "metadata": {},
   "outputs": [],
   "source": [
    "t = (jax.random.uniform(jax.random.PRNGKey(0), (1024,)))"
   ]
  },
  {
   "cell_type": "code",
   "execution_count": 4,
   "id": "f5741976-956e-4da7-8b3b-b56ba96a17af",
   "metadata": {},
   "outputs": [
    {
     "data": {
      "text/plain": [
       "Array([0.09477913, 0.28464484, 0.35750294, ..., 0.9188044 , 0.5129981 ,\n",
       "       0.53420603], dtype=float32)"
      ]
     },
     "execution_count": 4,
     "metadata": {},
     "output_type": "execute_result"
    }
   ],
   "source": [
    "t"
   ]
  },
  {
   "cell_type": "code",
   "execution_count": 23,
   "id": "a8676521-1e76-4aba-9197-dbd41ee09e51",
   "metadata": {},
   "outputs": [
    {
     "data": {
      "text/plain": [
       "(2, 5000, 32)"
      ]
     },
     "execution_count": 23,
     "metadata": {},
     "output_type": "execute_result"
    }
   ],
   "source": [
    "samples.shape"
   ]
  },
  {
   "cell_type": "code",
   "execution_count": 24,
   "id": "0b66c357-752f-4cdd-baff-1c4964a44b8d",
   "metadata": {},
   "outputs": [],
   "source": [
    "opt_coupling = np.load(\"/home/icb/dominik.klein/git_repos/genot_benchmarks/input_data/gaussian_data/gaussian_optimal_samples_0.1_32.npy\")"
   ]
  },
  {
   "cell_type": "code",
   "execution_count": 25,
   "id": "c0655339-9a92-4e86-9bef-4fb67e6f8b30",
   "metadata": {},
   "outputs": [
    {
     "data": {
      "text/plain": [
       "(5000, 64)"
      ]
     },
     "execution_count": 25,
     "metadata": {},
     "output_type": "execute_result"
    }
   ],
   "source": [
    "opt_coupling.shape"
   ]
  },
  {
   "cell_type": "code",
   "execution_count": 26,
   "id": "e1035d96-5a86-4bb8-b302-5566db17778b",
   "metadata": {},
   "outputs": [
    {
     "data": {
      "text/plain": [
       "13.60172694571213"
      ]
     },
     "execution_count": 26,
     "metadata": {},
     "output_type": "execute_result"
    }
   ],
   "source": [
    "compute_BW_UVP_by_gt_samples(opt_coupling, np.concatenate((source_data_train, np.squeeze(samples[0,...])), axis=1))"
   ]
  },
  {
   "cell_type": "code",
   "execution_count": 7,
   "id": "cd217542-74d8-4c80-bf22-8f17e5192636",
   "metadata": {},
   "outputs": [],
   "source": [
    "# this code is based on https://github.com/PetrMokrov/Energy-guided-Entropic-OT/tree/main\n",
    "import os\n",
    "\n",
    "import numpy as np\n",
    "from scipy.linalg import sqrtm, inv\n",
    "\n",
    "import gc\n",
    "\n",
    "def symmetrize(X):\n",
    "    return np.real((X + X.T) / 2)\n",
    "\n",
    "\n",
    "def compute_BW_UVP_with_gt_stats(model_samples, true_samples_mu, true_samples_covariance):\n",
    "    model_samples_covariance = np.cov(model_samples.T)\n",
    "    model_samples_mu = model_samples.mean(axis=0)\n",
    "    model_samples_covariance_sqrt = symmetrize(sqrtm(model_samples_covariance))\n",
    "    \n",
    "    mu_term = 0.5*((true_samples_mu - model_samples_mu)**2).sum()\n",
    "    covariance_term = (\n",
    "        0.5*np.trace(model_samples_covariance) + \n",
    "        0.5*np.trace(true_samples_covariance) -\n",
    "        np.trace(symmetrize(sqrtm(model_samples_covariance_sqrt@true_samples_covariance@model_samples_covariance_sqrt)))\n",
    "    )\n",
    "\n",
    "    BW = mu_term + covariance_term\n",
    "    BW_UVP = 100*(BW/(0.5*np.trace(true_samples_covariance)))\n",
    "        \n",
    "    return BW_UVP\n",
    "\n",
    "\n",
    "def compute_BW_UVP_by_gt_samples(model_samples, true_samples):\n",
    "    true_samples_covariance = np.cov(true_samples.T)\n",
    "    true_samples_mu = true_samples.mean(axis=0)\n",
    "        \n",
    "    return compute_BW_UVP_with_gt_stats(model_samples, true_samples_mu, true_samples_covariance)\n",
    "\n",
    "def symmetrize(X):\n",
    "    return np.real((X + X.T) / 2)\n",
    "\n",
    "\n",
    "def get_D_sigma(covariance_0, covariance_T, epsilon):\n",
    "    shape = covariance_0.shape[0]\n",
    "    \n",
    "    covariance_0_sqrt = symmetrize(sqrtm(covariance_0))\n",
    "    return symmetrize(sqrtm(4*covariance_0_sqrt@covariance_T@covariance_0_sqrt + (epsilon**2)*np.eye(shape)))\n",
    "\n",
    "\n",
    "def get_C_sigma(covariance_0, D_sigma, epsilon):\n",
    "    shape = covariance_0.shape[0]\n",
    "    \n",
    "    covariance_0_sqrt = symmetrize(sqrtm(covariance_0))\n",
    "    covariance_0_sqrt_inv = inv(covariance_0_sqrt)\n",
    "    \n",
    "    return 0.5*(covariance_0_sqrt@D_sigma@covariance_0_sqrt_inv - epsilon*np.eye(shape))\n",
    "\n",
    "\n",
    "def get_mu_t(t, mu_0, mu_T):\n",
    "    return (1 - t)*mu_0 + t*mu_T\n",
    "\n",
    "\n",
    "def get_covariance_t(t, covariance_0, covariance_T, C_sigma, epsilon):\n",
    "    shape = covariance_0.shape[0]\n",
    "    \n",
    "    return (\n",
    "        ((1-t)**2)*covariance_0 + (t**2)*covariance_T + \n",
    "        t*(1-t)*(C_sigma+C_sigma.T) + epsilon*t*(1-t)*np.eye(shape)\n",
    "    )\n",
    "\n",
    "\n",
    "def get_conditional_covariance_t(t, covariance_0, covariance_T, C_sigma, epsilon):\n",
    "    shape = covariance_0.shape[0]\n",
    "    \n",
    "    covariance_0_inv = inv(covariance_0)\n",
    "    \n",
    "    return (\n",
    "        (t**2)*(covariance_T - C_sigma.T@covariance_0_inv@C_sigma) + \n",
    "        epsilon*t*(1-t)*np.eye(shape)\n",
    "    )\n",
    "\n",
    "\n",
    "def get_conditional_mu_t(x0, mu_0, mu_T, t, covariance_0, C_sigma, epsilon):\n",
    "    shape = covariance_0.shape[0]\n",
    "    \n",
    "    covariance_0_inv = inv(covariance_0)\n",
    "    \n",
    "    return (\n",
    "        (1-t)*x0 + t*(mu_T + C_sigma.T@covariance_0_inv@(x0[:, None] - mu_0[:, None]))\n",
    "    )\n",
    "\n",
    "\n",
    "def get_optimal_plan_covariance(covariance_0, covariance_T, eps):\n",
    "    covariance_0 = covariance_0\n",
    "    covariance_T = covariance_T\n",
    "    \n",
    "    D_sigma = get_D_sigma(covariance_0, covariance_T, eps)\n",
    "    C_sigma = get_C_sigma(covariance_0, D_sigma, eps)\n",
    "    \n",
    "    size = covariance_0.shape[0]\n",
    "    optimal_plan_covariance = np.zeros((2*size, 2*size))\n",
    "    \n",
    "    optimal_plan_covariance[:size, :size] = covariance_0\n",
    "    optimal_plan_covariance[size:, size:] = covariance_T\n",
    "    \n",
    "    optimal_plan_covariance[:size, size:] = C_sigma\n",
    "    optimal_plan_covariance[size:, :size] = C_sigma.T\n",
    "    \n",
    "    return optimal_plan_covariance"
   ]
  },
  {
   "cell_type": "code",
   "execution_count": null,
   "id": "cd4b102f-87fa-48f9-bead-386a6b385e68",
   "metadata": {},
   "outputs": [],
   "source": []
  }
 ],
 "metadata": {
  "kernelspec": {
   "display_name": "entot_pip",
   "language": "python",
   "name": "entot_pip"
  },
  "language_info": {
   "codemirror_mode": {
    "name": "ipython",
    "version": 3
   },
   "file_extension": ".py",
   "mimetype": "text/x-python",
   "name": "python",
   "nbconvert_exporter": "python",
   "pygments_lexer": "ipython3",
   "version": "3.11.4"
  }
 },
 "nbformat": 4,
 "nbformat_minor": 5
}
