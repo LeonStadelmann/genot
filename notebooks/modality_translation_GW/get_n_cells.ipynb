{
 "cells": [
  {
   "cell_type": "code",
   "execution_count": 1,
   "metadata": {},
   "outputs": [],
   "source": [
    "import scanpy as sc"
   ]
  },
  {
   "cell_type": "code",
   "execution_count": 2,
   "metadata": {},
   "outputs": [],
   "source": [
    "adata_rna = sc.read(\"../../data/bone_marrow_rna.h5ad\")"
   ]
  },
  {
   "cell_type": "code",
   "execution_count": 3,
   "metadata": {},
   "outputs": [
    {
     "data": {
      "text/plain": [
       "cell_type\n",
       "CD14+ Mono             921\n",
       "CD4+ T activated       836\n",
       "Erythroblast           797\n",
       "CD8+ T                 725\n",
       "NK                     591\n",
       "CD4+ T naive           543\n",
       "Normoblast             387\n",
       "Naive CD20+ B          386\n",
       "B1 B                   201\n",
       "G/M prog               110\n",
       "ILC                    102\n",
       "pDC                     92\n",
       "Transitional B          83\n",
       "ID2-hi myeloid prog     67\n",
       "CD16+ Mono              66\n",
       "Proerythroblast         65\n",
       "MK/E prog               64\n",
       "Plasma cell             59\n",
       "Lymph prog              52\n",
       "HSC                     41\n",
       "cDC2                    36\n",
       "Name: count, dtype: int64"
      ]
     },
     "execution_count": 3,
     "metadata": {},
     "output_type": "execute_result"
    }
   ],
   "source": [
    "adata_rna.obs[\"cell_type\"].value_counts()"
   ]
  },
  {
   "cell_type": "code",
   "execution_count": 5,
   "metadata": {},
   "outputs": [],
   "source": [
    "adata_rna_red=adata_rna[adata_rna.obs[\"cell_type\"].isin((\"Erythroblast\", \"Proerythroblast\", \"Normoblast\"))]"
   ]
  },
  {
   "cell_type": "code",
   "execution_count": 6,
   "metadata": {},
   "outputs": [
    {
     "data": {
      "text/plain": [
       "0.20067480719794345"
      ]
     },
     "execution_count": 6,
     "metadata": {},
     "output_type": "execute_result"
    }
   ],
   "source": [
    "adata_rna_red.n_obs / adata_rna.n_obs"
   ]
  },
  {
   "cell_type": "code",
   "execution_count": null,
   "metadata": {},
   "outputs": [],
   "source": []
  }
 ],
 "metadata": {
  "kernelspec": {
   "display_name": "entot_pip",
   "language": "python",
   "name": "entot_pip"
  },
  "language_info": {
   "codemirror_mode": {
    "name": "ipython",
    "version": 3
   },
   "file_extension": ".py",
   "mimetype": "text/x-python",
   "name": "python",
   "nbconvert_exporter": "python",
   "pygments_lexer": "ipython3",
   "version": "3.11.4"
  }
 },
 "nbformat": 4,
 "nbformat_minor": 4
}
