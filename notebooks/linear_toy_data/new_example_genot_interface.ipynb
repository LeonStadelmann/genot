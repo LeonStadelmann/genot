{
 "cells": [
  {
   "cell_type": "code",
   "execution_count": 1,
   "id": "465ad2a9-30b8-49ec-af0b-207aafa0f885",
   "metadata": {},
   "outputs": [],
   "source": [
    "%load_ext autoreload\n",
    "%autoreload 2"
   ]
  },
  {
   "cell_type": "code",
   "execution_count": 2,
   "id": "e36f13ad-5964-46f0-80b5-91e7841513f9",
   "metadata": {},
   "outputs": [
    {
     "name": "stderr",
     "output_type": "stream",
     "text": [
      "/home/icb/dominik.klein/mambaforge/envs/genot/lib/python3.11/site-packages/tqdm/auto.py:21: TqdmWarning: IProgress not found. Please update jupyter and ipywidgets. See https://ipywidgets.readthedocs.io/en/stable/user_install.html\n",
      "  from .autonotebook import tqdm as notebook_tqdm\n",
      "2024-10-10 14:32:34.120207: E external/local_xla/xla/stream_executor/cuda/cuda_fft.cc:485] Unable to register cuFFT factory: Attempting to register factory for plugin cuFFT when one has already been registered\n",
      "2024-10-10 14:32:34.527489: E external/local_xla/xla/stream_executor/cuda/cuda_dnn.cc:8454] Unable to register cuDNN factory: Attempting to register factory for plugin cuDNN when one has already been registered\n",
      "2024-10-10 14:32:34.763140: E external/local_xla/xla/stream_executor/cuda/cuda_blas.cc:1452] Unable to register cuBLAS factory: Attempting to register factory for plugin cuBLAS when one has already been registered\n",
      "2024-10-10 14:33:03.832899: W tensorflow/compiler/tf2tensorrt/utils/py_utils.cc:38] TF-TRT Warning: Could not find TensorRT\n"
     ]
    }
   ],
   "source": [
    "import genot"
   ]
  },
  {
   "cell_type": "code",
   "execution_count": 3,
   "id": "c76900ed-a285-40a5-877d-30af7bdb0138",
   "metadata": {},
   "outputs": [],
   "source": [
    "from genot.models.model import GENOT\n",
    "from genot.nets.nets import MLP_vector_field"
   ]
  },
  {
   "cell_type": "code",
   "execution_count": 79,
   "id": "3f3ce2d2-4ac5-4dc2-8770-b51468132727",
   "metadata": {},
   "outputs": [],
   "source": [
    "import seaborn as sns\n",
    "import genot\n",
    "import jax\n",
    "import ott\n",
    "import diffrax\n",
    "import jax.numpy as jnp\n",
    "import matplotlib.pyplot as plt\n",
    "import numpy as np\n",
    "import seaborn as sns\n",
    "from genot.nets.nets import MLP_vector_field, MLP_marginal\n",
    "import sklearn.preprocessing as pp\n",
    "import scanpy as sc\n",
    "from ott.solvers.linear import sinkhorn, acceleration\n",
    "from genot.data.data import MixtureNormalSampler\n",
    "from genot.plotting.plots import plot_1D_unbalanced"
   ]
  },
  {
   "cell_type": "code",
   "execution_count": 66,
   "id": "9641b586-ac72-47fc-be6e-9171fda2d207",
   "metadata": {},
   "outputs": [],
   "source": [
    "source = MixtureNormalSampler(jax.random.PRNGKey(0), [0.0, 2.0], 1,  0.4, weights=[0.5, 0.5], batch_size=1024)\n",
    "target = MixtureNormalSampler(jax.random.PRNGKey(1), [-1.0,1.0, 5.0], 1,  0.1, batch_size=1024)"
   ]
  },
  {
   "cell_type": "code",
   "execution_count": 97,
   "id": "83ed48bc-f4d9-4593-84b0-cb2bbcfd9ca3",
   "metadata": {},
   "outputs": [],
   "source": [
    "epsilon = 5e-2\n",
    "tau_a = 0.99\n",
    "tau_b = 0.99"
   ]
  },
  {
   "cell_type": "code",
   "execution_count": 98,
   "id": "e396ea92-0025-4f05-b75d-69289afccb19",
   "metadata": {},
   "outputs": [],
   "source": [
    "vf = MLP_vector_field(output_dim=1, latent_embed_dim=1024)"
   ]
  },
  {
   "cell_type": "code",
   "execution_count": 99,
   "id": "c8d84e1e-7a89-4c17-ad0b-ab51ab2b3883",
   "metadata": {},
   "outputs": [],
   "source": [
    "ot_solver = ott.solvers.linear.sinkhorn.Sinkhorn()\n",
    "mlp_eta = MLP_marginal(256, 5)\n",
    "mlp_xi = MLP_marginal(256, 5)"
   ]
  },
  {
   "cell_type": "code",
   "execution_count": 100,
   "id": "14f1b2e1-62ac-466f-8a92-e8c945d71a13",
   "metadata": {},
   "outputs": [],
   "source": [
    "solver = GENOT(neural_net=vf, \n",
    "               input_dim=1, \n",
    "               output_dim=1, \n",
    "               iterations=10_000, \n",
    "               ot_solver = ot_solver, \n",
    "               tau_a=tau_a, \n",
    "               tau_b=tau_b, \n",
    "               epsilon=epsilon,\n",
    "              mlp_eta=mlp_eta,\n",
    "              mlp_xi=mlp_xi)"
   ]
  },
  {
   "cell_type": "code",
   "execution_count": null,
   "id": "fead132c-07e8-4ebe-a7ab-e5be98cc674a",
   "metadata": {},
   "outputs": [
    {
     "name": "stderr",
     "output_type": "stream",
     "text": [
      " 90%|████████▉ | 8961/10000 [03:23<00:22, 45.21it/s]"
     ]
    }
   ],
   "source": [
    "solver(source, target, 1024, 1024)"
   ]
  },
  {
   "cell_type": "code",
   "execution_count": null,
   "id": "76479e2d-705a-4364-934a-505e895ffd81",
   "metadata": {},
   "outputs": [],
   "source": [
    "source_batch = next(source)\n",
    "target_batch = next(target)\n",
    "\n",
    "rescale_source = solver.state_eta.apply_fn({\"params\": solver.state_eta.params}, source_batch)\n",
    "rescale_target = solver.state_xi.apply_fn({\"params\": solver.state_xi.params}, target_batch)\n",
    "\n",
    "res, _, _ = solver.transport(source_batch, seed=1, diffeqsolve_kwargs={\"max_steps\": 1_000_000})"
   ]
  },
  {
   "cell_type": "code",
   "execution_count": null,
   "id": "6d1b44df-6d97-4e54-ae73-55ac92783bc5",
   "metadata": {},
   "outputs": [],
   "source": [
    "kwargs = {}\n",
    "a = (-0.8, 2.8) # source support\n",
    "b = (0.0, 1.0) # density plot\n",
    "c = (0.0, 4.0)\n",
    "d = (-3.0, 7.0) # target support\n",
    "kwargs[\"00_xlim\"] = b\n",
    "kwargs[\"01_xlim\"] = b\n",
    "kwargs[\"02_xlim\"] = b\n",
    "kwargs[\"03_xlim\"] = d\n",
    "kwargs[\"10_xlim\"] = d\n",
    "kwargs[\"11_xlim\"] = d\n",
    "kwargs[\"12_xlim\"] = d\n",
    "kwargs[\"13_xlim\"] = d\n",
    "\n",
    "kwargs[\"00_ylim\"] = a\n",
    "kwargs[\"01_ylim\"] = a\n",
    "kwargs[\"02_ylim\"] = a\n",
    "kwargs[\"03_ylim\"] = a\n",
    "kwargs[\"10_ylim\"] = b\n",
    "kwargs[\"11_ylim\"] = b\n",
    "kwargs[\"12_ylim\"] = b\n",
    "kwargs[\"13_ylim\"] = a\n",
    "\n",
    "\n",
    "\n",
    "fig = plot_1D_unbalanced(source_batch, target_batch, res[0,...], rescale_source, rescale_target, epsilon=epsilon, tau_a=tau_a, tau_b=tau_b, seed=1, figsize=(10,4), dpi=150, **kwargs)\n"
   ]
  },
  {
   "cell_type": "code",
   "execution_count": null,
   "id": "74f6bfbd-415e-42a2-9c73-72b52f80e3cc",
   "metadata": {},
   "outputs": [],
   "source": []
  }
 ],
 "metadata": {
  "kernelspec": {
   "display_name": "genot",
   "language": "python",
   "name": "genot"
  },
  "language_info": {
   "codemirror_mode": {
    "name": "ipython",
    "version": 3
   },
   "file_extension": ".py",
   "mimetype": "text/x-python",
   "name": "python",
   "nbconvert_exporter": "python",
   "pygments_lexer": "ipython3",
   "version": "3.11.10"
  }
 },
 "nbformat": 4,
 "nbformat_minor": 5
}
