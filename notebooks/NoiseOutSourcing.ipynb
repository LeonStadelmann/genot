{
 "cells": [
  {
   "cell_type": "code",
   "execution_count": 1,
   "metadata": {},
   "outputs": [],
   "source": [
    "%load_ext autoreload\n",
    "%autoreload 2"
   ]
  },
  {
   "cell_type": "code",
   "execution_count": 2,
   "metadata": {},
   "outputs": [],
   "source": [
    "import jax\n",
    "jax.config.update('jax_platform_name', 'cpu')"
   ]
  },
  {
   "cell_type": "code",
   "execution_count": 3,
   "metadata": {},
   "outputs": [],
   "source": [
    "from entot.data.data import create_gaussians, create_gaussian_split\n",
    "from entot.plotting.plots import plot_1D\n",
    "from entot.models.models import NoiseOutsourcingModel\n",
    "from entot.models.utils import MixtureNormalSampler\n",
    "import matplotlib.pyplot as plt\n",
    "import numpy as np\n",
    "import jax.numpy as jnp"
   ]
  },
  {
   "cell_type": "code",
   "execution_count": 4,
   "metadata": {},
   "outputs": [],
   "source": [
    "sampler_source = MixtureNormalSampler([0], 1, 100, 0.5)\n",
    "sampler_target = MixtureNormalSampler([-1.0,1.0], 1, 100, 0.1)"
   ]
  },
  {
   "cell_type": "code",
   "execution_count": 5,
   "metadata": {},
   "outputs": [],
   "source": [
    "source = sampler_source(jax.random.PRNGKey(0))"
   ]
  },
  {
   "cell_type": "code",
   "execution_count": 6,
   "metadata": {},
   "outputs": [
    {
     "data": {
      "text/plain": [
       "(100,)"
      ]
     },
     "execution_count": 6,
     "metadata": {},
     "output_type": "execute_result"
    }
   ],
   "source": [
    "source.shape"
   ]
  },
  {
   "cell_type": "code",
   "execution_count": 7,
   "metadata": {},
   "outputs": [],
   "source": [
    "target = sampler_target(jax.random.PRNGKey(0))"
   ]
  },
  {
   "cell_type": "code",
   "execution_count": 8,
   "metadata": {},
   "outputs": [],
   "source": [
    "T_xz = jnp.expand_dims(jnp.transpose(jnp.expand_dims(target, 0)), axis=-1) + 0.01 * jax.random.normal(jax.random.PRNGKey(0), shape=(100,1,10))"
   ]
  },
  {
   "attachments": {},
   "cell_type": "markdown",
   "metadata": {},
   "source": [
    "# Dataset 1"
   ]
  },
  {
   "cell_type": "code",
   "execution_count": 9,
   "metadata": {},
   "outputs": [],
   "source": [
    "source, target = create_gaussians(100, 100, var_source=0.2, var_target=0.2)"
   ]
  },
  {
   "cell_type": "code",
   "execution_count": 10,
   "metadata": {},
   "outputs": [
    {
     "data": {
      "text/plain": [
       "<matplotlib.collections.PathCollection at 0x7f9de8df8a30>"
      ]
     },
     "execution_count": 10,
     "metadata": {},
     "output_type": "execute_result"
    },
    {
     "data": {
      "image/png": "[encoded data removed]",
      "text/plain": [
       "<Figure size 640x480 with 1 Axes>"
      ]
     },
     "metadata": {},
     "output_type": "display_data"
    }
   ],
   "source": [
    "plt.scatter(source[:,0], source[:,1], color=\"blue\")\n",
    "plt.scatter(target[:, 0], target[:, 1], color=\"red\")"
   ]
  },
  {
   "cell_type": "code",
   "execution_count": 29,
   "metadata": {},
   "outputs": [],
   "source": [
    "sm = NoiseOutsourcingModel(0.01, 512, 512, iterations=500, inner_iterations=10, input_dim=2, noise_dim=2)\n"
   ]
  },
  {
   "cell_type": "code",
   "execution_count": 30,
   "metadata": {},
   "outputs": [
    {
     "name": "stderr",
     "output_type": "stream",
     "text": [
      "  0%|          | 0/500 [00:00<?, ?it/s]"
     ]
    },
    {
     "name": "stdout",
     "output_type": "stream",
     "text": [
      "(512, 2) (512, 2)\n"
     ]
    },
    {
     "name": "stderr",
     "output_type": "stream",
     "text": [
      "  0%|          | 1/500 [00:02<23:20,  2.81s/it]"
     ]
    },
    {
     "name": "stdout",
     "output_type": "stream",
     "text": [
      "(512, 2) (512, 2)\n"
     ]
    },
    {
     "name": "stderr",
     "output_type": "stream",
     "text": [
      "  0%|          | 2/500 [00:05<22:32,  2.72s/it]"
     ]
    },
    {
     "name": "stdout",
     "output_type": "stream",
     "text": [
      "(512, 2) (512, 2)\n"
     ]
    },
    {
     "name": "stderr",
     "output_type": "stream",
     "text": [
      "  1%|          | 3/500 [00:08<22:43,  2.74s/it]"
     ]
    },
    {
     "name": "stdout",
     "output_type": "stream",
     "text": [
      "(512, 2) (512, 2)\n"
     ]
    },
    {
     "name": "stderr",
     "output_type": "stream",
     "text": [
      "  1%|          | 4/500 [00:10<22:42,  2.75s/it]"
     ]
    },
    {
     "name": "stdout",
     "output_type": "stream",
     "text": [
      "(512, 2) (512, 2)\n"
     ]
    },
    {
     "name": "stderr",
     "output_type": "stream",
     "text": [
      "  1%|          | 5/500 [00:13<22:34,  2.74s/it]"
     ]
    },
    {
     "name": "stdout",
     "output_type": "stream",
     "text": [
      "(512, 2) (512, 2)\n"
     ]
    },
    {
     "name": "stderr",
     "output_type": "stream",
     "text": [
      "  1%|          | 6/500 [00:16<22:32,  2.74s/it]"
     ]
    },
    {
     "name": "stdout",
     "output_type": "stream",
     "text": [
      "(512, 2) (512, 2)\n"
     ]
    },
    {
     "name": "stderr",
     "output_type": "stream",
     "text": [
      "  1%|▏         | 7/500 [00:19<22:11,  2.70s/it]"
     ]
    },
    {
     "name": "stdout",
     "output_type": "stream",
     "text": [
      "(512, 2) (512, 2)\n"
     ]
    },
    {
     "name": "stderr",
     "output_type": "stream",
     "text": [
      "  2%|▏         | 8/500 [00:21<22:35,  2.75s/it]"
     ]
    },
    {
     "name": "stdout",
     "output_type": "stream",
     "text": [
      "(512, 2) (512, 2)\n"
     ]
    },
    {
     "name": "stderr",
     "output_type": "stream",
     "text": [
      "  2%|▏         | 9/500 [00:24<22:22,  2.73s/it]"
     ]
    },
    {
     "name": "stdout",
     "output_type": "stream",
     "text": [
      "(512, 2) (512, 2)\n"
     ]
    },
    {
     "name": "stderr",
     "output_type": "stream",
     "text": [
      "  2%|▏         | 10/500 [00:27<22:10,  2.71s/it]"
     ]
    },
    {
     "name": "stdout",
     "output_type": "stream",
     "text": [
      "(512, 2) (512, 2)\n"
     ]
    },
    {
     "name": "stderr",
     "output_type": "stream",
     "text": [
      "  2%|▏         | 11/500 [00:29<22:00,  2.70s/it]"
     ]
    },
    {
     "name": "stdout",
     "output_type": "stream",
     "text": [
      "(512, 2) (512, 2)\n"
     ]
    },
    {
     "name": "stderr",
     "output_type": "stream",
     "text": [
      "  2%|▏         | 12/500 [00:32<22:20,  2.75s/it]"
     ]
    },
    {
     "name": "stdout",
     "output_type": "stream",
     "text": [
      "(512, 2) (512, 2)\n"
     ]
    },
    {
     "name": "stderr",
     "output_type": "stream",
     "text": [
      "  3%|▎         | 13/500 [00:35<22:16,  2.74s/it]"
     ]
    },
    {
     "name": "stdout",
     "output_type": "stream",
     "text": [
      "(512, 2) (512, 2)\n"
     ]
    },
    {
     "name": "stderr",
     "output_type": "stream",
     "text": [
      "  3%|▎         | 14/500 [00:38<21:53,  2.70s/it]"
     ]
    },
    {
     "name": "stdout",
     "output_type": "stream",
     "text": [
      "(512, 2) (512, 2)\n"
     ]
    },
    {
     "name": "stderr",
     "output_type": "stream",
     "text": [
      "  3%|▎         | 15/500 [00:40<21:43,  2.69s/it]"
     ]
    },
    {
     "name": "stdout",
     "output_type": "stream",
     "text": [
      "(512, 2) (512, 2)\n"
     ]
    },
    {
     "name": "stderr",
     "output_type": "stream",
     "text": [
      "  3%|▎         | 16/500 [00:43<21:58,  2.72s/it]"
     ]
    },
    {
     "name": "stdout",
     "output_type": "stream",
     "text": [
      "(512, 2) (512, 2)\n"
     ]
    },
    {
     "name": "stderr",
     "output_type": "stream",
     "text": [
      "  3%|▎         | 17/500 [00:46<21:48,  2.71s/it]"
     ]
    },
    {
     "name": "stdout",
     "output_type": "stream",
     "text": [
      "(512, 2) (512, 2)\n"
     ]
    },
    {
     "name": "stderr",
     "output_type": "stream",
     "text": [
      "  4%|▎         | 18/500 [00:48<21:41,  2.70s/it]"
     ]
    },
    {
     "name": "stdout",
     "output_type": "stream",
     "text": [
      "(512, 2) (512, 2)\n"
     ]
    },
    {
     "name": "stderr",
     "output_type": "stream",
     "text": [
      "  4%|▍         | 19/500 [00:51<21:34,  2.69s/it]"
     ]
    },
    {
     "name": "stdout",
     "output_type": "stream",
     "text": [
      "(512, 2) (512, 2)\n"
     ]
    },
    {
     "name": "stderr",
     "output_type": "stream",
     "text": [
      "  4%|▍         | 20/500 [00:54<21:41,  2.71s/it]"
     ]
    },
    {
     "name": "stdout",
     "output_type": "stream",
     "text": [
      "(512, 2) (512, 2)\n"
     ]
    },
    {
     "name": "stderr",
     "output_type": "stream",
     "text": [
      "  4%|▍         | 21/500 [00:57<21:37,  2.71s/it]"
     ]
    },
    {
     "name": "stdout",
     "output_type": "stream",
     "text": [
      "(512, 2) (512, 2)\n"
     ]
    },
    {
     "name": "stderr",
     "output_type": "stream",
     "text": [
      "  4%|▍         | 22/500 [00:59<21:30,  2.70s/it]"
     ]
    },
    {
     "name": "stdout",
     "output_type": "stream",
     "text": [
      "(512, 2) (512, 2)\n"
     ]
    },
    {
     "name": "stderr",
     "output_type": "stream",
     "text": [
      "  5%|▍         | 23/500 [01:02<21:22,  2.69s/it]"
     ]
    },
    {
     "name": "stdout",
     "output_type": "stream",
     "text": [
      "(512, 2) (512, 2)\n"
     ]
    },
    {
     "name": "stderr",
     "output_type": "stream",
     "text": [
      "  5%|▍         | 24/500 [01:05<21:49,  2.75s/it]"
     ]
    },
    {
     "name": "stdout",
     "output_type": "stream",
     "text": [
      "(512, 2) (512, 2)\n"
     ]
    },
    {
     "name": "stderr",
     "output_type": "stream",
     "text": [
      "  5%|▌         | 25/500 [01:08<21:44,  2.75s/it]"
     ]
    },
    {
     "name": "stdout",
     "output_type": "stream",
     "text": [
      "(512, 2) (512, 2)\n"
     ]
    },
    {
     "name": "stderr",
     "output_type": "stream",
     "text": [
      "  5%|▌         | 26/500 [01:10<21:22,  2.71s/it]"
     ]
    },
    {
     "name": "stdout",
     "output_type": "stream",
     "text": [
      "(512, 2) (512, 2)\n"
     ]
    },
    {
     "name": "stderr",
     "output_type": "stream",
     "text": [
      "  5%|▌         | 27/500 [01:13<21:18,  2.70s/it]"
     ]
    },
    {
     "name": "stdout",
     "output_type": "stream",
     "text": [
      "(512, 2) (512, 2)\n"
     ]
    },
    {
     "name": "stderr",
     "output_type": "stream",
     "text": [
      "  6%|▌         | 28/500 [01:16<21:36,  2.75s/it]"
     ]
    },
    {
     "name": "stdout",
     "output_type": "stream",
     "text": [
      "(512, 2) (512, 2)\n"
     ]
    },
    {
     "name": "stderr",
     "output_type": "stream",
     "text": [
      "  6%|▌         | 29/500 [01:18<21:23,  2.72s/it]"
     ]
    },
    {
     "name": "stdout",
     "output_type": "stream",
     "text": [
      "(512, 2) (512, 2)\n"
     ]
    },
    {
     "name": "stderr",
     "output_type": "stream",
     "text": [
      "  6%|▌         | 30/500 [01:21<21:13,  2.71s/it]"
     ]
    },
    {
     "name": "stdout",
     "output_type": "stream",
     "text": [
      "(512, 2) (512, 2)\n"
     ]
    },
    {
     "name": "stderr",
     "output_type": "stream",
     "text": [
      "  6%|▌         | 31/500 [01:24<21:07,  2.70s/it]"
     ]
    },
    {
     "name": "stdout",
     "output_type": "stream",
     "text": [
      "(512, 2) (512, 2)\n"
     ]
    },
    {
     "name": "stderr",
     "output_type": "stream",
     "text": [
      "  6%|▋         | 32/500 [01:27<21:25,  2.75s/it]"
     ]
    },
    {
     "name": "stdout",
     "output_type": "stream",
     "text": [
      "(512, 2) (512, 2)\n"
     ]
    },
    {
     "name": "stderr",
     "output_type": "stream",
     "text": [
      "  7%|▋         | 33/500 [01:29<21:08,  2.72s/it]"
     ]
    },
    {
     "name": "stdout",
     "output_type": "stream",
     "text": [
      "(512, 2) (512, 2)\n"
     ]
    },
    {
     "name": "stderr",
     "output_type": "stream",
     "text": [
      "  7%|▋         | 34/500 [01:32<21:05,  2.72s/it]"
     ]
    },
    {
     "name": "stdout",
     "output_type": "stream",
     "text": [
      "(512, 2) (512, 2)\n"
     ]
    },
    {
     "name": "stderr",
     "output_type": "stream",
     "text": [
      "  7%|▋         | 35/500 [01:35<21:00,  2.71s/it]"
     ]
    },
    {
     "name": "stdout",
     "output_type": "stream",
     "text": [
      "(512, 2) (512, 2)\n"
     ]
    },
    {
     "name": "stderr",
     "output_type": "stream",
     "text": [
      "  7%|▋         | 36/500 [01:37<21:01,  2.72s/it]"
     ]
    },
    {
     "name": "stdout",
     "output_type": "stream",
     "text": [
      "(512, 2) (512, 2)\n"
     ]
    },
    {
     "name": "stderr",
     "output_type": "stream",
     "text": [
      "  7%|▋         | 37/500 [01:40<21:38,  2.80s/it]"
     ]
    },
    {
     "name": "stdout",
     "output_type": "stream",
     "text": [
      "(512, 2) (512, 2)\n"
     ]
    },
    {
     "name": "stderr",
     "output_type": "stream",
     "text": [
      "  8%|▊         | 38/500 [01:43<21:25,  2.78s/it]"
     ]
    },
    {
     "name": "stdout",
     "output_type": "stream",
     "text": [
      "(512, 2) (512, 2)\n"
     ]
    },
    {
     "name": "stderr",
     "output_type": "stream",
     "text": [
      "  8%|▊         | 39/500 [01:46<21:00,  2.73s/it]"
     ]
    },
    {
     "name": "stdout",
     "output_type": "stream",
     "text": [
      "(512, 2) (512, 2)\n"
     ]
    },
    {
     "name": "stderr",
     "output_type": "stream",
     "text": [
      "  8%|▊         | 40/500 [01:49<21:00,  2.74s/it]"
     ]
    },
    {
     "name": "stdout",
     "output_type": "stream",
     "text": [
      "(512, 2) (512, 2)\n"
     ]
    },
    {
     "name": "stderr",
     "output_type": "stream",
     "text": [
      "  8%|▊         | 41/500 [01:51<21:16,  2.78s/it]"
     ]
    },
    {
     "name": "stdout",
     "output_type": "stream",
     "text": [
      "(512, 2) (512, 2)\n"
     ]
    },
    {
     "name": "stderr",
     "output_type": "stream",
     "text": [
      "  8%|▊         | 42/500 [01:54<21:03,  2.76s/it]"
     ]
    },
    {
     "name": "stdout",
     "output_type": "stream",
     "text": [
      "(512, 2) (512, 2)\n"
     ]
    },
    {
     "name": "stderr",
     "output_type": "stream",
     "text": [
      "  9%|▊         | 43/500 [01:57<20:43,  2.72s/it]"
     ]
    },
    {
     "name": "stdout",
     "output_type": "stream",
     "text": [
      "(512, 2) (512, 2)\n"
     ]
    },
    {
     "name": "stderr",
     "output_type": "stream",
     "text": [
      "  9%|▉         | 44/500 [01:59<20:27,  2.69s/it]"
     ]
    },
    {
     "name": "stdout",
     "output_type": "stream",
     "text": [
      "(512, 2) (512, 2)\n"
     ]
    },
    {
     "name": "stderr",
     "output_type": "stream",
     "text": [
      "  9%|▉         | 45/500 [02:02<20:48,  2.74s/it]"
     ]
    },
    {
     "name": "stdout",
     "output_type": "stream",
     "text": [
      "(512, 2) (512, 2)\n"
     ]
    },
    {
     "name": "stderr",
     "output_type": "stream",
     "text": [
      "  9%|▉         | 46/500 [02:05<20:35,  2.72s/it]"
     ]
    },
    {
     "name": "stdout",
     "output_type": "stream",
     "text": [
      "(512, 2) (512, 2)\n"
     ]
    },
    {
     "name": "stderr",
     "output_type": "stream",
     "text": [
      "  9%|▉         | 47/500 [02:08<20:33,  2.72s/it]"
     ]
    },
    {
     "name": "stdout",
     "output_type": "stream",
     "text": [
      "(512, 2) (512, 2)\n"
     ]
    },
    {
     "name": "stderr",
     "output_type": "stream",
     "text": [
      " 10%|▉         | 48/500 [02:10<20:22,  2.70s/it]"
     ]
    },
    {
     "name": "stdout",
     "output_type": "stream",
     "text": [
      "(512, 2) (512, 2)\n"
     ]
    },
    {
     "name": "stderr",
     "output_type": "stream",
     "text": [
      " 10%|▉         | 49/500 [02:13<21:00,  2.79s/it]"
     ]
    },
    {
     "name": "stdout",
     "output_type": "stream",
     "text": [
      "(512, 2) (512, 2)\n"
     ]
    },
    {
     "name": "stderr",
     "output_type": "stream",
     "text": [
      " 10%|█         | 50/500 [02:16<20:43,  2.76s/it]"
     ]
    },
    {
     "name": "stdout",
     "output_type": "stream",
     "text": [
      "(512, 2) (512, 2)\n"
     ]
    },
    {
     "name": "stderr",
     "output_type": "stream",
     "text": [
      " 10%|█         | 51/500 [02:19<20:20,  2.72s/it]"
     ]
    },
    {
     "name": "stdout",
     "output_type": "stream",
     "text": [
      "(512, 2) (512, 2)\n"
     ]
    },
    {
     "name": "stderr",
     "output_type": "stream",
     "text": [
      " 10%|█         | 52/500 [02:21<20:04,  2.69s/it]"
     ]
    },
    {
     "name": "stdout",
     "output_type": "stream",
     "text": [
      "(512, 2) (512, 2)\n"
     ]
    },
    {
     "name": "stderr",
     "output_type": "stream",
     "text": [
      " 11%|█         | 53/500 [02:24<20:13,  2.71s/it]"
     ]
    },
    {
     "name": "stdout",
     "output_type": "stream",
     "text": [
      "(512, 2) (512, 2)\n"
     ]
    },
    {
     "name": "stderr",
     "output_type": "stream",
     "text": [
      " 11%|█         | 54/500 [02:27<20:09,  2.71s/it]"
     ]
    },
    {
     "name": "stdout",
     "output_type": "stream",
     "text": [
      "(512, 2) (512, 2)\n"
     ]
    },
    {
     "name": "stderr",
     "output_type": "stream",
     "text": [
      " 11%|█         | 55/500 [02:29<20:08,  2.72s/it]"
     ]
    },
    {
     "name": "stdout",
     "output_type": "stream",
     "text": [
      "(512, 2) (512, 2)\n"
     ]
    },
    {
     "name": "stderr",
     "output_type": "stream",
     "text": [
      " 11%|█         | 56/500 [02:32<20:15,  2.74s/it]"
     ]
    },
    {
     "name": "stdout",
     "output_type": "stream",
     "text": [
      "(512, 2) (512, 2)\n"
     ]
    },
    {
     "name": "stderr",
     "output_type": "stream",
     "text": [
      " 11%|█▏        | 57/500 [02:35<20:31,  2.78s/it]"
     ]
    },
    {
     "name": "stdout",
     "output_type": "stream",
     "text": [
      "(512, 2) (512, 2)\n"
     ]
    },
    {
     "name": "stderr",
     "output_type": "stream",
     "text": [
      " 12%|█▏        | 58/500 [02:38<20:13,  2.74s/it]"
     ]
    },
    {
     "name": "stdout",
     "output_type": "stream",
     "text": [
      "(512, 2) (512, 2)\n"
     ]
    },
    {
     "name": "stderr",
     "output_type": "stream",
     "text": [
      " 12%|█▏        | 59/500 [02:40<19:55,  2.71s/it]"
     ]
    },
    {
     "name": "stdout",
     "output_type": "stream",
     "text": [
      "(512, 2) (512, 2)\n"
     ]
    },
    {
     "name": "stderr",
     "output_type": "stream",
     "text": [
      " 12%|█▏        | 60/500 [02:43<19:48,  2.70s/it]"
     ]
    },
    {
     "name": "stdout",
     "output_type": "stream",
     "text": [
      "(512, 2) (512, 2)\n"
     ]
    },
    {
     "name": "stderr",
     "output_type": "stream",
     "text": [
      " 12%|█▏        | 61/500 [02:46<20:01,  2.74s/it]"
     ]
    },
    {
     "name": "stdout",
     "output_type": "stream",
     "text": [
      "(512, 2) (512, 2)\n"
     ]
    },
    {
     "name": "stderr",
     "output_type": "stream",
     "text": [
      " 12%|█▏        | 62/500 [02:49<19:57,  2.73s/it]"
     ]
    },
    {
     "name": "stdout",
     "output_type": "stream",
     "text": [
      "(512, 2) (512, 2)\n"
     ]
    },
    {
     "name": "stderr",
     "output_type": "stream",
     "text": [
      " 13%|█▎        | 63/500 [02:51<19:45,  2.71s/it]"
     ]
    },
    {
     "name": "stdout",
     "output_type": "stream",
     "text": [
      "(512, 2) (512, 2)\n"
     ]
    },
    {
     "name": "stderr",
     "output_type": "stream",
     "text": [
      " 13%|█▎        | 64/500 [02:54<19:38,  2.70s/it]"
     ]
    },
    {
     "name": "stdout",
     "output_type": "stream",
     "text": [
      "(512, 2) (512, 2)\n"
     ]
    },
    {
     "name": "stderr",
     "output_type": "stream",
     "text": [
      " 13%|█▎        | 65/500 [02:57<19:38,  2.71s/it]"
     ]
    },
    {
     "name": "stdout",
     "output_type": "stream",
     "text": [
      "(512, 2) (512, 2)\n"
     ]
    },
    {
     "name": "stderr",
     "output_type": "stream",
     "text": [
      " 13%|█▎        | 66/500 [03:00<20:02,  2.77s/it]"
     ]
    },
    {
     "name": "stdout",
     "output_type": "stream",
     "text": [
      "(512, 2) (512, 2)\n"
     ]
    },
    {
     "name": "stderr",
     "output_type": "stream",
     "text": [
      " 13%|█▎        | 67/500 [03:02<19:53,  2.76s/it]"
     ]
    },
    {
     "name": "stdout",
     "output_type": "stream",
     "text": [
      "(512, 2) (512, 2)\n"
     ]
    },
    {
     "name": "stderr",
     "output_type": "stream",
     "text": [
      " 14%|█▎        | 68/500 [03:05<19:45,  2.74s/it]"
     ]
    },
    {
     "name": "stdout",
     "output_type": "stream",
     "text": [
      "(512, 2) (512, 2)\n"
     ]
    },
    {
     "name": "stderr",
     "output_type": "stream",
     "text": [
      " 14%|█▍        | 69/500 [03:08<19:37,  2.73s/it]"
     ]
    },
    {
     "name": "stdout",
     "output_type": "stream",
     "text": [
      "(512, 2) (512, 2)\n"
     ]
    },
    {
     "name": "stderr",
     "output_type": "stream",
     "text": [
      " 14%|█▍        | 70/500 [03:11<19:47,  2.76s/it]"
     ]
    },
    {
     "name": "stdout",
     "output_type": "stream",
     "text": [
      "(512, 2) (512, 2)\n"
     ]
    },
    {
     "name": "stderr",
     "output_type": "stream",
     "text": [
      " 14%|█▍        | 71/500 [03:13<19:34,  2.74s/it]"
     ]
    },
    {
     "name": "stdout",
     "output_type": "stream",
     "text": [
      "(512, 2) (512, 2)\n"
     ]
    },
    {
     "name": "stderr",
     "output_type": "stream",
     "text": [
      " 14%|█▍        | 72/500 [03:16<19:23,  2.72s/it]"
     ]
    },
    {
     "name": "stdout",
     "output_type": "stream",
     "text": [
      "(512, 2) (512, 2)\n"
     ]
    },
    {
     "name": "stderr",
     "output_type": "stream",
     "text": [
      " 15%|█▍        | 73/500 [03:19<19:26,  2.73s/it]"
     ]
    },
    {
     "name": "stdout",
     "output_type": "stream",
     "text": [
      "(512, 2) (512, 2)\n"
     ]
    },
    {
     "name": "stderr",
     "output_type": "stream",
     "text": [
      " 15%|█▍        | 74/500 [03:22<19:39,  2.77s/it]"
     ]
    },
    {
     "name": "stdout",
     "output_type": "stream",
     "text": [
      "(512, 2) (512, 2)\n"
     ]
    },
    {
     "name": "stderr",
     "output_type": "stream",
     "text": [
      " 15%|█▌        | 75/500 [03:24<19:35,  2.77s/it]"
     ]
    },
    {
     "name": "stdout",
     "output_type": "stream",
     "text": [
      "(512, 2) (512, 2)\n"
     ]
    },
    {
     "name": "stderr",
     "output_type": "stream",
     "text": [
      " 15%|█▌        | 76/500 [03:27<19:27,  2.75s/it]"
     ]
    },
    {
     "name": "stdout",
     "output_type": "stream",
     "text": [
      "(512, 2) (512, 2)\n"
     ]
    },
    {
     "name": "stderr",
     "output_type": "stream",
     "text": [
      " 15%|█▌        | 77/500 [03:30<19:13,  2.73s/it]"
     ]
    },
    {
     "name": "stdout",
     "output_type": "stream",
     "text": [
      "(512, 2) (512, 2)\n"
     ]
    },
    {
     "name": "stderr",
     "output_type": "stream",
     "text": [
      " 16%|█▌        | 78/500 [03:33<19:27,  2.77s/it]"
     ]
    },
    {
     "name": "stdout",
     "output_type": "stream",
     "text": [
      "(512, 2) (512, 2)\n"
     ]
    },
    {
     "name": "stderr",
     "output_type": "stream",
     "text": [
      " 16%|█▌        | 79/500 [03:35<19:16,  2.75s/it]"
     ]
    },
    {
     "name": "stdout",
     "output_type": "stream",
     "text": [
      "(512, 2) (512, 2)\n"
     ]
    },
    {
     "name": "stderr",
     "output_type": "stream",
     "text": [
      " 16%|█▌        | 80/500 [03:38<18:57,  2.71s/it]"
     ]
    },
    {
     "name": "stdout",
     "output_type": "stream",
     "text": [
      "(512, 2) (512, 2)\n"
     ]
    },
    {
     "name": "stderr",
     "output_type": "stream",
     "text": [
      " 16%|█▌        | 81/500 [03:41<18:44,  2.68s/it]"
     ]
    },
    {
     "name": "stdout",
     "output_type": "stream",
     "text": [
      "(512, 2) (512, 2)\n"
     ]
    },
    {
     "name": "stderr",
     "output_type": "stream",
     "text": [
      " 16%|█▋        | 82/500 [03:43<18:56,  2.72s/it]"
     ]
    },
    {
     "name": "stdout",
     "output_type": "stream",
     "text": [
      "(512, 2) (512, 2)\n"
     ]
    },
    {
     "name": "stderr",
     "output_type": "stream",
     "text": [
      " 17%|█▋        | 83/500 [03:46<18:38,  2.68s/it]"
     ]
    },
    {
     "name": "stdout",
     "output_type": "stream",
     "text": [
      "(512, 2) (512, 2)\n"
     ]
    },
    {
     "name": "stderr",
     "output_type": "stream",
     "text": [
      " 17%|█▋        | 84/500 [03:49<18:33,  2.68s/it]"
     ]
    },
    {
     "name": "stdout",
     "output_type": "stream",
     "text": [
      "(512, 2) (512, 2)\n"
     ]
    },
    {
     "name": "stderr",
     "output_type": "stream",
     "text": [
      " 17%|█▋        | 85/500 [03:51<18:28,  2.67s/it]"
     ]
    },
    {
     "name": "stdout",
     "output_type": "stream",
     "text": [
      "(512, 2) (512, 2)\n"
     ]
    },
    {
     "name": "stderr",
     "output_type": "stream",
     "text": [
      " 17%|█▋        | 86/500 [03:54<18:43,  2.71s/it]"
     ]
    },
    {
     "name": "stdout",
     "output_type": "stream",
     "text": [
      "(512, 2) (512, 2)\n"
     ]
    },
    {
     "name": "stderr",
     "output_type": "stream",
     "text": [
      " 17%|█▋        | 87/500 [03:57<18:43,  2.72s/it]"
     ]
    },
    {
     "name": "stdout",
     "output_type": "stream",
     "text": [
      "(512, 2) (512, 2)\n"
     ]
    },
    {
     "name": "stderr",
     "output_type": "stream",
     "text": [
      " 18%|█▊        | 88/500 [03:59<18:35,  2.71s/it]"
     ]
    },
    {
     "name": "stdout",
     "output_type": "stream",
     "text": [
      "(512, 2) (512, 2)\n"
     ]
    },
    {
     "name": "stderr",
     "output_type": "stream",
     "text": [
      " 18%|█▊        | 89/500 [04:02<18:36,  2.72s/it]"
     ]
    },
    {
     "name": "stdout",
     "output_type": "stream",
     "text": [
      "(512, 2) (512, 2)\n"
     ]
    },
    {
     "name": "stderr",
     "output_type": "stream",
     "text": [
      " 18%|█▊        | 90/500 [04:05<18:46,  2.75s/it]"
     ]
    },
    {
     "name": "stdout",
     "output_type": "stream",
     "text": [
      "(512, 2) (512, 2)\n"
     ]
    },
    {
     "name": "stderr",
     "output_type": "stream",
     "text": [
      " 18%|█▊        | 91/500 [04:08<18:27,  2.71s/it]"
     ]
    },
    {
     "name": "stdout",
     "output_type": "stream",
     "text": [
      "(512, 2) (512, 2)\n"
     ]
    },
    {
     "name": "stderr",
     "output_type": "stream",
     "text": [
      " 18%|█▊        | 92/500 [04:10<18:16,  2.69s/it]"
     ]
    },
    {
     "name": "stdout",
     "output_type": "stream",
     "text": [
      "(512, 2) (512, 2)\n"
     ]
    },
    {
     "name": "stderr",
     "output_type": "stream",
     "text": [
      " 19%|█▊        | 93/500 [04:13<18:18,  2.70s/it]"
     ]
    },
    {
     "name": "stdout",
     "output_type": "stream",
     "text": [
      "(512, 2) (512, 2)\n"
     ]
    },
    {
     "name": "stderr",
     "output_type": "stream",
     "text": [
      " 19%|█▉        | 94/500 [04:16<18:10,  2.69s/it]"
     ]
    },
    {
     "name": "stdout",
     "output_type": "stream",
     "text": [
      "(512, 2) (512, 2)\n"
     ]
    },
    {
     "name": "stderr",
     "output_type": "stream",
     "text": [
      " 19%|█▉        | 95/500 [04:19<18:29,  2.74s/it]"
     ]
    },
    {
     "name": "stdout",
     "output_type": "stream",
     "text": [
      "(512, 2) (512, 2)\n"
     ]
    },
    {
     "name": "stderr",
     "output_type": "stream",
     "text": [
      " 19%|█▉        | 96/500 [04:21<18:18,  2.72s/it]"
     ]
    },
    {
     "name": "stdout",
     "output_type": "stream",
     "text": [
      "(512, 2) (512, 2)\n"
     ]
    },
    {
     "name": "stderr",
     "output_type": "stream",
     "text": [
      " 19%|█▉        | 97/500 [04:24<18:09,  2.70s/it]"
     ]
    },
    {
     "name": "stdout",
     "output_type": "stream",
     "text": [
      "(512, 2) (512, 2)\n"
     ]
    },
    {
     "name": "stderr",
     "output_type": "stream",
     "text": [
      " 20%|█▉        | 98/500 [04:26<17:58,  2.68s/it]"
     ]
    },
    {
     "name": "stdout",
     "output_type": "stream",
     "text": [
      "(512, 2) (512, 2)\n"
     ]
    },
    {
     "name": "stderr",
     "output_type": "stream",
     "text": [
      " 20%|█▉        | 99/500 [04:29<18:17,  2.74s/it]"
     ]
    },
    {
     "name": "stdout",
     "output_type": "stream",
     "text": [
      "(512, 2) (512, 2)\n"
     ]
    },
    {
     "name": "stderr",
     "output_type": "stream",
     "text": [
      " 20%|██        | 100/500 [04:32<18:14,  2.74s/it]"
     ]
    },
    {
     "name": "stdout",
     "output_type": "stream",
     "text": [
      "(512, 2) (512, 2)\n"
     ]
    },
    {
     "name": "stderr",
     "output_type": "stream",
     "text": [
      " 20%|██        | 101/500 [04:35<17:56,  2.70s/it]"
     ]
    },
    {
     "name": "stdout",
     "output_type": "stream",
     "text": [
      "(512, 2) (512, 2)\n"
     ]
    },
    {
     "name": "stderr",
     "output_type": "stream",
     "text": [
      " 20%|██        | 102/500 [04:37<17:52,  2.70s/it]"
     ]
    },
    {
     "name": "stdout",
     "output_type": "stream",
     "text": [
      "(512, 2) (512, 2)\n"
     ]
    },
    {
     "name": "stderr",
     "output_type": "stream",
     "text": [
      " 21%|██        | 103/500 [04:40<18:01,  2.72s/it]"
     ]
    },
    {
     "name": "stdout",
     "output_type": "stream",
     "text": [
      "(512, 2) (512, 2)\n"
     ]
    },
    {
     "name": "stderr",
     "output_type": "stream",
     "text": [
      " 21%|██        | 104/500 [04:43<17:49,  2.70s/it]"
     ]
    },
    {
     "name": "stdout",
     "output_type": "stream",
     "text": [
      "(512, 2) (512, 2)\n"
     ]
    },
    {
     "name": "stderr",
     "output_type": "stream",
     "text": [
      " 21%|██        | 105/500 [04:45<17:44,  2.69s/it]"
     ]
    },
    {
     "name": "stdout",
     "output_type": "stream",
     "text": [
      "(512, 2) (512, 2)\n"
     ]
    },
    {
     "name": "stderr",
     "output_type": "stream",
     "text": [
      " 21%|██        | 106/500 [04:48<17:41,  2.69s/it]"
     ]
    },
    {
     "name": "stdout",
     "output_type": "stream",
     "text": [
      "(512, 2) (512, 2)\n"
     ]
    },
    {
     "name": "stderr",
     "output_type": "stream",
     "text": [
      " 21%|██▏       | 107/500 [04:51<18:06,  2.77s/it]"
     ]
    },
    {
     "name": "stdout",
     "output_type": "stream",
     "text": [
      "(512, 2) (512, 2)\n"
     ]
    },
    {
     "name": "stderr",
     "output_type": "stream",
     "text": [
      " 22%|██▏       | 108/500 [04:54<17:49,  2.73s/it]"
     ]
    },
    {
     "name": "stdout",
     "output_type": "stream",
     "text": [
      "(512, 2) (512, 2)\n"
     ]
    },
    {
     "name": "stderr",
     "output_type": "stream",
     "text": [
      " 22%|██▏       | 109/500 [04:56<17:39,  2.71s/it]"
     ]
    },
    {
     "name": "stdout",
     "output_type": "stream",
     "text": [
      "(512, 2) (512, 2)\n"
     ]
    },
    {
     "name": "stderr",
     "output_type": "stream",
     "text": [
      " 22%|██▏       | 110/500 [04:59<17:33,  2.70s/it]"
     ]
    },
    {
     "name": "stdout",
     "output_type": "stream",
     "text": [
      "(512, 2) (512, 2)\n"
     ]
    },
    {
     "name": "stderr",
     "output_type": "stream",
     "text": [
      " 22%|██▏       | 111/500 [05:02<17:39,  2.72s/it]"
     ]
    },
    {
     "name": "stdout",
     "output_type": "stream",
     "text": [
      "(512, 2) (512, 2)\n"
     ]
    },
    {
     "name": "stderr",
     "output_type": "stream",
     "text": [
      " 22%|██▏       | 112/500 [05:05<17:28,  2.70s/it]"
     ]
    },
    {
     "name": "stdout",
     "output_type": "stream",
     "text": [
      "(512, 2) (512, 2)\n"
     ]
    },
    {
     "name": "stderr",
     "output_type": "stream",
     "text": [
      " 23%|██▎       | 113/500 [05:07<17:20,  2.69s/it]"
     ]
    },
    {
     "name": "stdout",
     "output_type": "stream",
     "text": [
      "(512, 2) (512, 2)\n"
     ]
    },
    {
     "name": "stderr",
     "output_type": "stream",
     "text": [
      " 23%|██▎       | 114/500 [05:10<17:11,  2.67s/it]"
     ]
    },
    {
     "name": "stdout",
     "output_type": "stream",
     "text": [
      "(512, 2) (512, 2)\n"
     ]
    },
    {
     "name": "stderr",
     "output_type": "stream",
     "text": [
      " 23%|██▎       | 115/500 [05:13<17:14,  2.69s/it]"
     ]
    },
    {
     "name": "stdout",
     "output_type": "stream",
     "text": [
      "(512, 2) (512, 2)\n"
     ]
    },
    {
     "name": "stderr",
     "output_type": "stream",
     "text": [
      " 23%|██▎       | 116/500 [05:15<17:27,  2.73s/it]"
     ]
    },
    {
     "name": "stdout",
     "output_type": "stream",
     "text": [
      "(512, 2) (512, 2)\n"
     ]
    },
    {
     "name": "stderr",
     "output_type": "stream",
     "text": [
      " 23%|██▎       | 117/500 [05:18<17:15,  2.70s/it]"
     ]
    },
    {
     "name": "stdout",
     "output_type": "stream",
     "text": [
      "(512, 2) (512, 2)\n"
     ]
    },
    {
     "name": "stderr",
     "output_type": "stream",
     "text": [
      " 24%|██▎       | 118/500 [05:21<17:10,  2.70s/it]"
     ]
    },
    {
     "name": "stdout",
     "output_type": "stream",
     "text": [
      "(512, 2) (512, 2)\n"
     ]
    },
    {
     "name": "stderr",
     "output_type": "stream",
     "text": [
      " 24%|██▍       | 119/500 [05:23<17:07,  2.70s/it]"
     ]
    },
    {
     "name": "stdout",
     "output_type": "stream",
     "text": [
      "(512, 2) (512, 2)\n"
     ]
    },
    {
     "name": "stderr",
     "output_type": "stream",
     "text": [
      " 24%|██▍       | 120/500 [05:26<17:05,  2.70s/it]"
     ]
    },
    {
     "name": "stdout",
     "output_type": "stream",
     "text": [
      "(512, 2) (512, 2)\n"
     ]
    },
    {
     "name": "stderr",
     "output_type": "stream",
     "text": [
      " 24%|██▍       | 121/500 [05:29<16:58,  2.69s/it]"
     ]
    },
    {
     "name": "stdout",
     "output_type": "stream",
     "text": [
      "(512, 2) (512, 2)\n"
     ]
    },
    {
     "name": "stderr",
     "output_type": "stream",
     "text": [
      " 24%|██▍       | 122/500 [05:31<16:51,  2.68s/it]"
     ]
    },
    {
     "name": "stdout",
     "output_type": "stream",
     "text": [
      "(512, 2) (512, 2)\n"
     ]
    },
    {
     "name": "stderr",
     "output_type": "stream",
     "text": [
      " 25%|██▍       | 123/500 [05:34<16:47,  2.67s/it]"
     ]
    },
    {
     "name": "stdout",
     "output_type": "stream",
     "text": [
      "(512, 2) (512, 2)\n"
     ]
    },
    {
     "name": "stderr",
     "output_type": "stream",
     "text": [
      " 25%|██▍       | 124/500 [05:37<17:02,  2.72s/it]"
     ]
    },
    {
     "name": "stdout",
     "output_type": "stream",
     "text": [
      "(512, 2) (512, 2)\n"
     ]
    },
    {
     "name": "stderr",
     "output_type": "stream",
     "text": [
      " 25%|██▌       | 125/500 [05:40<16:53,  2.70s/it]"
     ]
    },
    {
     "name": "stdout",
     "output_type": "stream",
     "text": [
      "(512, 2) (512, 2)\n"
     ]
    },
    {
     "name": "stderr",
     "output_type": "stream",
     "text": [
      " 25%|██▌       | 126/500 [05:42<16:45,  2.69s/it]"
     ]
    },
    {
     "name": "stdout",
     "output_type": "stream",
     "text": [
      "(512, 2) (512, 2)\n"
     ]
    },
    {
     "name": "stderr",
     "output_type": "stream",
     "text": [
      " 25%|██▌       | 127/500 [05:45<16:41,  2.69s/it]"
     ]
    },
    {
     "name": "stdout",
     "output_type": "stream",
     "text": [
      "(512, 2) (512, 2)\n"
     ]
    },
    {
     "name": "stderr",
     "output_type": "stream",
     "text": [
      " 26%|██▌       | 128/500 [05:48<16:46,  2.71s/it]"
     ]
    },
    {
     "name": "stdout",
     "output_type": "stream",
     "text": [
      "(512, 2) (512, 2)\n"
     ]
    },
    {
     "name": "stderr",
     "output_type": "stream",
     "text": [
      " 26%|██▌       | 129/500 [05:50<16:38,  2.69s/it]"
     ]
    },
    {
     "name": "stdout",
     "output_type": "stream",
     "text": [
      "(512, 2) (512, 2)\n"
     ]
    },
    {
     "name": "stderr",
     "output_type": "stream",
     "text": [
      " 26%|██▌       | 130/500 [05:53<16:26,  2.67s/it]"
     ]
    },
    {
     "name": "stdout",
     "output_type": "stream",
     "text": [
      "(512, 2) (512, 2)\n"
     ]
    },
    {
     "name": "stderr",
     "output_type": "stream",
     "text": [
      " 26%|██▌       | 131/500 [05:56<16:29,  2.68s/it]"
     ]
    },
    {
     "name": "stdout",
     "output_type": "stream",
     "text": [
      "(512, 2) (512, 2)\n"
     ]
    },
    {
     "name": "stderr",
     "output_type": "stream",
     "text": [
      " 26%|██▋       | 132/500 [05:58<16:35,  2.70s/it]"
     ]
    },
    {
     "name": "stdout",
     "output_type": "stream",
     "text": [
      "(512, 2) (512, 2)\n"
     ]
    },
    {
     "name": "stderr",
     "output_type": "stream",
     "text": [
      " 27%|██▋       | 133/500 [06:01<16:37,  2.72s/it]"
     ]
    },
    {
     "name": "stdout",
     "output_type": "stream",
     "text": [
      "(512, 2) (512, 2)\n"
     ]
    },
    {
     "name": "stderr",
     "output_type": "stream",
     "text": [
      " 27%|██▋       | 134/500 [06:04<16:27,  2.70s/it]"
     ]
    },
    {
     "name": "stdout",
     "output_type": "stream",
     "text": [
      "(512, 2) (512, 2)\n"
     ]
    },
    {
     "name": "stderr",
     "output_type": "stream",
     "text": [
      " 27%|██▋       | 135/500 [06:06<16:10,  2.66s/it]"
     ]
    },
    {
     "name": "stdout",
     "output_type": "stream",
     "text": [
      "(512, 2) (512, 2)\n"
     ]
    },
    {
     "name": "stderr",
     "output_type": "stream",
     "text": [
      " 27%|██▋       | 136/500 [06:09<16:23,  2.70s/it]"
     ]
    },
    {
     "name": "stdout",
     "output_type": "stream",
     "text": [
      "(512, 2) (512, 2)\n"
     ]
    },
    {
     "name": "stderr",
     "output_type": "stream",
     "text": [
      " 27%|██▋       | 137/500 [06:12<16:10,  2.67s/it]"
     ]
    },
    {
     "name": "stdout",
     "output_type": "stream",
     "text": [
      "(512, 2) (512, 2)\n"
     ]
    },
    {
     "name": "stderr",
     "output_type": "stream",
     "text": [
      " 28%|██▊       | 138/500 [06:14<16:04,  2.67s/it]"
     ]
    },
    {
     "name": "stdout",
     "output_type": "stream",
     "text": [
      "(512, 2) (512, 2)\n"
     ]
    },
    {
     "name": "stderr",
     "output_type": "stream",
     "text": [
      " 28%|██▊       | 139/500 [06:17<15:59,  2.66s/it]"
     ]
    },
    {
     "name": "stdout",
     "output_type": "stream",
     "text": [
      "(512, 2) (512, 2)\n"
     ]
    },
    {
     "name": "stderr",
     "output_type": "stream",
     "text": [
      " 28%|██▊       | 140/500 [06:20<16:02,  2.67s/it]"
     ]
    },
    {
     "name": "stdout",
     "output_type": "stream",
     "text": [
      "(512, 2) (512, 2)\n"
     ]
    },
    {
     "name": "stderr",
     "output_type": "stream",
     "text": [
      " 28%|██▊       | 141/500 [06:22<15:51,  2.65s/it]"
     ]
    },
    {
     "name": "stdout",
     "output_type": "stream",
     "text": [
      "(512, 2) (512, 2)\n"
     ]
    },
    {
     "name": "stderr",
     "output_type": "stream",
     "text": [
      " 28%|██▊       | 142/500 [06:25<15:57,  2.68s/it]"
     ]
    },
    {
     "name": "stdout",
     "output_type": "stream",
     "text": [
      "(512, 2) (512, 2)\n"
     ]
    },
    {
     "name": "stderr",
     "output_type": "stream",
     "text": [
      " 29%|██▊       | 143/500 [06:28<15:49,  2.66s/it]"
     ]
    },
    {
     "name": "stdout",
     "output_type": "stream",
     "text": [
      "(512, 2) (512, 2)\n"
     ]
    },
    {
     "name": "stderr",
     "output_type": "stream",
     "text": [
      " 29%|██▉       | 144/500 [06:30<15:47,  2.66s/it]"
     ]
    },
    {
     "name": "stdout",
     "output_type": "stream",
     "text": [
      "(512, 2) (512, 2)\n"
     ]
    },
    {
     "name": "stderr",
     "output_type": "stream",
     "text": [
      " 29%|██▉       | 145/500 [06:33<16:01,  2.71s/it]"
     ]
    },
    {
     "name": "stdout",
     "output_type": "stream",
     "text": [
      "(512, 2) (512, 2)\n"
     ]
    },
    {
     "name": "stderr",
     "output_type": "stream",
     "text": [
      " 29%|██▉       | 146/500 [06:36<15:57,  2.70s/it]"
     ]
    },
    {
     "name": "stdout",
     "output_type": "stream",
     "text": [
      "(512, 2) (512, 2)\n"
     ]
    },
    {
     "name": "stderr",
     "output_type": "stream",
     "text": [
      " 29%|██▉       | 147/500 [06:39<15:48,  2.69s/it]"
     ]
    },
    {
     "name": "stdout",
     "output_type": "stream",
     "text": [
      "(512, 2) (512, 2)\n"
     ]
    },
    {
     "name": "stderr",
     "output_type": "stream",
     "text": [
      " 30%|██▉       | 148/500 [06:41<15:40,  2.67s/it]"
     ]
    },
    {
     "name": "stdout",
     "output_type": "stream",
     "text": [
      "(512, 2) (512, 2)\n"
     ]
    },
    {
     "name": "stderr",
     "output_type": "stream",
     "text": [
      " 30%|██▉       | 149/500 [06:44<15:59,  2.73s/it]"
     ]
    },
    {
     "name": "stdout",
     "output_type": "stream",
     "text": [
      "(512, 2) (512, 2)\n"
     ]
    },
    {
     "name": "stderr",
     "output_type": "stream",
     "text": [
      " 30%|███       | 150/500 [06:47<15:50,  2.72s/it]"
     ]
    },
    {
     "name": "stdout",
     "output_type": "stream",
     "text": [
      "(512, 2) (512, 2)\n"
     ]
    },
    {
     "name": "stderr",
     "output_type": "stream",
     "text": [
      " 30%|███       | 151/500 [06:49<15:40,  2.69s/it]"
     ]
    },
    {
     "name": "stdout",
     "output_type": "stream",
     "text": [
      "(512, 2) (512, 2)\n"
     ]
    },
    {
     "name": "stderr",
     "output_type": "stream",
     "text": [
      " 30%|███       | 152/500 [06:52<15:34,  2.68s/it]"
     ]
    },
    {
     "name": "stdout",
     "output_type": "stream",
     "text": [
      "(512, 2) (512, 2)\n"
     ]
    },
    {
     "name": "stderr",
     "output_type": "stream",
     "text": [
      " 31%|███       | 153/500 [06:55<15:42,  2.72s/it]"
     ]
    },
    {
     "name": "stdout",
     "output_type": "stream",
     "text": [
      "(512, 2) (512, 2)\n"
     ]
    },
    {
     "name": "stderr",
     "output_type": "stream",
     "text": [
      " 31%|███       | 154/500 [06:58<15:40,  2.72s/it]"
     ]
    },
    {
     "name": "stdout",
     "output_type": "stream",
     "text": [
      "(512, 2) (512, 2)\n"
     ]
    },
    {
     "name": "stderr",
     "output_type": "stream",
     "text": [
      " 31%|███       | 155/500 [07:00<15:27,  2.69s/it]"
     ]
    },
    {
     "name": "stdout",
     "output_type": "stream",
     "text": [
      "(512, 2) (512, 2)\n"
     ]
    },
    {
     "name": "stderr",
     "output_type": "stream",
     "text": [
      " 31%|███       | 156/500 [07:03<15:25,  2.69s/it]"
     ]
    },
    {
     "name": "stdout",
     "output_type": "stream",
     "text": [
      "(512, 2) (512, 2)\n"
     ]
    },
    {
     "name": "stderr",
     "output_type": "stream",
     "text": [
      " 31%|███▏      | 157/500 [07:06<15:33,  2.72s/it]"
     ]
    },
    {
     "name": "stdout",
     "output_type": "stream",
     "text": [
      "(512, 2) (512, 2)\n"
     ]
    },
    {
     "name": "stderr",
     "output_type": "stream",
     "text": [
      " 32%|███▏      | 158/500 [07:08<15:30,  2.72s/it]"
     ]
    },
    {
     "name": "stdout",
     "output_type": "stream",
     "text": [
      "(512, 2) (512, 2)\n"
     ]
    },
    {
     "name": "stderr",
     "output_type": "stream",
     "text": [
      " 32%|███▏      | 159/500 [07:11<15:22,  2.70s/it]"
     ]
    },
    {
     "name": "stdout",
     "output_type": "stream",
     "text": [
      "(512, 2) (512, 2)\n"
     ]
    },
    {
     "name": "stderr",
     "output_type": "stream",
     "text": [
      " 32%|███▏      | 160/500 [07:14<15:16,  2.69s/it]"
     ]
    },
    {
     "name": "stdout",
     "output_type": "stream",
     "text": [
      "(512, 2) (512, 2)\n"
     ]
    },
    {
     "name": "stderr",
     "output_type": "stream",
     "text": [
      " 32%|███▏      | 161/500 [07:17<15:24,  2.73s/it]"
     ]
    },
    {
     "name": "stdout",
     "output_type": "stream",
     "text": [
      "(512, 2) (512, 2)\n"
     ]
    },
    {
     "name": "stderr",
     "output_type": "stream",
     "text": [
      " 32%|███▏      | 162/500 [07:19<15:24,  2.74s/it]"
     ]
    },
    {
     "name": "stdout",
     "output_type": "stream",
     "text": [
      "(512, 2) (512, 2)\n"
     ]
    },
    {
     "name": "stderr",
     "output_type": "stream",
     "text": [
      " 33%|███▎      | 163/500 [07:22<15:18,  2.73s/it]"
     ]
    },
    {
     "name": "stdout",
     "output_type": "stream",
     "text": [
      "(512, 2) (512, 2)\n"
     ]
    },
    {
     "name": "stderr",
     "output_type": "stream",
     "text": [
      " 33%|███▎      | 164/500 [07:25<15:04,  2.69s/it]"
     ]
    },
    {
     "name": "stdout",
     "output_type": "stream",
     "text": [
      "(512, 2) (512, 2)\n"
     ]
    },
    {
     "name": "stderr",
     "output_type": "stream",
     "text": [
      " 33%|███▎      | 165/500 [07:27<15:06,  2.71s/it]"
     ]
    },
    {
     "name": "stdout",
     "output_type": "stream",
     "text": [
      "(512, 2) (512, 2)\n"
     ]
    },
    {
     "name": "stderr",
     "output_type": "stream",
     "text": [
      " 33%|███▎      | 166/500 [07:30<15:01,  2.70s/it]"
     ]
    },
    {
     "name": "stdout",
     "output_type": "stream",
     "text": [
      "(512, 2) (512, 2)\n"
     ]
    },
    {
     "name": "stderr",
     "output_type": "stream",
     "text": [
      " 33%|███▎      | 167/500 [07:33<14:54,  2.69s/it]"
     ]
    },
    {
     "name": "stdout",
     "output_type": "stream",
     "text": [
      "(512, 2) (512, 2)\n"
     ]
    },
    {
     "name": "stderr",
     "output_type": "stream",
     "text": [
      " 34%|███▎      | 168/500 [07:35<14:55,  2.70s/it]"
     ]
    },
    {
     "name": "stdout",
     "output_type": "stream",
     "text": [
      "(512, 2) (512, 2)\n"
     ]
    },
    {
     "name": "stderr",
     "output_type": "stream",
     "text": [
      " 34%|███▍      | 169/500 [07:38<15:05,  2.74s/it]"
     ]
    },
    {
     "name": "stdout",
     "output_type": "stream",
     "text": [
      "(512, 2) (512, 2)\n"
     ]
    },
    {
     "name": "stderr",
     "output_type": "stream",
     "text": [
      " 34%|███▍      | 170/500 [07:41<14:58,  2.72s/it]"
     ]
    },
    {
     "name": "stdout",
     "output_type": "stream",
     "text": [
      "(512, 2) (512, 2)\n"
     ]
    },
    {
     "name": "stderr",
     "output_type": "stream",
     "text": [
      " 34%|███▍      | 171/500 [07:44<14:50,  2.71s/it]"
     ]
    },
    {
     "name": "stdout",
     "output_type": "stream",
     "text": [
      "(512, 2) (512, 2)\n"
     ]
    },
    {
     "name": "stderr",
     "output_type": "stream",
     "text": [
      " 34%|███▍      | 172/500 [07:46<14:48,  2.71s/it]"
     ]
    },
    {
     "name": "stdout",
     "output_type": "stream",
     "text": [
      "(512, 2) (512, 2)\n"
     ]
    },
    {
     "name": "stderr",
     "output_type": "stream",
     "text": [
      " 35%|███▍      | 173/500 [07:49<14:40,  2.69s/it]"
     ]
    },
    {
     "name": "stdout",
     "output_type": "stream",
     "text": [
      "(512, 2) (512, 2)\n"
     ]
    },
    {
     "name": "stderr",
     "output_type": "stream",
     "text": [
      " 35%|███▍      | 174/500 [07:52<14:48,  2.72s/it]"
     ]
    },
    {
     "name": "stdout",
     "output_type": "stream",
     "text": [
      "(512, 2) (512, 2)\n"
     ]
    },
    {
     "name": "stderr",
     "output_type": "stream",
     "text": [
      " 35%|███▌      | 175/500 [07:54<14:34,  2.69s/it]"
     ]
    },
    {
     "name": "stdout",
     "output_type": "stream",
     "text": [
      "(512, 2) (512, 2)\n"
     ]
    },
    {
     "name": "stderr",
     "output_type": "stream",
     "text": [
      " 35%|███▌      | 176/500 [07:57<14:30,  2.69s/it]"
     ]
    },
    {
     "name": "stdout",
     "output_type": "stream",
     "text": [
      "(512, 2) (512, 2)\n"
     ]
    },
    {
     "name": "stderr",
     "output_type": "stream",
     "text": [
      " 35%|███▌      | 177/500 [08:00<14:22,  2.67s/it]"
     ]
    },
    {
     "name": "stdout",
     "output_type": "stream",
     "text": [
      "(512, 2) (512, 2)\n"
     ]
    },
    {
     "name": "stderr",
     "output_type": "stream",
     "text": [
      " 36%|███▌      | 178/500 [08:02<14:33,  2.71s/it]"
     ]
    },
    {
     "name": "stdout",
     "output_type": "stream",
     "text": [
      "(512, 2) (512, 2)\n"
     ]
    },
    {
     "name": "stderr",
     "output_type": "stream",
     "text": [
      " 36%|███▌      | 179/500 [08:05<14:23,  2.69s/it]"
     ]
    },
    {
     "name": "stdout",
     "output_type": "stream",
     "text": [
      "(512, 2) (512, 2)\n"
     ]
    },
    {
     "name": "stderr",
     "output_type": "stream",
     "text": [
      " 36%|███▌      | 180/500 [08:08<14:21,  2.69s/it]"
     ]
    },
    {
     "name": "stdout",
     "output_type": "stream",
     "text": [
      "(512, 2) (512, 2)\n"
     ]
    },
    {
     "name": "stderr",
     "output_type": "stream",
     "text": [
      " 36%|███▌      | 181/500 [08:11<14:19,  2.69s/it]"
     ]
    },
    {
     "name": "stdout",
     "output_type": "stream",
     "text": [
      "(512, 2) (512, 2)\n"
     ]
    },
    {
     "name": "stderr",
     "output_type": "stream",
     "text": [
      " 36%|███▋      | 182/500 [08:13<14:25,  2.72s/it]"
     ]
    },
    {
     "name": "stdout",
     "output_type": "stream",
     "text": [
      "(512, 2) (512, 2)\n"
     ]
    },
    {
     "name": "stderr",
     "output_type": "stream",
     "text": [
      " 37%|███▋      | 183/500 [08:16<14:16,  2.70s/it]"
     ]
    },
    {
     "name": "stdout",
     "output_type": "stream",
     "text": [
      "(512, 2) (512, 2)\n"
     ]
    },
    {
     "name": "stderr",
     "output_type": "stream",
     "text": [
      " 37%|███▋      | 184/500 [08:19<14:07,  2.68s/it]"
     ]
    },
    {
     "name": "stdout",
     "output_type": "stream",
     "text": [
      "(512, 2) (512, 2)\n"
     ]
    },
    {
     "name": "stderr",
     "output_type": "stream",
     "text": [
      " 37%|███▋      | 185/500 [08:21<14:06,  2.69s/it]"
     ]
    },
    {
     "name": "stdout",
     "output_type": "stream",
     "text": [
      "(512, 2) (512, 2)\n"
     ]
    },
    {
     "name": "stderr",
     "output_type": "stream",
     "text": [
      " 37%|███▋      | 186/500 [08:24<14:10,  2.71s/it]"
     ]
    },
    {
     "name": "stdout",
     "output_type": "stream",
     "text": [
      "(512, 2) (512, 2)\n"
     ]
    },
    {
     "name": "stderr",
     "output_type": "stream",
     "text": [
      " 37%|███▋      | 187/500 [08:27<13:58,  2.68s/it]"
     ]
    },
    {
     "name": "stdout",
     "output_type": "stream",
     "text": [
      "(512, 2) (512, 2)\n"
     ]
    },
    {
     "name": "stderr",
     "output_type": "stream",
     "text": [
      " 38%|███▊      | 188/500 [08:29<13:55,  2.68s/it]"
     ]
    },
    {
     "name": "stdout",
     "output_type": "stream",
     "text": [
      "(512, 2) (512, 2)\n"
     ]
    },
    {
     "name": "stderr",
     "output_type": "stream",
     "text": [
      " 38%|███▊      | 189/500 [08:32<13:59,  2.70s/it]"
     ]
    },
    {
     "name": "stdout",
     "output_type": "stream",
     "text": [
      "(512, 2) (512, 2)\n"
     ]
    },
    {
     "name": "stderr",
     "output_type": "stream",
     "text": [
      " 38%|███▊      | 190/500 [08:35<14:08,  2.74s/it]"
     ]
    },
    {
     "name": "stdout",
     "output_type": "stream",
     "text": [
      "(512, 2) (512, 2)\n"
     ]
    },
    {
     "name": "stderr",
     "output_type": "stream",
     "text": [
      " 38%|███▊      | 191/500 [08:38<13:58,  2.71s/it]"
     ]
    },
    {
     "name": "stdout",
     "output_type": "stream",
     "text": [
      "(512, 2) (512, 2)\n"
     ]
    },
    {
     "name": "stderr",
     "output_type": "stream",
     "text": [
      " 38%|███▊      | 192/500 [08:40<13:48,  2.69s/it]"
     ]
    },
    {
     "name": "stdout",
     "output_type": "stream",
     "text": [
      "(512, 2) (512, 2)\n"
     ]
    },
    {
     "name": "stderr",
     "output_type": "stream",
     "text": [
      " 39%|███▊      | 193/500 [08:43<13:48,  2.70s/it]"
     ]
    },
    {
     "name": "stdout",
     "output_type": "stream",
     "text": [
      "(512, 2) (512, 2)\n"
     ]
    },
    {
     "name": "stderr",
     "output_type": "stream",
     "text": [
      " 39%|███▉      | 194/500 [08:46<13:50,  2.71s/it]"
     ]
    },
    {
     "name": "stdout",
     "output_type": "stream",
     "text": [
      "(512, 2) (512, 2)\n"
     ]
    },
    {
     "name": "stderr",
     "output_type": "stream",
     "text": [
      " 39%|███▉      | 195/500 [08:48<13:39,  2.69s/it]"
     ]
    },
    {
     "name": "stdout",
     "output_type": "stream",
     "text": [
      "(512, 2) (512, 2)\n"
     ]
    },
    {
     "name": "stderr",
     "output_type": "stream",
     "text": [
      " 39%|███▉      | 196/500 [08:51<13:33,  2.68s/it]"
     ]
    },
    {
     "name": "stdout",
     "output_type": "stream",
     "text": [
      "(512, 2) (512, 2)\n"
     ]
    },
    {
     "name": "stderr",
     "output_type": "stream",
     "text": [
      " 39%|███▉      | 197/500 [08:54<13:32,  2.68s/it]"
     ]
    },
    {
     "name": "stdout",
     "output_type": "stream",
     "text": [
      "(512, 2) (512, 2)\n"
     ]
    },
    {
     "name": "stderr",
     "output_type": "stream",
     "text": [
      " 40%|███▉      | 198/500 [08:56<13:37,  2.71s/it]"
     ]
    },
    {
     "name": "stdout",
     "output_type": "stream",
     "text": [
      "(512, 2) (512, 2)\n"
     ]
    },
    {
     "name": "stderr",
     "output_type": "stream",
     "text": [
      " 40%|███▉      | 199/500 [08:59<13:34,  2.71s/it]"
     ]
    },
    {
     "name": "stdout",
     "output_type": "stream",
     "text": [
      "(512, 2) (512, 2)\n"
     ]
    },
    {
     "name": "stderr",
     "output_type": "stream",
     "text": [
      " 40%|████      | 200/500 [09:02<13:39,  2.73s/it]"
     ]
    },
    {
     "name": "stdout",
     "output_type": "stream",
     "text": [
      "(512, 2) (512, 2)\n"
     ]
    },
    {
     "name": "stderr",
     "output_type": "stream",
     "text": [
      " 40%|████      | 201/500 [09:05<13:25,  2.69s/it]"
     ]
    },
    {
     "name": "stdout",
     "output_type": "stream",
     "text": [
      "(512, 2) (512, 2)\n"
     ]
    },
    {
     "name": "stderr",
     "output_type": "stream",
     "text": [
      " 40%|████      | 202/500 [09:07<13:22,  2.69s/it]"
     ]
    },
    {
     "name": "stdout",
     "output_type": "stream",
     "text": [
      "(512, 2) (512, 2)\n"
     ]
    },
    {
     "name": "stderr",
     "output_type": "stream",
     "text": [
      " 41%|████      | 203/500 [09:10<13:30,  2.73s/it]"
     ]
    },
    {
     "name": "stdout",
     "output_type": "stream",
     "text": [
      "(512, 2) (512, 2)\n"
     ]
    },
    {
     "name": "stderr",
     "output_type": "stream",
     "text": [
      " 41%|████      | 204/500 [09:13<13:24,  2.72s/it]"
     ]
    },
    {
     "name": "stdout",
     "output_type": "stream",
     "text": [
      "(512, 2) (512, 2)\n"
     ]
    },
    {
     "name": "stderr",
     "output_type": "stream",
     "text": [
      " 41%|████      | 205/500 [09:15<13:14,  2.69s/it]"
     ]
    },
    {
     "name": "stdout",
     "output_type": "stream",
     "text": [
      "(512, 2) (512, 2)\n"
     ]
    },
    {
     "name": "stderr",
     "output_type": "stream",
     "text": [
      " 41%|████      | 206/500 [09:18<13:08,  2.68s/it]"
     ]
    },
    {
     "name": "stdout",
     "output_type": "stream",
     "text": [
      "(512, 2) (512, 2)\n"
     ]
    },
    {
     "name": "stderr",
     "output_type": "stream",
     "text": [
      " 41%|████▏     | 207/500 [09:21<13:13,  2.71s/it]"
     ]
    },
    {
     "name": "stdout",
     "output_type": "stream",
     "text": [
      "(512, 2) (512, 2)\n"
     ]
    },
    {
     "name": "stderr",
     "output_type": "stream",
     "text": [
      " 42%|████▏     | 208/500 [09:24<13:11,  2.71s/it]"
     ]
    },
    {
     "name": "stdout",
     "output_type": "stream",
     "text": [
      "(512, 2) (512, 2)\n"
     ]
    },
    {
     "name": "stderr",
     "output_type": "stream",
     "text": [
      " 42%|████▏     | 209/500 [09:26<13:00,  2.68s/it]"
     ]
    },
    {
     "name": "stdout",
     "output_type": "stream",
     "text": [
      "(512, 2) (512, 2)\n"
     ]
    },
    {
     "name": "stderr",
     "output_type": "stream",
     "text": [
      " 42%|████▏     | 210/500 [09:29<12:56,  2.68s/it]"
     ]
    },
    {
     "name": "stdout",
     "output_type": "stream",
     "text": [
      "(512, 2) (512, 2)\n"
     ]
    },
    {
     "name": "stderr",
     "output_type": "stream",
     "text": [
      " 42%|████▏     | 211/500 [09:32<13:03,  2.71s/it]"
     ]
    },
    {
     "name": "stdout",
     "output_type": "stream",
     "text": [
      "(512, 2) (512, 2)\n"
     ]
    },
    {
     "name": "stderr",
     "output_type": "stream",
     "text": [
      " 42%|████▏     | 212/500 [09:34<12:58,  2.70s/it]"
     ]
    },
    {
     "name": "stdout",
     "output_type": "stream",
     "text": [
      "(512, 2) (512, 2)\n"
     ]
    },
    {
     "name": "stderr",
     "output_type": "stream",
     "text": [
      " 43%|████▎     | 213/500 [09:37<12:51,  2.69s/it]"
     ]
    },
    {
     "name": "stdout",
     "output_type": "stream",
     "text": [
      "(512, 2) (512, 2)\n"
     ]
    },
    {
     "name": "stderr",
     "output_type": "stream",
     "text": [
      " 43%|████▎     | 214/500 [09:40<12:46,  2.68s/it]"
     ]
    },
    {
     "name": "stdout",
     "output_type": "stream",
     "text": [
      "(512, 2) (512, 2)\n"
     ]
    },
    {
     "name": "stderr",
     "output_type": "stream",
     "text": [
      " 43%|████▎     | 215/500 [09:42<12:46,  2.69s/it]"
     ]
    },
    {
     "name": "stdout",
     "output_type": "stream",
     "text": [
      "(512, 2) (512, 2)\n"
     ]
    },
    {
     "name": "stderr",
     "output_type": "stream",
     "text": [
      " 43%|████▎     | 216/500 [09:45<12:40,  2.68s/it]"
     ]
    },
    {
     "name": "stdout",
     "output_type": "stream",
     "text": [
      "(512, 2) (512, 2)\n"
     ]
    },
    {
     "name": "stderr",
     "output_type": "stream",
     "text": [
      " 43%|████▎     | 217/500 [09:48<12:38,  2.68s/it]"
     ]
    },
    {
     "name": "stdout",
     "output_type": "stream",
     "text": [
      "(512, 2) (512, 2)\n"
     ]
    },
    {
     "name": "stderr",
     "output_type": "stream",
     "text": [
      " 44%|████▎     | 218/500 [09:50<12:36,  2.68s/it]"
     ]
    },
    {
     "name": "stdout",
     "output_type": "stream",
     "text": [
      "(512, 2) (512, 2)\n"
     ]
    },
    {
     "name": "stderr",
     "output_type": "stream",
     "text": [
      " 44%|████▍     | 219/500 [09:53<12:48,  2.74s/it]"
     ]
    },
    {
     "name": "stdout",
     "output_type": "stream",
     "text": [
      "(512, 2) (512, 2)\n"
     ]
    },
    {
     "name": "stderr",
     "output_type": "stream",
     "text": [
      " 44%|████▍     | 220/500 [09:56<12:35,  2.70s/it]"
     ]
    },
    {
     "name": "stdout",
     "output_type": "stream",
     "text": [
      "(512, 2) (512, 2)\n"
     ]
    },
    {
     "name": "stderr",
     "output_type": "stream",
     "text": [
      " 44%|████▍     | 221/500 [09:58<12:32,  2.70s/it]"
     ]
    },
    {
     "name": "stdout",
     "output_type": "stream",
     "text": [
      "(512, 2) (512, 2)\n"
     ]
    },
    {
     "name": "stderr",
     "output_type": "stream",
     "text": [
      " 44%|████▍     | 222/500 [10:01<12:28,  2.69s/it]"
     ]
    },
    {
     "name": "stdout",
     "output_type": "stream",
     "text": [
      "(512, 2) (512, 2)\n"
     ]
    },
    {
     "name": "stderr",
     "output_type": "stream",
     "text": [
      " 45%|████▍     | 223/500 [10:04<12:31,  2.71s/it]"
     ]
    },
    {
     "name": "stdout",
     "output_type": "stream",
     "text": [
      "(512, 2) (512, 2)\n"
     ]
    },
    {
     "name": "stderr",
     "output_type": "stream",
     "text": [
      " 45%|████▍     | 224/500 [10:07<12:24,  2.70s/it]"
     ]
    },
    {
     "name": "stdout",
     "output_type": "stream",
     "text": [
      "(512, 2) (512, 2)\n"
     ]
    },
    {
     "name": "stderr",
     "output_type": "stream",
     "text": [
      " 45%|████▌     | 225/500 [10:09<12:13,  2.67s/it]"
     ]
    },
    {
     "name": "stdout",
     "output_type": "stream",
     "text": [
      "(512, 2) (512, 2)\n"
     ]
    },
    {
     "name": "stderr",
     "output_type": "stream",
     "text": [
      " 45%|████▌     | 226/500 [10:12<12:08,  2.66s/it]"
     ]
    },
    {
     "name": "stdout",
     "output_type": "stream",
     "text": [
      "(512, 2) (512, 2)\n"
     ]
    },
    {
     "name": "stderr",
     "output_type": "stream",
     "text": [
      " 45%|████▌     | 227/500 [10:15<12:12,  2.68s/it]"
     ]
    },
    {
     "name": "stdout",
     "output_type": "stream",
     "text": [
      "(512, 2) (512, 2)\n"
     ]
    },
    {
     "name": "stderr",
     "output_type": "stream",
     "text": [
      " 46%|████▌     | 228/500 [10:17<12:10,  2.68s/it]"
     ]
    },
    {
     "name": "stdout",
     "output_type": "stream",
     "text": [
      "(512, 2) (512, 2)\n"
     ]
    },
    {
     "name": "stderr",
     "output_type": "stream",
     "text": [
      " 46%|████▌     | 229/500 [10:20<12:06,  2.68s/it]"
     ]
    },
    {
     "name": "stdout",
     "output_type": "stream",
     "text": [
      "(512, 2) (512, 2)\n"
     ]
    },
    {
     "name": "stderr",
     "output_type": "stream",
     "text": [
      " 46%|████▌     | 230/500 [10:23<11:57,  2.66s/it]"
     ]
    },
    {
     "name": "stdout",
     "output_type": "stream",
     "text": [
      "(512, 2) (512, 2)\n"
     ]
    },
    {
     "name": "stderr",
     "output_type": "stream",
     "text": [
      " 46%|████▌     | 231/500 [10:25<11:56,  2.66s/it]"
     ]
    },
    {
     "name": "stdout",
     "output_type": "stream",
     "text": [
      "(512, 2) (512, 2)\n"
     ]
    },
    {
     "name": "stderr",
     "output_type": "stream",
     "text": [
      " 46%|████▋     | 232/500 [10:28<12:08,  2.72s/it]"
     ]
    },
    {
     "name": "stdout",
     "output_type": "stream",
     "text": [
      "(512, 2) (512, 2)\n"
     ]
    },
    {
     "name": "stderr",
     "output_type": "stream",
     "text": [
      " 47%|████▋     | 233/500 [10:31<11:59,  2.69s/it]"
     ]
    },
    {
     "name": "stdout",
     "output_type": "stream",
     "text": [
      "(512, 2) (512, 2)\n"
     ]
    },
    {
     "name": "stderr",
     "output_type": "stream",
     "text": [
      " 47%|████▋     | 234/500 [10:33<11:54,  2.69s/it]"
     ]
    },
    {
     "name": "stdout",
     "output_type": "stream",
     "text": [
      "(512, 2) (512, 2)\n"
     ]
    },
    {
     "name": "stderr",
     "output_type": "stream",
     "text": [
      " 47%|████▋     | 235/500 [10:36<11:51,  2.69s/it]"
     ]
    },
    {
     "name": "stdout",
     "output_type": "stream",
     "text": [
      "(512, 2) (512, 2)\n"
     ]
    },
    {
     "name": "stderr",
     "output_type": "stream",
     "text": [
      " 47%|████▋     | 236/500 [10:39<11:57,  2.72s/it]"
     ]
    },
    {
     "name": "stdout",
     "output_type": "stream",
     "text": [
      "(512, 2) (512, 2)\n"
     ]
    },
    {
     "name": "stderr",
     "output_type": "stream",
     "text": [
      " 47%|████▋     | 237/500 [10:41<11:48,  2.69s/it]"
     ]
    },
    {
     "name": "stdout",
     "output_type": "stream",
     "text": [
      "(512, 2) (512, 2)\n"
     ]
    },
    {
     "name": "stderr",
     "output_type": "stream",
     "text": [
      " 48%|████▊     | 238/500 [10:44<11:45,  2.69s/it]"
     ]
    },
    {
     "name": "stdout",
     "output_type": "stream",
     "text": [
      "(512, 2) (512, 2)\n"
     ]
    },
    {
     "name": "stderr",
     "output_type": "stream",
     "text": [
      " 48%|████▊     | 239/500 [10:47<11:42,  2.69s/it]"
     ]
    },
    {
     "name": "stdout",
     "output_type": "stream",
     "text": [
      "(512, 2) (512, 2)\n"
     ]
    },
    {
     "name": "stderr",
     "output_type": "stream",
     "text": [
      " 48%|████▊     | 240/500 [10:50<11:42,  2.70s/it]"
     ]
    },
    {
     "name": "stdout",
     "output_type": "stream",
     "text": [
      "(512, 2) (512, 2)\n"
     ]
    },
    {
     "name": "stderr",
     "output_type": "stream",
     "text": [
      " 48%|████▊     | 241/500 [10:52<11:38,  2.70s/it]"
     ]
    },
    {
     "name": "stdout",
     "output_type": "stream",
     "text": [
      "(512, 2) (512, 2)\n"
     ]
    },
    {
     "name": "stderr",
     "output_type": "stream",
     "text": [
      " 48%|████▊     | 242/500 [10:55<11:37,  2.71s/it]"
     ]
    },
    {
     "name": "stdout",
     "output_type": "stream",
     "text": [
      "(512, 2) (512, 2)\n"
     ]
    },
    {
     "name": "stderr",
     "output_type": "stream",
     "text": [
      " 49%|████▊     | 243/500 [10:58<11:35,  2.71s/it]"
     ]
    },
    {
     "name": "stdout",
     "output_type": "stream",
     "text": [
      "(512, 2) (512, 2)\n"
     ]
    },
    {
     "name": "stderr",
     "output_type": "stream",
     "text": [
      " 49%|████▉     | 244/500 [11:00<11:40,  2.74s/it]"
     ]
    },
    {
     "name": "stdout",
     "output_type": "stream",
     "text": [
      "(512, 2) (512, 2)\n"
     ]
    },
    {
     "name": "stderr",
     "output_type": "stream",
     "text": [
      " 49%|████▉     | 245/500 [11:03<11:31,  2.71s/it]"
     ]
    },
    {
     "name": "stdout",
     "output_type": "stream",
     "text": [
      "(512, 2) (512, 2)\n"
     ]
    },
    {
     "name": "stderr",
     "output_type": "stream",
     "text": [
      " 49%|████▉     | 246/500 [11:06<11:18,  2.67s/it]"
     ]
    },
    {
     "name": "stdout",
     "output_type": "stream",
     "text": [
      "(512, 2) (512, 2)\n"
     ]
    },
    {
     "name": "stderr",
     "output_type": "stream",
     "text": [
      " 49%|████▉     | 247/500 [11:08<11:13,  2.66s/it]"
     ]
    },
    {
     "name": "stdout",
     "output_type": "stream",
     "text": [
      "(512, 2) (512, 2)\n"
     ]
    },
    {
     "name": "stderr",
     "output_type": "stream",
     "text": [
      " 50%|████▉     | 248/500 [11:11<11:18,  2.69s/it]"
     ]
    },
    {
     "name": "stdout",
     "output_type": "stream",
     "text": [
      "(512, 2) (512, 2)\n"
     ]
    },
    {
     "name": "stderr",
     "output_type": "stream",
     "text": [
      " 50%|████▉     | 249/500 [11:14<11:16,  2.70s/it]"
     ]
    },
    {
     "name": "stdout",
     "output_type": "stream",
     "text": [
      "(512, 2) (512, 2)\n"
     ]
    },
    {
     "name": "stderr",
     "output_type": "stream",
     "text": [
      " 50%|█████     | 250/500 [11:17<11:12,  2.69s/it]"
     ]
    },
    {
     "name": "stdout",
     "output_type": "stream",
     "text": [
      "(512, 2) (512, 2)\n"
     ]
    },
    {
     "name": "stderr",
     "output_type": "stream",
     "text": [
      " 50%|█████     | 251/500 [11:19<11:03,  2.67s/it]"
     ]
    },
    {
     "name": "stdout",
     "output_type": "stream",
     "text": [
      "(512, 2) (512, 2)\n"
     ]
    },
    {
     "name": "stderr",
     "output_type": "stream",
     "text": [
      " 50%|█████     | 252/500 [11:22<11:01,  2.67s/it]"
     ]
    },
    {
     "name": "stdout",
     "output_type": "stream",
     "text": [
      "(512, 2) (512, 2)\n"
     ]
    },
    {
     "name": "stderr",
     "output_type": "stream",
     "text": [
      " 51%|█████     | 253/500 [11:25<11:03,  2.69s/it]"
     ]
    },
    {
     "name": "stdout",
     "output_type": "stream",
     "text": [
      "(512, 2) (512, 2)\n"
     ]
    },
    {
     "name": "stderr",
     "output_type": "stream",
     "text": [
      " 51%|█████     | 254/500 [11:27<10:56,  2.67s/it]"
     ]
    },
    {
     "name": "stdout",
     "output_type": "stream",
     "text": [
      "(512, 2) (512, 2)\n"
     ]
    },
    {
     "name": "stderr",
     "output_type": "stream",
     "text": [
      " 51%|█████     | 255/500 [11:30<10:52,  2.66s/it]"
     ]
    },
    {
     "name": "stdout",
     "output_type": "stream",
     "text": [
      "(512, 2) (512, 2)\n"
     ]
    },
    {
     "name": "stderr",
     "output_type": "stream",
     "text": [
      " 51%|█████     | 256/500 [11:33<10:53,  2.68s/it]"
     ]
    },
    {
     "name": "stdout",
     "output_type": "stream",
     "text": [
      "(512, 2) (512, 2)\n"
     ]
    },
    {
     "name": "stderr",
     "output_type": "stream",
     "text": [
      " 51%|█████▏    | 257/500 [11:35<11:05,  2.74s/it]"
     ]
    },
    {
     "name": "stdout",
     "output_type": "stream",
     "text": [
      "(512, 2) (512, 2)\n"
     ]
    },
    {
     "name": "stderr",
     "output_type": "stream",
     "text": [
      " 52%|█████▏    | 258/500 [11:38<10:53,  2.70s/it]"
     ]
    },
    {
     "name": "stdout",
     "output_type": "stream",
     "text": [
      "(512, 2) (512, 2)\n"
     ]
    },
    {
     "name": "stderr",
     "output_type": "stream",
     "text": [
      " 52%|█████▏    | 259/500 [11:41<10:48,  2.69s/it]"
     ]
    },
    {
     "name": "stdout",
     "output_type": "stream",
     "text": [
      "(512, 2) (512, 2)\n"
     ]
    },
    {
     "name": "stderr",
     "output_type": "stream",
     "text": [
      " 52%|█████▏    | 260/500 [11:43<10:42,  2.68s/it]"
     ]
    },
    {
     "name": "stdout",
     "output_type": "stream",
     "text": [
      "(512, 2) (512, 2)\n"
     ]
    },
    {
     "name": "stderr",
     "output_type": "stream",
     "text": [
      " 52%|█████▏    | 261/500 [11:46<10:57,  2.75s/it]"
     ]
    },
    {
     "name": "stdout",
     "output_type": "stream",
     "text": [
      "(512, 2) (512, 2)\n"
     ]
    },
    {
     "name": "stderr",
     "output_type": "stream",
     "text": [
      " 52%|█████▏    | 262/500 [11:49<10:47,  2.72s/it]"
     ]
    },
    {
     "name": "stdout",
     "output_type": "stream",
     "text": [
      "(512, 2) (512, 2)\n"
     ]
    },
    {
     "name": "stderr",
     "output_type": "stream",
     "text": [
      " 53%|█████▎    | 263/500 [11:52<10:44,  2.72s/it]"
     ]
    },
    {
     "name": "stdout",
     "output_type": "stream",
     "text": [
      "(512, 2) (512, 2)\n"
     ]
    },
    {
     "name": "stderr",
     "output_type": "stream",
     "text": [
      " 53%|█████▎    | 264/500 [11:54<10:40,  2.71s/it]"
     ]
    },
    {
     "name": "stdout",
     "output_type": "stream",
     "text": [
      "(512, 2) (512, 2)\n"
     ]
    },
    {
     "name": "stderr",
     "output_type": "stream",
     "text": [
      " 53%|█████▎    | 265/500 [11:57<10:45,  2.75s/it]"
     ]
    },
    {
     "name": "stdout",
     "output_type": "stream",
     "text": [
      "(512, 2) (512, 2)\n"
     ]
    },
    {
     "name": "stderr",
     "output_type": "stream",
     "text": [
      " 53%|█████▎    | 266/500 [12:00<10:38,  2.73s/it]"
     ]
    },
    {
     "name": "stdout",
     "output_type": "stream",
     "text": [
      "(512, 2) (512, 2)\n"
     ]
    },
    {
     "name": "stderr",
     "output_type": "stream",
     "text": [
      " 53%|█████▎    | 267/500 [12:03<10:33,  2.72s/it]"
     ]
    },
    {
     "name": "stdout",
     "output_type": "stream",
     "text": [
      "(512, 2) (512, 2)\n"
     ]
    },
    {
     "name": "stderr",
     "output_type": "stream",
     "text": [
      " 54%|█████▎    | 268/500 [12:05<10:26,  2.70s/it]"
     ]
    },
    {
     "name": "stdout",
     "output_type": "stream",
     "text": [
      "(512, 2) (512, 2)\n"
     ]
    },
    {
     "name": "stderr",
     "output_type": "stream",
     "text": [
      " 54%|█████▍    | 269/500 [12:08<10:25,  2.71s/it]"
     ]
    },
    {
     "name": "stdout",
     "output_type": "stream",
     "text": [
      "(512, 2) (512, 2)\n"
     ]
    },
    {
     "name": "stderr",
     "output_type": "stream",
     "text": [
      " 54%|█████▍    | 270/500 [12:11<10:23,  2.71s/it]"
     ]
    },
    {
     "name": "stdout",
     "output_type": "stream",
     "text": [
      "(512, 2) (512, 2)\n"
     ]
    },
    {
     "name": "stderr",
     "output_type": "stream",
     "text": [
      " 54%|█████▍    | 271/500 [12:13<10:17,  2.69s/it]"
     ]
    },
    {
     "name": "stdout",
     "output_type": "stream",
     "text": [
      "(512, 2) (512, 2)\n"
     ]
    },
    {
     "name": "stderr",
     "output_type": "stream",
     "text": [
      " 54%|█████▍    | 272/500 [12:16<10:07,  2.66s/it]"
     ]
    },
    {
     "name": "stdout",
     "output_type": "stream",
     "text": [
      "(512, 2) (512, 2)\n"
     ]
    },
    {
     "name": "stderr",
     "output_type": "stream",
     "text": [
      " 55%|█████▍    | 273/500 [12:19<10:12,  2.70s/it]"
     ]
    },
    {
     "name": "stdout",
     "output_type": "stream",
     "text": [
      "(512, 2) (512, 2)\n"
     ]
    },
    {
     "name": "stderr",
     "output_type": "stream",
     "text": [
      " 55%|█████▍    | 274/500 [12:21<10:09,  2.70s/it]"
     ]
    },
    {
     "name": "stdout",
     "output_type": "stream",
     "text": [
      "(512, 2) (512, 2)\n"
     ]
    },
    {
     "name": "stderr",
     "output_type": "stream",
     "text": [
      " 55%|█████▌    | 275/500 [12:24<10:08,  2.71s/it]"
     ]
    },
    {
     "name": "stdout",
     "output_type": "stream",
     "text": [
      "(512, 2) (512, 2)\n"
     ]
    },
    {
     "name": "stderr",
     "output_type": "stream",
     "text": [
      " 55%|█████▌    | 276/500 [12:27<10:02,  2.69s/it]"
     ]
    },
    {
     "name": "stdout",
     "output_type": "stream",
     "text": [
      "(512, 2) (512, 2)\n"
     ]
    },
    {
     "name": "stderr",
     "output_type": "stream",
     "text": [
      " 55%|█████▌    | 277/500 [12:29<10:06,  2.72s/it]"
     ]
    },
    {
     "name": "stdout",
     "output_type": "stream",
     "text": [
      "(512, 2) (512, 2)\n"
     ]
    },
    {
     "name": "stderr",
     "output_type": "stream",
     "text": [
      " 56%|█████▌    | 278/500 [12:32<10:00,  2.70s/it]"
     ]
    },
    {
     "name": "stdout",
     "output_type": "stream",
     "text": [
      "(512, 2) (512, 2)\n"
     ]
    },
    {
     "name": "stderr",
     "output_type": "stream",
     "text": [
      " 56%|█████▌    | 279/500 [12:35<09:52,  2.68s/it]"
     ]
    },
    {
     "name": "stdout",
     "output_type": "stream",
     "text": [
      "(512, 2) (512, 2)\n"
     ]
    },
    {
     "name": "stderr",
     "output_type": "stream",
     "text": [
      " 56%|█████▌    | 280/500 [12:37<09:48,  2.68s/it]"
     ]
    },
    {
     "name": "stdout",
     "output_type": "stream",
     "text": [
      "(512, 2) (512, 2)\n"
     ]
    },
    {
     "name": "stderr",
     "output_type": "stream",
     "text": [
      " 56%|█████▌    | 281/500 [12:40<09:45,  2.67s/it]"
     ]
    },
    {
     "name": "stdout",
     "output_type": "stream",
     "text": [
      "(512, 2) (512, 2)\n"
     ]
    },
    {
     "name": "stderr",
     "output_type": "stream",
     "text": [
      " 56%|█████▋    | 282/500 [12:43<09:50,  2.71s/it]"
     ]
    },
    {
     "name": "stdout",
     "output_type": "stream",
     "text": [
      "(512, 2) (512, 2)\n"
     ]
    },
    {
     "name": "stderr",
     "output_type": "stream",
     "text": [
      " 57%|█████▋    | 283/500 [12:46<09:42,  2.69s/it]"
     ]
    },
    {
     "name": "stdout",
     "output_type": "stream",
     "text": [
      "(512, 2) (512, 2)\n"
     ]
    },
    {
     "name": "stderr",
     "output_type": "stream",
     "text": [
      " 57%|█████▋    | 284/500 [12:48<09:41,  2.69s/it]"
     ]
    },
    {
     "name": "stdout",
     "output_type": "stream",
     "text": [
      "(512, 2) (512, 2)\n"
     ]
    },
    {
     "name": "stderr",
     "output_type": "stream",
     "text": [
      " 57%|█████▋    | 285/500 [12:51<09:36,  2.68s/it]"
     ]
    },
    {
     "name": "stdout",
     "output_type": "stream",
     "text": [
      "(512, 2) (512, 2)\n"
     ]
    },
    {
     "name": "stderr",
     "output_type": "stream",
     "text": [
      " 57%|█████▋    | 286/500 [12:54<09:46,  2.74s/it]"
     ]
    },
    {
     "name": "stdout",
     "output_type": "stream",
     "text": [
      "(512, 2) (512, 2)\n"
     ]
    },
    {
     "name": "stderr",
     "output_type": "stream",
     "text": [
      " 57%|█████▋    | 287/500 [12:57<09:45,  2.75s/it]"
     ]
    },
    {
     "name": "stdout",
     "output_type": "stream",
     "text": [
      "(512, 2) (512, 2)\n"
     ]
    },
    {
     "name": "stderr",
     "output_type": "stream",
     "text": [
      " 58%|█████▊    | 288/500 [12:59<09:35,  2.72s/it]"
     ]
    },
    {
     "name": "stdout",
     "output_type": "stream",
     "text": [
      "(512, 2) (512, 2)\n"
     ]
    },
    {
     "name": "stderr",
     "output_type": "stream",
     "text": [
      " 58%|█████▊    | 289/500 [13:02<09:31,  2.71s/it]"
     ]
    },
    {
     "name": "stdout",
     "output_type": "stream",
     "text": [
      "(512, 2) (512, 2)\n"
     ]
    },
    {
     "name": "stderr",
     "output_type": "stream",
     "text": [
      " 58%|█████▊    | 290/500 [13:05<09:34,  2.74s/it]"
     ]
    },
    {
     "name": "stdout",
     "output_type": "stream",
     "text": [
      "(512, 2) (512, 2)\n"
     ]
    },
    {
     "name": "stderr",
     "output_type": "stream",
     "text": [
      " 58%|█████▊    | 291/500 [13:07<09:28,  2.72s/it]"
     ]
    },
    {
     "name": "stdout",
     "output_type": "stream",
     "text": [
      "(512, 2) (512, 2)\n"
     ]
    },
    {
     "name": "stderr",
     "output_type": "stream",
     "text": [
      " 58%|█████▊    | 292/500 [13:10<09:23,  2.71s/it]"
     ]
    },
    {
     "name": "stdout",
     "output_type": "stream",
     "text": [
      "(512, 2) (512, 2)\n"
     ]
    },
    {
     "name": "stderr",
     "output_type": "stream",
     "text": [
      " 59%|█████▊    | 293/500 [13:13<09:13,  2.67s/it]"
     ]
    },
    {
     "name": "stdout",
     "output_type": "stream",
     "text": [
      "(512, 2) (512, 2)\n"
     ]
    },
    {
     "name": "stderr",
     "output_type": "stream",
     "text": [
      " 59%|█████▉    | 294/500 [13:15<09:18,  2.71s/it]"
     ]
    },
    {
     "name": "stdout",
     "output_type": "stream",
     "text": [
      "(512, 2) (512, 2)\n"
     ]
    },
    {
     "name": "stderr",
     "output_type": "stream",
     "text": [
      " 59%|█████▉    | 295/500 [13:18<09:16,  2.72s/it]"
     ]
    },
    {
     "name": "stdout",
     "output_type": "stream",
     "text": [
      "(512, 2) (512, 2)\n"
     ]
    },
    {
     "name": "stderr",
     "output_type": "stream",
     "text": [
      " 59%|█████▉    | 296/500 [13:21<09:12,  2.71s/it]"
     ]
    },
    {
     "name": "stdout",
     "output_type": "stream",
     "text": [
      "(512, 2) (512, 2)\n"
     ]
    },
    {
     "name": "stderr",
     "output_type": "stream",
     "text": [
      " 59%|█████▉    | 297/500 [13:24<09:09,  2.71s/it]"
     ]
    },
    {
     "name": "stdout",
     "output_type": "stream",
     "text": [
      "(512, 2) (512, 2)\n"
     ]
    },
    {
     "name": "stderr",
     "output_type": "stream",
     "text": [
      " 60%|█████▉    | 298/500 [13:26<09:11,  2.73s/it]"
     ]
    },
    {
     "name": "stdout",
     "output_type": "stream",
     "text": [
      "(512, 2) (512, 2)\n"
     ]
    },
    {
     "name": "stderr",
     "output_type": "stream",
     "text": [
      " 60%|█████▉    | 299/500 [13:29<09:06,  2.72s/it]"
     ]
    },
    {
     "name": "stdout",
     "output_type": "stream",
     "text": [
      "(512, 2) (512, 2)\n"
     ]
    },
    {
     "name": "stderr",
     "output_type": "stream",
     "text": [
      " 60%|██████    | 300/500 [13:32<09:01,  2.71s/it]"
     ]
    },
    {
     "name": "stdout",
     "output_type": "stream",
     "text": [
      "(512, 2) (512, 2)\n"
     ]
    },
    {
     "name": "stderr",
     "output_type": "stream",
     "text": [
      " 60%|██████    | 301/500 [13:34<09:01,  2.72s/it]"
     ]
    },
    {
     "name": "stdout",
     "output_type": "stream",
     "text": [
      "(512, 2) (512, 2)\n"
     ]
    },
    {
     "name": "stderr",
     "output_type": "stream",
     "text": [
      " 60%|██████    | 302/500 [13:37<09:03,  2.75s/it]"
     ]
    },
    {
     "name": "stdout",
     "output_type": "stream",
     "text": [
      "(512, 2) (512, 2)\n"
     ]
    },
    {
     "name": "stderr",
     "output_type": "stream",
     "text": [
      " 61%|██████    | 303/500 [13:40<08:56,  2.72s/it]"
     ]
    },
    {
     "name": "stdout",
     "output_type": "stream",
     "text": [
      "(512, 2) (512, 2)\n"
     ]
    },
    {
     "name": "stderr",
     "output_type": "stream",
     "text": [
      " 61%|██████    | 304/500 [13:43<08:55,  2.73s/it]"
     ]
    },
    {
     "name": "stdout",
     "output_type": "stream",
     "text": [
      "(512, 2) (512, 2)\n"
     ]
    },
    {
     "name": "stderr",
     "output_type": "stream",
     "text": [
      " 61%|██████    | 305/500 [13:45<08:48,  2.71s/it]"
     ]
    },
    {
     "name": "stdout",
     "output_type": "stream",
     "text": [
      "(512, 2) (512, 2)\n"
     ]
    },
    {
     "name": "stderr",
     "output_type": "stream",
     "text": [
      " 61%|██████    | 306/500 [13:48<08:48,  2.73s/it]"
     ]
    },
    {
     "name": "stdout",
     "output_type": "stream",
     "text": [
      "(512, 2) (512, 2)\n"
     ]
    },
    {
     "name": "stderr",
     "output_type": "stream",
     "text": [
      " 61%|██████▏   | 307/500 [13:51<08:44,  2.72s/it]"
     ]
    },
    {
     "name": "stdout",
     "output_type": "stream",
     "text": [
      "(512, 2) (512, 2)\n"
     ]
    },
    {
     "name": "stderr",
     "output_type": "stream",
     "text": [
      " 62%|██████▏   | 308/500 [13:53<08:36,  2.69s/it]"
     ]
    },
    {
     "name": "stdout",
     "output_type": "stream",
     "text": [
      "(512, 2) (512, 2)\n"
     ]
    },
    {
     "name": "stderr",
     "output_type": "stream",
     "text": [
      " 62%|██████▏   | 309/500 [13:56<08:30,  2.67s/it]"
     ]
    },
    {
     "name": "stdout",
     "output_type": "stream",
     "text": [
      "(512, 2) (512, 2)\n"
     ]
    },
    {
     "name": "stderr",
     "output_type": "stream",
     "text": [
      " 62%|██████▏   | 310/500 [13:59<08:29,  2.68s/it]"
     ]
    },
    {
     "name": "stdout",
     "output_type": "stream",
     "text": [
      "(512, 2) (512, 2)\n"
     ]
    },
    {
     "name": "stderr",
     "output_type": "stream",
     "text": [
      " 62%|██████▏   | 311/500 [14:02<08:32,  2.71s/it]"
     ]
    },
    {
     "name": "stdout",
     "output_type": "stream",
     "text": [
      "(512, 2) (512, 2)\n"
     ]
    },
    {
     "name": "stderr",
     "output_type": "stream",
     "text": [
      " 62%|██████▏   | 312/500 [14:04<08:25,  2.69s/it]"
     ]
    },
    {
     "name": "stdout",
     "output_type": "stream",
     "text": [
      "(512, 2) (512, 2)\n"
     ]
    },
    {
     "name": "stderr",
     "output_type": "stream",
     "text": [
      " 63%|██████▎   | 313/500 [14:07<08:23,  2.69s/it]"
     ]
    },
    {
     "name": "stdout",
     "output_type": "stream",
     "text": [
      "(512, 2) (512, 2)\n"
     ]
    },
    {
     "name": "stderr",
     "output_type": "stream",
     "text": [
      " 63%|██████▎   | 314/500 [14:10<08:24,  2.71s/it]"
     ]
    },
    {
     "name": "stdout",
     "output_type": "stream",
     "text": [
      "(512, 2) (512, 2)\n"
     ]
    },
    {
     "name": "stderr",
     "output_type": "stream",
     "text": [
      " 63%|██████▎   | 315/500 [14:12<08:24,  2.73s/it]"
     ]
    },
    {
     "name": "stdout",
     "output_type": "stream",
     "text": [
      "(512, 2) (512, 2)\n"
     ]
    },
    {
     "name": "stderr",
     "output_type": "stream",
     "text": [
      " 63%|██████▎   | 316/500 [14:15<08:18,  2.71s/it]"
     ]
    },
    {
     "name": "stdout",
     "output_type": "stream",
     "text": [
      "(512, 2) (512, 2)\n"
     ]
    },
    {
     "name": "stderr",
     "output_type": "stream",
     "text": [
      " 63%|██████▎   | 317/500 [14:18<08:16,  2.71s/it]"
     ]
    },
    {
     "name": "stdout",
     "output_type": "stream",
     "text": [
      "(512, 2) (512, 2)\n"
     ]
    },
    {
     "name": "stderr",
     "output_type": "stream",
     "text": [
      " 64%|██████▎   | 318/500 [14:20<08:12,  2.71s/it]"
     ]
    },
    {
     "name": "stdout",
     "output_type": "stream",
     "text": [
      "(512, 2) (512, 2)\n"
     ]
    },
    {
     "name": "stderr",
     "output_type": "stream",
     "text": [
      " 64%|██████▍   | 319/500 [14:23<08:14,  2.73s/it]"
     ]
    },
    {
     "name": "stdout",
     "output_type": "stream",
     "text": [
      "(512, 2) (512, 2)\n"
     ]
    },
    {
     "name": "stderr",
     "output_type": "stream",
     "text": [
      " 64%|██████▍   | 320/500 [14:26<08:08,  2.72s/it]"
     ]
    },
    {
     "name": "stdout",
     "output_type": "stream",
     "text": [
      "(512, 2) (512, 2)\n"
     ]
    },
    {
     "name": "stderr",
     "output_type": "stream",
     "text": [
      " 64%|██████▍   | 321/500 [14:29<08:02,  2.70s/it]"
     ]
    },
    {
     "name": "stdout",
     "output_type": "stream",
     "text": [
      "(512, 2) (512, 2)\n"
     ]
    },
    {
     "name": "stderr",
     "output_type": "stream",
     "text": [
      " 64%|██████▍   | 322/500 [14:31<07:58,  2.69s/it]"
     ]
    },
    {
     "name": "stdout",
     "output_type": "stream",
     "text": [
      "(512, 2) (512, 2)\n"
     ]
    },
    {
     "name": "stderr",
     "output_type": "stream",
     "text": [
      " 65%|██████▍   | 323/500 [14:34<08:07,  2.76s/it]"
     ]
    },
    {
     "name": "stdout",
     "output_type": "stream",
     "text": [
      "(512, 2) (512, 2)\n"
     ]
    },
    {
     "name": "stderr",
     "output_type": "stream",
     "text": [
      " 65%|██████▍   | 324/500 [14:37<07:59,  2.72s/it]"
     ]
    },
    {
     "name": "stdout",
     "output_type": "stream",
     "text": [
      "(512, 2) (512, 2)\n"
     ]
    },
    {
     "name": "stderr",
     "output_type": "stream",
     "text": [
      " 65%|██████▌   | 325/500 [14:40<07:57,  2.73s/it]"
     ]
    },
    {
     "name": "stdout",
     "output_type": "stream",
     "text": [
      "(512, 2) (512, 2)\n"
     ]
    },
    {
     "name": "stderr",
     "output_type": "stream",
     "text": [
      " 65%|██████▌   | 326/500 [14:42<07:53,  2.72s/it]"
     ]
    },
    {
     "name": "stdout",
     "output_type": "stream",
     "text": [
      "(512, 2) (512, 2)\n"
     ]
    },
    {
     "name": "stderr",
     "output_type": "stream",
     "text": [
      " 65%|██████▌   | 327/500 [14:45<07:52,  2.73s/it]"
     ]
    },
    {
     "name": "stdout",
     "output_type": "stream",
     "text": [
      "(512, 2) (512, 2)\n"
     ]
    },
    {
     "name": "stderr",
     "output_type": "stream",
     "text": [
      " 66%|██████▌   | 328/500 [14:48<07:45,  2.71s/it]"
     ]
    },
    {
     "name": "stdout",
     "output_type": "stream",
     "text": [
      "(512, 2) (512, 2)\n"
     ]
    },
    {
     "name": "stderr",
     "output_type": "stream",
     "text": [
      " 66%|██████▌   | 329/500 [14:50<07:42,  2.71s/it]"
     ]
    },
    {
     "name": "stdout",
     "output_type": "stream",
     "text": [
      "(512, 2) (512, 2)\n"
     ]
    },
    {
     "name": "stderr",
     "output_type": "stream",
     "text": [
      " 66%|██████▌   | 330/500 [14:53<07:37,  2.69s/it]"
     ]
    },
    {
     "name": "stdout",
     "output_type": "stream",
     "text": [
      "(512, 2) (512, 2)\n"
     ]
    },
    {
     "name": "stderr",
     "output_type": "stream",
     "text": [
      " 66%|██████▌   | 331/500 [14:56<07:39,  2.72s/it]"
     ]
    },
    {
     "name": "stdout",
     "output_type": "stream",
     "text": [
      "(512, 2) (512, 2)\n"
     ]
    },
    {
     "name": "stderr",
     "output_type": "stream",
     "text": [
      " 66%|██████▋   | 332/500 [14:59<07:41,  2.75s/it]"
     ]
    },
    {
     "name": "stdout",
     "output_type": "stream",
     "text": [
      "(512, 2) (512, 2)\n"
     ]
    },
    {
     "name": "stderr",
     "output_type": "stream",
     "text": [
      " 67%|██████▋   | 333/500 [15:01<07:37,  2.74s/it]"
     ]
    },
    {
     "name": "stdout",
     "output_type": "stream",
     "text": [
      "(512, 2) (512, 2)\n"
     ]
    },
    {
     "name": "stderr",
     "output_type": "stream",
     "text": [
      " 67%|██████▋   | 334/500 [15:04<07:34,  2.74s/it]"
     ]
    },
    {
     "name": "stdout",
     "output_type": "stream",
     "text": [
      "(512, 2) (512, 2)\n"
     ]
    },
    {
     "name": "stderr",
     "output_type": "stream",
     "text": [
      " 67%|██████▋   | 335/500 [15:07<07:37,  2.77s/it]"
     ]
    },
    {
     "name": "stdout",
     "output_type": "stream",
     "text": [
      "(512, 2) (512, 2)\n"
     ]
    },
    {
     "name": "stderr",
     "output_type": "stream",
     "text": [
      " 67%|██████▋   | 336/500 [15:10<07:30,  2.75s/it]"
     ]
    },
    {
     "name": "stdout",
     "output_type": "stream",
     "text": [
      "(512, 2) (512, 2)\n"
     ]
    },
    {
     "name": "stderr",
     "output_type": "stream",
     "text": [
      " 67%|██████▋   | 337/500 [15:12<07:31,  2.77s/it]"
     ]
    },
    {
     "name": "stdout",
     "output_type": "stream",
     "text": [
      "(512, 2) (512, 2)\n"
     ]
    },
    {
     "name": "stderr",
     "output_type": "stream",
     "text": [
      " 68%|██████▊   | 338/500 [15:15<07:23,  2.74s/it]"
     ]
    },
    {
     "name": "stdout",
     "output_type": "stream",
     "text": [
      "(512, 2) (512, 2)\n"
     ]
    },
    {
     "name": "stderr",
     "output_type": "stream",
     "text": [
      " 68%|██████▊   | 339/500 [15:18<07:18,  2.73s/it]"
     ]
    },
    {
     "name": "stdout",
     "output_type": "stream",
     "text": [
      "(512, 2) (512, 2)\n"
     ]
    },
    {
     "name": "stderr",
     "output_type": "stream",
     "text": [
      " 68%|██████▊   | 340/500 [15:21<07:18,  2.74s/it]"
     ]
    },
    {
     "name": "stdout",
     "output_type": "stream",
     "text": [
      "(512, 2) (512, 2)\n"
     ]
    },
    {
     "name": "stderr",
     "output_type": "stream",
     "text": [
      " 68%|██████▊   | 341/500 [15:23<07:15,  2.74s/it]"
     ]
    },
    {
     "name": "stdout",
     "output_type": "stream",
     "text": [
      "(512, 2) (512, 2)\n"
     ]
    },
    {
     "name": "stderr",
     "output_type": "stream",
     "text": [
      " 68%|██████▊   | 342/500 [15:26<07:09,  2.72s/it]"
     ]
    },
    {
     "name": "stdout",
     "output_type": "stream",
     "text": [
      "(512, 2) (512, 2)\n"
     ]
    },
    {
     "name": "stderr",
     "output_type": "stream",
     "text": [
      " 69%|██████▊   | 343/500 [15:29<07:06,  2.72s/it]"
     ]
    },
    {
     "name": "stdout",
     "output_type": "stream",
     "text": [
      "(512, 2) (512, 2)\n"
     ]
    },
    {
     "name": "stderr",
     "output_type": "stream",
     "text": [
      " 69%|██████▉   | 344/500 [15:32<07:07,  2.74s/it]"
     ]
    },
    {
     "name": "stdout",
     "output_type": "stream",
     "text": [
      "(512, 2) (512, 2)\n"
     ]
    },
    {
     "name": "stderr",
     "output_type": "stream",
     "text": [
      " 69%|██████▉   | 345/500 [15:34<07:00,  2.71s/it]"
     ]
    },
    {
     "name": "stdout",
     "output_type": "stream",
     "text": [
      "(512, 2) (512, 2)\n"
     ]
    },
    {
     "name": "stderr",
     "output_type": "stream",
     "text": [
      " 69%|██████▉   | 346/500 [15:37<06:55,  2.70s/it]"
     ]
    },
    {
     "name": "stdout",
     "output_type": "stream",
     "text": [
      "(512, 2) (512, 2)\n"
     ]
    },
    {
     "name": "stderr",
     "output_type": "stream",
     "text": [
      " 69%|██████▉   | 347/500 [15:40<06:52,  2.69s/it]"
     ]
    },
    {
     "name": "stdout",
     "output_type": "stream",
     "text": [
      "(512, 2) (512, 2)\n"
     ]
    },
    {
     "name": "stderr",
     "output_type": "stream",
     "text": [
      " 70%|██████▉   | 348/500 [15:42<06:54,  2.73s/it]"
     ]
    },
    {
     "name": "stdout",
     "output_type": "stream",
     "text": [
      "(512, 2) (512, 2)\n"
     ]
    },
    {
     "name": "stderr",
     "output_type": "stream",
     "text": [
      " 70%|██████▉   | 349/500 [15:45<06:52,  2.73s/it]"
     ]
    },
    {
     "name": "stdout",
     "output_type": "stream",
     "text": [
      "(512, 2) (512, 2)\n"
     ]
    },
    {
     "name": "stderr",
     "output_type": "stream",
     "text": [
      " 70%|███████   | 350/500 [15:48<06:48,  2.72s/it]"
     ]
    },
    {
     "name": "stdout",
     "output_type": "stream",
     "text": [
      "(512, 2) (512, 2)\n"
     ]
    },
    {
     "name": "stderr",
     "output_type": "stream",
     "text": [
      " 70%|███████   | 351/500 [15:50<06:43,  2.71s/it]"
     ]
    },
    {
     "name": "stdout",
     "output_type": "stream",
     "text": [
      "(512, 2) (512, 2)\n"
     ]
    },
    {
     "name": "stderr",
     "output_type": "stream",
     "text": [
      " 70%|███████   | 352/500 [15:53<06:45,  2.74s/it]"
     ]
    },
    {
     "name": "stdout",
     "output_type": "stream",
     "text": [
      "(512, 2) (512, 2)\n"
     ]
    },
    {
     "name": "stderr",
     "output_type": "stream",
     "text": [
      " 71%|███████   | 353/500 [15:56<06:40,  2.72s/it]"
     ]
    },
    {
     "name": "stdout",
     "output_type": "stream",
     "text": [
      "(512, 2) (512, 2)\n"
     ]
    },
    {
     "name": "stderr",
     "output_type": "stream",
     "text": [
      " 71%|███████   | 354/500 [15:59<06:36,  2.72s/it]"
     ]
    },
    {
     "name": "stdout",
     "output_type": "stream",
     "text": [
      "(512, 2) (512, 2)\n"
     ]
    },
    {
     "name": "stderr",
     "output_type": "stream",
     "text": [
      " 71%|███████   | 355/500 [16:01<06:35,  2.73s/it]"
     ]
    },
    {
     "name": "stdout",
     "output_type": "stream",
     "text": [
      "(512, 2) (512, 2)\n"
     ]
    },
    {
     "name": "stderr",
     "output_type": "stream",
     "text": [
      " 71%|███████   | 356/500 [16:04<06:39,  2.77s/it]"
     ]
    },
    {
     "name": "stdout",
     "output_type": "stream",
     "text": [
      "(512, 2) (512, 2)\n"
     ]
    },
    {
     "name": "stderr",
     "output_type": "stream",
     "text": [
      " 71%|███████▏  | 357/500 [16:07<06:32,  2.74s/it]"
     ]
    },
    {
     "name": "stdout",
     "output_type": "stream",
     "text": [
      "(512, 2) (512, 2)\n"
     ]
    },
    {
     "name": "stderr",
     "output_type": "stream",
     "text": [
      " 72%|███████▏  | 358/500 [16:10<06:30,  2.75s/it]"
     ]
    },
    {
     "name": "stdout",
     "output_type": "stream",
     "text": [
      "(512, 2) (512, 2)\n"
     ]
    },
    {
     "name": "stderr",
     "output_type": "stream",
     "text": [
      " 72%|███████▏  | 359/500 [16:12<06:25,  2.73s/it]"
     ]
    },
    {
     "name": "stdout",
     "output_type": "stream",
     "text": [
      "(512, 2) (512, 2)\n"
     ]
    },
    {
     "name": "stderr",
     "output_type": "stream",
     "text": [
      " 72%|███████▏  | 360/500 [16:15<06:25,  2.75s/it]"
     ]
    },
    {
     "name": "stdout",
     "output_type": "stream",
     "text": [
      "(512, 2) (512, 2)\n"
     ]
    },
    {
     "name": "stderr",
     "output_type": "stream",
     "text": [
      " 72%|███████▏  | 361/500 [16:18<06:22,  2.75s/it]"
     ]
    },
    {
     "name": "stdout",
     "output_type": "stream",
     "text": [
      "(512, 2) (512, 2)\n"
     ]
    },
    {
     "name": "stderr",
     "output_type": "stream",
     "text": [
      " 72%|███████▏  | 362/500 [16:21<06:17,  2.74s/it]"
     ]
    },
    {
     "name": "stdout",
     "output_type": "stream",
     "text": [
      "(512, 2) (512, 2)\n"
     ]
    },
    {
     "name": "stderr",
     "output_type": "stream",
     "text": [
      " 73%|███████▎  | 363/500 [16:23<06:12,  2.72s/it]"
     ]
    },
    {
     "name": "stdout",
     "output_type": "stream",
     "text": [
      "(512, 2) (512, 2)\n"
     ]
    },
    {
     "name": "stderr",
     "output_type": "stream",
     "text": [
      " 73%|███████▎  | 364/500 [16:26<06:12,  2.74s/it]"
     ]
    },
    {
     "name": "stdout",
     "output_type": "stream",
     "text": [
      "(512, 2) (512, 2)\n"
     ]
    },
    {
     "name": "stderr",
     "output_type": "stream",
     "text": [
      " 73%|███████▎  | 365/500 [16:29<06:08,  2.73s/it]"
     ]
    },
    {
     "name": "stdout",
     "output_type": "stream",
     "text": [
      "(512, 2) (512, 2)\n"
     ]
    },
    {
     "name": "stderr",
     "output_type": "stream",
     "text": [
      " 73%|███████▎  | 366/500 [16:32<06:06,  2.74s/it]"
     ]
    },
    {
     "name": "stdout",
     "output_type": "stream",
     "text": [
      "(512, 2) (512, 2)\n"
     ]
    },
    {
     "name": "stderr",
     "output_type": "stream",
     "text": [
      " 73%|███████▎  | 367/500 [16:34<06:03,  2.73s/it]"
     ]
    },
    {
     "name": "stdout",
     "output_type": "stream",
     "text": [
      "(512, 2) (512, 2)\n"
     ]
    },
    {
     "name": "stderr",
     "output_type": "stream",
     "text": [
      " 74%|███████▎  | 368/500 [16:37<05:59,  2.72s/it]"
     ]
    },
    {
     "name": "stdout",
     "output_type": "stream",
     "text": [
      "(512, 2) (512, 2)\n"
     ]
    },
    {
     "name": "stderr",
     "output_type": "stream",
     "text": [
      " 74%|███████▍  | 369/500 [16:40<06:04,  2.78s/it]"
     ]
    },
    {
     "name": "stdout",
     "output_type": "stream",
     "text": [
      "(512, 2) (512, 2)\n"
     ]
    },
    {
     "name": "stderr",
     "output_type": "stream",
     "text": [
      " 74%|███████▍  | 370/500 [16:43<06:00,  2.77s/it]"
     ]
    },
    {
     "name": "stdout",
     "output_type": "stream",
     "text": [
      "(512, 2) (512, 2)\n"
     ]
    },
    {
     "name": "stderr",
     "output_type": "stream",
     "text": [
      " 74%|███████▍  | 371/500 [16:45<05:57,  2.77s/it]"
     ]
    },
    {
     "name": "stdout",
     "output_type": "stream",
     "text": [
      "(512, 2) (512, 2)\n"
     ]
    },
    {
     "name": "stderr",
     "output_type": "stream",
     "text": [
      " 74%|███████▍  | 372/500 [16:48<05:49,  2.73s/it]"
     ]
    },
    {
     "name": "stdout",
     "output_type": "stream",
     "text": [
      "(512, 2) (512, 2)\n"
     ]
    },
    {
     "name": "stderr",
     "output_type": "stream",
     "text": [
      " 75%|███████▍  | 373/500 [16:51<05:51,  2.77s/it]"
     ]
    },
    {
     "name": "stdout",
     "output_type": "stream",
     "text": [
      "(512, 2) (512, 2)\n"
     ]
    },
    {
     "name": "stderr",
     "output_type": "stream",
     "text": [
      " 75%|███████▍  | 374/500 [16:54<05:44,  2.74s/it]"
     ]
    },
    {
     "name": "stdout",
     "output_type": "stream",
     "text": [
      "(512, 2) (512, 2)\n"
     ]
    },
    {
     "name": "stderr",
     "output_type": "stream",
     "text": [
      " 75%|███████▌  | 375/500 [16:56<05:42,  2.74s/it]"
     ]
    },
    {
     "name": "stdout",
     "output_type": "stream",
     "text": [
      "(512, 2) (512, 2)\n"
     ]
    },
    {
     "name": "stderr",
     "output_type": "stream",
     "text": [
      " 75%|███████▌  | 376/500 [16:59<05:38,  2.73s/it]"
     ]
    },
    {
     "name": "stdout",
     "output_type": "stream",
     "text": [
      "(512, 2) (512, 2)\n"
     ]
    },
    {
     "name": "stderr",
     "output_type": "stream",
     "text": [
      " 75%|███████▌  | 377/500 [17:02<05:37,  2.74s/it]"
     ]
    },
    {
     "name": "stdout",
     "output_type": "stream",
     "text": [
      "(512, 2) (512, 2)\n"
     ]
    },
    {
     "name": "stderr",
     "output_type": "stream",
     "text": [
      " 76%|███████▌  | 378/500 [17:05<05:32,  2.73s/it]"
     ]
    },
    {
     "name": "stdout",
     "output_type": "stream",
     "text": [
      "(512, 2) (512, 2)\n"
     ]
    },
    {
     "name": "stderr",
     "output_type": "stream",
     "text": [
      " 76%|███████▌  | 379/500 [17:07<05:26,  2.70s/it]"
     ]
    },
    {
     "name": "stdout",
     "output_type": "stream",
     "text": [
      "(512, 2) (512, 2)\n"
     ]
    },
    {
     "name": "stderr",
     "output_type": "stream",
     "text": [
      " 76%|███████▌  | 380/500 [17:10<05:24,  2.70s/it]"
     ]
    },
    {
     "name": "stdout",
     "output_type": "stream",
     "text": [
      "(512, 2) (512, 2)\n"
     ]
    },
    {
     "name": "stderr",
     "output_type": "stream",
     "text": [
      " 76%|███████▌  | 381/500 [17:13<05:24,  2.72s/it]"
     ]
    },
    {
     "name": "stdout",
     "output_type": "stream",
     "text": [
      "(512, 2) (512, 2)\n"
     ]
    },
    {
     "name": "stderr",
     "output_type": "stream",
     "text": [
      " 76%|███████▋  | 382/500 [17:15<05:19,  2.71s/it]"
     ]
    },
    {
     "name": "stdout",
     "output_type": "stream",
     "text": [
      "(512, 2) (512, 2)\n"
     ]
    },
    {
     "name": "stderr",
     "output_type": "stream",
     "text": [
      " 77%|███████▋  | 383/500 [17:18<05:15,  2.69s/it]"
     ]
    },
    {
     "name": "stdout",
     "output_type": "stream",
     "text": [
      "(512, 2) (512, 2)\n"
     ]
    },
    {
     "name": "stderr",
     "output_type": "stream",
     "text": [
      " 77%|███████▋  | 384/500 [17:21<05:09,  2.67s/it]"
     ]
    },
    {
     "name": "stdout",
     "output_type": "stream",
     "text": [
      "(512, 2) (512, 2)\n"
     ]
    },
    {
     "name": "stderr",
     "output_type": "stream",
     "text": [
      " 77%|███████▋  | 385/500 [17:23<05:11,  2.71s/it]"
     ]
    },
    {
     "name": "stdout",
     "output_type": "stream",
     "text": [
      "(512, 2) (512, 2)\n"
     ]
    },
    {
     "name": "stderr",
     "output_type": "stream",
     "text": [
      " 77%|███████▋  | 386/500 [17:26<05:07,  2.70s/it]"
     ]
    },
    {
     "name": "stdout",
     "output_type": "stream",
     "text": [
      "(512, 2) (512, 2)\n"
     ]
    },
    {
     "name": "stderr",
     "output_type": "stream",
     "text": [
      " 77%|███████▋  | 387/500 [17:29<05:02,  2.68s/it]"
     ]
    },
    {
     "name": "stdout",
     "output_type": "stream",
     "text": [
      "(512, 2) (512, 2)\n"
     ]
    },
    {
     "name": "stderr",
     "output_type": "stream",
     "text": [
      " 78%|███████▊  | 388/500 [17:31<04:59,  2.67s/it]"
     ]
    },
    {
     "name": "stdout",
     "output_type": "stream",
     "text": [
      "(512, 2) (512, 2)\n"
     ]
    },
    {
     "name": "stderr",
     "output_type": "stream",
     "text": [
      " 78%|███████▊  | 389/500 [17:34<04:59,  2.70s/it]"
     ]
    },
    {
     "name": "stdout",
     "output_type": "stream",
     "text": [
      "(512, 2) (512, 2)\n"
     ]
    },
    {
     "name": "stderr",
     "output_type": "stream",
     "text": [
      " 78%|███████▊  | 390/500 [17:37<04:57,  2.70s/it]"
     ]
    },
    {
     "name": "stdout",
     "output_type": "stream",
     "text": [
      "(512, 2) (512, 2)\n"
     ]
    },
    {
     "name": "stderr",
     "output_type": "stream",
     "text": [
      " 78%|███████▊  | 391/500 [17:39<04:53,  2.69s/it]"
     ]
    },
    {
     "name": "stdout",
     "output_type": "stream",
     "text": [
      "(512, 2) (512, 2)\n"
     ]
    },
    {
     "name": "stderr",
     "output_type": "stream",
     "text": [
      " 78%|███████▊  | 392/500 [17:42<04:49,  2.68s/it]"
     ]
    },
    {
     "name": "stdout",
     "output_type": "stream",
     "text": [
      "(512, 2) (512, 2)\n"
     ]
    },
    {
     "name": "stderr",
     "output_type": "stream",
     "text": [
      " 79%|███████▊  | 393/500 [17:45<04:51,  2.72s/it]"
     ]
    },
    {
     "name": "stdout",
     "output_type": "stream",
     "text": [
      "(512, 2) (512, 2)\n"
     ]
    },
    {
     "name": "stderr",
     "output_type": "stream",
     "text": [
      " 79%|███████▉  | 394/500 [17:48<04:45,  2.70s/it]"
     ]
    },
    {
     "name": "stdout",
     "output_type": "stream",
     "text": [
      "(512, 2) (512, 2)\n"
     ]
    },
    {
     "name": "stderr",
     "output_type": "stream",
     "text": [
      " 79%|███████▉  | 395/500 [17:50<04:41,  2.68s/it]"
     ]
    },
    {
     "name": "stdout",
     "output_type": "stream",
     "text": [
      "(512, 2) (512, 2)\n"
     ]
    },
    {
     "name": "stderr",
     "output_type": "stream",
     "text": [
      " 79%|███████▉  | 396/500 [17:53<04:36,  2.66s/it]"
     ]
    },
    {
     "name": "stdout",
     "output_type": "stream",
     "text": [
      "(512, 2) (512, 2)\n"
     ]
    },
    {
     "name": "stderr",
     "output_type": "stream",
     "text": [
      " 79%|███████▉  | 397/500 [17:56<04:33,  2.66s/it]"
     ]
    },
    {
     "name": "stdout",
     "output_type": "stream",
     "text": [
      "(512, 2) (512, 2)\n"
     ]
    },
    {
     "name": "stderr",
     "output_type": "stream",
     "text": [
      " 80%|███████▉  | 398/500 [17:58<04:35,  2.70s/it]"
     ]
    },
    {
     "name": "stdout",
     "output_type": "stream",
     "text": [
      "(512, 2) (512, 2)\n"
     ]
    },
    {
     "name": "stderr",
     "output_type": "stream",
     "text": [
      " 80%|███████▉  | 399/500 [18:01<04:29,  2.67s/it]"
     ]
    },
    {
     "name": "stdout",
     "output_type": "stream",
     "text": [
      "(512, 2) (512, 2)\n"
     ]
    },
    {
     "name": "stderr",
     "output_type": "stream",
     "text": [
      " 80%|████████  | 400/500 [18:04<04:26,  2.67s/it]"
     ]
    },
    {
     "name": "stdout",
     "output_type": "stream",
     "text": [
      "(512, 2) (512, 2)\n"
     ]
    },
    {
     "name": "stderr",
     "output_type": "stream",
     "text": [
      " 80%|████████  | 401/500 [18:06<04:23,  2.66s/it]"
     ]
    },
    {
     "name": "stdout",
     "output_type": "stream",
     "text": [
      "(512, 2) (512, 2)\n"
     ]
    },
    {
     "name": "stderr",
     "output_type": "stream",
     "text": [
      " 80%|████████  | 402/500 [18:09<04:25,  2.71s/it]"
     ]
    },
    {
     "name": "stdout",
     "output_type": "stream",
     "text": [
      "(512, 2) (512, 2)\n"
     ]
    },
    {
     "name": "stderr",
     "output_type": "stream",
     "text": [
      " 81%|████████  | 403/500 [18:12<04:20,  2.69s/it]"
     ]
    },
    {
     "name": "stdout",
     "output_type": "stream",
     "text": [
      "(512, 2) (512, 2)\n"
     ]
    },
    {
     "name": "stderr",
     "output_type": "stream",
     "text": [
      " 81%|████████  | 404/500 [18:14<04:16,  2.67s/it]"
     ]
    },
    {
     "name": "stdout",
     "output_type": "stream",
     "text": [
      "(512, 2) (512, 2)\n"
     ]
    },
    {
     "name": "stderr",
     "output_type": "stream",
     "text": [
      " 81%|████████  | 405/500 [18:17<04:13,  2.67s/it]"
     ]
    },
    {
     "name": "stdout",
     "output_type": "stream",
     "text": [
      "(512, 2) (512, 2)\n"
     ]
    },
    {
     "name": "stderr",
     "output_type": "stream",
     "text": [
      " 81%|████████  | 406/500 [18:20<04:15,  2.72s/it]"
     ]
    },
    {
     "name": "stdout",
     "output_type": "stream",
     "text": [
      "(512, 2) (512, 2)\n"
     ]
    },
    {
     "name": "stderr",
     "output_type": "stream",
     "text": [
      " 81%|████████▏ | 407/500 [18:22<04:09,  2.69s/it]"
     ]
    },
    {
     "name": "stdout",
     "output_type": "stream",
     "text": [
      "(512, 2) (512, 2)\n"
     ]
    },
    {
     "name": "stderr",
     "output_type": "stream",
     "text": [
      " 82%|████████▏ | 408/500 [18:25<04:07,  2.69s/it]"
     ]
    },
    {
     "name": "stdout",
     "output_type": "stream",
     "text": [
      "(512, 2) (512, 2)\n"
     ]
    },
    {
     "name": "stderr",
     "output_type": "stream",
     "text": [
      " 82%|████████▏ | 409/500 [18:28<04:05,  2.70s/it]"
     ]
    },
    {
     "name": "stdout",
     "output_type": "stream",
     "text": [
      "(512, 2) (512, 2)\n"
     ]
    },
    {
     "name": "stderr",
     "output_type": "stream",
     "text": [
      " 82%|████████▏ | 410/500 [18:31<04:05,  2.73s/it]"
     ]
    },
    {
     "name": "stdout",
     "output_type": "stream",
     "text": [
      "(512, 2) (512, 2)\n"
     ]
    },
    {
     "name": "stderr",
     "output_type": "stream",
     "text": [
      " 82%|████████▏ | 411/500 [18:33<04:01,  2.72s/it]"
     ]
    },
    {
     "name": "stdout",
     "output_type": "stream",
     "text": [
      "(512, 2) (512, 2)\n"
     ]
    },
    {
     "name": "stderr",
     "output_type": "stream",
     "text": [
      " 82%|████████▏ | 412/500 [18:36<03:59,  2.72s/it]"
     ]
    },
    {
     "name": "stdout",
     "output_type": "stream",
     "text": [
      "(512, 2) (512, 2)\n"
     ]
    },
    {
     "name": "stderr",
     "output_type": "stream",
     "text": [
      " 83%|████████▎ | 413/500 [18:39<03:54,  2.69s/it]"
     ]
    },
    {
     "name": "stdout",
     "output_type": "stream",
     "text": [
      "(512, 2) (512, 2)\n"
     ]
    },
    {
     "name": "stderr",
     "output_type": "stream",
     "text": [
      " 83%|████████▎ | 414/500 [18:41<03:53,  2.72s/it]"
     ]
    },
    {
     "name": "stdout",
     "output_type": "stream",
     "text": [
      "(512, 2) (512, 2)\n"
     ]
    },
    {
     "name": "stderr",
     "output_type": "stream",
     "text": [
      " 83%|████████▎ | 415/500 [18:44<03:50,  2.72s/it]"
     ]
    },
    {
     "name": "stdout",
     "output_type": "stream",
     "text": [
      "(512, 2) (512, 2)\n"
     ]
    },
    {
     "name": "stderr",
     "output_type": "stream",
     "text": [
      " 83%|████████▎ | 416/500 [18:47<03:46,  2.70s/it]"
     ]
    },
    {
     "name": "stdout",
     "output_type": "stream",
     "text": [
      "(512, 2) (512, 2)\n"
     ]
    },
    {
     "name": "stderr",
     "output_type": "stream",
     "text": [
      " 83%|████████▎ | 417/500 [18:49<03:42,  2.68s/it]"
     ]
    },
    {
     "name": "stdout",
     "output_type": "stream",
     "text": [
      "(512, 2) (512, 2)\n"
     ]
    },
    {
     "name": "stderr",
     "output_type": "stream",
     "text": [
      " 84%|████████▎ | 418/500 [18:52<03:44,  2.73s/it]"
     ]
    },
    {
     "name": "stdout",
     "output_type": "stream",
     "text": [
      "(512, 2) (512, 2)\n"
     ]
    },
    {
     "name": "stderr",
     "output_type": "stream",
     "text": [
      " 84%|████████▍ | 419/500 [18:55<03:42,  2.74s/it]"
     ]
    },
    {
     "name": "stdout",
     "output_type": "stream",
     "text": [
      "(512, 2) (512, 2)\n"
     ]
    },
    {
     "name": "stderr",
     "output_type": "stream",
     "text": [
      " 84%|████████▍ | 420/500 [18:58<03:38,  2.73s/it]"
     ]
    },
    {
     "name": "stdout",
     "output_type": "stream",
     "text": [
      "(512, 2) (512, 2)\n"
     ]
    },
    {
     "name": "stderr",
     "output_type": "stream",
     "text": [
      " 84%|████████▍ | 421/500 [19:00<03:34,  2.72s/it]"
     ]
    },
    {
     "name": "stdout",
     "output_type": "stream",
     "text": [
      "(512, 2) (512, 2)\n"
     ]
    },
    {
     "name": "stderr",
     "output_type": "stream",
     "text": [
      " 84%|████████▍ | 422/500 [19:03<03:30,  2.69s/it]"
     ]
    },
    {
     "name": "stdout",
     "output_type": "stream",
     "text": [
      "(512, 2) (512, 2)\n"
     ]
    },
    {
     "name": "stderr",
     "output_type": "stream",
     "text": [
      " 85%|████████▍ | 423/500 [19:06<03:28,  2.70s/it]"
     ]
    },
    {
     "name": "stdout",
     "output_type": "stream",
     "text": [
      "(512, 2) (512, 2)\n"
     ]
    },
    {
     "name": "stderr",
     "output_type": "stream",
     "text": [
      " 85%|████████▍ | 424/500 [19:08<03:24,  2.69s/it]"
     ]
    },
    {
     "name": "stdout",
     "output_type": "stream",
     "text": [
      "(512, 2) (512, 2)\n"
     ]
    },
    {
     "name": "stderr",
     "output_type": "stream",
     "text": [
      " 85%|████████▌ | 425/500 [19:11<03:22,  2.69s/it]"
     ]
    },
    {
     "name": "stdout",
     "output_type": "stream",
     "text": [
      "(512, 2) (512, 2)\n"
     ]
    },
    {
     "name": "stderr",
     "output_type": "stream",
     "text": [
      " 85%|████████▌ | 426/500 [19:14<03:20,  2.71s/it]"
     ]
    },
    {
     "name": "stdout",
     "output_type": "stream",
     "text": [
      "(512, 2) (512, 2)\n"
     ]
    },
    {
     "name": "stderr",
     "output_type": "stream",
     "text": [
      " 85%|████████▌ | 427/500 [19:17<03:21,  2.76s/it]"
     ]
    },
    {
     "name": "stdout",
     "output_type": "stream",
     "text": [
      "(512, 2) (512, 2)\n"
     ]
    },
    {
     "name": "stderr",
     "output_type": "stream",
     "text": [
      " 86%|████████▌ | 428/500 [19:19<03:16,  2.73s/it]"
     ]
    },
    {
     "name": "stdout",
     "output_type": "stream",
     "text": [
      "(512, 2) (512, 2)\n"
     ]
    },
    {
     "name": "stderr",
     "output_type": "stream",
     "text": [
      " 86%|████████▌ | 429/500 [19:22<03:13,  2.72s/it]"
     ]
    },
    {
     "name": "stdout",
     "output_type": "stream",
     "text": [
      "(512, 2) (512, 2)\n"
     ]
    },
    {
     "name": "stderr",
     "output_type": "stream",
     "text": [
      " 86%|████████▌ | 430/500 [19:25<03:08,  2.69s/it]"
     ]
    },
    {
     "name": "stdout",
     "output_type": "stream",
     "text": [
      "(512, 2) (512, 2)\n"
     ]
    },
    {
     "name": "stderr",
     "output_type": "stream",
     "text": [
      " 86%|████████▌ | 431/500 [19:28<03:08,  2.73s/it]"
     ]
    },
    {
     "name": "stdout",
     "output_type": "stream",
     "text": [
      "(512, 2) (512, 2)\n"
     ]
    },
    {
     "name": "stderr",
     "output_type": "stream",
     "text": [
      " 86%|████████▋ | 432/500 [19:30<03:04,  2.72s/it]"
     ]
    },
    {
     "name": "stdout",
     "output_type": "stream",
     "text": [
      "(512, 2) (512, 2)\n"
     ]
    },
    {
     "name": "stderr",
     "output_type": "stream",
     "text": [
      " 87%|████████▋ | 433/500 [19:33<02:59,  2.69s/it]"
     ]
    },
    {
     "name": "stdout",
     "output_type": "stream",
     "text": [
      "(512, 2) (512, 2)\n"
     ]
    },
    {
     "name": "stderr",
     "output_type": "stream",
     "text": [
      " 87%|████████▋ | 434/500 [19:36<02:58,  2.71s/it]"
     ]
    },
    {
     "name": "stdout",
     "output_type": "stream",
     "text": [
      "(512, 2) (512, 2)\n"
     ]
    },
    {
     "name": "stderr",
     "output_type": "stream",
     "text": [
      " 87%|████████▋ | 435/500 [19:38<02:57,  2.73s/it]"
     ]
    },
    {
     "name": "stdout",
     "output_type": "stream",
     "text": [
      "(512, 2) (512, 2)\n"
     ]
    },
    {
     "name": "stderr",
     "output_type": "stream",
     "text": [
      " 87%|████████▋ | 436/500 [19:41<02:53,  2.70s/it]"
     ]
    },
    {
     "name": "stdout",
     "output_type": "stream",
     "text": [
      "(512, 2) (512, 2)\n"
     ]
    },
    {
     "name": "stderr",
     "output_type": "stream",
     "text": [
      " 87%|████████▋ | 437/500 [19:44<02:51,  2.71s/it]"
     ]
    },
    {
     "name": "stdout",
     "output_type": "stream",
     "text": [
      "(512, 2) (512, 2)\n"
     ]
    },
    {
     "name": "stderr",
     "output_type": "stream",
     "text": [
      " 88%|████████▊ | 438/500 [19:47<02:48,  2.71s/it]"
     ]
    },
    {
     "name": "stdout",
     "output_type": "stream",
     "text": [
      "(512, 2) (512, 2)\n"
     ]
    },
    {
     "name": "stderr",
     "output_type": "stream",
     "text": [
      " 88%|████████▊ | 439/500 [19:49<02:47,  2.75s/it]"
     ]
    },
    {
     "name": "stdout",
     "output_type": "stream",
     "text": [
      "(512, 2) (512, 2)\n"
     ]
    },
    {
     "name": "stderr",
     "output_type": "stream",
     "text": [
      " 88%|████████▊ | 440/500 [19:52<02:44,  2.73s/it]"
     ]
    },
    {
     "name": "stdout",
     "output_type": "stream",
     "text": [
      "(512, 2) (512, 2)\n"
     ]
    },
    {
     "name": "stderr",
     "output_type": "stream",
     "text": [
      " 88%|████████▊ | 441/500 [19:55<02:41,  2.73s/it]"
     ]
    },
    {
     "name": "stdout",
     "output_type": "stream",
     "text": [
      "(512, 2) (512, 2)\n"
     ]
    },
    {
     "name": "stderr",
     "output_type": "stream",
     "text": [
      " 88%|████████▊ | 442/500 [19:58<02:38,  2.74s/it]"
     ]
    },
    {
     "name": "stdout",
     "output_type": "stream",
     "text": [
      "(512, 2) (512, 2)\n"
     ]
    },
    {
     "name": "stderr",
     "output_type": "stream",
     "text": [
      " 89%|████████▊ | 443/500 [20:00<02:38,  2.78s/it]"
     ]
    },
    {
     "name": "stdout",
     "output_type": "stream",
     "text": [
      "(512, 2) (512, 2)\n"
     ]
    },
    {
     "name": "stderr",
     "output_type": "stream",
     "text": [
      " 89%|████████▉ | 444/500 [20:03<02:32,  2.73s/it]"
     ]
    },
    {
     "name": "stdout",
     "output_type": "stream",
     "text": [
      "(512, 2) (512, 2)\n"
     ]
    },
    {
     "name": "stderr",
     "output_type": "stream",
     "text": [
      " 89%|████████▉ | 445/500 [20:06<02:28,  2.71s/it]"
     ]
    },
    {
     "name": "stdout",
     "output_type": "stream",
     "text": [
      "(512, 2) (512, 2)\n"
     ]
    },
    {
     "name": "stderr",
     "output_type": "stream",
     "text": [
      " 89%|████████▉ | 446/500 [20:08<02:25,  2.70s/it]"
     ]
    },
    {
     "name": "stdout",
     "output_type": "stream",
     "text": [
      "(512, 2) (512, 2)\n"
     ]
    },
    {
     "name": "stderr",
     "output_type": "stream",
     "text": [
      " 89%|████████▉ | 447/500 [20:11<02:24,  2.73s/it]"
     ]
    },
    {
     "name": "stdout",
     "output_type": "stream",
     "text": [
      "(512, 2) (512, 2)\n"
     ]
    },
    {
     "name": "stderr",
     "output_type": "stream",
     "text": [
      " 90%|████████▉ | 448/500 [20:14<02:21,  2.71s/it]"
     ]
    },
    {
     "name": "stdout",
     "output_type": "stream",
     "text": [
      "(512, 2) (512, 2)\n"
     ]
    },
    {
     "name": "stderr",
     "output_type": "stream",
     "text": [
      " 90%|████████▉ | 449/500 [20:17<02:18,  2.71s/it]"
     ]
    },
    {
     "name": "stdout",
     "output_type": "stream",
     "text": [
      "(512, 2) (512, 2)\n"
     ]
    },
    {
     "name": "stderr",
     "output_type": "stream",
     "text": [
      " 90%|█████████ | 450/500 [20:19<02:14,  2.69s/it]"
     ]
    },
    {
     "name": "stdout",
     "output_type": "stream",
     "text": [
      "(512, 2) (512, 2)\n"
     ]
    },
    {
     "name": "stderr",
     "output_type": "stream",
     "text": [
      " 90%|█████████ | 451/500 [20:22<02:12,  2.70s/it]"
     ]
    },
    {
     "name": "stdout",
     "output_type": "stream",
     "text": [
      "(512, 2) (512, 2)\n"
     ]
    },
    {
     "name": "stderr",
     "output_type": "stream",
     "text": [
      " 90%|█████████ | 452/500 [20:25<02:10,  2.73s/it]"
     ]
    },
    {
     "name": "stdout",
     "output_type": "stream",
     "text": [
      "(512, 2) (512, 2)\n"
     ]
    },
    {
     "name": "stderr",
     "output_type": "stream",
     "text": [
      " 91%|█████████ | 453/500 [20:27<02:07,  2.71s/it]"
     ]
    },
    {
     "name": "stdout",
     "output_type": "stream",
     "text": [
      "(512, 2) (512, 2)\n"
     ]
    },
    {
     "name": "stderr",
     "output_type": "stream",
     "text": [
      " 91%|█████████ | 454/500 [20:30<02:03,  2.69s/it]"
     ]
    },
    {
     "name": "stdout",
     "output_type": "stream",
     "text": [
      "(512, 2) (512, 2)\n"
     ]
    },
    {
     "name": "stderr",
     "output_type": "stream",
     "text": [
      " 91%|█████████ | 455/500 [20:33<02:01,  2.69s/it]"
     ]
    },
    {
     "name": "stdout",
     "output_type": "stream",
     "text": [
      "(512, 2) (512, 2)\n"
     ]
    },
    {
     "name": "stderr",
     "output_type": "stream",
     "text": [
      " 91%|█████████ | 456/500 [20:36<01:59,  2.73s/it]"
     ]
    },
    {
     "name": "stdout",
     "output_type": "stream",
     "text": [
      "(512, 2) (512, 2)\n"
     ]
    },
    {
     "name": "stderr",
     "output_type": "stream",
     "text": [
      " 91%|█████████▏| 457/500 [20:38<01:56,  2.71s/it]"
     ]
    },
    {
     "name": "stdout",
     "output_type": "stream",
     "text": [
      "(512, 2) (512, 2)\n"
     ]
    },
    {
     "name": "stderr",
     "output_type": "stream",
     "text": [
      " 92%|█████████▏| 458/500 [20:41<01:53,  2.69s/it]"
     ]
    },
    {
     "name": "stdout",
     "output_type": "stream",
     "text": [
      "(512, 2) (512, 2)\n"
     ]
    },
    {
     "name": "stderr",
     "output_type": "stream",
     "text": [
      " 92%|█████████▏| 459/500 [20:43<01:49,  2.68s/it]"
     ]
    },
    {
     "name": "stdout",
     "output_type": "stream",
     "text": [
      "(512, 2) (512, 2)\n"
     ]
    },
    {
     "name": "stderr",
     "output_type": "stream",
     "text": [
      " 92%|█████████▏| 460/500 [20:46<01:48,  2.71s/it]"
     ]
    },
    {
     "name": "stdout",
     "output_type": "stream",
     "text": [
      "(512, 2) (512, 2)\n"
     ]
    },
    {
     "name": "stderr",
     "output_type": "stream",
     "text": [
      " 92%|█████████▏| 461/500 [20:49<01:45,  2.70s/it]"
     ]
    },
    {
     "name": "stdout",
     "output_type": "stream",
     "text": [
      "(512, 2) (512, 2)\n"
     ]
    },
    {
     "name": "stderr",
     "output_type": "stream",
     "text": [
      " 92%|█████████▏| 462/500 [20:52<01:43,  2.72s/it]"
     ]
    },
    {
     "name": "stdout",
     "output_type": "stream",
     "text": [
      "(512, 2) (512, 2)\n"
     ]
    },
    {
     "name": "stderr",
     "output_type": "stream",
     "text": [
      " 93%|█████████▎| 463/500 [20:54<01:41,  2.73s/it]"
     ]
    },
    {
     "name": "stdout",
     "output_type": "stream",
     "text": [
      "(512, 2) (512, 2)\n"
     ]
    },
    {
     "name": "stderr",
     "output_type": "stream",
     "text": [
      " 93%|█████████▎| 464/500 [20:57<01:40,  2.78s/it]"
     ]
    },
    {
     "name": "stdout",
     "output_type": "stream",
     "text": [
      "(512, 2) (512, 2)\n"
     ]
    },
    {
     "name": "stderr",
     "output_type": "stream",
     "text": [
      " 93%|█████████▎| 465/500 [21:00<01:37,  2.78s/it]"
     ]
    },
    {
     "name": "stdout",
     "output_type": "stream",
     "text": [
      "(512, 2) (512, 2)\n"
     ]
    },
    {
     "name": "stderr",
     "output_type": "stream",
     "text": [
      " 93%|█████████▎| 466/500 [21:03<01:33,  2.74s/it]"
     ]
    },
    {
     "name": "stdout",
     "output_type": "stream",
     "text": [
      "(512, 2) (512, 2)\n"
     ]
    },
    {
     "name": "stderr",
     "output_type": "stream",
     "text": [
      " 93%|█████████▎| 467/500 [21:06<01:30,  2.73s/it]"
     ]
    },
    {
     "name": "stdout",
     "output_type": "stream",
     "text": [
      "(512, 2) (512, 2)\n"
     ]
    },
    {
     "name": "stderr",
     "output_type": "stream",
     "text": [
      " 94%|█████████▎| 468/500 [21:08<01:27,  2.75s/it]"
     ]
    },
    {
     "name": "stdout",
     "output_type": "stream",
     "text": [
      "(512, 2) (512, 2)\n"
     ]
    },
    {
     "name": "stderr",
     "output_type": "stream",
     "text": [
      " 94%|█████████▍| 469/500 [21:11<01:24,  2.72s/it]"
     ]
    },
    {
     "name": "stdout",
     "output_type": "stream",
     "text": [
      "(512, 2) (512, 2)\n"
     ]
    },
    {
     "name": "stderr",
     "output_type": "stream",
     "text": [
      " 94%|█████████▍| 470/500 [21:14<01:22,  2.74s/it]"
     ]
    },
    {
     "name": "stdout",
     "output_type": "stream",
     "text": [
      "(512, 2) (512, 2)\n"
     ]
    },
    {
     "name": "stderr",
     "output_type": "stream",
     "text": [
      " 94%|█████████▍| 471/500 [21:16<01:18,  2.70s/it]"
     ]
    },
    {
     "name": "stdout",
     "output_type": "stream",
     "text": [
      "(512, 2) (512, 2)\n"
     ]
    },
    {
     "name": "stderr",
     "output_type": "stream",
     "text": [
      " 94%|█████████▍| 472/500 [21:19<01:16,  2.74s/it]"
     ]
    },
    {
     "name": "stdout",
     "output_type": "stream",
     "text": [
      "(512, 2) (512, 2)\n"
     ]
    },
    {
     "name": "stderr",
     "output_type": "stream",
     "text": [
      " 95%|█████████▍| 473/500 [21:22<01:13,  2.72s/it]"
     ]
    },
    {
     "name": "stdout",
     "output_type": "stream",
     "text": [
      "(512, 2) (512, 2)\n"
     ]
    },
    {
     "name": "stderr",
     "output_type": "stream",
     "text": [
      " 95%|█████████▍| 474/500 [21:24<01:10,  2.70s/it]"
     ]
    },
    {
     "name": "stdout",
     "output_type": "stream",
     "text": [
      "(512, 2) (512, 2)\n"
     ]
    },
    {
     "name": "stderr",
     "output_type": "stream",
     "text": [
      " 95%|█████████▌| 475/500 [21:27<01:06,  2.68s/it]"
     ]
    },
    {
     "name": "stdout",
     "output_type": "stream",
     "text": [
      "(512, 2) (512, 2)\n"
     ]
    },
    {
     "name": "stderr",
     "output_type": "stream",
     "text": [
      " 95%|█████████▌| 476/500 [21:30<01:04,  2.71s/it]"
     ]
    },
    {
     "name": "stdout",
     "output_type": "stream",
     "text": [
      "(512, 2) (512, 2)\n"
     ]
    },
    {
     "name": "stderr",
     "output_type": "stream",
     "text": [
      " 95%|█████████▌| 477/500 [21:33<01:02,  2.73s/it]"
     ]
    },
    {
     "name": "stdout",
     "output_type": "stream",
     "text": [
      "(512, 2) (512, 2)\n"
     ]
    },
    {
     "name": "stderr",
     "output_type": "stream",
     "text": [
      " 96%|█████████▌| 478/500 [21:35<00:59,  2.71s/it]"
     ]
    },
    {
     "name": "stdout",
     "output_type": "stream",
     "text": [
      "(512, 2) (512, 2)\n"
     ]
    },
    {
     "name": "stderr",
     "output_type": "stream",
     "text": [
      " 96%|█████████▌| 479/500 [21:38<00:56,  2.70s/it]"
     ]
    },
    {
     "name": "stdout",
     "output_type": "stream",
     "text": [
      "(512, 2) (512, 2)\n"
     ]
    },
    {
     "name": "stderr",
     "output_type": "stream",
     "text": [
      " 96%|█████████▌| 480/500 [21:41<00:54,  2.71s/it]"
     ]
    },
    {
     "name": "stdout",
     "output_type": "stream",
     "text": [
      "(512, 2) (512, 2)\n"
     ]
    },
    {
     "name": "stderr",
     "output_type": "stream",
     "text": [
      " 96%|█████████▌| 481/500 [21:43<00:51,  2.71s/it]"
     ]
    },
    {
     "name": "stdout",
     "output_type": "stream",
     "text": [
      "(512, 2) (512, 2)\n"
     ]
    },
    {
     "name": "stderr",
     "output_type": "stream",
     "text": [
      " 96%|█████████▋| 482/500 [21:46<00:48,  2.72s/it]"
     ]
    },
    {
     "name": "stdout",
     "output_type": "stream",
     "text": [
      "(512, 2) (512, 2)\n"
     ]
    },
    {
     "name": "stderr",
     "output_type": "stream",
     "text": [
      " 97%|█████████▋| 483/500 [21:49<00:45,  2.70s/it]"
     ]
    },
    {
     "name": "stdout",
     "output_type": "stream",
     "text": [
      "(512, 2) (512, 2)\n"
     ]
    },
    {
     "name": "stderr",
     "output_type": "stream",
     "text": [
      " 97%|█████████▋| 484/500 [21:52<00:42,  2.68s/it]"
     ]
    },
    {
     "name": "stdout",
     "output_type": "stream",
     "text": [
      "(512, 2) (512, 2)\n"
     ]
    },
    {
     "name": "stderr",
     "output_type": "stream",
     "text": [
      " 97%|█████████▋| 485/500 [21:54<00:40,  2.72s/it]"
     ]
    },
    {
     "name": "stdout",
     "output_type": "stream",
     "text": [
      "(512, 2) (512, 2)\n"
     ]
    },
    {
     "name": "stderr",
     "output_type": "stream",
     "text": [
      " 97%|█████████▋| 486/500 [21:57<00:37,  2.70s/it]"
     ]
    },
    {
     "name": "stdout",
     "output_type": "stream",
     "text": [
      "(512, 2) (512, 2)\n"
     ]
    },
    {
     "name": "stderr",
     "output_type": "stream",
     "text": [
      " 97%|█████████▋| 487/500 [22:00<00:35,  2.72s/it]"
     ]
    },
    {
     "name": "stdout",
     "output_type": "stream",
     "text": [
      "(512, 2) (512, 2)\n"
     ]
    },
    {
     "name": "stderr",
     "output_type": "stream",
     "text": [
      " 98%|█████████▊| 488/500 [22:02<00:32,  2.72s/it]"
     ]
    },
    {
     "name": "stdout",
     "output_type": "stream",
     "text": [
      "(512, 2) (512, 2)\n"
     ]
    },
    {
     "name": "stderr",
     "output_type": "stream",
     "text": [
      " 98%|█████████▊| 489/500 [22:05<00:30,  2.75s/it]"
     ]
    },
    {
     "name": "stdout",
     "output_type": "stream",
     "text": [
      "(512, 2) (512, 2)\n"
     ]
    },
    {
     "name": "stderr",
     "output_type": "stream",
     "text": [
      " 98%|█████████▊| 490/500 [22:08<00:27,  2.76s/it]"
     ]
    },
    {
     "name": "stdout",
     "output_type": "stream",
     "text": [
      "(512, 2) (512, 2)\n"
     ]
    },
    {
     "name": "stderr",
     "output_type": "stream",
     "text": [
      " 98%|█████████▊| 491/500 [22:11<00:24,  2.72s/it]"
     ]
    },
    {
     "name": "stdout",
     "output_type": "stream",
     "text": [
      "(512, 2) (512, 2)\n"
     ]
    },
    {
     "name": "stderr",
     "output_type": "stream",
     "text": [
      " 98%|█████████▊| 492/500 [22:13<00:21,  2.70s/it]"
     ]
    },
    {
     "name": "stdout",
     "output_type": "stream",
     "text": [
      "(512, 2) (512, 2)\n"
     ]
    },
    {
     "name": "stderr",
     "output_type": "stream",
     "text": [
      " 99%|█████████▊| 493/500 [22:16<00:19,  2.74s/it]"
     ]
    },
    {
     "name": "stdout",
     "output_type": "stream",
     "text": [
      "(512, 2) (512, 2)\n"
     ]
    },
    {
     "name": "stderr",
     "output_type": "stream",
     "text": [
      " 99%|█████████▉| 494/500 [22:19<00:16,  2.72s/it]"
     ]
    },
    {
     "name": "stdout",
     "output_type": "stream",
     "text": [
      "(512, 2) (512, 2)\n"
     ]
    },
    {
     "name": "stderr",
     "output_type": "stream",
     "text": [
      " 99%|█████████▉| 495/500 [22:22<00:13,  2.71s/it]"
     ]
    },
    {
     "name": "stdout",
     "output_type": "stream",
     "text": [
      "(512, 2) (512, 2)\n"
     ]
    },
    {
     "name": "stderr",
     "output_type": "stream",
     "text": [
      " 99%|█████████▉| 496/500 [22:24<00:10,  2.71s/it]"
     ]
    },
    {
     "name": "stdout",
     "output_type": "stream",
     "text": [
      "(512, 2) (512, 2)\n"
     ]
    },
    {
     "name": "stderr",
     "output_type": "stream",
     "text": [
      " 99%|█████████▉| 497/500 [22:27<00:08,  2.73s/it]"
     ]
    },
    {
     "name": "stdout",
     "output_type": "stream",
     "text": [
      "(512, 2) (512, 2)\n"
     ]
    },
    {
     "name": "stderr",
     "output_type": "stream",
     "text": [
      "100%|█████████▉| 498/500 [22:30<00:05,  2.71s/it]"
     ]
    },
    {
     "name": "stdout",
     "output_type": "stream",
     "text": [
      "(512, 2) (512, 2)\n"
     ]
    },
    {
     "name": "stderr",
     "output_type": "stream",
     "text": [
      "100%|█████████▉| 499/500 [22:32<00:02,  2.70s/it]"
     ]
    },
    {
     "name": "stdout",
     "output_type": "stream",
     "text": [
      "(512, 2) (512, 2)\n"
     ]
    },
    {
     "name": "stderr",
     "output_type": "stream",
     "text": [
      "100%|██████████| 500/500 [22:35<00:00,  2.71s/it]\n"
     ]
    }
   ],
   "source": [
    "sm(source, target)"
   ]
  },
  {
   "cell_type": "code",
   "execution_count": 31,
   "metadata": {},
   "outputs": [
    {
     "data": {
      "text/plain": [
       "{'t_obj': [Array(0.0066637, dtype=float32),\n",
       "  Array(-0.8570399, dtype=float32),\n",
       "  Array(-9.932394, dtype=float32),\n",
       "  Array(-62.921745, dtype=float32),\n",
       "  Array(-246.58997, dtype=float32),\n",
       "  Array(-826.45325, dtype=float32),\n",
       "  Array(-2567.379, dtype=float32),\n",
       "  Array(-7177.8037, dtype=float32),\n",
       "  Array(-15457.295, dtype=float32),\n",
       "  Array(-52798.305, dtype=float32),\n",
       "  Array(-115251.734, dtype=float32),\n",
       "  Array(-224326.95, dtype=float32),\n",
       "  Array(-390865.62, dtype=float32),\n",
       "  Array(-544899.9, dtype=float32),\n",
       "  Array(-554253.6, dtype=float32),\n",
       "  Array(-426815.38, dtype=float32),\n",
       "  Array(-196328.94, dtype=float32),\n",
       "  Array(2039321.8, dtype=float32),\n",
       "  Array(2858723.8, dtype=float32),\n",
       "  Array(3352512.2, dtype=float32),\n",
       "  Array(4210433.5, dtype=float32),\n",
       "  Array(4377162., dtype=float32),\n",
       "  Array(3101753., dtype=float32),\n",
       "  Array(1845181.2, dtype=float32),\n",
       "  Array(-1220972.6, dtype=float32),\n",
       "  Array(-2732406., dtype=float32),\n",
       "  Array(-3618581.8, dtype=float32),\n",
       "  Array(-4165645.8, dtype=float32),\n",
       "  Array(-6155073., dtype=float32),\n",
       "  Array(-9937009., dtype=float32),\n",
       "  Array(-14513565., dtype=float32),\n",
       "  Array(-23029328., dtype=float32),\n",
       "  Array(-27788082., dtype=float32),\n",
       "  Array(-29599042., dtype=float32),\n",
       "  Array(-11309401., dtype=float32),\n",
       "  Array(20608316., dtype=float32),\n",
       "  Array(41630664., dtype=float32),\n",
       "  Array(54605492., dtype=float32),\n",
       "  Array(64341472., dtype=float32),\n",
       "  Array(76009080., dtype=float32),\n",
       "  Array(80571520., dtype=float32),\n",
       "  Array(70467424., dtype=float32),\n",
       "  Array(57330288., dtype=float32),\n",
       "  Array(39146984., dtype=float32),\n",
       "  Array(22977288., dtype=float32),\n",
       "  Array(15261876., dtype=float32),\n",
       "  Array(7875535., dtype=float32),\n",
       "  Array(4661628., dtype=float32),\n",
       "  Array(2753998., dtype=float32),\n",
       "  Array(4278427., dtype=float32),\n",
       "  Array(7396483., dtype=float32),\n",
       "  Array(12114230., dtype=float32),\n",
       "  Array(12444028., dtype=float32),\n",
       "  Array(921880.94, dtype=float32),\n",
       "  Array(-22256152., dtype=float32),\n",
       "  Array(-41019736., dtype=float32),\n",
       "  Array(-1.1429833e+08, dtype=float32),\n",
       "  Array(-1.8722749e+08, dtype=float32),\n",
       "  Array(-2.6963728e+08, dtype=float32),\n",
       "  Array(-3.6543923e+08, dtype=float32),\n",
       "  Array(-4.279561e+08, dtype=float32),\n",
       "  Array(-4.4269165e+08, dtype=float32),\n",
       "  Array(-4.242556e+08, dtype=float32),\n",
       "  Array(-3.67272e+08, dtype=float32),\n",
       "  Array(-1.7309814e+08, dtype=float32),\n",
       "  Array(1.0244817e+08, dtype=float32),\n",
       "  Array(4.74119e+08, dtype=float32),\n",
       "  Array(8.3320896e+08, dtype=float32),\n",
       "  Array(1.1345574e+09, dtype=float32),\n",
       "  Array(1.4171523e+09, dtype=float32),\n",
       "  Array(1.6199144e+09, dtype=float32),\n",
       "  Array(1.8015395e+09, dtype=float32),\n",
       "  Array(1.8698335e+09, dtype=float32),\n",
       "  Array(1.887682e+09, dtype=float32),\n",
       "  Array(1.8617051e+09, dtype=float32),\n",
       "  Array(1.7681452e+09, dtype=float32),\n",
       "  Array(1.671145e+09, dtype=float32),\n",
       "  Array(1.5612856e+09, dtype=float32),\n",
       "  Array(1.4238939e+09, dtype=float32),\n",
       "  Array(1.2996786e+09, dtype=float32),\n",
       "  Array(1.1277747e+09, dtype=float32),\n",
       "  Array(9.917768e+08, dtype=float32),\n",
       "  Array(9.00805e+08, dtype=float32),\n",
       "  Array(7.821381e+08, dtype=float32),\n",
       "  Array(6.780728e+08, dtype=float32),\n",
       "  Array(5.98225e+08, dtype=float32),\n",
       "  Array(5.4926976e+08, dtype=float32),\n",
       "  Array(5.258089e+08, dtype=float32),\n",
       "  Array(5.442005e+08, dtype=float32),\n",
       "  Array(5.8584026e+08, dtype=float32),\n",
       "  Array(6.513768e+08, dtype=float32),\n",
       "  Array(7.030468e+08, dtype=float32),\n",
       "  Array(7.532084e+08, dtype=float32),\n",
       "  Array(7.966409e+08, dtype=float32),\n",
       "  Array(8.359328e+08, dtype=float32),\n",
       "  Array(8.707234e+08, dtype=float32),\n",
       "  Array(8.829682e+08, dtype=float32),\n",
       "  Array(8.824936e+08, dtype=float32),\n",
       "  Array(9.175768e+08, dtype=float32),\n",
       "  Array(9.2676224e+08, dtype=float32),\n",
       "  Array(9.4526784e+08, dtype=float32),\n",
       "  Array(9.346122e+08, dtype=float32),\n",
       "  Array(9.3980954e+08, dtype=float32),\n",
       "  Array(9.3636666e+08, dtype=float32),\n",
       "  Array(8.814678e+08, dtype=float32),\n",
       "  Array(8.315885e+08, dtype=float32),\n",
       "  Array(7.743518e+08, dtype=float32),\n",
       "  Array(6.977738e+08, dtype=float32),\n",
       "  Array(5.9847526e+08, dtype=float32),\n",
       "  Array(4.8256304e+08, dtype=float32),\n",
       "  Array(4.3132698e+08, dtype=float32),\n",
       "  Array(4.0167786e+08, dtype=float32),\n",
       "  Array(4.059408e+08, dtype=float32),\n",
       "  Array(4.340622e+08, dtype=float32),\n",
       "  Array(4.591275e+08, dtype=float32),\n",
       "  Array(4.8947974e+08, dtype=float32),\n",
       "  Array(5.264338e+08, dtype=float32),\n",
       "  Array(5.474579e+08, dtype=float32),\n",
       "  Array(5.449701e+08, dtype=float32),\n",
       "  Array(5.2938067e+08, dtype=float32),\n",
       "  Array(4.9809104e+08, dtype=float32),\n",
       "  Array(4.6016157e+08, dtype=float32),\n",
       "  Array(4.53028e+08, dtype=float32),\n",
       "  Array(4.7775594e+08, dtype=float32),\n",
       "  Array(5.0748608e+08, dtype=float32),\n",
       "  Array(5.178178e+08, dtype=float32),\n",
       "  Array(5.015746e+08, dtype=float32),\n",
       "  Array(4.622412e+08, dtype=float32),\n",
       "  Array(4.4647757e+08, dtype=float32),\n",
       "  Array(4.325015e+08, dtype=float32),\n",
       "  Array(4.3907114e+08, dtype=float32),\n",
       "  Array(4.558786e+08, dtype=float32),\n",
       "  Array(4.6725165e+08, dtype=float32),\n",
       "  Array(4.7361837e+08, dtype=float32),\n",
       "  Array(4.927991e+08, dtype=float32),\n",
       "  Array(4.8159107e+08, dtype=float32),\n",
       "  Array(4.71201e+08, dtype=float32),\n",
       "  Array(4.5410467e+08, dtype=float32),\n",
       "  Array(4.345581e+08, dtype=float32),\n",
       "  Array(4.295286e+08, dtype=float32),\n",
       "  Array(4.2069542e+08, dtype=float32),\n",
       "  Array(4.2406387e+08, dtype=float32),\n",
       "  Array(4.3425043e+08, dtype=float32),\n",
       "  Array(4.4737357e+08, dtype=float32),\n",
       "  Array(4.659466e+08, dtype=float32),\n",
       "  Array(4.8769715e+08, dtype=float32),\n",
       "  Array(5.042345e+08, dtype=float32),\n",
       "  Array(5.090045e+08, dtype=float32),\n",
       "  Array(5.07888e+08, dtype=float32),\n",
       "  Array(5.0556672e+08, dtype=float32),\n",
       "  Array(5.2497206e+08, dtype=float32),\n",
       "  Array(5.5233536e+08, dtype=float32),\n",
       "  Array(5.659866e+08, dtype=float32),\n",
       "  Array(5.605006e+08, dtype=float32),\n",
       "  Array(5.537591e+08, dtype=float32),\n",
       "  Array(5.2893325e+08, dtype=float32),\n",
       "  Array(5.0841526e+08, dtype=float32),\n",
       "  Array(4.8847645e+08, dtype=float32),\n",
       "  Array(4.6917126e+08, dtype=float32),\n",
       "  Array(4.541237e+08, dtype=float32),\n",
       "  Array(4.4309485e+08, dtype=float32),\n",
       "  Array(4.355198e+08, dtype=float32),\n",
       "  Array(4.7017152e+08, dtype=float32),\n",
       "  Array(5.3242746e+08, dtype=float32),\n",
       "  Array(5.741797e+08, dtype=float32),\n",
       "  Array(5.908338e+08, dtype=float32),\n",
       "  Array(5.9947034e+08, dtype=float32),\n",
       "  Array(6.0473926e+08, dtype=float32),\n",
       "  Array(6.144326e+08, dtype=float32),\n",
       "  Array(6.175677e+08, dtype=float32),\n",
       "  Array(5.985886e+08, dtype=float32),\n",
       "  Array(5.548776e+08, dtype=float32),\n",
       "  Array(5.415038e+08, dtype=float32),\n",
       "  Array(5.502278e+08, dtype=float32),\n",
       "  Array(5.736454e+08, dtype=float32),\n",
       "  Array(5.85007e+08, dtype=float32),\n",
       "  Array(5.8800166e+08, dtype=float32),\n",
       "  Array(5.8530995e+08, dtype=float32),\n",
       "  Array(5.740032e+08, dtype=float32),\n",
       "  Array(5.61311e+08, dtype=float32),\n",
       "  Array(5.266978e+08, dtype=float32),\n",
       "  Array(4.902284e+08, dtype=float32),\n",
       "  Array(4.5785392e+08, dtype=float32),\n",
       "  Array(4.3657024e+08, dtype=float32),\n",
       "  Array(4.545842e+08, dtype=float32),\n",
       "  Array(5.0998864e+08, dtype=float32),\n",
       "  Array(5.8197645e+08, dtype=float32),\n",
       "  Array(6.223278e+08, dtype=float32),\n",
       "  Array(6.174946e+08, dtype=float32),\n",
       "  Array(5.9507846e+08, dtype=float32),\n",
       "  Array(5.622384e+08, dtype=float32),\n",
       "  Array(5.393e+08, dtype=float32),\n",
       "  Array(5.314402e+08, dtype=float32),\n",
       "  Array(5.516324e+08, dtype=float32),\n",
       "  Array(5.713642e+08, dtype=float32),\n",
       "  Array(5.7985254e+08, dtype=float32),\n",
       "  Array(6.1512845e+08, dtype=float32),\n",
       "  Array(6.255806e+08, dtype=float32),\n",
       "  Array(6.056691e+08, dtype=float32),\n",
       "  Array(5.696558e+08, dtype=float32),\n",
       "  Array(5.6341274e+08, dtype=float32),\n",
       "  Array(5.5425126e+08, dtype=float32),\n",
       "  Array(5.4541555e+08, dtype=float32),\n",
       "  Array(5.3374832e+08, dtype=float32),\n",
       "  Array(5.3119958e+08, dtype=float32),\n",
       "  Array(5.483307e+08, dtype=float32),\n",
       "  Array(6.015756e+08, dtype=float32),\n",
       "  Array(6.4050374e+08, dtype=float32),\n",
       "  Array(6.577156e+08, dtype=float32),\n",
       "  Array(6.7099635e+08, dtype=float32),\n",
       "  Array(6.680554e+08, dtype=float32),\n",
       "  Array(6.605508e+08, dtype=float32),\n",
       "  Array(6.44438e+08, dtype=float32),\n",
       "  Array(6.5162816e+08, dtype=float32),\n",
       "  Array(6.6359475e+08, dtype=float32),\n",
       "  Array(6.752203e+08, dtype=float32),\n",
       "  Array(6.83517e+08, dtype=float32),\n",
       "  Array(7.042296e+08, dtype=float32),\n",
       "  Array(7.2135014e+08, dtype=float32),\n",
       "  Array(7.2158074e+08, dtype=float32),\n",
       "  Array(7.2555046e+08, dtype=float32),\n",
       "  Array(7.5626285e+08, dtype=float32),\n",
       "  Array(7.8419136e+08, dtype=float32),\n",
       "  Array(8.0983565e+08, dtype=float32),\n",
       "  Array(7.8170515e+08, dtype=float32),\n",
       "  Array(7.518163e+08, dtype=float32),\n",
       "  Array(7.125912e+08, dtype=float32),\n",
       "  Array(6.736406e+08, dtype=float32),\n",
       "  Array(6.487009e+08, dtype=float32),\n",
       "  Array(6.455885e+08, dtype=float32),\n",
       "  Array(6.5659494e+08, dtype=float32),\n",
       "  Array(6.421217e+08, dtype=float32),\n",
       "  Array(6.3451635e+08, dtype=float32),\n",
       "  Array(6.279297e+08, dtype=float32),\n",
       "  Array(6.290565e+08, dtype=float32),\n",
       "  Array(6.426003e+08, dtype=float32),\n",
       "  Array(6.5935155e+08, dtype=float32),\n",
       "  Array(6.733309e+08, dtype=float32),\n",
       "  Array(6.7117786e+08, dtype=float32),\n",
       "  Array(6.513443e+08, dtype=float32),\n",
       "  Array(6.407923e+08, dtype=float32),\n",
       "  Array(6.312978e+08, dtype=float32),\n",
       "  Array(6.2537715e+08, dtype=float32),\n",
       "  Array(5.9614e+08, dtype=float32),\n",
       "  Array(5.642723e+08, dtype=float32),\n",
       "  Array(5.4765766e+08, dtype=float32),\n",
       "  Array(5.5739744e+08, dtype=float32),\n",
       "  Array(5.579387e+08, dtype=float32),\n",
       "  Array(5.686436e+08, dtype=float32),\n",
       "  Array(5.736361e+08, dtype=float32),\n",
       "  Array(5.713984e+08, dtype=float32),\n",
       "  Array(5.906176e+08, dtype=float32),\n",
       "  Array(5.811616e+08, dtype=float32),\n",
       "  Array(5.676855e+08, dtype=float32),\n",
       "  Array(5.6868966e+08, dtype=float32),\n",
       "  Array(5.848456e+08, dtype=float32),\n",
       "  Array(5.8315616e+08, dtype=float32),\n",
       "  Array(5.90056e+08, dtype=float32),\n",
       "  Array(5.931311e+08, dtype=float32),\n",
       "  Array(5.928682e+08, dtype=float32),\n",
       "  Array(5.838268e+08, dtype=float32),\n",
       "  Array(5.9675494e+08, dtype=float32),\n",
       "  Array(6.2993184e+08, dtype=float32),\n",
       "  Array(6.741718e+08, dtype=float32),\n",
       "  Array(6.892811e+08, dtype=float32),\n",
       "  Array(7.1846464e+08, dtype=float32),\n",
       "  Array(7.3305664e+08, dtype=float32),\n",
       "  Array(7.1943123e+08, dtype=float32),\n",
       "  Array(7.1671706e+08, dtype=float32),\n",
       "  Array(7.0135674e+08, dtype=float32),\n",
       "  Array(6.4601856e+08, dtype=float32),\n",
       "  Array(5.955603e+08, dtype=float32),\n",
       "  Array(5.508152e+08, dtype=float32),\n",
       "  Array(5.175897e+08, dtype=float32),\n",
       "  Array(5.0496768e+08, dtype=float32),\n",
       "  Array(4.8424685e+08, dtype=float32),\n",
       "  Array(4.6647414e+08, dtype=float32),\n",
       "  Array(4.778368e+08, dtype=float32),\n",
       "  Array(4.9258416e+08, dtype=float32),\n",
       "  Array(5.0937152e+08, dtype=float32),\n",
       "  Array(5.3222387e+08, dtype=float32),\n",
       "  Array(5.660444e+08, dtype=float32),\n",
       "  Array(5.989943e+08, dtype=float32),\n",
       "  Array(6.184142e+08, dtype=float32),\n",
       "  Array(6.447735e+08, dtype=float32),\n",
       "  Array(6.7467226e+08, dtype=float32),\n",
       "  Array(6.987224e+08, dtype=float32),\n",
       "  Array(7.2669005e+08, dtype=float32),\n",
       "  Array(7.695909e+08, dtype=float32),\n",
       "  Array(8.277722e+08, dtype=float32),\n",
       "  Array(9.198666e+08, dtype=float32),\n",
       "  Array(9.940507e+08, dtype=float32),\n",
       "  Array(1.0171572e+09, dtype=float32),\n",
       "  Array(1.04095885e+09, dtype=float32),\n",
       "  Array(1.05636256e+09, dtype=float32),\n",
       "  Array(1.0466748e+09, dtype=float32),\n",
       "  Array(9.8187104e+08, dtype=float32),\n",
       "  Array(8.9882445e+08, dtype=float32),\n",
       "  Array(7.896156e+08, dtype=float32),\n",
       "  Array(6.9641344e+08, dtype=float32),\n",
       "  Array(6.613033e+08, dtype=float32),\n",
       "  Array(6.4237523e+08, dtype=float32),\n",
       "  Array(6.329449e+08, dtype=float32),\n",
       "  Array(6.46368e+08, dtype=float32),\n",
       "  Array(6.494861e+08, dtype=float32),\n",
       "  Array(6.667421e+08, dtype=float32),\n",
       "  Array(6.828685e+08, dtype=float32),\n",
       "  Array(7.0046054e+08, dtype=float32),\n",
       "  Array(7.8495e+08, dtype=float32),\n",
       "  Array(8.575429e+08, dtype=float32),\n",
       "  Array(9.073266e+08, dtype=float32),\n",
       "  Array(9.275071e+08, dtype=float32),\n",
       "  Array(9.320857e+08, dtype=float32),\n",
       "  Array(9.017844e+08, dtype=float32),\n",
       "  Array(8.43889e+08, dtype=float32),\n",
       "  Array(8.268388e+08, dtype=float32),\n",
       "  Array(8.202837e+08, dtype=float32),\n",
       "  Array(8.1114074e+08, dtype=float32),\n",
       "  Array(7.9587494e+08, dtype=float32),\n",
       "  Array(7.73615e+08, dtype=float32),\n",
       "  Array(7.238596e+08, dtype=float32),\n",
       "  Array(6.9312154e+08, dtype=float32),\n",
       "  Array(6.720984e+08, dtype=float32),\n",
       "  Array(6.490981e+08, dtype=float32),\n",
       "  Array(6.0168115e+08, dtype=float32),\n",
       "  Array(5.81457e+08, dtype=float32),\n",
       "  Array(5.723796e+08, dtype=float32),\n",
       "  Array(5.7322906e+08, dtype=float32),\n",
       "  Array(5.755274e+08, dtype=float32),\n",
       "  Array(6.095785e+08, dtype=float32),\n",
       "  Array(6.500971e+08, dtype=float32),\n",
       "  Array(7.109569e+08, dtype=float32),\n",
       "  Array(7.9405574e+08, dtype=float32),\n",
       "  Array(8.518204e+08, dtype=float32),\n",
       "  Array(9.0659494e+08, dtype=float32),\n",
       "  Array(9.6159366e+08, dtype=float32),\n",
       "  Array(9.6924314e+08, dtype=float32),\n",
       "  Array(9.684633e+08, dtype=float32),\n",
       "  Array(1.0208892e+09, dtype=float32),\n",
       "  Array(9.6700966e+08, dtype=float32),\n",
       "  Array(9.362777e+08, dtype=float32),\n",
       "  Array(8.711011e+08, dtype=float32),\n",
       "  Array(8.2768096e+08, dtype=float32),\n",
       "  Array(7.7217146e+08, dtype=float32),\n",
       "  Array(6.779038e+08, dtype=float32),\n",
       "  Array(6.111939e+08, dtype=float32),\n",
       "  Array(5.938503e+08, dtype=float32),\n",
       "  Array(6.1213344e+08, dtype=float32),\n",
       "  Array(6.380605e+08, dtype=float32),\n",
       "  Array(6.877325e+08, dtype=float32),\n",
       "  Array(7.700416e+08, dtype=float32),\n",
       "  Array(8.633655e+08, dtype=float32),\n",
       "  Array(9.4727494e+08, dtype=float32),\n",
       "  Array(1.0592456e+09, dtype=float32),\n",
       "  Array(1.1319995e+09, dtype=float32),\n",
       "  Array(1.1978595e+09, dtype=float32),\n",
       "  Array(1.3457364e+09, dtype=float32),\n",
       "  Array(1.4393667e+09, dtype=float32),\n",
       "  Array(1.5270963e+09, dtype=float32),\n",
       "  Array(1.5290423e+09, dtype=float32),\n",
       "  Array(1.5704975e+09, dtype=float32),\n",
       "  Array(1.516297e+09, dtype=float32),\n",
       "  Array(1.4046022e+09, dtype=float32),\n",
       "  Array(1.3214623e+09, dtype=float32),\n",
       "  Array(1.2340342e+09, dtype=float32),\n",
       "  Array(1.142231e+09, dtype=float32),\n",
       "  Array(1.1040957e+09, dtype=float32),\n",
       "  Array(1.0327059e+09, dtype=float32),\n",
       "  Array(9.545121e+08, dtype=float32),\n",
       "  Array(8.792079e+08, dtype=float32),\n",
       "  Array(8.636223e+08, dtype=float32),\n",
       "  Array(8.814006e+08, dtype=float32),\n",
       "  Array(8.8311526e+08, dtype=float32),\n",
       "  Array(9.185749e+08, dtype=float32),\n",
       "  Array(9.712278e+08, dtype=float32),\n",
       "  Array(1.0071336e+09, dtype=float32),\n",
       "  Array(1.0272539e+09, dtype=float32),\n",
       "  Array(1.0626505e+09, dtype=float32),\n",
       "  Array(1.0637323e+09, dtype=float32),\n",
       "  Array(1.0866199e+09, dtype=float32),\n",
       "  Array(1.135105e+09, dtype=float32),\n",
       "  Array(1.1159562e+09, dtype=float32),\n",
       "  Array(1.0154174e+09, dtype=float32),\n",
       "  Array(9.451744e+08, dtype=float32),\n",
       "  Array(8.902719e+08, dtype=float32),\n",
       "  Array(8.9088896e+08, dtype=float32),\n",
       "  Array(8.781199e+08, dtype=float32),\n",
       "  Array(8.90307e+08, dtype=float32),\n",
       "  Array(9.597327e+08, dtype=float32),\n",
       "  Array(1.0751672e+09, dtype=float32),\n",
       "  Array(1.1651081e+09, dtype=float32),\n",
       "  Array(1.2560166e+09, dtype=float32),\n",
       "  Array(1.3275849e+09, dtype=float32),\n",
       "  Array(1.3991128e+09, dtype=float32),\n",
       "  Array(1.4450086e+09, dtype=float32),\n",
       "  Array(1.5014057e+09, dtype=float32),\n",
       "  Array(1.4979194e+09, dtype=float32),\n",
       "  Array(1.4640595e+09, dtype=float32),\n",
       "  Array(1.4096182e+09, dtype=float32),\n",
       "  Array(1.3638433e+09, dtype=float32),\n",
       "  Array(1.3135596e+09, dtype=float32),\n",
       "  Array(1.1998808e+09, dtype=float32),\n",
       "  Array(1.1336064e+09, dtype=float32),\n",
       "  Array(1.0740687e+09, dtype=float32),\n",
       "  Array(1.0378061e+09, dtype=float32),\n",
       "  Array(1.0026018e+09, dtype=float32),\n",
       "  Array(9.504536e+08, dtype=float32),\n",
       "  Array(9.47462e+08, dtype=float32),\n",
       "  Array(9.8044314e+08, dtype=float32),\n",
       "  Array(1.0467809e+09, dtype=float32),\n",
       "  Array(1.12956e+09, dtype=float32),\n",
       "  Array(1.1818829e+09, dtype=float32),\n",
       "  Array(1.3249682e+09, dtype=float32),\n",
       "  Array(1.4511273e+09, dtype=float32),\n",
       "  Array(1.559566e+09, dtype=float32),\n",
       "  Array(1.619935e+09, dtype=float32),\n",
       "  Array(1.699765e+09, dtype=float32),\n",
       "  Array(1.8052636e+09, dtype=float32),\n",
       "  Array(1.8393016e+09, dtype=float32),\n",
       "  Array(1.848193e+09, dtype=float32),\n",
       "  Array(1.8206844e+09, dtype=float32),\n",
       "  Array(1.7089393e+09, dtype=float32),\n",
       "  Array(1.5687007e+09, dtype=float32),\n",
       "  Array(1.3526167e+09, dtype=float32),\n",
       "  Array(1.191988e+09, dtype=float32),\n",
       "  Array(1.1204408e+09, dtype=float32),\n",
       "  Array(1.1103662e+09, dtype=float32),\n",
       "  Array(1.1473597e+09, dtype=float32),\n",
       "  Array(1.2235361e+09, dtype=float32),\n",
       "  Array(1.2997192e+09, dtype=float32),\n",
       "  Array(1.3986225e+09, dtype=float32),\n",
       "  Array(1.5993674e+09, dtype=float32),\n",
       "  Array(1.8509972e+09, dtype=float32),\n",
       "  Array(2.0021788e+09, dtype=float32),\n",
       "  Array(2.0324902e+09, dtype=float32),\n",
       "  Array(2.0928237e+09, dtype=float32),\n",
       "  Array(2.0959569e+09, dtype=float32),\n",
       "  Array(2.1218999e+09, dtype=float32),\n",
       "  Array(2.1319212e+09, dtype=float32),\n",
       "  Array(1.9848718e+09, dtype=float32),\n",
       "  Array(1.8114204e+09, dtype=float32),\n",
       "  Array(1.6549748e+09, dtype=float32),\n",
       "  Array(1.5936426e+09, dtype=float32),\n",
       "  Array(1.6232163e+09, dtype=float32),\n",
       "  Array(1.6185812e+09, dtype=float32),\n",
       "  Array(1.6552187e+09, dtype=float32),\n",
       "  Array(1.6527357e+09, dtype=float32),\n",
       "  Array(1.6884224e+09, dtype=float32),\n",
       "  Array(1.6310482e+09, dtype=float32),\n",
       "  Array(1.6459754e+09, dtype=float32),\n",
       "  Array(1.6709595e+09, dtype=float32),\n",
       "  Array(1.656504e+09, dtype=float32),\n",
       "  Array(1.6750665e+09, dtype=float32),\n",
       "  Array(1.6815904e+09, dtype=float32),\n",
       "  Array(1.6102097e+09, dtype=float32),\n",
       "  Array(1.5468923e+09, dtype=float32),\n",
       "  Array(1.541229e+09, dtype=float32),\n",
       "  Array(1.5215997e+09, dtype=float32),\n",
       "  Array(1.5342735e+09, dtype=float32),\n",
       "  Array(1.5844562e+09, dtype=float32),\n",
       "  Array(1.6022084e+09, dtype=float32),\n",
       "  Array(1.5816207e+09, dtype=float32),\n",
       "  Array(1.5777832e+09, dtype=float32),\n",
       "  Array(1.6205316e+09, dtype=float32),\n",
       "  Array(1.6087386e+09, dtype=float32),\n",
       "  Array(1.5436357e+09, dtype=float32),\n",
       "  Array(1.5398491e+09, dtype=float32),\n",
       "  Array(1.5279657e+09, dtype=float32),\n",
       "  Array(1.5271753e+09, dtype=float32),\n",
       "  Array(1.509624e+09, dtype=float32),\n",
       "  Array(1.5106424e+09, dtype=float32),\n",
       "  Array(1.5355471e+09, dtype=float32),\n",
       "  Array(1.531576e+09, dtype=float32),\n",
       "  Array(1.549365e+09, dtype=float32),\n",
       "  Array(1.5591384e+09, dtype=float32),\n",
       "  Array(1.5942948e+09, dtype=float32),\n",
       "  Array(1.6603703e+09, dtype=float32),\n",
       "  Array(1.6904238e+09, dtype=float32),\n",
       "  Array(1.7089654e+09, dtype=float32),\n",
       "  Array(1.7335483e+09, dtype=float32),\n",
       "  Array(1.7482455e+09, dtype=float32),\n",
       "  Array(1.7140452e+09, dtype=float32),\n",
       "  Array(1.735409e+09, dtype=float32),\n",
       "  Array(1.749335e+09, dtype=float32),\n",
       "  Array(1.7383396e+09, dtype=float32),\n",
       "  Array(1.8150876e+09, dtype=float32),\n",
       "  Array(1.8998819e+09, dtype=float32),\n",
       "  Array(1.9761188e+09, dtype=float32),\n",
       "  Array(2.0126218e+09, dtype=float32),\n",
       "  Array(1.9966152e+09, dtype=float32),\n",
       "  Array(2.004095e+09, dtype=float32),\n",
       "  Array(2.0573651e+09, dtype=float32),\n",
       "  Array(2.0479588e+09, dtype=float32),\n",
       "  Array(2.0424502e+09, dtype=float32),\n",
       "  Array(1.96308e+09, dtype=float32),\n",
       "  Array(1.8482831e+09, dtype=float32),\n",
       "  Array(1.81487e+09, dtype=float32),\n",
       "  Array(1.7194473e+09, dtype=float32),\n",
       "  Array(1.612597e+09, dtype=float32),\n",
       "  Array(1.5109332e+09, dtype=float32)],\n",
       " 'phi_obj': [Array(-8.546489, dtype=float32),\n",
       "  Array(-68.14565, dtype=float32),\n",
       "  Array(-384.188, dtype=float32),\n",
       "  Array(-1461.7592, dtype=float32),\n",
       "  Array(-3660.4058, dtype=float32),\n",
       "  Array(-8657.708, dtype=float32),\n",
       "  Array(-20844.232, dtype=float32),\n",
       "  Array(-42517.445, dtype=float32),\n",
       "  Array(-68269.66, dtype=float32),\n",
       "  Array(-91478.64, dtype=float32),\n",
       "  Array(-135569.56, dtype=float32),\n",
       "  Array(-301215.34, dtype=float32),\n",
       "  Array(-238007.62, dtype=float32),\n",
       "  Array(-125499.06, dtype=float32),\n",
       "  Array(-380600.8, dtype=float32),\n",
       "  Array(-833964.94, dtype=float32),\n",
       "  Array(-1157823., dtype=float32),\n",
       "  Array(-1851861.9, dtype=float32),\n",
       "  Array(-2708575.8, dtype=float32),\n",
       "  Array(-2736841., dtype=float32),\n",
       "  Array(-3665156.2, dtype=float32),\n",
       "  Array(-3855836.8, dtype=float32),\n",
       "  Array(-3128632., dtype=float32),\n",
       "  Array(-2984879.5, dtype=float32),\n",
       "  Array(-2934089.8, dtype=float32),\n",
       "  Array(-4441866.5, dtype=float32),\n",
       "  Array(-5187610., dtype=float32),\n",
       "  Array(-9281946., dtype=float32),\n",
       "  Array(-7872484., dtype=float32),\n",
       "  Array(-12048030., dtype=float32),\n",
       "  Array(-12021008., dtype=float32),\n",
       "  Array(-6622592., dtype=float32),\n",
       "  Array(5358954., dtype=float32),\n",
       "  Array(-443410., dtype=float32),\n",
       "  Array(13689001., dtype=float32),\n",
       "  Array(-14665508., dtype=float32),\n",
       "  Array(-23580816., dtype=float32),\n",
       "  Array(-33030948., dtype=float32),\n",
       "  Array(-42161032., dtype=float32),\n",
       "  Array(-43648256., dtype=float32),\n",
       "  Array(-35363536., dtype=float32),\n",
       "  Array(-6291688., dtype=float32),\n",
       "  Array(-13637624., dtype=float32),\n",
       "  Array(10350512., dtype=float32),\n",
       "  Array(-482300., dtype=float32),\n",
       "  Array(-6859031., dtype=float32),\n",
       "  Array(-2715578.5, dtype=float32),\n",
       "  Array(-31363030., dtype=float32),\n",
       "  Array(-61721680., dtype=float32),\n",
       "  Array(-65149368., dtype=float32),\n",
       "  Array(-1.1876587e+08, dtype=float32),\n",
       "  Array(-1.2881885e+08, dtype=float32),\n",
       "  Array(-1.6041419e+08, dtype=float32),\n",
       "  Array(-1.6468342e+08, dtype=float32),\n",
       "  Array(-2.0684394e+08, dtype=float32),\n",
       "  Array(-2.6933347e+08, dtype=float32),\n",
       "  Array(-18818352., dtype=float32),\n",
       "  Array(-1.1527086e+08, dtype=float32),\n",
       "  Array(10929360., dtype=float32),\n",
       "  Array(93927424., dtype=float32),\n",
       "  Array(1.6422445e+08, dtype=float32),\n",
       "  Array(2.2883914e+08, dtype=float32),\n",
       "  Array(2.1287045e+08, dtype=float32),\n",
       "  Array(2.0826912e+08, dtype=float32),\n",
       "  Array(1.04539256e+08, dtype=float32),\n",
       "  Array(-1.077723e+08, dtype=float32),\n",
       "  Array(-3.7630406e+08, dtype=float32),\n",
       "  Array(-6.928704e+08, dtype=float32),\n",
       "  Array(-9.178615e+08, dtype=float32),\n",
       "  Array(-1.1514766e+09, dtype=float32),\n",
       "  Array(-1.1953306e+09, dtype=float32),\n",
       "  Array(-1.320433e+09, dtype=float32),\n",
       "  Array(-1.3608906e+09, dtype=float32),\n",
       "  Array(-1.22895e+09, dtype=float32),\n",
       "  Array(-1.1840215e+09, dtype=float32),\n",
       "  Array(-1.04911814e+09, dtype=float32),\n",
       "  Array(-9.050684e+08, dtype=float32),\n",
       "  Array(-4.109664e+08, dtype=float32),\n",
       "  Array(-4.6763405e+08, dtype=float32),\n",
       "  Array(-3.46123e+08, dtype=float32),\n",
       "  Array(-4.8880544e+08, dtype=float32),\n",
       "  Array(53309440., dtype=float32),\n",
       "  Array(76853184., dtype=float32),\n",
       "  Array(2.688116e+08, dtype=float32),\n",
       "  Array(2.1127098e+08, dtype=float32),\n",
       "  Array(4.012485e+08, dtype=float32),\n",
       "  Array(9844352., dtype=float32),\n",
       "  Array(3.596814e+08, dtype=float32),\n",
       "  Array(2.7492806e+08, dtype=float32),\n",
       "  Array(2.4297171e+08, dtype=float32),\n",
       "  Array(1.9647245e+08, dtype=float32),\n",
       "  Array(-1.3432525e+08, dtype=float32),\n",
       "  Array(-1.6964947e+08, dtype=float32),\n",
       "  Array(-3.267516e+08, dtype=float32),\n",
       "  Array(-1.1226259e+08, dtype=float32),\n",
       "  Array(-2.2850464e+08, dtype=float32),\n",
       "  Array(-2.9910464e+08, dtype=float32),\n",
       "  Array(-4.4231293e+08, dtype=float32),\n",
       "  Array(-3.575394e+08, dtype=float32),\n",
       "  Array(-5.475478e+08, dtype=float32),\n",
       "  Array(-5.1139965e+08, dtype=float32),\n",
       "  Array(-4.8329747e+08, dtype=float32),\n",
       "  Array(-5.6117037e+08, dtype=float32),\n",
       "  Array(-4.7097526e+08, dtype=float32),\n",
       "  Array(-3.4965792e+08, dtype=float32),\n",
       "  Array(-3.2624125e+08, dtype=float32),\n",
       "  Array(-2.2108013e+08, dtype=float32),\n",
       "  Array(-1.5338349e+08, dtype=float32),\n",
       "  Array(-7874816., dtype=float32),\n",
       "  Array(1.3910666e+08, dtype=float32),\n",
       "  Array(-15216256., dtype=float32),\n",
       "  Array(24943456., dtype=float32),\n",
       "  Array(26358304., dtype=float32),\n",
       "  Array(-6505824., dtype=float32),\n",
       "  Array(-1.0107898e+08, dtype=float32),\n",
       "  Array(-90135744., dtype=float32),\n",
       "  Array(-1.5602342e+08, dtype=float32),\n",
       "  Array(-1.9701718e+08, dtype=float32),\n",
       "  Array(-1.5501949e+08, dtype=float32),\n",
       "  Array(-1.4440205e+08, dtype=float32),\n",
       "  Array(31957696., dtype=float32),\n",
       "  Array(-17989280., dtype=float32),\n",
       "  Array(-35305216., dtype=float32),\n",
       "  Array(-25153312., dtype=float32),\n",
       "  Array(-97142144., dtype=float32),\n",
       "  Array(-1.2071955e+08, dtype=float32),\n",
       "  Array(-1.0890448e+08, dtype=float32),\n",
       "  Array(-1.0920285e+08, dtype=float32),\n",
       "  Array(-88898720., dtype=float32),\n",
       "  Array(-58266048., dtype=float32),\n",
       "  Array(-72267648., dtype=float32),\n",
       "  Array(-49431648., dtype=float32),\n",
       "  Array(-80801600., dtype=float32),\n",
       "  Array(-93821408., dtype=float32),\n",
       "  Array(-48338048., dtype=float32),\n",
       "  Array(-25048864., dtype=float32),\n",
       "  Array(-28940032., dtype=float32),\n",
       "  Array(-34746272., dtype=float32),\n",
       "  Array(15216256., dtype=float32),\n",
       "  Array(-47782176., dtype=float32),\n",
       "  Array(60457504., dtype=float32),\n",
       "  Array(-74950976., dtype=float32),\n",
       "  Array(11203200., dtype=float32),\n",
       "  Array(28651520., dtype=float32),\n",
       "  Array(-35005664., dtype=float32),\n",
       "  Array(-46449216., dtype=float32),\n",
       "  Array(-67254592., dtype=float32),\n",
       "  Array(-52716896., dtype=float32),\n",
       "  Array(-10229824., dtype=float32),\n",
       "  Array(-13242272., dtype=float32),\n",
       "  Array(-1.0724243e+08, dtype=float32),\n",
       "  Array(-96078080., dtype=float32),\n",
       "  Array(5661568., dtype=float32),\n",
       "  Array(-1.2050134e+08, dtype=float32),\n",
       "  Array(20913856., dtype=float32),\n",
       "  Array(-65912544., dtype=float32),\n",
       "  Array(-99030976., dtype=float32),\n",
       "  Array(-39406816., dtype=float32),\n",
       "  Array(-72970336., dtype=float32),\n",
       "  Array(12131616., dtype=float32),\n",
       "  Array(15458048., dtype=float32),\n",
       "  Array(2.58437e+08, dtype=float32),\n",
       "  Array(-65863616., dtype=float32),\n",
       "  Array(-1.122545e+08, dtype=float32),\n",
       "  Array(-92581568., dtype=float32),\n",
       "  Array(-1.0613155e+08, dtype=float32),\n",
       "  Array(-1.0694349e+08, dtype=float32),\n",
       "  Array(-1.1884166e+08, dtype=float32),\n",
       "  Array(-75396608., dtype=float32),\n",
       "  Array(-98579136., dtype=float32),\n",
       "  Array(78383232., dtype=float32),\n",
       "  Array(1.4556883e+08, dtype=float32),\n",
       "  Array(-18339712., dtype=float32),\n",
       "  Array(-1.296097e+08, dtype=float32),\n",
       "  Array(-1.4490122e+08, dtype=float32),\n",
       "  Array(-11134016., dtype=float32),\n",
       "  Array(-1.5006826e+08, dtype=float32),\n",
       "  Array(-37663168., dtype=float32),\n",
       "  Array(-1.7751283e+08, dtype=float32),\n",
       "  Array(-66672160., dtype=float32),\n",
       "  Array(51394336., dtype=float32),\n",
       "  Array(78824320., dtype=float32),\n",
       "  Array(1.549958e+08, dtype=float32),\n",
       "  Array(1.619802e+08, dtype=float32),\n",
       "  Array(91935488., dtype=float32),\n",
       "  Array(-44666208., dtype=float32),\n",
       "  Array(-1.3052118e+08, dtype=float32),\n",
       "  Array(-1.8389533e+08, dtype=float32),\n",
       "  Array(-2.0155946e+08, dtype=float32),\n",
       "  Array(-1.260257e+08, dtype=float32),\n",
       "  Array(-19150144., dtype=float32),\n",
       "  Array(-62048928., dtype=float32),\n",
       "  Array(1.4319651e+08, dtype=float32),\n",
       "  Array(-55290720., dtype=float32),\n",
       "  Array(-1.0777123e+08, dtype=float32),\n",
       "  Array(-94730816., dtype=float32),\n",
       "  Array(-1.9727872e+08, dtype=float32),\n",
       "  Array(-2.1976877e+08, dtype=float32),\n",
       "  Array(96347968., dtype=float32),\n",
       "  Array(-1.5723715e+08, dtype=float32),\n",
       "  Array(-1.0691226e+08, dtype=float32),\n",
       "  Array(-1.526625e+08, dtype=float32),\n",
       "  Array(-37310144., dtype=float32),\n",
       "  Array(11348288., dtype=float32),\n",
       "  Array(-78821024., dtype=float32),\n",
       "  Array(7613952., dtype=float32),\n",
       "  Array(-1.2844883e+08, dtype=float32),\n",
       "  Array(39311680., dtype=float32),\n",
       "  Array(-7703872., dtype=float32),\n",
       "  Array(-1.2960902e+08, dtype=float32),\n",
       "  Array(-64601344., dtype=float32),\n",
       "  Array(70078656., dtype=float32),\n",
       "  Array(-18452672., dtype=float32),\n",
       "  Array(-1.435593e+08, dtype=float32),\n",
       "  Array(-98413120., dtype=float32),\n",
       "  Array(39780800., dtype=float32),\n",
       "  Array(-1.4972758e+08, dtype=float32),\n",
       "  Array(-66431360., dtype=float32),\n",
       "  Array(-44704832., dtype=float32),\n",
       "  Array(1.3632218e+08, dtype=float32),\n",
       "  Array(40525056., dtype=float32),\n",
       "  Array(-1.1072755e+08, dtype=float32),\n",
       "  Array(-66045120., dtype=float32),\n",
       "  Array(-97939456., dtype=float32),\n",
       "  Array(2.4637056e+08, dtype=float32),\n",
       "  Array(42798208., dtype=float32),\n",
       "  Array(21448128., dtype=float32),\n",
       "  Array(2.0089453e+08, dtype=float32),\n",
       "  Array(-1.1168573e+08, dtype=float32),\n",
       "  Array(-31588416., dtype=float32),\n",
       "  Array(27331456., dtype=float32),\n",
       "  Array(23843328., dtype=float32),\n",
       "  Array(15755008., dtype=float32),\n",
       "  Array(1.7407123e+08, dtype=float32),\n",
       "  Array(-55379072., dtype=float32),\n",
       "  Array(-87395584., dtype=float32),\n",
       "  Array(-1.4748454e+08, dtype=float32),\n",
       "  Array(-1.1475488e+08, dtype=float32),\n",
       "  Array(55856640., dtype=float32),\n",
       "  Array(-1.569225e+08, dtype=float32),\n",
       "  Array(-1.3006886e+08, dtype=float32),\n",
       "  Array(-20821504., dtype=float32),\n",
       "  Array(-1.3277798e+08, dtype=float32),\n",
       "  Array(1.9448096e+08, dtype=float32),\n",
       "  Array(92327424., dtype=float32),\n",
       "  Array(34883584., dtype=float32),\n",
       "  Array(-1.279032e+08, dtype=float32),\n",
       "  Array(78976512., dtype=float32),\n",
       "  Array(-91008672., dtype=float32),\n",
       "  Array(10655360., dtype=float32),\n",
       "  Array(-27557376., dtype=float32),\n",
       "  Array(-90365952., dtype=float32),\n",
       "  Array(1.8873312e+08, dtype=float32),\n",
       "  Array(-58433824., dtype=float32),\n",
       "  Array(-3992512., dtype=float32),\n",
       "  Array(-1.0145754e+08, dtype=float32),\n",
       "  Array(45386944., dtype=float32),\n",
       "  Array(-1.4049834e+08, dtype=float32),\n",
       "  Array(703488., dtype=float32),\n",
       "  Array(-52922304., dtype=float32),\n",
       "  Array(1.1392486e+08, dtype=float32),\n",
       "  Array(-71883328., dtype=float32),\n",
       "  Array(-93580768., dtype=float32),\n",
       "  Array(-1.1590451e+08, dtype=float32),\n",
       "  Array(-25812352., dtype=float32),\n",
       "  Array(-1.9185376e+08, dtype=float32),\n",
       "  Array(-1.2662298e+08, dtype=float32),\n",
       "  Array(-98268992., dtype=float32),\n",
       "  Array(-1.5717382e+08, dtype=float32),\n",
       "  Array(-26571968., dtype=float32),\n",
       "  Array(1.6453984e+08, dtype=float32),\n",
       "  Array(-43505280., dtype=float32),\n",
       "  Array(1.115143e+08, dtype=float32),\n",
       "  Array(58008800., dtype=float32),\n",
       "  Array(-7315808., dtype=float32),\n",
       "  Array(1.3786602e+08, dtype=float32),\n",
       "  Array(37936864., dtype=float32),\n",
       "  Array(-54257504., dtype=float32),\n",
       "  Array(4372896., dtype=float32),\n",
       "  Array(19759680., dtype=float32),\n",
       "  Array(-73045984., dtype=float32),\n",
       "  Array(-89324704., dtype=float32),\n",
       "  Array(-52079872., dtype=float32),\n",
       "  Array(-10073024., dtype=float32),\n",
       "  Array(-1.1566746e+08, dtype=float32),\n",
       "  Array(-1.2549203e+08, dtype=float32),\n",
       "  Array(-97626112., dtype=float32),\n",
       "  Array(-1.5632685e+08, dtype=float32),\n",
       "  Array(-2.3522624e+08, dtype=float32),\n",
       "  Array(-1.7924006e+08, dtype=float32),\n",
       "  Array(-3.0963584e+08, dtype=float32),\n",
       "  Array(-1.6844064e+08, dtype=float32),\n",
       "  Array(-1.9129792e+08, dtype=float32),\n",
       "  Array(-3.2524627e+08, dtype=float32),\n",
       "  Array(-3.6334298e+08, dtype=float32),\n",
       "  Array(-1.1374752e+08, dtype=float32),\n",
       "  Array(-1.0558509e+08, dtype=float32),\n",
       "  Array(7803200., dtype=float32),\n",
       "  Array(1.6935149e+08, dtype=float32),\n",
       "  Array(1.0863667e+08, dtype=float32),\n",
       "  Array(1.5629363e+08, dtype=float32),\n",
       "  Array(1.8554515e+08, dtype=float32),\n",
       "  Array(21482496., dtype=float32),\n",
       "  Array(-48798912., dtype=float32),\n",
       "  Array(1.243232e+08, dtype=float32),\n",
       "  Array(45930176., dtype=float32),\n",
       "  Array(-72004928., dtype=float32),\n",
       "  Array(-65685568., dtype=float32),\n",
       "  Array(-2.5833005e+08, dtype=float32),\n",
       "  Array(-2.835223e+08, dtype=float32),\n",
       "  Array(-3.3221952e+08, dtype=float32),\n",
       "  Array(-3.562635e+08, dtype=float32),\n",
       "  Array(-2.9888902e+08, dtype=float32),\n",
       "  Array(-2.411712e+08, dtype=float32),\n",
       "  Array(-2.154407e+08, dtype=float32),\n",
       "  Array(-2.1866816e+08, dtype=float32),\n",
       "  Array(-1.9240691e+08, dtype=float32),\n",
       "  Array(-1.2879494e+08, dtype=float32),\n",
       "  Array(-92490304., dtype=float32),\n",
       "  Array(-64561088., dtype=float32),\n",
       "  Array(-56873536., dtype=float32),\n",
       "  Array(74617344., dtype=float32),\n",
       "  Array(-11307328., dtype=float32),\n",
       "  Array(63779904., dtype=float32),\n",
       "  Array(25988480., dtype=float32),\n",
       "  Array(68844416., dtype=float32),\n",
       "  Array(1.4743066e+08, dtype=float32),\n",
       "  Array(1.5510528e+08, dtype=float32),\n",
       "  Array(-22594240., dtype=float32),\n",
       "  Array(-1.1068115e+08, dtype=float32),\n",
       "  Array(2860032., dtype=float32),\n",
       "  Array(-1.338727e+08, dtype=float32),\n",
       "  Array(-1.7814042e+08, dtype=float32),\n",
       "  Array(-2.2177734e+08, dtype=float32),\n",
       "  Array(-1.0220563e+08, dtype=float32),\n",
       "  Array(-3.4308915e+08, dtype=float32),\n",
       "  Array(-1.9296934e+08, dtype=float32),\n",
       "  Array(-3.035726e+08, dtype=float32),\n",
       "  Array(-3.2742848e+08, dtype=float32),\n",
       "  Array(-1.5639571e+08, dtype=float32),\n",
       "  Array(-1.7628109e+08, dtype=float32),\n",
       "  Array(1919104., dtype=float32),\n",
       "  Array(-75668608., dtype=float32),\n",
       "  Array(57868544., dtype=float32),\n",
       "  Array(4.6062925e+08, dtype=float32),\n",
       "  Array(12073152., dtype=float32),\n",
       "  Array(89559488., dtype=float32),\n",
       "  Array(905152., dtype=float32),\n",
       "  Array(-75755904., dtype=float32),\n",
       "  Array(-1.5420314e+08, dtype=float32),\n",
       "  Array(-1.0914176e+08, dtype=float32),\n",
       "  Array(-2.6366502e+08, dtype=float32),\n",
       "  Array(-2.3833152e+08, dtype=float32),\n",
       "  Array(-3.0706707e+08, dtype=float32),\n",
       "  Array(-2.4406413e+08, dtype=float32),\n",
       "  Array(-3.61734e+08, dtype=float32),\n",
       "  Array(-2.2759014e+08, dtype=float32),\n",
       "  Array(-2.574592e+08, dtype=float32),\n",
       "  Array(-4.1163597e+08, dtype=float32),\n",
       "  Array(-4.2978547e+08, dtype=float32),\n",
       "  Array(-2.532617e+08, dtype=float32),\n",
       "  Array(85643392., dtype=float32),\n",
       "  Array(-2090496., dtype=float32),\n",
       "  Array(1.832073e+08, dtype=float32),\n",
       "  Array(-16943616., dtype=float32),\n",
       "  Array(2.539415e+08, dtype=float32),\n",
       "  Array(-49669696., dtype=float32),\n",
       "  Array(1.596718e+08, dtype=float32),\n",
       "  Array(34312576., dtype=float32),\n",
       "  Array(1.4624922e+08, dtype=float32),\n",
       "  Array(-1.1555533e+08, dtype=float32),\n",
       "  Array(-65188160., dtype=float32),\n",
       "  Array(-32351104., dtype=float32),\n",
       "  Array(-60367296., dtype=float32),\n",
       "  Array(-2.161145e+08, dtype=float32),\n",
       "  Array(-1.7938522e+08, dtype=float32),\n",
       "  Array(-54284864., dtype=float32),\n",
       "  Array(-2.41645e+08, dtype=float32),\n",
       "  Array(-1.9114842e+08, dtype=float32),\n",
       "  Array(-1.9312269e+08, dtype=float32),\n",
       "  Array(-3.6288826e+08, dtype=float32),\n",
       "  Array(85701376., dtype=float32),\n",
       "  Array(1.1608602e+08, dtype=float32),\n",
       "  Array(2.57952e+08, dtype=float32),\n",
       "  Array(57427456., dtype=float32),\n",
       "  Array(-94119296., dtype=float32),\n",
       "  Array(1.0753978e+08, dtype=float32),\n",
       "  Array(1.5635283e+08, dtype=float32),\n",
       "  Array(-51423680., dtype=float32),\n",
       "  Array(-1.8624614e+08, dtype=float32),\n",
       "  Array(-2.5829574e+08, dtype=float32),\n",
       "  Array(-1.0812006e+08, dtype=float32),\n",
       "  Array(-3.6349306e+08, dtype=float32),\n",
       "  Array(-2.2374694e+08, dtype=float32),\n",
       "  Array(-2.4356582e+08, dtype=float32),\n",
       "  Array(-4.105532e+08, dtype=float32),\n",
       "  Array(-1.4334784e+08, dtype=float32),\n",
       "  Array(-2.3309235e+08, dtype=float32),\n",
       "  Array(-1.6801267e+08, dtype=float32),\n",
       "  Array(-1.1040973e+08, dtype=float32),\n",
       "  Array(-2.3528166e+08, dtype=float32),\n",
       "  Array(-15137792., dtype=float32),\n",
       "  Array(-67687360., dtype=float32),\n",
       "  Array(2.950089e+08, dtype=float32),\n",
       "  Array(1.2516064e+08, dtype=float32),\n",
       "  Array(1.364114e+08, dtype=float32),\n",
       "  Array(2.4749478e+08, dtype=float32),\n",
       "  Array(1.2716806e+08, dtype=float32),\n",
       "  Array(84184064., dtype=float32),\n",
       "  Array(-1.3084998e+08, dtype=float32),\n",
       "  Array(-97851904., dtype=float32),\n",
       "  Array(-62091904., dtype=float32),\n",
       "  Array(43542400., dtype=float32),\n",
       "  Array(-3.7305728e+08, dtype=float32),\n",
       "  Array(-4.786668e+08, dtype=float32),\n",
       "  Array(-3.9299136e+08, dtype=float32),\n",
       "  Array(-5.5579046e+08, dtype=float32),\n",
       "  Array(-6.292554e+08, dtype=float32),\n",
       "  Array(-4.542994e+08, dtype=float32),\n",
       "  Array(-5.526797e+08, dtype=float32),\n",
       "  Array(-4.3530982e+08, dtype=float32),\n",
       "  Array(-1.8002189e+08, dtype=float32),\n",
       "  Array(-69879168., dtype=float32),\n",
       "  Array(5.61644e+08, dtype=float32),\n",
       "  Array(2.341975e+08, dtype=float32),\n",
       "  Array(-8353024., dtype=float32),\n",
       "  Array(2.3855693e+08, dtype=float32),\n",
       "  Array(1.9584166e+08, dtype=float32),\n",
       "  Array(-1.6536288e+08, dtype=float32),\n",
       "  Array(-1.7219827e+08, dtype=float32),\n",
       "  Array(-2.2581978e+08, dtype=float32),\n",
       "  Array(1.9097766e+08, dtype=float32),\n",
       "  Array(-4.678437e+08, dtype=float32),\n",
       "  Array(-2.6084954e+08, dtype=float32),\n",
       "  Array(-4.646044e+08, dtype=float32),\n",
       "  Array(-7.1624806e+08, dtype=float32),\n",
       "  Array(-2.4742131e+08, dtype=float32),\n",
       "  Array(-7.417366e+08, dtype=float32),\n",
       "  Array(-1.599182e+08, dtype=float32),\n",
       "  Array(2.0467046e+08, dtype=float32),\n",
       "  Array(90426496., dtype=float32),\n",
       "  Array(61545600., dtype=float32),\n",
       "  Array(-2.6934093e+08, dtype=float32),\n",
       "  Array(-3.116389e+08, dtype=float32),\n",
       "  Array(1.853033e+08, dtype=float32),\n",
       "  Array(-69610240., dtype=float32),\n",
       "  Array(-1.2798323e+08, dtype=float32),\n",
       "  Array(-2.2269005e+08, dtype=float32),\n",
       "  Array(-1.8644416e+08, dtype=float32),\n",
       "  Array(-2.6671552e+08, dtype=float32),\n",
       "  Array(-2.5191142e+08, dtype=float32),\n",
       "  Array(-1.8200422e+08, dtype=float32),\n",
       "  Array(69395072., dtype=float32),\n",
       "  Array(13396992., dtype=float32),\n",
       "  Array(1.1664666e+08, dtype=float32),\n",
       "  Array(92697216., dtype=float32),\n",
       "  Array(-1.621175e+08, dtype=float32),\n",
       "  Array(2994688., dtype=float32),\n",
       "  Array(-2.3688435e+08, dtype=float32),\n",
       "  Array(-57603584., dtype=float32),\n",
       "  Array(-51307648., dtype=float32),\n",
       "  Array(1.0876032e+08, dtype=float32),\n",
       "  Array(-42968576., dtype=float32),\n",
       "  Array(-2.5797542e+08, dtype=float32),\n",
       "  Array(2.5904973e+08, dtype=float32),\n",
       "  Array(-32781312., dtype=float32),\n",
       "  Array(-15887360., dtype=float32),\n",
       "  Array(71839232., dtype=float32),\n",
       "  Array(-1.4541376e+08, dtype=float32),\n",
       "  Array(2.2454323e+08, dtype=float32),\n",
       "  Array(-1.6098509e+08, dtype=float32),\n",
       "  Array(-12835584., dtype=float32),\n",
       "  Array(2.1755853e+08, dtype=float32),\n",
       "  Array(-1.4708698e+08, dtype=float32),\n",
       "  Array(1.7265574e+08, dtype=float32),\n",
       "  Array(-2.3899251e+08, dtype=float32),\n",
       "  Array(-43021184., dtype=float32),\n",
       "  Array(-1.0137984e+08, dtype=float32),\n",
       "  Array(-80373760., dtype=float32),\n",
       "  Array(-86243072., dtype=float32),\n",
       "  Array(-3708288., dtype=float32),\n",
       "  Array(-1155712., dtype=float32),\n",
       "  Array(-3.2439706e+08, dtype=float32),\n",
       "  Array(4.092224e+08, dtype=float32),\n",
       "  Array(-2.4328115e+08, dtype=float32),\n",
       "  Array(-1291008., dtype=float32),\n",
       "  Array(-2.714752e+08, dtype=float32),\n",
       "  Array(49713792., dtype=float32),\n",
       "  Array(18888704., dtype=float32),\n",
       "  Array(86587264., dtype=float32),\n",
       "  Array(-1.0137408e+08, dtype=float32),\n",
       "  Array(-2.3382464e+08, dtype=float32),\n",
       "  Array(1.2434291e+08, dtype=float32),\n",
       "  Array(-21248640., dtype=float32),\n",
       "  Array(1.0898278e+08, dtype=float32),\n",
       "  Array(2.6223283e+08, dtype=float32),\n",
       "  Array(-63284352., dtype=float32),\n",
       "  Array(4.2376026e+08, dtype=float32),\n",
       "  Array(50079488., dtype=float32),\n",
       "  Array(4.2703437e+08, dtype=float32)]}"
      ]
     },
     "execution_count": 31,
     "metadata": {},
     "output_type": "execute_result"
    }
   ],
   "source": [
    "sm.metrics"
   ]
  },
  {
   "cell_type": "code",
   "execution_count": 32,
   "metadata": {},
   "outputs": [
    {
     "data": {
      "text/plain": [
       "<matplotlib.collections.PathCollection at 0x7f9d7c652140>"
      ]
     },
     "execution_count": 32,
     "metadata": {},
     "output_type": "execute_result"
    },
    {
     "data": {
      "image/png": "[encoded data removed]",
      "text/plain": [
       "<Figure size 640x480 with 1 Axes>"
      ]
     },
     "metadata": {},
     "output_type": "display_data"
    }
   ],
   "source": [
    "transported = sm.transport(source)\n",
    "plt.scatter(source[:,0], source[:,1], color=\"blue\")\n",
    "plt.scatter(target[:, 0], target[:, 1], color=\"red\")\n",
    "plt.scatter(transported[:, 0], transported[:, 1], color=\"green\", marker=\"P\")"
   ]
  },
  {
   "cell_type": "code",
   "execution_count": 34,
   "metadata": {},
   "outputs": [
    {
     "data": {
      "text/plain": [
       "<matplotlib.collections.PathCollection at 0x7f9d7c366a10>"
      ]
     },
     "execution_count": 34,
     "metadata": {},
     "output_type": "execute_result"
    },
    {
     "data": {
      "image/png": "[encoded data removed]",
      "text/plain": [
       "<Figure size 640x480 with 1 Axes>"
      ]
     },
     "metadata": {},
     "output_type": "display_data"
    }
   ],
   "source": [
    "sampled = sm.sample(source[0,None])\n",
    "plt.scatter(source[:,0], source[:,1], color=\"blue\")\n",
    "plt.scatter(target[:, 0], target[:, 1], color=\"red\")\n",
    "plt.scatter(sampled[:, 0], sampled[:, 1], color=\"green\", marker=\"P\")"
   ]
  },
  {
   "cell_type": "code",
   "execution_count": 35,
   "metadata": {},
   "outputs": [
    {
     "data": {
      "text/plain": [
       "[<matplotlib.lines.Line2D at 0x7f9d7c3e5930>]"
      ]
     },
     "execution_count": 35,
     "metadata": {},
     "output_type": "execute_result"
    },
    {
     "data": {
      "image/png": "[encoded data removed]",
      "text/plain": [
       "<Figure size 640x480 with 1 Axes>"
      ]
     },
     "metadata": {},
     "output_type": "display_data"
    }
   ],
   "source": [
    "plt.plot(np.arange(len(sm.metrics[\"t_obj\"])), sm.metrics[\"t_obj\"])"
   ]
  },
  {
   "cell_type": "code",
   "execution_count": 36,
   "metadata": {},
   "outputs": [
    {
     "data": {
      "text/plain": [
       "[<matplotlib.lines.Line2D at 0x7f9d7c270550>]"
      ]
     },
     "execution_count": 36,
     "metadata": {},
     "output_type": "execute_result"
    },
    {
     "data": {
      "image/png": "[encoded data removed]",
      "text/plain": [
       "<Figure size 640x480 with 1 Axes>"
      ]
     },
     "metadata": {},
     "output_type": "display_data"
    }
   ],
   "source": [
    "plt.plot(np.arange(len(sm.metrics[\"phi_obj\"])), sm.metrics[\"phi_obj\"])"
   ]
  },
  {
   "cell_type": "code",
   "execution_count": 29,
   "metadata": {},
   "outputs": [],
   "source": [
    "a = jnp.array([[1,2, 3], [3,4, 5]])"
   ]
  },
  {
   "cell_type": "code",
   "execution_count": 30,
   "metadata": {},
   "outputs": [
    {
     "data": {
      "text/plain": [
       "(2, 3)"
      ]
     },
     "execution_count": 30,
     "metadata": {},
     "output_type": "execute_result"
    }
   ],
   "source": [
    "a.shape"
   ]
  },
  {
   "cell_type": "code",
   "execution_count": 35,
   "metadata": {},
   "outputs": [
    {
     "data": {
      "text/plain": [
       "[<matplotlib.lines.Line2D at 0x7fe5542555d0>]"
      ]
     },
     "execution_count": 35,
     "metadata": {},
     "output_type": "execute_result"
    },
    {
     "data": {
      "image/png": "[encoded data removed]",
      "text/plain": [
       "<Figure size 640x480 with 1 Axes>"
      ]
     },
     "metadata": {},
     "output_type": "display_data"
    }
   ],
   "source": [
    "plt.plot(np.arange(len(sm.metrics[\"phi_obj\"])), sm.metrics[\"phi_obj\"])"
   ]
  }
 ],
 "metadata": {
  "kernelspec": {
   "display_name": "ott",
   "language": "python",
   "name": "ott"
  },
  "language_info": {
   "codemirror_mode": {
    "name": "ipython",
    "version": 3
   },
   "file_extension": ".py",
   "mimetype": "text/x-python",
   "name": "python",
   "nbconvert_exporter": "python",
   "pygments_lexer": "ipython3",
   "version": "3.10.10"
  },
  "orig_nbformat": 4
 },
 "nbformat": 4,
 "nbformat_minor": 2
}
