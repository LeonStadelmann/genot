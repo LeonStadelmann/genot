{
 "cells": [
  {
   "cell_type": "code",
   "execution_count": 29,
   "id": "b05ed007-7e96-497f-9bcc-965fdf65a846",
   "metadata": {},
   "outputs": [],
   "source": [
    "import numpy as np\n",
    "import seaborn as sns\n",
    "import pandas as pd"
   ]
  },
  {
   "cell_type": "code",
   "execution_count": 2,
   "id": "3d9d626a-fd28-4365-bbba-0f17668af291",
   "metadata": {},
   "outputs": [],
   "source": [
    "dataset = \"gaussian\""
   ]
  },
  {
   "cell_type": "code",
   "execution_count": 37,
   "id": "7e1a898c-282c-42ce-8655-402551ed7f9c",
   "metadata": {},
   "outputs": [],
   "source": [
    "res_gw = np.load(f\"{dataset}_gw.npy\")\n",
    "res_fgw = np.load(f\"{dataset}_fgw.npy\")\n",
    "res_outer = np.load(f\"{dataset}_outer.npy\")\n",
    "res_g1 = np.load(f\"{dataset}_graph_0.01.npy\")\n",
    "res_g2 = np.load(f\"{dataset}_graph_0.0001.npy\")\n",
    "res_gw_init = np.load(f\"{dataset}_gw_with_init.npy\")\n",
    "res_baseline = np.load(f\"{dataset}_gw_baseline.npy\")"
   ]
  },
  {
   "cell_type": "code",
   "execution_count": 38,
   "id": "b8b2ae7c-ac00-4d1d-a03a-9e616ac28825",
   "metadata": {},
   "outputs": [],
   "source": [
    "res_gw_mean = np.mean(res_gw, axis=0)\n",
    "res_fgw_mean = np.mean(res_fgw, axis=0)\n",
    "res_outer_mean = np.mean(res_outer, axis=0)\n",
    "res_g1_mean = np.mean(res_g1, axis=0)\n",
    "res_g2_mean = np.mean(res_g2, axis=0)\n",
    "res_gw_init_mean = np.mean(res_gw_init, axis=0)\n",
    "res_baseline_mean = np.mean(res_baseline, axis=0)"
   ]
  },
  {
   "cell_type": "code",
   "execution_count": 39,
   "id": "e1af6cb6-fd97-48a8-83ba-4a3049c2e14b",
   "metadata": {},
   "outputs": [],
   "source": [
    "row_names = [\"gw\", \"fgw\", \"outer\", \"g1\", \"g2\", \"init\", \"baseline\"]\n",
    "data = [res_gw_mean, res_fgw_mean, res_outer_mean, res_g1_mean, res_g2_mean, res_gw_init_mean, res_baseline_mean]"
   ]
  },
  {
   "cell_type": "code",
   "execution_count": 40,
   "id": "9d086797-211a-4256-acb0-d8f2712c11bc",
   "metadata": {},
   "outputs": [],
   "source": [
    "df = pd.DataFrame(data, index=row_names)"
   ]
  },
  {
   "cell_type": "code",
   "execution_count": 41,
   "id": "46f66d7b-e7d7-4be0-b855-49098e49422f",
   "metadata": {},
   "outputs": [
    {
     "data": {
      "text/html": [
       "<div>\n",
       "<style scoped>\n",
       "    .dataframe tbody tr th:only-of-type {\n",
       "        vertical-align: middle;\n",
       "    }\n",
       "\n",
       "    .dataframe tbody tr th {\n",
       "        vertical-align: top;\n",
       "    }\n",
       "\n",
       "    .dataframe thead th {\n",
       "        text-align: right;\n",
       "    }\n",
       "</style>\n",
       "<table border=\"1\" class=\"dataframe\">\n",
       "  <thead>\n",
       "    <tr style=\"text-align: right;\">\n",
       "      <th></th>\n",
       "      <th>0</th>\n",
       "      <th>1</th>\n",
       "      <th>2</th>\n",
       "      <th>3</th>\n",
       "      <th>4</th>\n",
       "      <th>5</th>\n",
       "      <th>6</th>\n",
       "      <th>7</th>\n",
       "      <th>8</th>\n",
       "      <th>9</th>\n",
       "      <th>10</th>\n",
       "      <th>11</th>\n",
       "      <th>12</th>\n",
       "      <th>13</th>\n",
       "      <th>14</th>\n",
       "      <th>15</th>\n",
       "      <th>16</th>\n",
       "      <th>17</th>\n",
       "      <th>18</th>\n",
       "      <th>19</th>\n",
       "    </tr>\n",
       "  </thead>\n",
       "  <tbody>\n",
       "    <tr>\n",
       "      <th>gw</th>\n",
       "      <td>104.943335</td>\n",
       "      <td>63.284899</td>\n",
       "      <td>144.658972</td>\n",
       "      <td>156.433758</td>\n",
       "      <td>110.956353</td>\n",
       "      <td>103.452965</td>\n",
       "      <td>87.235337</td>\n",
       "      <td>111.213752</td>\n",
       "      <td>111.694792</td>\n",
       "      <td>125.222034</td>\n",
       "      <td>111.190371</td>\n",
       "      <td>125.604424</td>\n",
       "      <td>127.897347</td>\n",
       "      <td>132.009225</td>\n",
       "      <td>113.148924</td>\n",
       "      <td>114.088787</td>\n",
       "      <td>103.921463</td>\n",
       "      <td>140.740721</td>\n",
       "      <td>116.985328</td>\n",
       "      <td>102.035056</td>\n",
       "    </tr>\n",
       "    <tr>\n",
       "      <th>fgw</th>\n",
       "      <td>22.883711</td>\n",
       "      <td>13.486718</td>\n",
       "      <td>21.562570</td>\n",
       "      <td>17.296865</td>\n",
       "      <td>20.082368</td>\n",
       "      <td>22.558295</td>\n",
       "      <td>19.225174</td>\n",
       "      <td>27.489766</td>\n",
       "      <td>28.442129</td>\n",
       "      <td>12.890878</td>\n",
       "      <td>25.620648</td>\n",
       "      <td>20.706293</td>\n",
       "      <td>19.202358</td>\n",
       "      <td>29.055862</td>\n",
       "      <td>16.952429</td>\n",
       "      <td>24.016618</td>\n",
       "      <td>27.202539</td>\n",
       "      <td>16.394545</td>\n",
       "      <td>32.247585</td>\n",
       "      <td>22.303841</td>\n",
       "    </tr>\n",
       "    <tr>\n",
       "      <th>outer</th>\n",
       "      <td>81.632933</td>\n",
       "      <td>48.765018</td>\n",
       "      <td>108.041723</td>\n",
       "      <td>116.878989</td>\n",
       "      <td>87.035456</td>\n",
       "      <td>81.347274</td>\n",
       "      <td>67.402439</td>\n",
       "      <td>89.447678</td>\n",
       "      <td>86.051377</td>\n",
       "      <td>96.539580</td>\n",
       "      <td>88.705323</td>\n",
       "      <td>91.285383</td>\n",
       "      <td>98.134125</td>\n",
       "      <td>103.715154</td>\n",
       "      <td>82.407992</td>\n",
       "      <td>86.876380</td>\n",
       "      <td>83.424736</td>\n",
       "      <td>100.880806</td>\n",
       "      <td>93.900331</td>\n",
       "      <td>82.617550</td>\n",
       "    </tr>\n",
       "    <tr>\n",
       "      <th>g1</th>\n",
       "      <td>80.321014</td>\n",
       "      <td>50.320212</td>\n",
       "      <td>113.835611</td>\n",
       "      <td>121.297457</td>\n",
       "      <td>86.139988</td>\n",
       "      <td>82.413823</td>\n",
       "      <td>67.069846</td>\n",
       "      <td>91.015690</td>\n",
       "      <td>89.261282</td>\n",
       "      <td>98.635792</td>\n",
       "      <td>95.221814</td>\n",
       "      <td>95.672193</td>\n",
       "      <td>96.811682</td>\n",
       "      <td>108.921155</td>\n",
       "      <td>93.131557</td>\n",
       "      <td>91.359198</td>\n",
       "      <td>82.374142</td>\n",
       "      <td>111.108357</td>\n",
       "      <td>96.370800</td>\n",
       "      <td>81.767741</td>\n",
       "    </tr>\n",
       "    <tr>\n",
       "      <th>g2</th>\n",
       "      <td>80.321014</td>\n",
       "      <td>50.320212</td>\n",
       "      <td>113.835611</td>\n",
       "      <td>121.297457</td>\n",
       "      <td>86.139988</td>\n",
       "      <td>82.413823</td>\n",
       "      <td>67.069846</td>\n",
       "      <td>91.015690</td>\n",
       "      <td>89.261282</td>\n",
       "      <td>98.635792</td>\n",
       "      <td>95.221814</td>\n",
       "      <td>95.672193</td>\n",
       "      <td>96.811682</td>\n",
       "      <td>108.921155</td>\n",
       "      <td>93.131557</td>\n",
       "      <td>91.359198</td>\n",
       "      <td>82.374142</td>\n",
       "      <td>111.108357</td>\n",
       "      <td>96.370800</td>\n",
       "      <td>81.767741</td>\n",
       "    </tr>\n",
       "    <tr>\n",
       "      <th>init</th>\n",
       "      <td>23.970476</td>\n",
       "      <td>12.653205</td>\n",
       "      <td>20.645884</td>\n",
       "      <td>16.635029</td>\n",
       "      <td>27.022572</td>\n",
       "      <td>20.903190</td>\n",
       "      <td>20.364324</td>\n",
       "      <td>22.798510</td>\n",
       "      <td>23.805301</td>\n",
       "      <td>16.686617</td>\n",
       "      <td>20.577498</td>\n",
       "      <td>16.920259</td>\n",
       "      <td>17.776415</td>\n",
       "      <td>23.015088</td>\n",
       "      <td>20.720616</td>\n",
       "      <td>20.461869</td>\n",
       "      <td>21.562106</td>\n",
       "      <td>16.921213</td>\n",
       "      <td>35.247506</td>\n",
       "      <td>20.492532</td>\n",
       "    </tr>\n",
       "    <tr>\n",
       "      <th>baseline</th>\n",
       "      <td>21.299764</td>\n",
       "      <td>10.808295</td>\n",
       "      <td>20.863306</td>\n",
       "      <td>15.826652</td>\n",
       "      <td>25.983113</td>\n",
       "      <td>24.821082</td>\n",
       "      <td>21.257595</td>\n",
       "      <td>28.257489</td>\n",
       "      <td>22.804895</td>\n",
       "      <td>18.071505</td>\n",
       "      <td>16.797969</td>\n",
       "      <td>15.453820</td>\n",
       "      <td>17.402095</td>\n",
       "      <td>24.377620</td>\n",
       "      <td>20.683468</td>\n",
       "      <td>18.648111</td>\n",
       "      <td>18.277001</td>\n",
       "      <td>14.361686</td>\n",
       "      <td>34.894766</td>\n",
       "      <td>20.442662</td>\n",
       "    </tr>\n",
       "  </tbody>\n",
       "</table>\n",
       "</div>"
      ],
      "text/plain": [
       "                  0          1           2           3           4   \\\n",
       "gw        104.943335  63.284899  144.658972  156.433758  110.956353   \n",
       "fgw        22.883711  13.486718   21.562570   17.296865   20.082368   \n",
       "outer      81.632933  48.765018  108.041723  116.878989   87.035456   \n",
       "g1         80.321014  50.320212  113.835611  121.297457   86.139988   \n",
       "g2         80.321014  50.320212  113.835611  121.297457   86.139988   \n",
       "init       23.970476  12.653205   20.645884   16.635029   27.022572   \n",
       "baseline   21.299764  10.808295   20.863306   15.826652   25.983113   \n",
       "\n",
       "                  5          6           7           8           9   \\\n",
       "gw        103.452965  87.235337  111.213752  111.694792  125.222034   \n",
       "fgw        22.558295  19.225174   27.489766   28.442129   12.890878   \n",
       "outer      81.347274  67.402439   89.447678   86.051377   96.539580   \n",
       "g1         82.413823  67.069846   91.015690   89.261282   98.635792   \n",
       "g2         82.413823  67.069846   91.015690   89.261282   98.635792   \n",
       "init       20.903190  20.364324   22.798510   23.805301   16.686617   \n",
       "baseline   24.821082  21.257595   28.257489   22.804895   18.071505   \n",
       "\n",
       "                  10          11          12          13          14  \\\n",
       "gw        111.190371  125.604424  127.897347  132.009225  113.148924   \n",
       "fgw        25.620648   20.706293   19.202358   29.055862   16.952429   \n",
       "outer      88.705323   91.285383   98.134125  103.715154   82.407992   \n",
       "g1         95.221814   95.672193   96.811682  108.921155   93.131557   \n",
       "g2         95.221814   95.672193   96.811682  108.921155   93.131557   \n",
       "init       20.577498   16.920259   17.776415   23.015088   20.720616   \n",
       "baseline   16.797969   15.453820   17.402095   24.377620   20.683468   \n",
       "\n",
       "                  15          16          17          18          19  \n",
       "gw        114.088787  103.921463  140.740721  116.985328  102.035056  \n",
       "fgw        24.016618   27.202539   16.394545   32.247585   22.303841  \n",
       "outer      86.876380   83.424736  100.880806   93.900331   82.617550  \n",
       "g1         91.359198   82.374142  111.108357   96.370800   81.767741  \n",
       "g2         91.359198   82.374142  111.108357   96.370800   81.767741  \n",
       "init       20.461869   21.562106   16.921213   35.247506   20.492532  \n",
       "baseline   18.648111   18.277001   14.361686   34.894766   20.442662  "
      ]
     },
     "execution_count": 41,
     "metadata": {},
     "output_type": "execute_result"
    }
   ],
   "source": [
    "df"
   ]
  },
  {
   "cell_type": "code",
   "execution_count": 42,
   "id": "0076ae67-a076-4a7c-962c-22543edc70ff",
   "metadata": {},
   "outputs": [
    {
     "data": {
      "text/plain": [
       "gw          115.335892\n",
       "fgw          21.981060\n",
       "outer        88.754512\n",
       "g1           91.652468\n",
       "g2           91.652468\n",
       "init         20.959010\n",
       "baseline     20.566645\n",
       "dtype: float64"
      ]
     },
     "execution_count": 42,
     "metadata": {},
     "output_type": "execute_result"
    }
   ],
   "source": [
    "df.mean(axis=1)"
   ]
  },
  {
   "cell_type": "code",
   "execution_count": 43,
   "id": "a500c3c1-6507-4acd-a1bc-ecb13980a93c",
   "metadata": {},
   "outputs": [
    {
     "data": {
      "text/plain": [
       "gw          112.421858\n",
       "fgw          21.933205\n",
       "outer        87.870390\n",
       "g1           92.245377\n",
       "g2           92.245377\n",
       "init         20.611691\n",
       "baseline     20.563065\n",
       "dtype: float64"
      ]
     },
     "execution_count": 43,
     "metadata": {},
     "output_type": "execute_result"
    }
   ],
   "source": [
    "df.median(axis=1)"
   ]
  },
  {
   "cell_type": "code",
   "execution_count": 46,
   "id": "f9e36141-3cee-4403-9e1a-f207b7d8590a",
   "metadata": {},
   "outputs": [
    {
     "data": {
      "text/plain": [
       "Text(0.5, 1.0, 'Gaussian')"
      ]
     },
     "execution_count": 46,
     "metadata": {},
     "output_type": "execute_result"
    },
    {
     "data": {
      "image/png": "[encoded data removed]",
      "text/plain": [
       "<Figure size 640x480 with 1 Axes>"
      ]
     },
     "metadata": {},
     "output_type": "display_data"
    }
   ],
   "source": [
    "sns.barplot(df.T).set_title(\"Gaussian\")"
   ]
  },
  {
   "cell_type": "code",
   "execution_count": null,
   "id": "1925c9fb-8c3b-4c99-a525-60108c9b93c5",
   "metadata": {},
   "outputs": [],
   "source": []
  }
 ],
 "metadata": {
  "kernelspec": {
   "display_name": "entot_neurips",
   "language": "python",
   "name": "entot_neurips"
  },
  "language_info": {
   "codemirror_mode": {
    "name": "ipython",
    "version": 3
   },
   "file_extension": ".py",
   "mimetype": "text/x-python",
   "name": "python",
   "nbconvert_exporter": "python",
   "pygments_lexer": "ipython3",
   "version": "3.12.4"
  }
 },
 "nbformat": 4,
 "nbformat_minor": 5
}
