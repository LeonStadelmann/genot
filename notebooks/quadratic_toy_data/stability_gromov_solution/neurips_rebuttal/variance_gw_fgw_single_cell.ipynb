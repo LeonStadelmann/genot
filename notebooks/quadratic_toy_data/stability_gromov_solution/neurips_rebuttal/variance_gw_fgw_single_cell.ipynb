{
 "cells": [
  {
   "cell_type": "code",
   "execution_count": 47,
   "id": "e3eb9c5c-81c7-4e53-99c7-93e3adfb30c3",
   "metadata": {},
   "outputs": [],
   "source": [
    "import ott\n",
    "import jax\n",
    "from ott.problems.linear import linear_problem\n",
    "from ott.problems.quadratic import quadratic_problem\n",
    "from ott.geometry import pointcloud, geometry, costs, graph\n",
    "from ott.solvers.quadratic import gromov_wasserstein\n",
    "from typing import Optional, Any\n",
    "import numpy as np\n",
    "import jax.numpy as jnp\n",
    "from tqdm import tqdm\n",
    "import moscot\n",
    "from sklearn import preprocessing as pp\n",
    "from moscot import datasets\n",
    "from ott.neural import datasets\n",
    "from ott.neural.methods.flows import dynamics, otfm\n",
    "from ott.neural.networks.layers import time_encoder\n",
    "from ott.neural.networks.velocity_field import VelocityField\n",
    "from ott.solvers import utils as solver_utils\n",
    "from torch.utils.data import DataLoader\n",
    "import jax.numpy as jnp\n",
    "from typing import Literal, Optional\n",
    "import scanpy as sc\n",
    "import functools\n",
    "import optax\n",
    "from functools import partial\n",
    "import functools\n",
    "from typing import Any, Callable, Dict, Iterable, List, Optional, Tuple, Union\n",
    "\n",
    "import jax\n",
    "import jax.numpy as jnp\n",
    "import jax.tree_util as jtu\n",
    "import numpy as np\n",
    "\n",
    "import diffrax\n",
    "from flax.training import train_state\n",
    "\n",
    "from ott import utils\n",
    "from ott.neural.methods.flows import dynamics\n",
    "\n",
    "from ott.neural.networks import velocity_field\n",
    "from ott.solvers import utils as solver_utils\n"
   ]
  },
  {
   "cell_type": "code",
   "execution_count": 18,
   "id": "f88c344a-d984-46fd-8f28-c02d1e9a16b7",
   "metadata": {},
   "outputs": [],
   "source": [
    "adata_atac = datasets.bone_marrow(rna=False)\n",
    "adata_rna = datasets.bone_marrow(rna=True)"
   ]
  },
  {
   "cell_type": "code",
   "execution_count": 21,
   "id": "8134779b-571e-4181-8b52-106271f87d06",
   "metadata": {},
   "outputs": [],
   "source": [
    "adata_atac.obsm[\"ATAC_lsi_l2_norm\"] = pp.normalize(\n",
    "    adata_atac.obsm[\"ATAC_lsi_red\"], norm=\"l2\"\n",
    ")"
   ]
  },
  {
   "cell_type": "code",
   "execution_count": 29,
   "id": "da39dcbf-dad2-4216-b5b2-f2120a5d8909",
   "metadata": {},
   "outputs": [],
   "source": [
    "x_quad = adata_atac.obsm[\"ATAC_lsi_l2_norm\"]\n",
    "x_lin = adata_atac.obsm['geneactivity_scvi']\n",
    "y_quad = adata_rna.obsm['GEX_X_pca']\n",
    "y_lin = adata_rna.obsm['geneactivity_scvi']"
   ]
  },
  {
   "cell_type": "code",
   "execution_count": 31,
   "id": "5836e823-633b-41eb-a7ef-ad1ecd55bb45",
   "metadata": {},
   "outputs": [],
   "source": [
    "@jax.jit\n",
    "def solve_gw(epsilon: float, xx: jax.Array, yy: jax.Array, cost_fn : Any):\n",
    "    ot_solver = gromov_wasserstein.GromovWasserstein(epsilon=epsilon)\n",
    "    geom_xx = pointcloud.PointCloud(\n",
    "        x=xx, y=xx, cost_fn=cost_fn, scale_cost=\"mean\"\n",
    "    )\n",
    "    geom_yy = pointcloud.PointCloud(\n",
    "        x=yy, y=yy, cost_fn=cost_fn, scale_cost=\"mean\"\n",
    "    )\n",
    "    geom_xy = None\n",
    "    prob = quadratic_problem.QuadraticProblem(\n",
    "        geom_xx, geom_yy, geom_xy,\n",
    "    )\n",
    "    return ot_solver(prob)"
   ]
  },
  {
   "cell_type": "code",
   "execution_count": 32,
   "id": "2303fb3b-5b12-4361-82cc-654784523059",
   "metadata": {},
   "outputs": [],
   "source": [
    "@jax.jit\n",
    "def solve_fgw(epsilon: float, xx: jax.Array, yy: jax.Array, xy_x: jax.Array, xy_y: jax.Array, fused_penalty: float, cost_fn : str):\n",
    "    ot_solver = gromov_wasserstein.GromovWasserstein(epsilon=epsilon)\n",
    "    geom_xx = pointcloud.PointCloud(\n",
    "        x=xx, y=xx, cost_fn=cost_fn, scale_cost=\"mean\"\n",
    "    )\n",
    "    geom_yy = pointcloud.PointCloud(\n",
    "        x=yy, y=yy, cost_fn=cost_fn, scale_cost=\"mean\"\n",
    "    )\n",
    "    geom_xy = pointcloud.PointCloud(\n",
    "                    x=xy_x, y=xy_y, cost_fn=cost_fn, scale_cost=\"mean\"\n",
    "                )\n",
    "    prob = quadratic_problem.QuadraticProblem(\n",
    "        geom_xx, geom_yy, geom_xy, fused_penalty=fused_penalty,\n",
    "    )\n",
    "    return ot_solver(prob)"
   ]
  },
  {
   "cell_type": "code",
   "execution_count": null,
   "id": "faf24891-96b3-466e-9215-7c68643a961e",
   "metadata": {},
   "outputs": [],
   "source": []
  },
  {
   "cell_type": "code",
   "execution_count": 33,
   "id": "ce70a698-167d-4b96-85d6-495375a57bf3",
   "metadata": {},
   "outputs": [],
   "source": [
    "epsilon=0.01\n",
    "n = m = 1024\n",
    "n_cells = adata_rna.n_obs\n",
    "N_POINTS = 10\n",
    "N_DRAWS = 100"
   ]
  },
  {
   "cell_type": "code",
   "execution_count": 34,
   "id": "bb85d75d-494e-4fdb-a516-9945f9c65fac",
   "metadata": {},
   "outputs": [],
   "source": [
    "x_all = np.concatenate((x_lin, x_quad), axis=1)\n",
    "y_all = np.concatenate((y_lin, y_quad), axis=1)"
   ]
  },
  {
   "cell_type": "markdown",
   "id": "cce66b14-7a0e-4cb8-a489-49c22679dbf0",
   "metadata": {},
   "source": [
    "# GW coupling"
   ]
  },
  {
   "cell_type": "code",
   "execution_count": 36,
   "id": "0e1b362f-aa65-4bd0-9b09-ccfd97e0cbf9",
   "metadata": {},
   "outputs": [
    {
     "name": "stderr",
     "output_type": "stream",
     "text": [
      "  0%|          | 0/10 [00:00<?, ?it/s]2024-08-02 11:20:11.562140: W external/xla/xla/service/gpu/nvptx_compiler.cc:836] The NVIDIA driver's CUDA version is 12.3 which is older than the PTX compiler version (12.6.20). Because the driver is older than the PTX compiler version, XLA is disabling parallel compilation, which may slow down compilation. You should update your NVIDIA driver or use the NVIDIA-provided CUDA forward compatibility packages.\n",
      "100%|██████████| 10/10 [01:40<00:00, 10.02s/it]\n"
     ]
    }
   ],
   "source": [
    "rng = np.random.default_rng(12345)\n",
    "\n",
    "vars_gw = [None] * N_POINTS\n",
    "for it in tqdm(range(N_POINTS)):\n",
    "    minibatch_match = [None] * N_DRAWS\n",
    "    x_fixed = rng.choice(x_quad, size=(1,))\n",
    "    for i in range(N_DRAWS):\n",
    "        xx = rng.choice(x_quad, size=(n-1,))\n",
    "        yy = rng.choice(y_quad, size=(n,))\n",
    "        xx = np.concatenate((x_fixed, xx), axis=0)\n",
    "        out = solve_gw(epsilon, xx, yy, costs.SqEuclidean())\n",
    "        minibatch_match[i] = yy[out.matrix[0].argmax()]\n",
    "    vars_gw[it] = np.var(minibatch_match, axis=0)\n",
    "        "
   ]
  },
  {
   "cell_type": "code",
   "execution_count": 37,
   "id": "b53b9bdc-05f3-468f-8716-966f0f500b7b",
   "metadata": {},
   "outputs": [
    {
     "data": {
      "text/plain": [
       "array([ 5.341936  ,  9.443396  ,  3.4130402 , 18.488602  , 11.778585  ,\n",
       "        2.2195802 ,  1.6063015 ,  1.7096084 ,  2.4169955 ,  1.0565075 ,\n",
       "        1.3675957 ,  1.4125022 ,  1.6875887 ,  0.915408  ,  1.4444823 ,\n",
       "        1.6825899 ,  1.7936014 ,  1.5318329 ,  1.9978215 ,  1.189678  ,\n",
       "        1.148832  ,  0.8153895 ,  0.8552225 ,  0.5410267 ,  0.63023376,\n",
       "        0.63284415,  0.6548734 ,  0.6377155 ,  0.569869  ,  0.46078387,\n",
       "        0.36792287,  0.49002132,  0.50971776,  0.4240129 ,  0.48965827,\n",
       "        0.35645932,  0.44659686,  0.39116758,  0.47028342,  0.49672455,\n",
       "        0.3743592 ,  0.4045298 ,  0.4306882 ,  0.30464956,  0.41981164,\n",
       "        0.38552368,  0.3943028 ,  0.3405323 ,  0.38330466,  0.36002928],\n",
       "      dtype=float32)"
      ]
     },
     "execution_count": 37,
     "metadata": {},
     "output_type": "execute_result"
    }
   ],
   "source": [
    "np.mean(vars_gw, axis=0)"
   ]
  },
  {
   "cell_type": "markdown",
   "id": "52431443-057d-4437-a0f0-72baf948055d",
   "metadata": {},
   "source": [
    "# FGW coupling"
   ]
  },
  {
   "cell_type": "code",
   "execution_count": 38,
   "id": "727b6014-ae46-4cb0-a70e-96f4996e1d3b",
   "metadata": {},
   "outputs": [],
   "source": [
    "fused_dim = adata_rna.obsm['geneactivity_scvi'].shape[1]"
   ]
  },
  {
   "cell_type": "code",
   "execution_count": 41,
   "id": "5e043cfb-f330-4fb5-96fa-5d879f337f12",
   "metadata": {},
   "outputs": [
    {
     "name": "stderr",
     "output_type": "stream",
     "text": [
      "100%|██████████| 10/10 [11:22<00:00, 68.23s/it]\n"
     ]
    }
   ],
   "source": [
    "fused_penalty = 5.0\n",
    "\n",
    "vars_fgw = [None] * N_POINTS\n",
    "for it in tqdm(range(N_POINTS)):\n",
    "    minibatch_match = [None] * N_DRAWS\n",
    "    x_fixed = rng.choice(x_all, size=(1,))\n",
    "    for i in range(N_DRAWS):\n",
    "        x = rng.choice(x_all, size=(n-1,))\n",
    "        y = rng.choice(y_all, size=(n,))\n",
    "        x = np.concatenate((x_fixed, x), axis=0)\n",
    "        xy_x = x[:, :fused_dim]\n",
    "        xx = x[:, fused_dim:]\n",
    "        xy_y = y[:, :fused_dim]\n",
    "        yy = y[:, fused_dim:]\n",
    "        out = solve_fgw(epsilon, xx, yy, xy_x, xy_y, fused_penalty, costs.SqEuclidean())\n",
    "        minibatch_match[i] = yy[out.matrix[0].argmax()]\n",
    "    vars_fgw[it] = np.var(minibatch_match, axis=0)\n",
    "        "
   ]
  },
  {
   "cell_type": "code",
   "execution_count": 42,
   "id": "a9041f2a-8676-4eae-8c7b-c23ea54bf961",
   "metadata": {},
   "outputs": [
    {
     "data": {
      "text/plain": [
       "array([1.6058352 , 0.71844906, 1.5548128 , 1.7208456 , 1.6152325 ,\n",
       "       1.444094  , 0.9143399 , 0.8446681 , 1.0240452 , 0.7637906 ,\n",
       "       0.6131214 , 0.6254627 , 0.6617712 , 0.6505443 , 0.84522295,\n",
       "       0.5436702 , 0.6355413 , 0.56149304, 0.40460578, 0.49956036,\n",
       "       0.5260143 , 0.43565196, 0.49143115, 0.4675246 , 0.42419046,\n",
       "       0.45044756, 0.53047365, 0.47891778, 0.49142194, 0.45686287,\n",
       "       0.34254217, 0.445892  , 0.43057093, 0.3878977 , 0.56677836,\n",
       "       0.41601315, 0.48215023, 0.40180627, 0.30989015, 0.51922053,\n",
       "       0.3438385 , 0.37571892, 0.4225463 , 0.4530788 , 0.38479957,\n",
       "       0.31896955, 0.30284244, 0.30423164, 0.47299033, 0.35403764],\n",
       "      dtype=float32)"
      ]
     },
     "execution_count": 42,
     "metadata": {},
     "output_type": "execute_result"
    }
   ],
   "source": [
    "np.mean(vars_fgw, axis=0)"
   ]
  },
  {
   "cell_type": "markdown",
   "id": "39ec18dd-0b24-4340-80e9-3b5709aa93bf",
   "metadata": {},
   "source": [
    "# Outer coupling"
   ]
  },
  {
   "cell_type": "code",
   "execution_count": 43,
   "id": "c7226565-4d23-4ca1-a668-621396044786",
   "metadata": {},
   "outputs": [
    {
     "name": "stderr",
     "output_type": "stream",
     "text": [
      "100%|██████████| 10/10 [00:00<00:00, 17.52it/s]\n"
     ]
    }
   ],
   "source": [
    "rng = np.random.default_rng(12345)\n",
    "\n",
    "vars_outer = [None] * N_POINTS\n",
    "for it in tqdm(range(N_POINTS)):\n",
    "    minibatch_match = [None] * N_DRAWS\n",
    "    x_fixed = rng.choice(x_quad, size=(1,))\n",
    "    for i in range(N_DRAWS):\n",
    "        xx = rng.choice(x_quad, size=(n-1,))\n",
    "        yy = rng.choice(y_quad, size=(n,))\n",
    "        xx = np.concatenate((x_fixed, xx), axis=0)\n",
    "        minibatch_match[i] = yy[rng.choice(n)]\n",
    "    vars_outer[it] = np.var(minibatch_match, axis=0)\n",
    "        "
   ]
  },
  {
   "cell_type": "code",
   "execution_count": 44,
   "id": "bff41336-7971-41fa-ac50-927cacd94d21",
   "metadata": {},
   "outputs": [
    {
     "data": {
      "text/plain": [
       "array([63.85145   , 20.996494  , 10.8110895 ,  9.172075  ,  4.8902535 ,\n",
       "        2.973329  ,  2.418523  ,  1.9865059 ,  1.9095405 ,  1.7250545 ,\n",
       "        1.4696648 ,  1.589028  ,  1.4415276 ,  1.4233559 ,  1.2567345 ,\n",
       "        1.1282915 ,  0.98204535,  0.8703457 ,  0.9029452 ,  0.8260309 ,\n",
       "        0.8104348 ,  0.7899305 ,  0.72356737,  0.704216  ,  0.6943593 ,\n",
       "        0.6676404 ,  0.6392656 ,  0.6633253 ,  0.6335087 ,  0.65308446,\n",
       "        0.6496994 ,  0.6102631 ,  0.56338954,  0.5937041 ,  0.6269791 ,\n",
       "        0.5373762 ,  0.57377195,  0.5638007 ,  0.5281928 ,  0.58500785,\n",
       "        0.5747962 ,  0.61202157,  0.5183285 ,  0.62495965,  0.57612765,\n",
       "        0.5513538 ,  0.66942555,  0.5211011 ,  0.5400032 ,  0.52233875],\n",
       "      dtype=float32)"
      ]
     },
     "execution_count": 44,
     "metadata": {},
     "output_type": "execute_result"
    }
   ],
   "source": [
    "np.mean(vars_outer, axis=0)"
   ]
  },
  {
   "cell_type": "markdown",
   "id": "1601f74a-73f7-4643-a61b-1a39e1ebec79",
   "metadata": {},
   "source": [
    "# GW coupling with graph cost"
   ]
  },
  {
   "cell_type": "code",
   "execution_count": 48,
   "id": "30d64ea5-d76f-4996-8a82-97834e3cdb37",
   "metadata": {},
   "outputs": [],
   "source": [
    "def get_nearest_neighbors(\n",
    "    X: jnp.ndarray, Y: Optional[jnp.ndarray], k: int = 30  # type: ignore[name-defined]\n",
    ") -> Tuple[jnp.ndarray, jnp.ndarray]:  # type: ignore[name-defined]\n",
    "    concat = X if Y is None else jnp.concatenate((X, Y), axis=0) \n",
    "    pairwise_euclidean_distances = pointcloud.PointCloud(concat, concat).cost_matrix\n",
    "    distances, indices = jax.lax.approx_min_k(\n",
    "        pairwise_euclidean_distances, k=k, recall_target=0.95, aggregate_to_topk=True\n",
    "    )\n",
    "    connectivities = jnp.multiply(jnp.exp(-distances),  (distances>0))\n",
    "    return connectivities/jnp.sum(connectivities), indices\n",
    "\n",
    "\n",
    "def create_cost_matrix_quad(X: jnp.array, k_neighbors: int, **kwargs: Any) -> jnp.array:\n",
    "    distances, indices = get_nearest_neighbors(X, None, k_neighbors)\n",
    "    a = jnp.zeros((len(X), len(X)))\n",
    "    adj_matrix = a.at[\n",
    "        jnp.repeat(jnp.arange(len(X)), repeats=k_neighbors).flatten(), indices.flatten()\n",
    "    ].set(distances.flatten())\n",
    "    return graph.Graph.from_graph(adj_matrix, normalize=kwargs.pop(\"normalize\", True), **kwargs).cost_matrix\n",
    "\n",
    "@jax.jit\n",
    "def solve_gw_geodesic(epsilon: float, xx: jax.Array, yy: jax.Array, k_neighbors=1024):\n",
    "    ot_solver = gromov_wasserstein.GromovWasserstein(epsilon=epsilon)\n",
    "    cm_xx = create_cost_matrix_quad(xx, k_neighbors)\n",
    "    cm_yy = create_cost_matrix_quad(yy, k_neighbors)\n",
    "    geom_xx = geometry.Geometry(cost_matrix=cm_xx, epsilon=epsilon, scale_cost=\"mean\")\n",
    "    geom_yy = geometry.Geometry(cost_matrix=cm_yy, epsilon=epsilon, scale_cost=\"mean\")\n",
    "    geom_xy = None\n",
    "    prob = quadratic_problem.QuadraticProblem(\n",
    "        geom_xx, geom_yy, geom_xy,\n",
    "    )\n",
    "    \n",
    "    return ot_solver(prob)\n"
   ]
  },
  {
   "cell_type": "code",
   "execution_count": 51,
   "id": "4df13b08-711c-44c3-9626-c0b4ed994f57",
   "metadata": {},
   "outputs": [
    {
     "name": "stderr",
     "output_type": "stream",
     "text": [
      "100%|██████████| 10/10 [21:44<00:00, 130.48s/it]\n"
     ]
    }
   ],
   "source": [
    "rng = np.random.default_rng(12345)\n",
    "\n",
    "vars_gw_with_cost = [None] * N_POINTS\n",
    "for it in tqdm(range(N_POINTS)):\n",
    "    minibatch_match = [None] * N_DRAWS\n",
    "    x_fixed = rng.choice(x_quad, size=(1,))\n",
    "    for i in range(N_DRAWS):\n",
    "        xx = rng.choice(x_quad, size=(n-1,))\n",
    "        yy = rng.choice(y_quad, size=(n,))\n",
    "        xx = np.concatenate((x_fixed, xx), axis=0)\n",
    "        out = solve_gw_geodesic(1e-4, xx, yy)\n",
    "        minibatch_match[i] = yy[out.matrix[0].argmax()]\n",
    "    vars_gw_with_cost[it] = np.var(minibatch_match, axis=0)\n",
    "        "
   ]
  },
  {
   "cell_type": "code",
   "execution_count": 50,
   "id": "99aed54c-f92f-4f54-84f5-fa314da4eeca",
   "metadata": {},
   "outputs": [
    {
     "data": {
      "text/plain": [
       "array([26.144226  ,  5.2994776 ,  4.110175  ,  3.3605618 ,  2.1154704 ,\n",
       "        2.2987833 ,  1.8305962 ,  1.4375892 ,  1.5837132 ,  1.3724697 ,\n",
       "        1.1490113 ,  1.4541018 ,  1.2324321 ,  0.6696581 ,  1.1929839 ,\n",
       "        1.0228605 ,  1.3315439 ,  0.579856  ,  1.5750699 ,  0.9631475 ,\n",
       "        0.94529456,  0.6166785 ,  0.8490292 ,  0.5294205 ,  0.62870467,\n",
       "        0.55993813,  0.7111932 ,  0.4478217 ,  0.6927124 ,  0.4607266 ,\n",
       "        0.49126992,  0.5105599 ,  0.34721106,  0.33905137,  0.6510705 ,\n",
       "        0.31404868,  0.4170688 ,  0.34568197,  0.34320244,  0.3746317 ,\n",
       "        0.31040493,  0.43551064,  0.44723076,  0.2847697 ,  0.51012313,\n",
       "        0.26826063,  0.33211073,  0.29835093,  0.3791681 ,  0.3026885 ],\n",
       "      dtype=float32)"
      ]
     },
     "execution_count": 50,
     "metadata": {},
     "output_type": "execute_result"
    }
   ],
   "source": [
    "np.mean(vars_gw_with_cost, axis=0)"
   ]
  },
  {
   "cell_type": "code",
   "execution_count": 52,
   "id": "da8b293f-a9b2-4ebf-9480-347bcf72a9e4",
   "metadata": {},
   "outputs": [
    {
     "data": {
      "text/plain": [
       "array([30.287369  , 13.795336  ,  3.25704   ,  8.520558  ,  3.118068  ,\n",
       "        2.4210818 ,  2.2824252 ,  1.4459902 ,  1.5132645 ,  1.7648203 ,\n",
       "        1.337975  ,  1.1572365 ,  0.95345414,  1.0153188 ,  0.85283965,\n",
       "        0.9153244 ,  0.81427366,  0.67998827,  0.72692597,  0.73937255,\n",
       "        0.7375054 ,  0.81443584,  0.6848441 ,  0.6463245 ,  0.67465246,\n",
       "        0.51106584,  0.6099758 ,  0.50120467,  0.59036005,  0.4672802 ,\n",
       "        0.38954112,  0.46826306,  0.47254533,  0.46390995,  0.46100408,\n",
       "        0.41751584,  0.37316605,  0.372652  ,  0.44961944,  0.44628996,\n",
       "        0.40203506,  0.40338048,  0.40815306,  0.44192058,  0.39213556,\n",
       "        0.3654736 ,  0.3348021 ,  0.40522486,  0.36673665,  0.35686824],\n",
       "      dtype=float32)"
      ]
     },
     "execution_count": 52,
     "metadata": {},
     "output_type": "execute_result"
    }
   ],
   "source": [
    "np.mean(vars_gw_with_cost, axis=0)"
   ]
  },
  {
   "cell_type": "code",
   "execution_count": 55,
   "id": "8c7a0c42-9df8-4766-9447-8b3e814583f1",
   "metadata": {},
   "outputs": [
    {
     "data": {
      "text/plain": [
       "0.49824405"
      ]
     },
     "execution_count": 55,
     "metadata": {},
     "output_type": "execute_result"
    }
   ],
   "source": [
    "np.median(vars_gw_with_cost)"
   ]
  },
  {
   "cell_type": "code",
   "execution_count": 56,
   "id": "f06d42c6-2a9d-42e6-9cfd-cb642295b049",
   "metadata": {},
   "outputs": [
    {
     "data": {
      "text/plain": [
       "0.73889935"
      ]
     },
     "execution_count": 56,
     "metadata": {},
     "output_type": "execute_result"
    }
   ],
   "source": [
    "np.median(vars_outer)"
   ]
  },
  {
   "cell_type": "code",
   "execution_count": 57,
   "id": "6d7ee257-3b41-4c66-bbe5-ef74f9121d82",
   "metadata": {},
   "outputs": [
    {
     "data": {
      "text/plain": [
       "[array([56.36818   ,  0.31370762,  4.848273  ,  8.252392  ,  0.44863963,\n",
       "         2.7913184 ,  4.34932   ,  1.5811455 ,  1.1619692 ,  2.8873563 ,\n",
       "         0.84533864,  1.3445387 ,  0.29838789,  0.96899104,  0.6282118 ,\n",
       "         0.8479105 ,  0.38007632,  0.3448022 ,  0.9715004 ,  0.4719854 ,\n",
       "         0.3180483 ,  0.80603766,  0.5998819 ,  0.49886167,  0.74294114,\n",
       "         0.21643727,  0.62291235,  0.3186474 ,  0.29721567,  0.38680282,\n",
       "         0.436132  ,  0.35899487,  0.26891625,  0.29621464,  0.30375597,\n",
       "         0.2549983 ,  0.3000758 ,  0.28349128,  0.34830874,  0.39077517,\n",
       "         0.2113358 ,  0.34109733,  0.28902444,  0.24463736,  0.2960405 ,\n",
       "         0.3071557 ,  0.23506777,  0.2744166 ,  0.21660623,  0.24227029],\n",
       "       dtype=float32),\n",
       " array([26.71894   , 33.838123  ,  3.1722476 ,  9.732677  ,  2.870113  ,\n",
       "         2.7596786 ,  1.6742207 ,  1.4702929 ,  2.8194113 ,  1.5336356 ,\n",
       "         3.7468905 ,  1.1574912 ,  0.9973824 ,  2.0079722 ,  1.0125808 ,\n",
       "         1.0160599 ,  0.9290649 ,  1.1126908 ,  0.86160934,  1.0247543 ,\n",
       "         1.164762  ,  0.8495912 ,  0.8815567 ,  1.2142806 ,  0.8342721 ,\n",
       "         0.58214563,  1.0390912 ,  0.83369696,  1.0180777 ,  0.73757887,\n",
       "         0.3594532 ,  0.6919556 ,  0.69572747,  0.44959944,  0.6259493 ,\n",
       "         0.48257047,  0.37719795,  0.5623224 ,  0.64079267,  0.48308027,\n",
       "         0.47189915,  0.4058921 ,  0.39435562,  0.53436196,  0.46507797,\n",
       "         0.47358257,  0.35336232,  0.4868392 ,  0.44456074,  0.35558078],\n",
       "       dtype=float32),\n",
       " array([56.4401    ,  0.30479524,  4.1856184 , 11.173434  ,  0.41636804,\n",
       "         1.9886801 ,  3.2044773 ,  1.5181077 ,  0.9630293 ,  3.4619834 ,\n",
       "         0.71752065,  1.5242621 ,  0.4587725 ,  0.97851706,  0.6126304 ,\n",
       "         1.4955579 ,  0.5494963 ,  0.43835413,  0.6802821 ,  0.57658744,\n",
       "         0.34834987,  0.97081864,  0.5571969 ,  0.7524267 ,  0.88769114,\n",
       "         0.26432177,  0.6038453 ,  0.3796573 ,  0.31479105,  0.337895  ,\n",
       "         0.43414965,  0.36428857,  0.4344944 ,  0.44066358,  0.35052502,\n",
       "         0.31822348,  0.42072287,  0.4012664 ,  0.39331725,  0.31319636,\n",
       "         0.47163665,  0.3156398 ,  0.41239238,  0.41045752,  0.27910662,\n",
       "         0.35463542,  0.36161196,  0.4487227 ,  0.48655185,  0.35820964],\n",
       "       dtype=float32),\n",
       " array([0.20419796, 0.47050267, 0.22045356, 0.4615909 , 5.848149  ,\n",
       "        1.3484193 , 0.59471405, 0.64432824, 0.7900049 , 0.2513464 ,\n",
       "        0.41563386, 0.6443609 , 0.8180945 , 0.75233245, 0.8828571 ,\n",
       "        0.26266545, 0.6521546 , 0.5854339 , 0.21833397, 0.40288213,\n",
       "        0.6267281 , 0.5307944 , 0.33881813, 0.30815947, 0.2489182 ,\n",
       "        0.6156373 , 0.32449877, 0.3651535 , 0.68170255, 0.3719755 ,\n",
       "        0.26083282, 0.43772143, 0.28546113, 0.38211876, 0.48408562,\n",
       "        0.41118947, 0.32575974, 0.25727856, 0.36110917, 0.5661258 ,\n",
       "        0.41576955, 0.41461098, 0.40156987, 0.3396428 , 0.29744175,\n",
       "        0.23356852, 0.36835426, 0.31783006, 0.3559038 , 0.23700815],\n",
       "       dtype=float32),\n",
       " array([41.891407  ,  9.3751335 ,  6.2433457 ,  8.943183  ,  3.838188  ,\n",
       "         5.1138916 ,  1.9729476 ,  1.4496881 ,  2.088296  ,  1.7841551 ,\n",
       "         1.7750229 ,  2.1795173 ,  1.7094481 ,  0.9335582 ,  1.5472492 ,\n",
       "         1.2316781 ,  1.9363339 ,  1.2948703 ,  0.8597313 ,  1.5752861 ,\n",
       "         1.5370694 ,  1.0106335 ,  1.4701504 ,  0.94620675,  1.021123  ,\n",
       "         0.85775673,  0.925444  ,  0.7737407 ,  1.129077  ,  0.77704155,\n",
       "         0.45301524,  0.77564406,  0.68929505,  0.8776169 ,  0.918583  ,\n",
       "         0.79585594,  0.43672618,  0.39734805,  0.7262363 ,  0.67060506,\n",
       "         0.65708166,  0.5087174 ,  0.6260363 ,  0.9552321 ,  0.8131548 ,\n",
       "         0.5833122 ,  0.5595063 ,  0.68399316,  0.38263616,  0.6498181 ],\n",
       "       dtype=float32),\n",
       " array([ 0.52817976, 37.065468  ,  1.5028944 , 14.89962   ,  4.2919    ,\n",
       "         1.3723067 ,  0.55629504,  0.8654445 ,  1.1514932 ,  0.45406836,\n",
       "         1.8660771 ,  0.4272885 ,  0.7691967 ,  0.7226052 ,  0.52918357,\n",
       "         0.47805065,  0.4930453 ,  0.4946844 ,  0.4136354 ,  0.66497695,\n",
       "         0.78710485,  0.60798854,  0.46202537,  0.43825397,  0.4664041 ,\n",
       "         0.31286153,  0.32436714,  0.44068375,  0.5985262 ,  0.4640943 ,\n",
       "         0.35654476,  0.4286913 ,  0.4999285 ,  0.34524998,  0.36841354,\n",
       "         0.38089985,  0.37346995,  0.347512  ,  0.41060314,  0.33988112,\n",
       "         0.39737648,  0.34447306,  0.36536157,  0.3838019 ,  0.27572662,\n",
       "         0.24363564,  0.2979071 ,  0.38173988,  0.28931454,  0.36211535],\n",
       "       dtype=float32),\n",
       " array([0.3199646 , 0.3992525 , 0.3914371 , 0.66422683, 8.791271  ,\n",
       "        1.7025987 , 1.2880621 , 0.84808594, 1.889827  , 0.37138283,\n",
       "        0.6693352 , 0.7685082 , 2.2750711 , 1.1506472 , 1.45212   ,\n",
       "        0.34808746, 1.2295802 , 0.6968143 , 0.3354958 , 0.64370567,\n",
       "        0.9382629 , 0.5945353 , 0.6281067 , 0.53819394, 0.31802872,\n",
       "        0.9993229 , 0.49762642, 0.43059567, 0.8907106 , 0.38206276,\n",
       "        0.41693747, 0.32983252, 0.33176982, 0.42954937, 0.46149346,\n",
       "        0.40627316, 0.40667766, 0.33430156, 0.37183663, 0.54796433,\n",
       "        0.3121969 , 0.43317664, 0.46945247, 0.37864578, 0.41670626,\n",
       "        0.31305182, 0.32794535, 0.30750644, 0.46621266, 0.3030776 ],\n",
       "       dtype=float32),\n",
       " array([56.674084  ,  1.0239352 ,  5.2216554 ,  5.557936  ,  0.38119683,\n",
       "         2.2986617 ,  3.785148  ,  2.115421  ,  1.1131307 ,  3.3689072 ,\n",
       "         0.8919706 ,  1.2722311 ,  0.41262734,  0.74127924,  0.46706665,\n",
       "         1.5189205 ,  0.54741395,  0.4862514 ,  0.9943229 ,  0.46329612,\n",
       "         0.3445698 ,  1.1005971 ,  0.599442  ,  0.6362588 ,  0.79302126,\n",
       "         0.25436404,  0.5843689 ,  0.4389816 ,  0.3095028 ,  0.2768307 ,\n",
       "         0.34035552,  0.31388688,  0.37639847,  0.41937655,  0.32720262,\n",
       "         0.45567006,  0.31892627,  0.40019283,  0.41167203,  0.34166214,\n",
       "         0.32245758,  0.45465508,  0.3879835 ,  0.4564026 ,  0.26052636,\n",
       "         0.41865936,  0.26651227,  0.42711437,  0.31687245,  0.3068395 ],\n",
       "       dtype=float32),\n",
       " array([ 0.83428663, 49.166836  ,  1.4693642 , 13.312488  ,  3.7424574 ,\n",
       "         1.5505693 ,  1.4105332 ,  0.80208427,  1.4821379 ,  0.53167254,\n",
       "         1.2395971 ,  0.4634715 ,  1.1122346 ,  0.8750554 ,  0.60953104,\n",
       "         0.40153188,  0.6341269 ,  0.6464537 ,  0.64268655,  0.75573295,\n",
       "         0.6526921 ,  0.3482993 ,  0.56918496,  0.44170678,  0.53755784,\n",
       "         0.63749033,  0.45127705,  0.5728002 ,  0.32480168,  0.5275854 ,\n",
       "         0.43105626,  0.58059675,  0.68124026,  0.54911566,  0.43511087,\n",
       "         0.28519067,  0.44176438,  0.33454052,  0.42518052,  0.3519393 ,\n",
       "         0.40292034,  0.3885616 ,  0.3984771 ,  0.35169733,  0.45342836,\n",
       "         0.41783145,  0.29115778,  0.3423188 ,  0.40149957,  0.37723237],\n",
       "       dtype=float32),\n",
       " array([62.89436   ,  5.9956036 ,  5.315112  , 12.20803   ,  0.55239415,\n",
       "         3.2846928 ,  3.9885323 ,  3.1653037 ,  1.6733465 ,  3.003695  ,\n",
       "         1.2123629 ,  1.7906951 ,  0.6833255 ,  1.0222298 ,  0.786966  ,\n",
       "         1.5527824 ,  0.7914434 ,  0.69952756,  1.291662  ,  0.81451803,\n",
       "         0.65746653,  1.3250633 ,  0.7420782 ,  0.68889636,  0.8965672 ,\n",
       "         0.37032086,  0.72632676,  0.45808995,  0.33919594,  0.41093472,\n",
       "         0.4069343 ,  0.4010183 ,  0.4622222 ,  0.44959494,  0.3349216 ,\n",
       "         0.38428733,  0.33033958,  0.40826637,  0.40713775,  0.4576697 ,\n",
       "         0.3576764 ,  0.4269807 ,  0.3368769 ,  0.36432663,  0.3641464 ,\n",
       "         0.30930355,  0.28659594,  0.38176718,  0.30720857,  0.37653062],\n",
       "       dtype=float32)]"
      ]
     },
     "execution_count": 57,
     "metadata": {},
     "output_type": "execute_result"
    }
   ],
   "source": [
    "vars_gw_with_cost"
   ]
  },
  {
   "cell_type": "code",
   "execution_count": 58,
   "id": "2e734312-57a2-4add-840c-d7ec65c52f99",
   "metadata": {},
   "outputs": [],
   "source": [
    "import seaborn as sns"
   ]
  },
  {
   "cell_type": "code",
   "execution_count": 59,
   "id": "7e3d711f-d485-4c6c-b459-de64626c6cf6",
   "metadata": {},
   "outputs": [
    {
     "data": {
      "text/plain": [
       "array([34.305176  ,  3.5097694 ,  3.6789331 ,  9.337931  ,  3.3062851 ,\n",
       "        2.143671  ,  1.8235841 ,  1.4599905 ,  1.3220536 ,  1.6588954 ,\n",
       "        1.0521667 ,  1.2148612 ,  0.7936456 ,  0.95127463,  0.7075889 ,\n",
       "        0.9319852 ,  0.6431408 ,  0.6159438 ,  0.7700067 ,  0.65434134,\n",
       "        0.6550793 ,  0.82781446,  0.59966195,  0.5872264 ,  0.7679812 ,\n",
       "        0.47623324,  0.5941071 ,  0.4398327 ,  0.46886104,  0.39886877,\n",
       "        0.41193587,  0.4148548 ,  0.4483583 ,  0.43510646,  0.4017622 ,\n",
       "        0.39528024,  0.37533396,  0.37243003,  0.40887046,  0.42422244,\n",
       "        0.4001484 ,  0.41025156,  0.39641637,  0.38122386,  0.3307941 ,\n",
       "        0.33384362,  0.31292623,  0.38175353,  0.36926997,  0.3568952 ],\n",
       "      dtype=float32)"
      ]
     },
     "execution_count": 59,
     "metadata": {},
     "output_type": "execute_result"
    }
   ],
   "source": [
    "np.median(vars_gw_with_cost, axis=0)"
   ]
  },
  {
   "cell_type": "code",
   "execution_count": 60,
   "id": "f92fb074-6024-48f9-b39b-9cf7a7a627e9",
   "metadata": {},
   "outputs": [
    {
     "data": {
      "text/plain": [
       "array([63.328766  , 21.162588  , 10.765812  ,  9.44256   ,  4.937848  ,\n",
       "        2.8993225 ,  2.287239  ,  1.9870181 ,  1.9609971 ,  1.673708  ,\n",
       "        1.426938  ,  1.5883273 ,  1.3660821 ,  1.4497459 ,  1.2387083 ,\n",
       "        1.2089312 ,  0.99777865,  0.8463193 ,  0.8859196 ,  0.8473345 ,\n",
       "        0.7960615 ,  0.7768669 ,  0.7335659 ,  0.70843804,  0.6631929 ,\n",
       "        0.6274885 ,  0.6457504 ,  0.67355883,  0.58294845,  0.62390095,\n",
       "        0.7044693 ,  0.62885535,  0.5419507 ,  0.54576534,  0.6245214 ,\n",
       "        0.5611466 ,  0.56516886,  0.52852005,  0.5235366 ,  0.5400578 ,\n",
       "        0.5140086 ,  0.54182863,  0.5070927 ,  0.56044716,  0.6100757 ,\n",
       "        0.48293784,  0.6195171 ,  0.52509487,  0.5004153 ,  0.52955616],\n",
       "      dtype=float32)"
      ]
     },
     "execution_count": 60,
     "metadata": {},
     "output_type": "execute_result"
    }
   ],
   "source": [
    "np.median(vars_outer, axis=0)"
   ]
  },
  {
   "cell_type": "code",
   "execution_count": 61,
   "id": "eed6dc05-92a2-4187-822f-a1535a902636",
   "metadata": {},
   "outputs": [
    {
     "data": {
      "text/plain": [
       "array([ 0.8820608 ,  9.290772  ,  4.1896243 , 14.393162  , 12.516366  ,\n",
       "        1.5015056 ,  1.2207592 ,  0.9511055 ,  1.6950252 ,  0.623165  ,\n",
       "        0.77666414,  0.84694695,  1.8101006 ,  0.8568433 ,  0.96417236,\n",
       "        1.5446256 ,  1.1234238 ,  1.3443781 ,  0.899596  ,  0.92511   ,\n",
       "        0.7018045 ,  0.66213584,  0.7191014 ,  0.421175  ,  0.43247208,\n",
       "        0.47894132,  0.48229694,  0.66355455,  0.48039237,  0.44007665,\n",
       "        0.36243406,  0.37708473,  0.4890284 ,  0.3879767 ,  0.45313394,\n",
       "        0.32599285,  0.4414451 ,  0.38105157,  0.4406883 ,  0.45656043,\n",
       "        0.3951171 ,  0.41522592,  0.4067306 ,  0.29068375,  0.39024383,\n",
       "        0.35033363,  0.37701407,  0.32212588,  0.36680806,  0.378597  ],\n",
       "      dtype=float32)"
      ]
     },
     "execution_count": 61,
     "metadata": {},
     "output_type": "execute_result"
    }
   ],
   "source": [
    "np.median(vars_gw, axis=0)"
   ]
  },
  {
   "cell_type": "code",
   "execution_count": 62,
   "id": "f49bcfb7-d1f2-4a53-be60-de6433398738",
   "metadata": {},
   "outputs": [
    {
     "data": {
      "text/plain": [
       "array([0.5221194 , 0.41073254, 0.6073319 , 0.43629837, 1.031556  ,\n",
       "       1.0521399 , 0.84350705, 0.42736018, 1.1203581 , 0.32484668,\n",
       "       0.43899712, 0.5201279 , 0.5546199 , 0.67939895, 0.734656  ,\n",
       "       0.37453765, 0.6764116 , 0.41707307, 0.32706374, 0.5439963 ,\n",
       "       0.47210515, 0.43207037, 0.3628828 , 0.37915373, 0.31847644,\n",
       "       0.3506788 , 0.46502542, 0.44106048, 0.4119529 , 0.41103598,\n",
       "       0.29024774, 0.37666082, 0.39988178, 0.35549098, 0.53449893,\n",
       "       0.3768517 , 0.47108155, 0.2848975 , 0.28934675, 0.49999887,\n",
       "       0.25623393, 0.3727044 , 0.4218763 , 0.39999914, 0.372264  ,\n",
       "       0.28622118, 0.2898785 , 0.2647023 , 0.4104831 , 0.30325148],\n",
       "      dtype=float32)"
      ]
     },
     "execution_count": 62,
     "metadata": {},
     "output_type": "execute_result"
    }
   ],
   "source": [
    "np.median(vars_fgw, axis=0)"
   ]
  },
  {
   "cell_type": "code",
   "execution_count": 63,
   "id": "1a83c56b-d8e0-45cb-b9ee-d2dedef4f89a",
   "metadata": {},
   "outputs": [
    {
     "data": {
      "text/plain": [
       "array([30.287369  , 13.795336  ,  3.25704   ,  8.520558  ,  3.118068  ,\n",
       "        2.4210818 ,  2.2824252 ,  1.4459902 ,  1.5132645 ,  1.7648203 ,\n",
       "        1.337975  ,  1.1572365 ,  0.95345414,  1.0153188 ,  0.85283965,\n",
       "        0.9153244 ,  0.81427366,  0.67998827,  0.72692597,  0.73937255,\n",
       "        0.7375054 ,  0.81443584,  0.6848441 ,  0.6463245 ,  0.67465246,\n",
       "        0.51106584,  0.6099758 ,  0.50120467,  0.59036005,  0.4672802 ,\n",
       "        0.38954112,  0.46826306,  0.47254533,  0.46390995,  0.46100408,\n",
       "        0.41751584,  0.37316605,  0.372652  ,  0.44961944,  0.44628996,\n",
       "        0.40203506,  0.40338048,  0.40815306,  0.44192058,  0.39213556,\n",
       "        0.3654736 ,  0.3348021 ,  0.40522486,  0.36673665,  0.35686824],\n",
       "      dtype=float32)"
      ]
     },
     "execution_count": 63,
     "metadata": {},
     "output_type": "execute_result"
    }
   ],
   "source": [
    "np.mean(vars_gw_with_cost, axis=0)"
   ]
  },
  {
   "cell_type": "code",
   "execution_count": 64,
   "id": "1e08998b-7884-4284-859e-4c7840420ae7",
   "metadata": {},
   "outputs": [
    {
     "data": {
      "text/plain": [
       "array([63.85145   , 20.996494  , 10.8110895 ,  9.172075  ,  4.8902535 ,\n",
       "        2.973329  ,  2.418523  ,  1.9865059 ,  1.9095405 ,  1.7250545 ,\n",
       "        1.4696648 ,  1.589028  ,  1.4415276 ,  1.4233559 ,  1.2567345 ,\n",
       "        1.1282915 ,  0.98204535,  0.8703457 ,  0.9029452 ,  0.8260309 ,\n",
       "        0.8104348 ,  0.7899305 ,  0.72356737,  0.704216  ,  0.6943593 ,\n",
       "        0.6676404 ,  0.6392656 ,  0.6633253 ,  0.6335087 ,  0.65308446,\n",
       "        0.6496994 ,  0.6102631 ,  0.56338954,  0.5937041 ,  0.6269791 ,\n",
       "        0.5373762 ,  0.57377195,  0.5638007 ,  0.5281928 ,  0.58500785,\n",
       "        0.5747962 ,  0.61202157,  0.5183285 ,  0.62495965,  0.57612765,\n",
       "        0.5513538 ,  0.66942555,  0.5211011 ,  0.5400032 ,  0.52233875],\n",
       "      dtype=float32)"
      ]
     },
     "execution_count": 64,
     "metadata": {},
     "output_type": "execute_result"
    }
   ],
   "source": [
    "np.mean(vars_outer, axis=0)"
   ]
  },
  {
   "cell_type": "code",
   "execution_count": 65,
   "id": "23fc839c-0104-4eb1-bd38-a989b43c0fb8",
   "metadata": {},
   "outputs": [
    {
     "data": {
      "text/plain": [
       "array([ 5.341936  ,  9.443396  ,  3.4130402 , 18.488602  , 11.778585  ,\n",
       "        2.2195802 ,  1.6063015 ,  1.7096084 ,  2.4169955 ,  1.0565075 ,\n",
       "        1.3675957 ,  1.4125022 ,  1.6875887 ,  0.915408  ,  1.4444823 ,\n",
       "        1.6825899 ,  1.7936014 ,  1.5318329 ,  1.9978215 ,  1.189678  ,\n",
       "        1.148832  ,  0.8153895 ,  0.8552225 ,  0.5410267 ,  0.63023376,\n",
       "        0.63284415,  0.6548734 ,  0.6377155 ,  0.569869  ,  0.46078387,\n",
       "        0.36792287,  0.49002132,  0.50971776,  0.4240129 ,  0.48965827,\n",
       "        0.35645932,  0.44659686,  0.39116758,  0.47028342,  0.49672455,\n",
       "        0.3743592 ,  0.4045298 ,  0.4306882 ,  0.30464956,  0.41981164,\n",
       "        0.38552368,  0.3943028 ,  0.3405323 ,  0.38330466,  0.36002928],\n",
       "      dtype=float32)"
      ]
     },
     "execution_count": 65,
     "metadata": {},
     "output_type": "execute_result"
    }
   ],
   "source": [
    "np.mean(vars_gw, axis=0)"
   ]
  },
  {
   "cell_type": "code",
   "execution_count": null,
   "id": "6b3be004-2500-474b-84c3-41c741ca7b4b",
   "metadata": {},
   "outputs": [],
   "source": []
  }
 ],
 "metadata": {
  "kernelspec": {
   "display_name": "entot_neurips",
   "language": "python",
   "name": "entot_neurips"
  },
  "language_info": {
   "codemirror_mode": {
    "name": "ipython",
    "version": 3
   },
   "file_extension": ".py",
   "mimetype": "text/x-python",
   "name": "python",
   "nbconvert_exporter": "python",
   "pygments_lexer": "ipython3",
   "version": "3.12.4"
  }
 },
 "nbformat": 4,
 "nbformat_minor": 5
}
