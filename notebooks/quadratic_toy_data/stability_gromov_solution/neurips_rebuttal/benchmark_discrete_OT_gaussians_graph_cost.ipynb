{
 "cells": [
  {
   "cell_type": "code",
   "execution_count": 1,
   "id": "6c120bc5-bf8b-4569-b13c-fe494ed023fc",
   "metadata": {},
   "outputs": [],
   "source": [
    "dataset=\"new_gaussian\""
   ]
  },
  {
   "cell_type": "code",
   "execution_count": 2,
   "id": "e3eb9c5c-81c7-4e53-99c7-93e3adfb30c3",
   "metadata": {},
   "outputs": [],
   "source": [
    "import ott\n",
    "import jax\n",
    "from ott.problems.linear import linear_problem\n",
    "from ott.problems.quadratic import quadratic_problem\n",
    "from ott.geometry import pointcloud, geometry, costs, graph\n",
    "from ott.solvers.quadratic import gromov_wasserstein\n",
    "from typing import Optional, Any\n",
    "import numpy as np\n",
    "import jax.numpy as jnp\n",
    "from tqdm import tqdm\n",
    "from ott.neural import datasets\n",
    "from ott.neural.methods.flows import dynamics, otfm\n",
    "from ott.neural.networks.layers import time_encoder\n",
    "from ott.neural.networks.velocity_field import VelocityField\n",
    "from ott.solvers import utils as solver_utils\n",
    "from torch.utils.data import DataLoader\n",
    "import jax.numpy as jnp\n",
    "from typing import Literal, Optional\n",
    "import scanpy as sc\n",
    "import functools\n",
    "import optax\n",
    "from functools import partial\n",
    "import functools\n",
    "from typing import Any, Callable, Dict, Iterable, List, Optional, Tuple, Union\n",
    "from typing import Dict, Tuple\n",
    "from tqdm import tqdm\n",
    "import jax.tree_util as jtu\n",
    "\n",
    "import jax\n",
    "import jax.numpy as jnp\n",
    "import jax.tree_util as jtu\n",
    "import numpy as np\n",
    "\n",
    "import diffrax\n",
    "from flax.training import train_state\n",
    "\n",
    "from ott import utils\n",
    "from ott.neural.methods.flows import dynamics\n",
    "from ott.neural.networks import velocity_field\n",
    "from ott.solvers import utils as solver_utils\n",
    "\n",
    "\n",
    "LinTerm = Tuple[jnp.ndarray, jnp.ndarray]\n",
    "QuadTerm = Tuple[jnp.ndarray, jnp.ndarray, Optional[jnp.ndarray],\n",
    "                 Optional[jnp.ndarray]]\n",
    "DataMatchFn = Union[Callable[[LinTerm], jnp.ndarray], Callable[[QuadTerm],\n",
    "                                                               jnp.ndarray]]"
   ]
  },
  {
   "cell_type": "markdown",
   "id": "a60de845-4258-43fe-a50a-c4e3c4a41a79",
   "metadata": {},
   "source": [
    "# Fixed GENOT class"
   ]
  },
  {
   "cell_type": "code",
   "execution_count": 3,
   "id": "020d1219-9ccc-4d57-bec8-b21628a82f2a",
   "metadata": {},
   "outputs": [],
   "source": [
    "class GENOT:\n",
    "  \"\"\"Generative Entropic Neural Optimal Transport :cite:`klein_uscidda:23`.\n",
    "\n",
    "  GENOT is a framework for learning neural optimal transport plans between\n",
    "  two distributions. It allows for learning linear and quadratic\n",
    "  (Fused) Gromov-Wasserstein couplings, in both the balanced and\n",
    "  the unbalanced setting.\n",
    "\n",
    "  Args:\n",
    "    vf: Vector field parameterized by a neural network.\n",
    "    flow: Flow between the latent and the target distributions.\n",
    "    data_match_fn: Function to match samples from the source and the target\n",
    "      distributions. Depending on the data passed in :meth:`__call__`, it has\n",
    "      the following signature:\n",
    "\n",
    "      - ``(src_lin, tgt_lin) -> matching`` - linear matching.\n",
    "      - ``(src_quad, tgt_quad, src_lin, tgt_lin) -> matching`` -\n",
    "        quadratic (fused) GW matching. In the pure GW setting, both ``src_lin``\n",
    "        and ``tgt_lin`` will be set to :obj:`None`.\n",
    "\n",
    "    source_dim: Dimensionality of the source distribution.\n",
    "    target_dim: Dimensionality of the target distribution.\n",
    "    condition_dim: Dimension of the conditions. If :obj:`None`, the underlying\n",
    "      velocity field has no conditions.\n",
    "    time_sampler: Time sampler with a ``(rng, n_samples) -> time`` signature.\n",
    "    latent_noise_fn: Function to sample from the latent distribution in the\n",
    "      target space with a ``(rng, shape) -> noise`` signature.\n",
    "      If :obj:`None`, multivariate normal distribution is used.\n",
    "    latent_match_fn: Function to match samples from the latent distribution\n",
    "      and the samples from the conditional distribution with a\n",
    "      ``(latent, samples) -> matching`` signature. If :obj:`None`, no matching\n",
    "      is performed.\n",
    "    n_samples_per_src: Number of samples drawn from the conditional distribution\n",
    "      per one source sample.\n",
    "    kwargs: Keyword arguments for\n",
    "      :meth:`~ott.neural.networks.velocity_field.VelocityField.create_train_state`.\n",
    "  \"\"\"  # noqa: E501\n",
    "\n",
    "  def __init__(\n",
    "      self,\n",
    "      vf: velocity_field.VelocityField,\n",
    "      flow: dynamics.BaseFlow,\n",
    "      data_match_fn: DataMatchFn,\n",
    "      *,\n",
    "      source_dim: int,\n",
    "      target_dim: int,\n",
    "      condition_dim: Optional[int] = None,\n",
    "      time_sampler: Callable[[jax.Array, int],\n",
    "                             jnp.ndarray] = solver_utils.uniform_sampler,\n",
    "      latent_noise_fn: Optional[Callable[[jax.Array, Tuple[int, ...]],\n",
    "                                         jnp.ndarray]] = None,\n",
    "      latent_match_fn: Optional[Callable[[jnp.ndarray, jnp.ndarray],\n",
    "                                         jnp.ndarray]] = None,\n",
    "      n_samples_per_src: int = 1,\n",
    "      **kwargs: Any,\n",
    "  ):\n",
    "    self.vf = vf\n",
    "    self.flow = flow\n",
    "    self.data_match_fn = data_match_fn\n",
    "    self.time_sampler = time_sampler\n",
    "    if latent_noise_fn is None:\n",
    "      latent_noise_fn = functools.partial(_multivariate_normal, dim=target_dim)\n",
    "    self.latent_noise_fn = latent_noise_fn\n",
    "    self.latent_match_fn = latent_match_fn\n",
    "    self.n_samples_per_src = n_samples_per_src\n",
    "\n",
    "    self.vf_state = self.vf.create_train_state(\n",
    "        input_dim=target_dim,\n",
    "        condition_dim=source_dim + (condition_dim or 0),\n",
    "        **kwargs\n",
    "    )\n",
    "    self.step_fn = self._get_step_fn()\n",
    "\n",
    "  def _get_step_fn(self) -> Callable:\n",
    "\n",
    "    @jax.jit\n",
    "    def step_fn(\n",
    "        rng: jax.Array,\n",
    "        vf_state: train_state.TrainState,\n",
    "        time: jnp.ndarray,\n",
    "        source: jnp.ndarray,\n",
    "        target: jnp.ndarray,\n",
    "        latent: jnp.ndarray,\n",
    "        source_conditions: Optional[jnp.ndarray],\n",
    "    ):\n",
    "\n",
    "      def loss_fn(\n",
    "          params: jnp.ndarray, time: jnp.ndarray, source: jnp.ndarray,\n",
    "          target: jnp.ndarray, latent: jnp.ndarray,\n",
    "          source_conditions: Optional[jnp.ndarray], rng: jax.Array\n",
    "      ) -> jnp.ndarray:\n",
    "        rng_flow, rng_dropout = jax.random.split(rng, 2)\n",
    "        x_t = self.flow.compute_xt(rng_flow, time, latent, target)\n",
    "        if source_conditions is None:\n",
    "          cond = source\n",
    "        else:\n",
    "          cond = jnp.concatenate([source, source_conditions], axis=-1)\n",
    "\n",
    "        v_t = vf_state.apply_fn({\"params\": params},\n",
    "                                time,\n",
    "                                x_t,\n",
    "                                cond,\n",
    "                                rngs={\"dropout\": rng_dropout})\n",
    "        u_t = self.flow.compute_ut(time, latent, target)\n",
    "\n",
    "        return jnp.mean((v_t - u_t) ** 2)\n",
    "\n",
    "      grad_fn = jax.value_and_grad(loss_fn)\n",
    "      loss, grads = grad_fn(\n",
    "          vf_state.params, time, source, target, latent, source_conditions, rng\n",
    "      )\n",
    "\n",
    "      return loss, vf_state.apply_gradients(grads=grads)\n",
    "\n",
    "    return step_fn\n",
    "\n",
    "  def __call__(\n",
    "      self,\n",
    "      loader: Iterable[Dict[str, np.ndarray]],\n",
    "      n_iters: int,\n",
    "      rng: Optional[jax.Array] = None\n",
    "  ) -> Dict[str, List[float]]:\n",
    "    \"\"\"Train the GENOT model.\n",
    "\n",
    "    Args:\n",
    "      loader: Data loader returning a dictionary with possible keys\n",
    "        `src_lin`, `tgt_lin`, `src_quad`, `tgt_quad`, `src_conditions`.\n",
    "      n_iters: Number of iterations to train the model.\n",
    "      rng: Random key for seeding.\n",
    "\n",
    "    Returns:\n",
    "      Training logs.\n",
    "    \"\"\"\n",
    "\n",
    "\n",
    "    rng = utils.default_prng_key(rng)\n",
    "    training_logs = {\"loss\": []}\n",
    "    for batch in loader:\n",
    "      rng = jax.random.split(rng, 5)\n",
    "      rng, rng_resample, rng_noise, rng_time, rng_step_fn = rng\n",
    "\n",
    "      batch = jtu.tree_map(jnp.asarray, batch)\n",
    "      (src, src_cond, tgt), matching_data = prepare_data(batch)\n",
    "\n",
    "      n = src.shape[0]\n",
    "      time = self.time_sampler(rng_time, n * self.n_samples_per_src)\n",
    "      latent = self.latent_noise_fn(rng_noise, (n, self.n_samples_per_src))\n",
    "\n",
    "      tmat = self.data_match_fn(*matching_data)  # (n, m)\n",
    "      src_ixs, tgt_ixs = solver_utils.sample_conditional(  # (n, k), (m, k)\n",
    "          rng_resample,\n",
    "          tmat,\n",
    "          k=self.n_samples_per_src,\n",
    "      )\n",
    "\n",
    "      src, tgt = src[src_ixs], tgt[tgt_ixs]  # (n, k, ...),  # (m, k, ...)\n",
    "      if src_cond is not None:\n",
    "        src_cond = src_cond[src_ixs]\n",
    "\n",
    "      if self.latent_match_fn is not None:\n",
    "        src, src_cond, tgt = self._match_latent(rng, src, src_cond, latent, tgt)\n",
    "\n",
    "      src = src.reshape(-1, *src.shape[2:])  # (n * k, ...)\n",
    "      tgt = tgt.reshape(-1, *tgt.shape[2:])  # (m * k, ...)\n",
    "      latent = latent.reshape(-1, *latent.shape[2:])\n",
    "      if src_cond is not None:\n",
    "        src_cond = src_cond.reshape(-1, *src_cond.shape[2:])\n",
    "\n",
    "      loss, self.vf_state = self.step_fn(\n",
    "          rng_step_fn, self.vf_state, time, src, tgt, latent, src_cond\n",
    "      )\n",
    "\n",
    "      training_logs[\"loss\"].append(float(loss))\n",
    "      if len(training_logs[\"loss\"]) >= n_iters:\n",
    "        break\n",
    "\n",
    "    return training_logs\n",
    "\n",
    "  def _match_latent(\n",
    "      self, rng: jax.Array, src: jnp.ndarray, src_cond: Optional[jnp.ndarray],\n",
    "      latent: jnp.ndarray, tgt: jnp.ndarray\n",
    "  ) -> Tuple[jnp.ndarray, Optional[jnp.ndarray], jnp.ndarray]:\n",
    "\n",
    "    def resample(\n",
    "        rng: jax.Array, src: jnp.ndarray, src_cond: Optional[jnp.ndarray],\n",
    "        tgt: jnp.ndarray, latent: jnp.ndarray\n",
    "    ) -> Tuple[jnp.ndarray, Optional[jnp.ndarray], jnp.ndarray]:\n",
    "      tmat = self.latent_match_fn(latent, tgt)  # (n, k)\n",
    "\n",
    "      src_ixs, tgt_ixs = solver_utils.sample_joint(rng, tmat)  # (n,), (m,)\n",
    "      src, tgt = src[src_ixs], tgt[tgt_ixs]\n",
    "      if src_cond is not None:\n",
    "        src_cond = src_cond[src_ixs]\n",
    "\n",
    "      return src, src_cond, tgt\n",
    "\n",
    "    cond_axis = None if src_cond is None else 1\n",
    "    in_axes, out_axes = (0, 1, cond_axis, 1, 1), (1, cond_axis, 1)\n",
    "    resample_fn = jax.jit(jax.vmap(resample, in_axes, out_axes))\n",
    "\n",
    "    rngs = jax.random.split(rng, self.n_samples_per_src)\n",
    "    return resample_fn(rngs, src, src_cond, tgt, latent)\n",
    "\n",
    "  def transport(\n",
    "      self,\n",
    "      source: jnp.ndarray,\n",
    "      condition: Optional[jnp.ndarray] = None,\n",
    "      t0: float = 0.0,\n",
    "      t1: float = 1.0,\n",
    "      rng: Optional[jax.Array] = None,\n",
    "      **kwargs: Any,\n",
    "  ) -> jnp.ndarray:\n",
    "    \"\"\"Transport data with the learned plan.\n",
    "\n",
    "    This function pushes forward the source distribution to its conditional\n",
    "    distribution by solving the neural ODE.\n",
    "\n",
    "    Args:\n",
    "      source: Data to transport.\n",
    "      condition: Condition of the input data.\n",
    "      t0: Starting time of integration of neural ODE.\n",
    "      t1: End time of integration of neural ODE.\n",
    "      rng: Random generate used to sample from the latent distribution.\n",
    "      kwargs: Keyword arguments for :func:`~diffrax.odesolve`.\n",
    "\n",
    "    Returns:\n",
    "      The push-forward defined by the learned transport plan.\n",
    "    \"\"\"\n",
    "\n",
    "    def vf(t: jnp.ndarray, x: jnp.ndarray, cond: jnp.ndarray) -> jnp.ndarray:\n",
    "      params = self.vf_state.params\n",
    "      return self.vf_state.apply_fn({\"params\": params}, t, x, cond, train=False)\n",
    "\n",
    "    def solve_ode(x: jnp.ndarray, cond: jnp.ndarray) -> jnp.ndarray:\n",
    "      ode_term = diffrax.ODETerm(vf)\n",
    "      sol = diffrax.diffeqsolve(\n",
    "          ode_term,\n",
    "          t0=t0,\n",
    "          t1=t1,\n",
    "          y0=x,\n",
    "          args=cond,\n",
    "          **kwargs,\n",
    "      )\n",
    "      return sol.ys[0]\n",
    "\n",
    "    kwargs.setdefault(\"dt0\", None)\n",
    "    kwargs.setdefault(\"solver\", diffrax.Tsit5())\n",
    "    kwargs.setdefault(\n",
    "        \"stepsize_controller\", diffrax.PIDController(rtol=1e-5, atol=1e-5)\n",
    "    )\n",
    "\n",
    "    rng = utils.default_prng_key(rng)\n",
    "    latent = self.latent_noise_fn(rng, (len(source),))\n",
    "\n",
    "    if condition is not None:\n",
    "      source = jnp.concatenate([source, condition], axis=-1)\n",
    "\n",
    "    return jax.jit(jax.vmap(solve_ode))(latent, source)\n",
    "\n",
    "\n",
    "def _multivariate_normal(\n",
    "    rng: jax.Array,\n",
    "    shape: Tuple[int, ...],\n",
    "    dim: int,\n",
    "    mean: float = 0.0,\n",
    "    cov: float = 1.0\n",
    ") -> jnp.ndarray:\n",
    "  mean = jnp.full(dim, fill_value=mean)\n",
    "  cov = jnp.diag(jnp.full(dim, fill_value=cov))\n",
    "  return jax.random.multivariate_normal(rng, mean=mean, cov=cov, shape=shape)\n",
    "\n",
    "def prepare_data(\n",
    "    batch: Dict[str, jnp.ndarray]\n",
    ") -> Tuple[Tuple[jnp.ndarray, Optional[jnp.ndarray], jnp.ndarray],\n",
    "           Tuple[jnp.ndarray, jnp.ndarray, Optional[jnp.ndarray],\n",
    "                 Optional[jnp.ndarray]]]:\n",
    "  src_lin, src_quad = batch.get(\"src_lin\"), batch.get(\"src_quad\")\n",
    "  tgt_lin, tgt_quad = batch.get(\"tgt_lin\"), batch.get(\"tgt_quad\")\n",
    "\n",
    "  if src_quad is None and tgt_quad is None:  # lin\n",
    "    src, tgt = src_lin, tgt_lin\n",
    "    arrs = src_lin, tgt_lin, None, None\n",
    "  elif src_lin is None and tgt_lin is None:  # quad\n",
    "    src, tgt = src_quad, tgt_quad\n",
    "    arrs = None, None, src_quad, tgt_quad\n",
    "  elif all(\n",
    "      arr is not None for arr in (src_lin, tgt_lin, src_quad, tgt_quad)\n",
    "  ):  # fused quad\n",
    "    src = jnp.concatenate([src_lin, src_quad], axis=1)\n",
    "    tgt = jnp.concatenate([tgt_lin, tgt_quad], axis=1)\n",
    "    arrs = src_lin, tgt_lin, src_quad, tgt_quad\n",
    "  else:\n",
    "    raise RuntimeError(\"Cannot infer OT problem type from data.\")\n",
    "\n",
    "  return (src, batch.get(\"src_condition\"), tgt), arrs"
   ]
  },
  {
   "cell_type": "markdown",
   "id": "baf3f0ef-e424-4872-8bd4-f7d6abdd1568",
   "metadata": {},
   "source": [
    "# Different solve functions"
   ]
  },
  {
   "cell_type": "code",
   "execution_count": 4,
   "id": "5836e823-633b-41eb-a7ef-ad1ecd55bb45",
   "metadata": {},
   "outputs": [],
   "source": [
    "@jax.jit\n",
    "def solve_gw(epsilon: float, xx: jax.Array, yy: jax.Array, cost_fn : Any):\n",
    "    ot_solver = gromov_wasserstein.GromovWasserstein(epsilon=epsilon)\n",
    "    geom_xx = pointcloud.PointCloud(\n",
    "        x=xx, y=xx, cost_fn=cost_fn, scale_cost=\"mean\"\n",
    "    )\n",
    "    geom_yy = pointcloud.PointCloud(\n",
    "        x=yy, y=yy, cost_fn=cost_fn, scale_cost=\"mean\"\n",
    "    )\n",
    "    geom_xy = None\n",
    "    prob = quadratic_problem.QuadraticProblem(\n",
    "        geom_xx, geom_yy, geom_xy,\n",
    "    )\n",
    "    return ot_solver(prob)"
   ]
  },
  {
   "cell_type": "code",
   "execution_count": 5,
   "id": "2303fb3b-5b12-4361-82cc-654784523059",
   "metadata": {},
   "outputs": [],
   "source": [
    "@jax.jit\n",
    "def solve_fgw(epsilon: float, xx: jax.Array, yy: jax.Array, xy_x: jax.Array, xy_y: jax.Array, fused_penalty: float, cost_fn : str):\n",
    "    ot_solver = gromov_wasserstein.GromovWasserstein(epsilon=epsilon)\n",
    "    geom_xx = pointcloud.PointCloud(\n",
    "        x=xx, y=xx, cost_fn=cost_fn, scale_cost=\"mean\"\n",
    "    )\n",
    "    geom_yy = pointcloud.PointCloud(\n",
    "        x=yy, y=yy, cost_fn=cost_fn, scale_cost=\"mean\"\n",
    "    )\n",
    "    geom_xy = pointcloud.PointCloud(\n",
    "                    x=xy_x, y=xy_y, cost_fn=cost_fn, scale_cost=\"mean\"\n",
    "                )\n",
    "    prob = quadratic_problem.QuadraticProblem(\n",
    "        geom_xx, geom_yy, geom_xy, fused_penalty=fused_penalty,\n",
    "    )\n",
    "    return ot_solver(prob)"
   ]
  },
  {
   "cell_type": "code",
   "execution_count": 6,
   "id": "aa1ef302-9967-43a8-9585-5afc9ea6ce55",
   "metadata": {},
   "outputs": [],
   "source": [
    "def get_nearest_neighbors(\n",
    "    X: jnp.ndarray, Y: Optional[jnp.ndarray], k: int = 30  # type: ignore[name-defined]\n",
    ") -> Tuple[jnp.ndarray, jnp.ndarray]:  # type: ignore[name-defined]\n",
    "    concat = X if Y is None else jnp.concatenate((X, Y), axis=0) \n",
    "    pairwise_euclidean_distances = pointcloud.PointCloud(concat, concat).cost_matrix\n",
    "    distances, indices = jax.lax.approx_min_k(\n",
    "        pairwise_euclidean_distances, k=k, recall_target=0.95, aggregate_to_topk=True\n",
    "    )\n",
    "    connectivities = jnp.multiply(jnp.exp(-distances),  (distances>0))\n",
    "    return connectivities/jnp.sum(connectivities), indices\n",
    "\n",
    "\n",
    "def create_cost_matrix_quad(X: jnp.array, k_neighbors: int, **kwargs: Any) -> jnp.array:\n",
    "    distances, indices = get_nearest_neighbors(X, None, k_neighbors)\n",
    "    a = jnp.zeros((len(X), len(X)))\n",
    "    adj_matrix = a.at[\n",
    "        jnp.repeat(jnp.arange(len(X)), repeats=k_neighbors).flatten(), indices.flatten()\n",
    "    ].set(distances.flatten())\n",
    "    return graph.Graph.from_graph(adj_matrix, normalize=kwargs.pop(\"normalize\", True), **kwargs).cost_matrix\n",
    "\n",
    "@jax.jit\n",
    "def solve_gw_geodesic(epsilon: float, xx: jax.Array, yy: jax.Array, k_neighbors=1024):\n",
    "    ot_solver = gromov_wasserstein.GromovWasserstein(epsilon=epsilon)\n",
    "    cm_xx = create_cost_matrix_quad(xx, k_neighbors)\n",
    "    cm_yy = create_cost_matrix_quad(yy, k_neighbors)\n",
    "    geom_xx = geometry.Geometry(cost_matrix=cm_xx, epsilon=epsilon, scale_cost=\"mean\")\n",
    "    geom_yy = geometry.Geometry(cost_matrix=cm_yy, epsilon=epsilon, scale_cost=\"mean\")\n",
    "    geom_xy = None\n",
    "    prob = quadratic_problem.QuadraticProblem(\n",
    "        geom_xx, geom_yy, geom_xy,\n",
    "    )\n",
    "    \n",
    "    return ot_solver(prob)\n"
   ]
  },
  {
   "cell_type": "code",
   "execution_count": 7,
   "id": "f8f9aa5b-5db3-4ce2-9497-a699b063aae1",
   "metadata": {},
   "outputs": [],
   "source": [
    "@jax.jit\n",
    "def get_quad_initializer(push_forward: jnp.ndarray, target: jnp.ndarray):\n",
    "    pc = pointcloud.PointCloud(push_forward, target)\n",
    "    geom = geometry.Geometry(pc.cost_matrix, epsilon=1e-2)\n",
    "    lp = linear_problem.LinearProblem(geom, a=jnp.ones(n) / n, b=jnp.ones(n) / n)\n",
    "    return lp\n",
    "    \n",
    "def solve_gw_with_init(epsilon: float, xx: jax.Array, yy: jax.Array, cost_fn : Any, model: GENOT):\n",
    "    push_forward = model.transport(xx)\n",
    "    initializer = get_quad_initializer(push_forward, yy)\n",
    "    ot_solver = gromov_wasserstein.GromovWasserstein(epsilon=epsilon)\n",
    "    geom_xx = pointcloud.PointCloud(\n",
    "        x=xx, y=xx, cost_fn=cost_fn, scale_cost=\"mean\"\n",
    "    )\n",
    "    geom_yy = pointcloud.PointCloud(\n",
    "        x=yy, y=yy, cost_fn=cost_fn, scale_cost=\"mean\"\n",
    "    )\n",
    "    prob = quadratic_problem.QuadraticProblem(\n",
    "        geom_xx, geom_yy, \n",
    "    )\n",
    "    return ot_solver(prob, init=initializer)"
   ]
  },
  {
   "cell_type": "markdown",
   "id": "17a85a39-9023-478a-8121-2006162009b6",
   "metadata": {},
   "source": [
    "# Set hyperparameter"
   ]
  },
  {
   "cell_type": "code",
   "execution_count": 8,
   "id": "08e2c5a2-9716-4293-92d6-23a43a852783",
   "metadata": {},
   "outputs": [],
   "source": [
    "epsilon=0.01\n",
    "n = 1024 # batch size\n",
    "N_POINTS = 10\n",
    "N_DRAWS = 100"
   ]
  },
  {
   "cell_type": "markdown",
   "id": "cea5287c-8b12-4238-a507-2a6fd6b423a0",
   "metadata": {},
   "source": [
    "# Generate the data"
   ]
  },
  {
   "cell_type": "code",
   "execution_count": 9,
   "id": "c0359895-3389-4dff-8b30-5120066268ce",
   "metadata": {},
   "outputs": [],
   "source": [
    "rng = np.random.default_rng(12345)\n",
    "DIM_X = 30 # this means DIM_X - DIM_FUSED for pure quadratic\n",
    "DIM_Y = 30 # this means DIM_Y - DIM_FUSED for pure quadratic\n",
    "DIM_FUSED = 10\n"
   ]
  },
  {
   "cell_type": "code",
   "execution_count": 10,
   "id": "04530c77-9153-45ca-b126-a501026d7ed7",
   "metadata": {},
   "outputs": [],
   "source": [
    "x_mean = rng.uniform(low=-1, high=1, size=DIM_X)\n",
    "y_mean = rng.uniform(low=-1, high=1, size=DIM_Y)\n",
    "x_tmp = rng.uniform(low=0.0, high=3.0, size=[DIM_X, DIM_X])\n",
    "y_tmp = rng.uniform(low=0.0, high=3.0, size=[DIM_Y, DIM_Y])\n",
    "x_cov = np.transpose(x_tmp) @ x_tmp\n",
    "y_cov = np.transpose(y_tmp) @ y_tmp\n",
    "\n"
   ]
  },
  {
   "cell_type": "markdown",
   "id": "32bb8e38-85df-4969-9677-fca895a72eae",
   "metadata": {},
   "source": [
    "# GW with graph cost"
   ]
  },
  {
   "cell_type": "code",
   "execution_count": 11,
   "id": "af31641b-675a-4c31-9081-81decff2be3e",
   "metadata": {},
   "outputs": [
    {
     "name": "stderr",
     "output_type": "stream",
     "text": [
      "  0%|                                                                                                            | 0/10 [00:00<?, ?it/s]2024-08-04 19:45:08.175751: W external/xla/xla/service/gpu/nvptx_compiler.cc:836] The NVIDIA driver's CUDA version is 12.5 which is older than the PTX compiler version (12.6.20). Because the driver is older than the PTX compiler version, XLA is disabling parallel compilation, which may slow down compilation. You should update your NVIDIA driver or use the NVIDIA-provided CUDA forward compatibility packages.\n",
      "100%|███████████████████████████████████████████████████████████████████████████████████████████████████| 10/10 [02:48<00:00, 16.88s/it]\n"
     ]
    }
   ],
   "source": [
    "rng = np.random.default_rng(12345)\n",
    "\n",
    "epsilon_graph = epsilon\n",
    "vars_gw_graph = [None] * N_POINTS\n",
    "for it in tqdm(range(N_POINTS)):\n",
    "    minibatch_match = [None] * N_DRAWS\n",
    "    x_fixed = rng.multivariate_normal(x_mean, x_cov, size=(1,))\n",
    "    for i in range(N_DRAWS):\n",
    "        x = rng.multivariate_normal(x_mean, x_cov, size=(n-1,))\n",
    "        x = np.concatenate((x_fixed, x), axis=0)\n",
    "        y = rng.multivariate_normal(y_mean, y_cov, size=(n,))\n",
    "        xx = x[:,DIM_FUSED:]\n",
    "        yy = y[:,DIM_FUSED:]\n",
    "        out = solve_gw_geodesic(epsilon_graph, xx, yy)\n",
    "        likelihood = np.asarray(out.matrix[0]).astype('float64')\n",
    "        minibatch_match[i] = rng.choice(yy, p=likelihood/np.sum(likelihood), shuffle=False)\n",
    "    vars_gw_graph[it] = np.var(minibatch_match, axis=0)\n",
    "        "
   ]
  },
  {
   "cell_type": "code",
   "execution_count": 12,
   "id": "47ef8841-9527-4604-ac44-90f09ea71a9c",
   "metadata": {},
   "outputs": [],
   "source": [
    "with open(f'{dataset}_graph_{epsilon_graph}.npy', 'wb') as f:\n",
    "    np.save(f, vars_gw_graph)"
   ]
  },
  {
   "cell_type": "code",
   "execution_count": 13,
   "id": "133a5759-cf03-425e-86cc-544c287bfcfe",
   "metadata": {},
   "outputs": [
    {
     "name": "stderr",
     "output_type": "stream",
     "text": [
      "100%|███████████████████████████████████████████████████████████████████████████████████████████████████| 10/10 [01:58<00:00, 11.83s/it]\n"
     ]
    }
   ],
   "source": [
    "rng = np.random.default_rng(12345)\n",
    "\n",
    "epsilon_graph = 1e-4\n",
    "vars_gw_graph = [None] * N_POINTS\n",
    "for it in tqdm(range(N_POINTS)):\n",
    "    minibatch_match = [None] * N_DRAWS\n",
    "    x_fixed = rng.multivariate_normal(x_mean, x_cov, size=(1,))\n",
    "    for i in range(N_DRAWS):\n",
    "        x = rng.multivariate_normal(x_mean, x_cov, size=(n-1,))\n",
    "        x = np.concatenate((x_fixed, x), axis=0)\n",
    "        y = rng.multivariate_normal(y_mean, y_cov, size=(n,))\n",
    "        xx = x[:,DIM_FUSED:]\n",
    "        yy = y[:,DIM_FUSED:]\n",
    "        out = solve_gw_geodesic(epsilon_graph, xx, yy)\n",
    "        likelihood = np.asarray(out.matrix[0]).astype('float64')\n",
    "        minibatch_match[i] = rng.choice(yy, p=likelihood/np.sum(likelihood), shuffle=False)\n",
    "    vars_gw_graph[it] = np.var(minibatch_match, axis=0)\n",
    "        "
   ]
  },
  {
   "cell_type": "code",
   "execution_count": 14,
   "id": "bae2cd9c-72d6-4cd0-bbae-7d386333e031",
   "metadata": {},
   "outputs": [],
   "source": [
    "with open(f'{dataset}_graph_{epsilon_graph}.npy', 'wb') as f:\n",
    "    np.save(f, vars_gw_graph)"
   ]
  },
  {
   "cell_type": "code",
   "execution_count": 15,
   "id": "88fe63b8-c9f9-434f-a8ec-204b46dd9d38",
   "metadata": {},
   "outputs": [],
   "source": [
    "res_g1 = np.load(f\"{dataset}_graph_0.01.npy\")\n",
    "res_g2 = np.load(f\"{dataset}_graph_0.0001.npy\")"
   ]
  },
  {
   "cell_type": "code",
   "execution_count": 16,
   "id": "32d1c39a-d5a9-4af1-96a2-7ff2e45de6d7",
   "metadata": {},
   "outputs": [],
   "source": [
    "res_g1_mean = np.mean(res_g1, axis=0)\n",
    "res_g2_mean = np.mean(res_g2, axis=0)"
   ]
  },
  {
   "cell_type": "code",
   "execution_count": 17,
   "id": "db5e6f98-f3e8-4695-80fa-5775e4bc5328",
   "metadata": {},
   "outputs": [
    {
     "data": {
      "text/plain": [
       "array([ 76.94624573, 110.2963614 , 107.46007958,  69.03862267,\n",
       "        77.4766203 ,  83.58912423, 103.51995862, 112.34233374,\n",
       "       104.85232744,  87.72926622,  91.28582294,  82.9455929 ,\n",
       "        85.9838585 ,  93.32392781,  96.30433071,  96.09969847,\n",
       "        76.87895424, 104.56435685,  67.71269175, 116.59405593])"
      ]
     },
     "execution_count": 17,
     "metadata": {},
     "output_type": "execute_result"
    }
   ],
   "source": [
    "res_g1_mean"
   ]
  },
  {
   "cell_type": "code",
   "execution_count": 18,
   "id": "285ee30d-1432-47cc-b8fc-5fa8ffeba3e9",
   "metadata": {},
   "outputs": [
    {
     "data": {
      "text/plain": [
       "array([ 76.94624573, 110.2963614 , 107.46007958,  69.03862267,\n",
       "        77.4766203 ,  83.58912423, 103.51995862, 112.34233374,\n",
       "       104.85232744,  87.72926622,  91.28582294,  82.9455929 ,\n",
       "        85.9838585 ,  93.32392781,  96.30433071,  96.09969847,\n",
       "        76.87895424, 104.56435685,  67.71269175, 116.59405593])"
      ]
     },
     "execution_count": 18,
     "metadata": {},
     "output_type": "execute_result"
    }
   ],
   "source": [
    "res_g2_mean"
   ]
  },
  {
   "cell_type": "code",
   "execution_count": 19,
   "id": "cb573f72-a941-4e30-9589-b96c8e963442",
   "metadata": {},
   "outputs": [
    {
     "data": {
      "text/plain": [
       "92.24721150164116"
      ]
     },
     "execution_count": 19,
     "metadata": {},
     "output_type": "execute_result"
    }
   ],
   "source": [
    "np.mean(res_g1_mean)"
   ]
  },
  {
   "cell_type": "code",
   "execution_count": 20,
   "id": "285d844b-fee0-4bdd-a52c-98038444c229",
   "metadata": {},
   "outputs": [
    {
     "data": {
      "text/plain": [
       "92.24721150164116"
      ]
     },
     "execution_count": 20,
     "metadata": {},
     "output_type": "execute_result"
    }
   ],
   "source": [
    "np.mean(res_g2_mean)"
   ]
  },
  {
   "cell_type": "markdown",
   "id": "453fa48d-2681-411c-b582-d5d1c4dad97c",
   "metadata": {},
   "source": [
    "Below we simply check that the epsilon parameter has an influence on the result as for the two epsilons considered above yield highly similar results"
   ]
  },
  {
   "cell_type": "code",
   "execution_count": 21,
   "id": "09af7145-5768-4e4e-9496-934e88df8b6b",
   "metadata": {},
   "outputs": [],
   "source": [
    "out1 = solve_gw_geodesic(epsilon_graph, xx, yy)"
   ]
  },
  {
   "cell_type": "code",
   "execution_count": 22,
   "id": "5fbf9071-d3b1-40af-9351-b7ef544a3254",
   "metadata": {},
   "outputs": [],
   "source": [
    "out2 = solve_gw_geodesic(0.01, xx, yy)"
   ]
  },
  {
   "cell_type": "code",
   "execution_count": 23,
   "id": "1f4cf96b-8e24-4ddb-b3bf-17d40d255c3a",
   "metadata": {},
   "outputs": [],
   "source": [
    "out3 = solve_gw_geodesic(1.0, xx, yy)"
   ]
  },
  {
   "cell_type": "code",
   "execution_count": 24,
   "id": "e2e02ab3-ce45-4b78-897d-8473f2ae0ccf",
   "metadata": {},
   "outputs": [
    {
     "data": {
      "text/plain": [
       "GWOutput(costs=Array([ 0.00195694,  0.00195694,  0.00195694,  0.00195694,  0.00195694,\n",
       "       -1.        , -1.        , -1.        , -1.        , -1.        ,\n",
       "       -1.        , -1.        , -1.        , -1.        , -1.        ,\n",
       "       -1.        , -1.        , -1.        , -1.        , -1.        ,\n",
       "       -1.        , -1.        , -1.        , -1.        , -1.        ,\n",
       "       -1.        , -1.        , -1.        , -1.        , -1.        ,\n",
       "       -1.        , -1.        , -1.        , -1.        , -1.        ,\n",
       "       -1.        , -1.        , -1.        , -1.        , -1.        ,\n",
       "       -1.        , -1.        , -1.        , -1.        , -1.        ,\n",
       "       -1.        , -1.        , -1.        , -1.        , -1.        ],      dtype=float32), linear_convergence=Array([ 1.,  1.,  1.,  1.,  1., -1., -1., -1., -1., -1., -1., -1., -1.,\n",
       "       -1., -1., -1., -1., -1., -1., -1., -1., -1., -1., -1., -1., -1.,\n",
       "       -1., -1., -1., -1., -1., -1., -1., -1., -1., -1., -1., -1., -1.,\n",
       "       -1., -1., -1., -1., -1., -1., -1., -1., -1., -1., -1.],      dtype=float32), converged=Array(True, dtype=bool), errors=None, linear_state=SinkhornOutput(potentials=(Array([0., 0., 0., ..., 0., 0., 0.], dtype=float32), Array([-0.1366725, -0.1366725, -0.1366725, ..., -0.1366725, -0.1366725,\n",
       "       -0.1366725], dtype=float32)), errors=Array([ 0., -1., -1., -1., -1., -1., -1., -1., -1., -1., -1., -1., -1.,\n",
       "       -1., -1., -1., -1., -1., -1., -1., -1., -1., -1., -1., -1., -1.,\n",
       "       -1., -1., -1., -1., -1., -1., -1., -1., -1., -1., -1., -1., -1.,\n",
       "       -1., -1., -1., -1., -1., -1., -1., -1., -1., -1., -1., -1., -1.,\n",
       "       -1., -1., -1., -1., -1., -1., -1., -1., -1., -1., -1., -1., -1.,\n",
       "       -1., -1., -1., -1., -1., -1., -1., -1., -1., -1., -1., -1., -1.,\n",
       "       -1., -1., -1., -1., -1., -1., -1., -1., -1., -1., -1., -1., -1.,\n",
       "       -1., -1., -1., -1., -1., -1., -1., -1., -1., -1., -1., -1., -1.,\n",
       "       -1., -1., -1., -1., -1., -1., -1., -1., -1., -1., -1., -1., -1.,\n",
       "       -1., -1., -1., -1., -1., -1., -1., -1., -1., -1., -1., -1., -1.,\n",
       "       -1., -1., -1., -1., -1., -1., -1., -1., -1., -1., -1., -1., -1.,\n",
       "       -1., -1., -1., -1., -1., -1., -1., -1., -1., -1., -1., -1., -1.,\n",
       "       -1., -1., -1., -1., -1., -1., -1., -1., -1., -1., -1., -1., -1.,\n",
       "       -1., -1., -1., -1., -1., -1., -1., -1., -1., -1., -1., -1., -1.,\n",
       "       -1., -1., -1., -1., -1., -1., -1., -1., -1., -1., -1., -1., -1.,\n",
       "       -1., -1., -1., -1., -1.], dtype=float32), reg_ot_cost=Array(0.0019567, dtype=float32), ot_prob=<ott.problems.linear.linear_problem.LinearProblem object at 0x7ff61df21df0>, threshold=Array(0.001, dtype=float32, weak_type=True), converged=Array(True, dtype=bool), inner_iterations=Array(10, dtype=int32, weak_type=True)), geom=<ott.geometry.geometry.Geometry object at 0x7ff61de53110>, old_transport_mass=Array(1., dtype=float32))"
      ]
     },
     "execution_count": 24,
     "metadata": {},
     "output_type": "execute_result"
    }
   ],
   "source": [
    "out2"
   ]
  },
  {
   "cell_type": "code",
   "execution_count": 25,
   "id": "2104db82-fefb-466b-823e-e64c1c5fa6b6",
   "metadata": {},
   "outputs": [
    {
     "data": {
      "text/plain": [
       "GWOutput(costs=Array([ 0.00195837,  0.00195837,  0.00195837,  0.00195837,  0.00195837,\n",
       "       -1.        , -1.        , -1.        , -1.        , -1.        ,\n",
       "       -1.        , -1.        , -1.        , -1.        , -1.        ,\n",
       "       -1.        , -1.        , -1.        , -1.        , -1.        ,\n",
       "       -1.        , -1.        , -1.        , -1.        , -1.        ,\n",
       "       -1.        , -1.        , -1.        , -1.        , -1.        ,\n",
       "       -1.        , -1.        , -1.        , -1.        , -1.        ,\n",
       "       -1.        , -1.        , -1.        , -1.        , -1.        ,\n",
       "       -1.        , -1.        , -1.        , -1.        , -1.        ,\n",
       "       -1.        , -1.        , -1.        , -1.        , -1.        ],      dtype=float32), linear_convergence=Array([ 1.,  1.,  1.,  1.,  1., -1., -1., -1., -1., -1., -1., -1., -1.,\n",
       "       -1., -1., -1., -1., -1., -1., -1., -1., -1., -1., -1., -1., -1.,\n",
       "       -1., -1., -1., -1., -1., -1., -1., -1., -1., -1., -1., -1., -1.,\n",
       "       -1., -1., -1., -1., -1., -1., -1., -1., -1., -1., -1.],      dtype=float32), converged=Array(True, dtype=bool), errors=None, linear_state=SinkhornOutput(potentials=(Array([0., 0., 0., ..., 0., 0., 0.], dtype=float32), Array([-13.860987, -13.860987, -13.860987, ..., -13.860987, -13.860987,\n",
       "       -13.860987], dtype=float32)), errors=Array([ 0., -1., -1., -1., -1., -1., -1., -1., -1., -1., -1., -1., -1.,\n",
       "       -1., -1., -1., -1., -1., -1., -1., -1., -1., -1., -1., -1., -1.,\n",
       "       -1., -1., -1., -1., -1., -1., -1., -1., -1., -1., -1., -1., -1.,\n",
       "       -1., -1., -1., -1., -1., -1., -1., -1., -1., -1., -1., -1., -1.,\n",
       "       -1., -1., -1., -1., -1., -1., -1., -1., -1., -1., -1., -1., -1.,\n",
       "       -1., -1., -1., -1., -1., -1., -1., -1., -1., -1., -1., -1., -1.,\n",
       "       -1., -1., -1., -1., -1., -1., -1., -1., -1., -1., -1., -1., -1.,\n",
       "       -1., -1., -1., -1., -1., -1., -1., -1., -1., -1., -1., -1., -1.,\n",
       "       -1., -1., -1., -1., -1., -1., -1., -1., -1., -1., -1., -1., -1.,\n",
       "       -1., -1., -1., -1., -1., -1., -1., -1., -1., -1., -1., -1., -1.,\n",
       "       -1., -1., -1., -1., -1., -1., -1., -1., -1., -1., -1., -1., -1.,\n",
       "       -1., -1., -1., -1., -1., -1., -1., -1., -1., -1., -1., -1., -1.,\n",
       "       -1., -1., -1., -1., -1., -1., -1., -1., -1., -1., -1., -1., -1.,\n",
       "       -1., -1., -1., -1., -1., -1., -1., -1., -1., -1., -1., -1., -1.,\n",
       "       -1., -1., -1., -1., -1., -1., -1., -1., -1., -1., -1., -1., -1.,\n",
       "       -1., -1., -1., -1., -1.], dtype=float32), reg_ot_cost=Array(0.00195837, dtype=float32), ot_prob=<ott.problems.linear.linear_problem.LinearProblem object at 0x7ff61c217830>, threshold=Array(0.001, dtype=float32, weak_type=True), converged=Array(True, dtype=bool), inner_iterations=Array(10, dtype=int32, weak_type=True)), geom=<ott.geometry.geometry.Geometry object at 0x7ff61ddc10a0>, old_transport_mass=Array(1., dtype=float32))"
      ]
     },
     "execution_count": 25,
     "metadata": {},
     "output_type": "execute_result"
    }
   ],
   "source": [
    "out3"
   ]
  },
  {
   "cell_type": "code",
   "execution_count": 26,
   "id": "bb1db465-b037-4e17-9718-2612522f0fb3",
   "metadata": {},
   "outputs": [],
   "source": [
    "out3 = solve_gw_geodesic(1000.0, xx, yy)"
   ]
  },
  {
   "cell_type": "code",
   "execution_count": 27,
   "id": "8bdade9a-75f8-4ba9-8d45-730cd56b00d1",
   "metadata": {},
   "outputs": [
    {
     "data": {
      "text/plain": [
       "GWOutput(costs=Array([ 0.00146484,  0.00146484,  0.00146484,  0.00146484,  0.00146484,\n",
       "       -1.        , -1.        , -1.        , -1.        , -1.        ,\n",
       "       -1.        , -1.        , -1.        , -1.        , -1.        ,\n",
       "       -1.        , -1.        , -1.        , -1.        , -1.        ,\n",
       "       -1.        , -1.        , -1.        , -1.        , -1.        ,\n",
       "       -1.        , -1.        , -1.        , -1.        , -1.        ,\n",
       "       -1.        , -1.        , -1.        , -1.        , -1.        ,\n",
       "       -1.        , -1.        , -1.        , -1.        , -1.        ,\n",
       "       -1.        , -1.        , -1.        , -1.        , -1.        ,\n",
       "       -1.        , -1.        , -1.        , -1.        , -1.        ],      dtype=float32), linear_convergence=Array([ 1.,  1.,  1.,  1.,  1., -1., -1., -1., -1., -1., -1., -1., -1.,\n",
       "       -1., -1., -1., -1., -1., -1., -1., -1., -1., -1., -1., -1., -1.,\n",
       "       -1., -1., -1., -1., -1., -1., -1., -1., -1., -1., -1., -1., -1.,\n",
       "       -1., -1., -1., -1., -1., -1., -1., -1., -1., -1., -1.],      dtype=float32), converged=Array(True, dtype=bool), errors=None, linear_state=SinkhornOutput(potentials=(Array([0., 0., 0., ..., 0., 0., 0.], dtype=float32), Array([-13862.941, -13862.941, -13862.941, ..., -13862.941, -13862.941,\n",
       "       -13862.941], dtype=float32)), errors=Array([ 0., -1., -1., -1., -1., -1., -1., -1., -1., -1., -1., -1., -1.,\n",
       "       -1., -1., -1., -1., -1., -1., -1., -1., -1., -1., -1., -1., -1.,\n",
       "       -1., -1., -1., -1., -1., -1., -1., -1., -1., -1., -1., -1., -1.,\n",
       "       -1., -1., -1., -1., -1., -1., -1., -1., -1., -1., -1., -1., -1.,\n",
       "       -1., -1., -1., -1., -1., -1., -1., -1., -1., -1., -1., -1., -1.,\n",
       "       -1., -1., -1., -1., -1., -1., -1., -1., -1., -1., -1., -1., -1.,\n",
       "       -1., -1., -1., -1., -1., -1., -1., -1., -1., -1., -1., -1., -1.,\n",
       "       -1., -1., -1., -1., -1., -1., -1., -1., -1., -1., -1., -1., -1.,\n",
       "       -1., -1., -1., -1., -1., -1., -1., -1., -1., -1., -1., -1., -1.,\n",
       "       -1., -1., -1., -1., -1., -1., -1., -1., -1., -1., -1., -1., -1.,\n",
       "       -1., -1., -1., -1., -1., -1., -1., -1., -1., -1., -1., -1., -1.,\n",
       "       -1., -1., -1., -1., -1., -1., -1., -1., -1., -1., -1., -1., -1.,\n",
       "       -1., -1., -1., -1., -1., -1., -1., -1., -1., -1., -1., -1., -1.,\n",
       "       -1., -1., -1., -1., -1., -1., -1., -1., -1., -1., -1., -1., -1.,\n",
       "       -1., -1., -1., -1., -1., -1., -1., -1., -1., -1., -1., -1., -1.,\n",
       "       -1., -1., -1., -1., -1.], dtype=float32), reg_ot_cost=Array(0.00146484, dtype=float32), ot_prob=<ott.problems.linear.linear_problem.LinearProblem object at 0x7ff61c23b740>, threshold=Array(0.001, dtype=float32, weak_type=True), converged=Array(True, dtype=bool), inner_iterations=Array(10, dtype=int32, weak_type=True)), geom=<ott.geometry.geometry.Geometry object at 0x7ff61ddf0710>, old_transport_mass=Array(1., dtype=float32))"
      ]
     },
     "execution_count": 27,
     "metadata": {},
     "output_type": "execute_result"
    }
   ],
   "source": [
    "out3"
   ]
  },
  {
   "cell_type": "code",
   "execution_count": null,
   "id": "bb0d3511-cdd2-4044-92a3-f83a1abbf2ed",
   "metadata": {},
   "outputs": [],
   "source": []
  }
 ],
 "metadata": {
  "kernelspec": {
   "display_name": "entot_neurips",
   "language": "python",
   "name": "entot_neurips"
  },
  "language_info": {
   "codemirror_mode": {
    "name": "ipython",
    "version": 3
   },
   "file_extension": ".py",
   "mimetype": "text/x-python",
   "name": "python",
   "nbconvert_exporter": "python",
   "pygments_lexer": "ipython3",
   "version": "3.12.4"
  }
 },
 "nbformat": 4,
 "nbformat_minor": 5
}
