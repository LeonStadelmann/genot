{
 "cells": [
  {
   "cell_type": "code",
   "execution_count": 1,
   "id": "b05ed007-7e96-497f-9bcc-965fdf65a846",
   "metadata": {},
   "outputs": [],
   "source": [
    "import numpy as np\n",
    "import seaborn as sns\n",
    "import pandas as pd"
   ]
  },
  {
   "cell_type": "code",
   "execution_count": 2,
   "id": "3d9d626a-fd28-4365-bbba-0f17668af291",
   "metadata": {},
   "outputs": [],
   "source": [
    "dataset = \"sc\""
   ]
  },
  {
   "cell_type": "code",
   "execution_count": 10,
   "id": "7e1a898c-282c-42ce-8655-402551ed7f9c",
   "metadata": {},
   "outputs": [],
   "source": [
    "res_gw = np.load(f\"{dataset}_gw.npy\")\n",
    "res_fgw = np.load(f\"{dataset}_fgw.npy\")\n",
    "res_outer = np.load(f\"{dataset}_outer.npy\")\n",
    "res_g1 = np.load(f\"{dataset}_graph_0.01.npy\")\n",
    "res_g2 = np.load(f\"{dataset}_graph_0.0001.npy\")\n",
    "res_gw_init = np.load(f\"{dataset}_gw_with_init.npy\")\n",
    "res_baseline = np.load(f\"{dataset}_gw_baseline.npy\")"
   ]
  },
  {
   "cell_type": "code",
   "execution_count": 11,
   "id": "b8b2ae7c-ac00-4d1d-a03a-9e616ac28825",
   "metadata": {},
   "outputs": [],
   "source": [
    "res_gw_mean = np.mean(res_gw, axis=0)\n",
    "res_fgw_mean = np.mean(res_fgw, axis=0)\n",
    "res_outer_mean = np.mean(res_outer, axis=0)\n",
    "res_g1_mean = np.mean(res_g1, axis=0)\n",
    "res_g2_mean = np.mean(res_g2, axis=0)\n",
    "res_gw_init_mean = np.mean(res_gw_init, axis=0)\n",
    "res_baseline_mean = np.mean(res_baseline, axis=0)"
   ]
  },
  {
   "cell_type": "code",
   "execution_count": 12,
   "id": "e1af6cb6-fd97-48a8-83ba-4a3049c2e14b",
   "metadata": {},
   "outputs": [],
   "source": [
    "row_names = [\"gw\", \"fgw\", \"outer\", \"g1\", \"g2\", \"init\", \"baseline\"]\n",
    "data = [res_gw_mean, res_fgw_mean, res_outer_mean, res_g1_mean, res_g2_mean, res_gw_init_mean, res_baseline_mean]"
   ]
  },
  {
   "cell_type": "code",
   "execution_count": 13,
   "id": "9d086797-211a-4256-acb0-d8f2712c11bc",
   "metadata": {},
   "outputs": [],
   "source": [
    "df = pd.DataFrame(data, index=row_names)"
   ]
  },
  {
   "cell_type": "code",
   "execution_count": 14,
   "id": "46f66d7b-e7d7-4be0-b855-49098e49422f",
   "metadata": {},
   "outputs": [
    {
     "data": {
      "text/html": [
       "<div>\n",
       "<style scoped>\n",
       "    .dataframe tbody tr th:only-of-type {\n",
       "        vertical-align: middle;\n",
       "    }\n",
       "\n",
       "    .dataframe tbody tr th {\n",
       "        vertical-align: top;\n",
       "    }\n",
       "\n",
       "    .dataframe thead th {\n",
       "        text-align: right;\n",
       "    }\n",
       "</style>\n",
       "<table border=\"1\" class=\"dataframe\">\n",
       "  <thead>\n",
       "    <tr style=\"text-align: right;\">\n",
       "      <th></th>\n",
       "      <th>0</th>\n",
       "      <th>1</th>\n",
       "      <th>2</th>\n",
       "      <th>3</th>\n",
       "      <th>4</th>\n",
       "      <th>5</th>\n",
       "      <th>6</th>\n",
       "      <th>7</th>\n",
       "      <th>8</th>\n",
       "      <th>9</th>\n",
       "      <th>10</th>\n",
       "      <th>11</th>\n",
       "      <th>12</th>\n",
       "      <th>13</th>\n",
       "      <th>14</th>\n",
       "      <th>15</th>\n",
       "      <th>16</th>\n",
       "      <th>17</th>\n",
       "      <th>18</th>\n",
       "      <th>19</th>\n",
       "    </tr>\n",
       "  </thead>\n",
       "  <tbody>\n",
       "    <tr>\n",
       "      <th>gw</th>\n",
       "      <td>69.224327</td>\n",
       "      <td>15.637190</td>\n",
       "      <td>12.025454</td>\n",
       "      <td>2.918383</td>\n",
       "      <td>2.456129</td>\n",
       "      <td>4.058835</td>\n",
       "      <td>1.873158</td>\n",
       "      <td>1.891200</td>\n",
       "      <td>2.200549</td>\n",
       "      <td>2.521968</td>\n",
       "      <td>1.934414</td>\n",
       "      <td>2.260488</td>\n",
       "      <td>1.042158</td>\n",
       "      <td>1.538885</td>\n",
       "      <td>0.960509</td>\n",
       "      <td>1.152541</td>\n",
       "      <td>0.762003</td>\n",
       "      <td>0.726835</td>\n",
       "      <td>0.794846</td>\n",
       "      <td>0.964453</td>\n",
       "    </tr>\n",
       "    <tr>\n",
       "      <th>fgw</th>\n",
       "      <td>4.903393</td>\n",
       "      <td>1.356490</td>\n",
       "      <td>2.882305</td>\n",
       "      <td>0.975912</td>\n",
       "      <td>0.925768</td>\n",
       "      <td>1.866851</td>\n",
       "      <td>0.920707</td>\n",
       "      <td>1.188120</td>\n",
       "      <td>0.833894</td>\n",
       "      <td>1.056615</td>\n",
       "      <td>0.855015</td>\n",
       "      <td>0.701096</td>\n",
       "      <td>0.550851</td>\n",
       "      <td>0.935877</td>\n",
       "      <td>0.630793</td>\n",
       "      <td>0.715459</td>\n",
       "      <td>0.637705</td>\n",
       "      <td>0.383956</td>\n",
       "      <td>0.462014</td>\n",
       "      <td>0.601896</td>\n",
       "    </tr>\n",
       "    <tr>\n",
       "      <th>outer</th>\n",
       "      <td>63.946949</td>\n",
       "      <td>21.010519</td>\n",
       "      <td>10.816931</td>\n",
       "      <td>9.207174</td>\n",
       "      <td>4.876117</td>\n",
       "      <td>2.968531</td>\n",
       "      <td>2.560243</td>\n",
       "      <td>1.942588</td>\n",
       "      <td>1.824006</td>\n",
       "      <td>1.758987</td>\n",
       "      <td>1.522527</td>\n",
       "      <td>1.502854</td>\n",
       "      <td>1.447254</td>\n",
       "      <td>1.370248</td>\n",
       "      <td>1.220314</td>\n",
       "      <td>1.192142</td>\n",
       "      <td>0.941602</td>\n",
       "      <td>0.875913</td>\n",
       "      <td>0.857819</td>\n",
       "      <td>0.832926</td>\n",
       "    </tr>\n",
       "    <tr>\n",
       "      <th>g1</th>\n",
       "      <td>62.236145</td>\n",
       "      <td>21.792969</td>\n",
       "      <td>11.733068</td>\n",
       "      <td>8.690606</td>\n",
       "      <td>5.321588</td>\n",
       "      <td>3.040620</td>\n",
       "      <td>2.559379</td>\n",
       "      <td>2.002866</td>\n",
       "      <td>1.939981</td>\n",
       "      <td>1.976915</td>\n",
       "      <td>1.540256</td>\n",
       "      <td>1.491141</td>\n",
       "      <td>1.416331</td>\n",
       "      <td>1.302998</td>\n",
       "      <td>1.145954</td>\n",
       "      <td>1.360347</td>\n",
       "      <td>0.977631</td>\n",
       "      <td>0.893588</td>\n",
       "      <td>1.003417</td>\n",
       "      <td>0.847732</td>\n",
       "    </tr>\n",
       "    <tr>\n",
       "      <th>g2</th>\n",
       "      <td>18.007557</td>\n",
       "      <td>11.035548</td>\n",
       "      <td>4.586287</td>\n",
       "      <td>22.352802</td>\n",
       "      <td>1.857895</td>\n",
       "      <td>1.264314</td>\n",
       "      <td>1.605642</td>\n",
       "      <td>0.622874</td>\n",
       "      <td>0.699053</td>\n",
       "      <td>0.729406</td>\n",
       "      <td>0.949673</td>\n",
       "      <td>0.606649</td>\n",
       "      <td>0.708449</td>\n",
       "      <td>0.585999</td>\n",
       "      <td>0.715491</td>\n",
       "      <td>0.420907</td>\n",
       "      <td>0.599922</td>\n",
       "      <td>1.128986</td>\n",
       "      <td>0.285025</td>\n",
       "      <td>0.556472</td>\n",
       "    </tr>\n",
       "    <tr>\n",
       "      <th>init</th>\n",
       "      <td>4.030405</td>\n",
       "      <td>2.524098</td>\n",
       "      <td>3.354410</td>\n",
       "      <td>1.431971</td>\n",
       "      <td>1.452722</td>\n",
       "      <td>3.598871</td>\n",
       "      <td>2.145875</td>\n",
       "      <td>2.143622</td>\n",
       "      <td>1.817963</td>\n",
       "      <td>2.148420</td>\n",
       "      <td>2.023342</td>\n",
       "      <td>1.835866</td>\n",
       "      <td>0.907420</td>\n",
       "      <td>1.260522</td>\n",
       "      <td>0.941781</td>\n",
       "      <td>1.043249</td>\n",
       "      <td>0.867151</td>\n",
       "      <td>0.869506</td>\n",
       "      <td>0.879208</td>\n",
       "      <td>0.951730</td>\n",
       "    </tr>\n",
       "    <tr>\n",
       "      <th>baseline</th>\n",
       "      <td>2.559798</td>\n",
       "      <td>2.295951</td>\n",
       "      <td>1.084679</td>\n",
       "      <td>3.966141</td>\n",
       "      <td>4.070098</td>\n",
       "      <td>2.687829</td>\n",
       "      <td>1.840372</td>\n",
       "      <td>2.063567</td>\n",
       "      <td>1.791035</td>\n",
       "      <td>1.307127</td>\n",
       "      <td>1.447088</td>\n",
       "      <td>1.947027</td>\n",
       "      <td>1.403108</td>\n",
       "      <td>1.266869</td>\n",
       "      <td>1.109896</td>\n",
       "      <td>1.301237</td>\n",
       "      <td>0.998231</td>\n",
       "      <td>0.923247</td>\n",
       "      <td>1.124564</td>\n",
       "      <td>0.762407</td>\n",
       "    </tr>\n",
       "  </tbody>\n",
       "</table>\n",
       "</div>"
      ],
      "text/plain": [
       "                 0          1          2          3         4         5   \\\n",
       "gw        69.224327  15.637190  12.025454   2.918383  2.456129  4.058835   \n",
       "fgw        4.903393   1.356490   2.882305   0.975912  0.925768  1.866851   \n",
       "outer     63.946949  21.010519  10.816931   9.207174  4.876117  2.968531   \n",
       "g1        62.236145  21.792969  11.733068   8.690606  5.321588  3.040620   \n",
       "g2        18.007557  11.035548   4.586287  22.352802  1.857895  1.264314   \n",
       "init       4.030405   2.524098   3.354410   1.431971  1.452722  3.598871   \n",
       "baseline   2.559798   2.295951   1.084679   3.966141  4.070098  2.687829   \n",
       "\n",
       "                6         7         8         9         10        11  \\\n",
       "gw        1.873158  1.891200  2.200549  2.521968  1.934414  2.260488   \n",
       "fgw       0.920707  1.188120  0.833894  1.056615  0.855015  0.701096   \n",
       "outer     2.560243  1.942588  1.824006  1.758987  1.522527  1.502854   \n",
       "g1        2.559379  2.002866  1.939981  1.976915  1.540256  1.491141   \n",
       "g2        1.605642  0.622874  0.699053  0.729406  0.949673  0.606649   \n",
       "init      2.145875  2.143622  1.817963  2.148420  2.023342  1.835866   \n",
       "baseline  1.840372  2.063567  1.791035  1.307127  1.447088  1.947027   \n",
       "\n",
       "                12        13        14        15        16        17  \\\n",
       "gw        1.042158  1.538885  0.960509  1.152541  0.762003  0.726835   \n",
       "fgw       0.550851  0.935877  0.630793  0.715459  0.637705  0.383956   \n",
       "outer     1.447254  1.370248  1.220314  1.192142  0.941602  0.875913   \n",
       "g1        1.416331  1.302998  1.145954  1.360347  0.977631  0.893588   \n",
       "g2        0.708449  0.585999  0.715491  0.420907  0.599922  1.128986   \n",
       "init      0.907420  1.260522  0.941781  1.043249  0.867151  0.869506   \n",
       "baseline  1.403108  1.266869  1.109896  1.301237  0.998231  0.923247   \n",
       "\n",
       "                18        19  \n",
       "gw        0.794846  0.964453  \n",
       "fgw       0.462014  0.601896  \n",
       "outer     0.857819  0.832926  \n",
       "g1        1.003417  0.847732  \n",
       "g2        0.285025  0.556472  \n",
       "init      0.879208  0.951730  \n",
       "baseline  1.124564  0.762407  "
      ]
     },
     "execution_count": 14,
     "metadata": {},
     "output_type": "execute_result"
    }
   ],
   "source": [
    "df"
   ]
  },
  {
   "cell_type": "code",
   "execution_count": 15,
   "id": "0076ae67-a076-4a7c-962c-22543edc70ff",
   "metadata": {},
   "outputs": [
    {
     "data": {
      "text/plain": [
       "gw          1.912807\n",
       "fgw         0.887861\n",
       "outer       1.640757\n",
       "g1          1.740118\n",
       "g2          0.722449\n",
       "init        1.635342\n",
       "baseline    1.425098\n",
       "dtype: float32"
      ]
     },
     "execution_count": 15,
     "metadata": {},
     "output_type": "execute_result"
    }
   ],
   "source": [
    "df.median(axis=1)\n"
   ]
  },
  {
   "cell_type": "code",
   "execution_count": 17,
   "id": "a500c3c1-6507-4acd-a1bc-ecb13980a93c",
   "metadata": {},
   "outputs": [
    {
     "data": {
      "text/plain": [
       "<Axes: >"
      ]
     },
     "execution_count": 17,
     "metadata": {},
     "output_type": "execute_result"
    },
    {
     "data": {
      "image/png": "[encoded data removed]",
      "text/plain": [
       "<Figure size 640x480 with 1 Axes>"
      ]
     },
     "metadata": {},
     "output_type": "display_data"
    }
   ],
   "source": [
    "sns.barplot(df.mean(axis=1))"
   ]
  },
  {
   "cell_type": "code",
   "execution_count": 22,
   "id": "dfbf7f9f-1ae0-48a5-ade0-65838e7cff00",
   "metadata": {},
   "outputs": [
    {
     "data": {
      "text/plain": [
       "Text(0.5, 1.0, 'Single-cell')"
      ]
     },
     "execution_count": 22,
     "metadata": {},
     "output_type": "execute_result"
    },
    {
     "data": {
      "image/png": "[encoded data removed]",
      "text/plain": [
       "<Figure size 640x480 with 1 Axes>"
      ]
     },
     "metadata": {},
     "output_type": "display_data"
    }
   ],
   "source": [
    "sns.barplot(df.T).set_title(\"Single-cell\")"
   ]
  },
  {
   "cell_type": "code",
   "execution_count": null,
   "id": "d0856904-c716-4e0f-971c-32d038bb3feb",
   "metadata": {},
   "outputs": [],
   "source": []
  }
 ],
 "metadata": {
  "kernelspec": {
   "display_name": "entot_neurips",
   "language": "python",
   "name": "entot_neurips"
  },
  "language_info": {
   "codemirror_mode": {
    "name": "ipython",
    "version": 3
   },
   "file_extension": ".py",
   "mimetype": "text/x-python",
   "name": "python",
   "nbconvert_exporter": "python",
   "pygments_lexer": "ipython3",
   "version": "3.12.4"
  }
 },
 "nbformat": 4,
 "nbformat_minor": 5
}
