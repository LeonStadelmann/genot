{
 "cells": [
  {
   "cell_type": "code",
   "execution_count": 1,
   "metadata": {},
   "outputs": [],
   "source": [
    "import jax\n",
    "jax.config.update('jax_platform_name', 'cpu')"
   ]
  },
  {
   "cell_type": "code",
   "execution_count": 5,
   "metadata": {},
   "outputs": [],
   "source": [
    "from entot.data.data import create_gaussians, create_gaussian_split\n",
    "from entot.plotting.plots import plot_1D\n",
    "from entot.models.models import NoiseOutsourcingModel, KantorovichGapModel\n",
    "from entot.models.utils import DataLoader\n",
    "import matplotlib.pyplot as plt\n",
    "import h5py\n",
    "\n",
    "import numpy as np\n",
    "import jax\n",
    "import jax.numpy as jnp"
   ]
  },
  {
   "cell_type": "code",
   "execution_count": 38,
   "metadata": {},
   "outputs": [],
   "source": [
    "def h5py_to_dataset(path, img_size=64, batch_size: int = 64):\n",
    "    with h5py.File(path, \"r\") as f:\n",
    "        # List all groups\n",
    "        print(\"Keys: %s\" % f.keys())\n",
    "        a_group_key = list(f.keys())[0]\n",
    "\n",
    "        # Get the data\n",
    "        data = list(f[a_group_key])\n",
    "    \n",
    "        #dataset = 2 * jnp.transpose(jnp.array(data) / 255., (0, 3, 1, 2))- 1\n",
    "        dataset = jnp.array(data) / 255.\n",
    "        dataset = jax.image.resize(dataset, (len(dataset), img_size, img_size, 3), method='bilinear')    \n",
    "\n",
    "    return DataLoader(dataset, batch_size=batch_size)"
   ]
  },
  {
   "cell_type": "code",
   "execution_count": 39,
   "metadata": {},
   "outputs": [
    {
     "name": "stdout",
     "output_type": "stream",
     "text": [
      "Keys: <KeysViewHDF5 ['imgs']>\n"
     ]
    }
   ],
   "source": [
    "handbags = h5py_to_dataset(\"../../../../data/handbag_128.hdf5\")"
   ]
  },
  {
   "cell_type": "code",
   "execution_count": 16,
   "metadata": {},
   "outputs": [
    {
     "name": "stdout",
     "output_type": "stream",
     "text": [
      "Keys: <KeysViewHDF5 ['imgs']>\n"
     ]
    }
   ],
   "source": [
    "shoes = h5py_to_dataset(\"../../../../data/shoes_128.hdf5\")"
   ]
  },
  {
   "cell_type": "code",
   "execution_count": 40,
   "metadata": {},
   "outputs": [],
   "source": [
    "batch=handbags(jax.random.PRNGKey(0))"
   ]
  },
  {
   "cell_type": "code",
   "execution_count": 44,
   "metadata": {},
   "outputs": [
    {
     "data": {
      "text/plain": [
       "138767"
      ]
     },
     "execution_count": 44,
     "metadata": {},
     "output_type": "execute_result"
    }
   ],
   "source": [
    "len(handbags.data)"
   ]
  },
  {
   "cell_type": "code",
   "execution_count": 45,
   "metadata": {},
   "outputs": [
    {
     "data": {
      "text/plain": [
       "<matplotlib.image.AxesImage at 0x7fceec7eb7c0>"
      ]
     },
     "execution_count": 45,
     "metadata": {},
     "output_type": "execute_result"
    },
    {
     "data": {
      "image/png": "[encoded data removed]",
      "text/plain": [
       "<Figure size 640x480 with 1 Axes>"
      ]
     },
     "metadata": {},
     "output_type": "display_data"
    }
   ],
   "source": [
    "plt.imshow(batch[2, :, :, ])"
   ]
  },
  {
   "cell_type": "code",
   "execution_count": 37,
   "metadata": {},
   "outputs": [
    {
     "data": {
      "text/plain": [
       "Array([[[-0.07563025, -0.07563025, -0.07563025],\n",
       "        [-0.00686274, -0.00686274, -0.00686274],\n",
       "        [-0.00392157, -0.00392157, -0.00392157],\n",
       "        ...,\n",
       "        [-0.00392157, -0.00392157, -0.00392157],\n",
       "        [-0.00392157, -0.00392157, -0.00392157],\n",
       "        [-0.00392157, -0.00392157, -0.00392157]],\n",
       "\n",
       "       [[-0.07563025, -0.07563025, -0.07563025],\n",
       "        [-0.00686274, -0.00686274, -0.00686274],\n",
       "        [-0.00392157, -0.00392157, -0.00392157],\n",
       "        ...,\n",
       "        [-0.00392157, -0.00392157, -0.00392157],\n",
       "        [-0.00392157, -0.00392157, -0.00392157],\n",
       "        [-0.00392157, -0.00392157, -0.00392157]],\n",
       "\n",
       "       [[-0.07563025, -0.07563025, -0.07563025],\n",
       "        [-0.00686274, -0.00686274, -0.00686274],\n",
       "        [-0.00392157, -0.00392157, -0.00392157],\n",
       "        ...,\n",
       "        [-0.00392157, -0.00392157, -0.00392157],\n",
       "        [-0.00392157, -0.00392157, -0.00392157],\n",
       "        [-0.00392157, -0.00392157, -0.00392157]],\n",
       "\n",
       "       ...,\n",
       "\n",
       "       [[-0.07647058, -0.07647058, -0.07647058],\n",
       "        [-0.00686274, -0.00686274, -0.00686274],\n",
       "        [-0.00392157, -0.00392157, -0.00392157],\n",
       "        ...,\n",
       "        [-0.00392157, -0.00392157, -0.00392157],\n",
       "        [-0.00392157, -0.00392157, -0.00392157],\n",
       "        [-0.00392157, -0.00392157, -0.00392157]],\n",
       "\n",
       "       [[-0.08221288, -0.08221288, -0.08221288],\n",
       "        [-0.00796569, -0.00796569, -0.00796569],\n",
       "        [-0.00612745, -0.00612745, -0.00612745],\n",
       "        ...,\n",
       "        [-0.00686274, -0.00686274, -0.00686274],\n",
       "        [-0.00686274, -0.00686274, -0.00686274],\n",
       "        [-0.00686274, -0.00686274, -0.00686274]],\n",
       "\n",
       "       [[-0.1412565 , -0.1412565 , -0.1412565 ],\n",
       "        [-0.08515406, -0.08515406, -0.08515406],\n",
       "        [-0.08543417, -0.08543417, -0.08543417],\n",
       "        ...,\n",
       "        [-0.08571428, -0.08571428, -0.08571428],\n",
       "        [-0.08571428, -0.08571428, -0.08571428],\n",
       "        [-0.08571428, -0.08571428, -0.08571428]]], dtype=float32)"
      ]
     },
     "execution_count": 37,
     "metadata": {},
     "output_type": "execute_result"
    }
   ],
   "source": [
    "batch[0, :, :, ]"
   ]
  },
  {
   "cell_type": "code",
   "execution_count": 46,
   "metadata": {},
   "outputs": [],
   "source": [
    "def h5py_2(path, img_size=64, batch_size: int = 64):\n",
    "    with h5py.File(path, \"r\") as f:\n",
    "        # List all groups\n",
    "        print(\"Keys: %s\" % f.keys())\n",
    "        a_group_key = list(f.keys())[0]\n",
    "\n",
    "        # Get the data\n",
    "        data = list(f[a_group_key])\n",
    "    \n",
    "        #dataset = 2 * jnp.transpose(jnp.array(data) / 255., (0, 3, 1, 2))- 1\n",
    "        #dataset = jnp.array(data) / 255.\n",
    "        #dataset = jax.image.resize(dataset, (len(dataset), img_size, img_size, 3), method='bilinear')    \n",
    "\n",
    "    return jnp.array(data)"
   ]
  },
  {
   "cell_type": "code",
   "execution_count": 51,
   "metadata": {},
   "outputs": [
    {
     "name": "stdout",
     "output_type": "stream",
     "text": [
      "Keys: <KeysViewHDF5 ['imgs']>\n"
     ]
    }
   ],
   "source": [
    "h = h5py_2(\"../../../../data/handbag_128.hdf5\")"
   ]
  },
  {
   "cell_type": "code",
   "execution_count": 53,
   "metadata": {},
   "outputs": [
    {
     "data": {
      "text/plain": [
       "(138767, 128, 128, 3)"
      ]
     },
     "execution_count": 53,
     "metadata": {},
     "output_type": "execute_result"
    }
   ],
   "source": [
    "h.shape"
   ]
  },
  {
   "cell_type": "code",
   "execution_count": null,
   "metadata": {},
   "outputs": [],
   "source": [
    "kg = KantorovichGapModel(epsilon=0.1, input_dim=10, iterations=5000)"
   ]
  }
 ],
 "metadata": {
  "kernelspec": {
   "display_name": "ott",
   "language": "python",
   "name": "ott"
  },
  "language_info": {
   "codemirror_mode": {
    "name": "ipython",
    "version": 3
   },
   "file_extension": ".py",
   "mimetype": "text/x-python",
   "name": "python",
   "nbconvert_exporter": "python",
   "pygments_lexer": "ipython3",
   "version": "3.10.10"
  },
  "orig_nbformat": 4
 },
 "nbformat": 4,
 "nbformat_minor": 2
}
