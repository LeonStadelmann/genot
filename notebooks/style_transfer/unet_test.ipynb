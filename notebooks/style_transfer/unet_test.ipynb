{
 "cells": [
  {
   "cell_type": "code",
   "execution_count": 1,
   "metadata": {},
   "outputs": [],
   "source": [
    "%load_ext autoreload\n",
    "%autoreload 2\n"
   ]
  },
  {
   "cell_type": "code",
   "execution_count": 2,
   "metadata": {},
   "outputs": [],
   "source": [
    "import jax\n",
    "jax.config.update('jax_platform_name', 'cpu')"
   ]
  },
  {
   "cell_type": "code",
   "execution_count": 3,
   "metadata": {},
   "outputs": [],
   "source": [
    "from entot.data.data import create_gaussians, create_gaussian_split\n",
    "from entot.plotting.plots import plot_1D\n",
    "from entot.models.models import NoiseOutsourcingModel, KantorovichGapModel\n",
    "from entot.models.utils import DataLoader\n",
    "import matplotlib.pyplot as plt\n",
    "import h5py\n",
    "from tqdm import tqdm\n",
    "\n",
    "import numpy as np\n",
    "import jax\n",
    "import jax.numpy as jnp"
   ]
  },
  {
   "cell_type": "code",
   "execution_count": 4,
   "metadata": {},
   "outputs": [],
   "source": [
    "def h5py_to_dataset(path, img_size=64, batch_size: int = 64):\n",
    "    with h5py.File(path, \"r\") as f:\n",
    "        # List all groups\n",
    "        print(\"Keys: %s\" % f.keys())\n",
    "        a_group_key = list(f.keys())[0]\n",
    "\n",
    "        # Get the data\n",
    "        data = list(f[a_group_key])\n",
    "    \n",
    "        #dataset = 2 * jnp.transpose(jnp.array(data) / 255., (0, 3, 1, 2))- 1\n",
    "        dataset = jnp.array(data) / 255.\n",
    "        dataset = jax.image.resize(dataset, (len(dataset), img_size, img_size, 3), method='bilinear')    \n",
    "\n",
    "    return DataLoader(dataset, batch_size=batch_size)"
   ]
  },
  {
   "cell_type": "code",
   "execution_count": 5,
   "metadata": {},
   "outputs": [
    {
     "name": "stdout",
     "output_type": "stream",
     "text": [
      "Keys: <KeysViewHDF5 ['imgs']>\n"
     ]
    }
   ],
   "source": [
    "handbags = h5py_to_dataset(\"../../../../data/handbag_128.hdf5\")"
   ]
  },
  {
   "cell_type": "code",
   "execution_count": 6,
   "metadata": {},
   "outputs": [
    {
     "name": "stdout",
     "output_type": "stream",
     "text": [
      "Keys: <KeysViewHDF5 ['imgs']>\n"
     ]
    }
   ],
   "source": [
    "shoes = h5py_to_dataset(\"../../../../data/shoes_128.hdf5\")"
   ]
  },
  {
   "cell_type": "code",
   "execution_count": 8,
   "metadata": {},
   "outputs": [],
   "source": [
    "from entot.nets import UNet, UResNet\n",
    "import jax\n",
    "import optax"
   ]
  },
  {
   "cell_type": "code",
   "execution_count": 9,
   "metadata": {},
   "outputs": [],
   "source": [
    "unet = UNet()"
   ]
  },
  {
   "cell_type": "code",
   "execution_count": 10,
   "metadata": {},
   "outputs": [],
   "source": [
    "state_unet = unet.create_train_state(jax.random.PRNGKey(0), optax.adam(1e-3), (64, 64, 3))"
   ]
  },
  {
   "cell_type": "code",
   "execution_count": 12,
   "metadata": {},
   "outputs": [],
   "source": [
    "unet = UResNet()"
   ]
  },
  {
   "cell_type": "code",
   "execution_count": 13,
   "metadata": {},
   "outputs": [],
   "source": [
    "state_unet = unet.create_train_state(jax.random.PRNGKey(0), optax.adam(1e-3), (64, 64, 3))"
   ]
  },
  {
   "cell_type": "code",
   "execution_count": 12,
   "metadata": {},
   "outputs": [],
   "source": [
    "def train_step():\n",
    "    def loss(params, state_unet, batch):\n",
    "        predicted = state_unet.apply_fn({\"params\": params}, batch)\n",
    "        print(predicted.shape)\n",
    "        return jnp.mean((predicted.flatten() - batch.flatten())**2)\n",
    "\n",
    "\n",
    "    def step_fn(state_unet, batch):\n",
    "        grad_fn = jax.value_and_grad(loss, argnums=0)\n",
    "        obj_value, grads = grad_fn(state_unet.params, state_unet, batch)\n",
    "        return state_unet.apply_gradients(grads=grads), obj_value\n",
    "\n",
    "    return step_fn"
   ]
  },
  {
   "cell_type": "code",
   "execution_count": 13,
   "metadata": {},
   "outputs": [
    {
     "name": "stdout",
     "output_type": "stream",
     "text": [
      "(64, 64, 64, 3)\n"
     ]
    }
   ],
   "source": [
    "ts = train_step()\n",
    "values = []\n",
    "\n",
    "for step in range(1):\n",
    "    batch = handbags(jax.random.PRNGKey(0))\n",
    "    state_unet, obj_value = ts(state_unet, batch)\n",
    "    values.append(obj_value)"
   ]
  },
  {
   "cell_type": "code",
   "execution_count": null,
   "metadata": {},
   "outputs": [],
   "source": []
  },
  {
   "cell_type": "code",
   "execution_count": 10,
   "metadata": {},
   "outputs": [],
   "source": [
    "def h5py_2(path, img_size=64, batch_size: int = 64):\n",
    "    with h5py.File(path, \"r\") as f:\n",
    "        # List all groups\n",
    "        print(\"Keys: %s\" % f.keys())\n",
    "        a_group_key = list(f.keys())[0]\n",
    "\n",
    "        # Get the data\n",
    "        data = list(f[a_group_key])\n",
    "    \n",
    "        #dataset = 2 * jnp.transpose(jnp.array(data) / 255., (0, 3, 1, 2))- 1\n",
    "        #dataset = jnp.array(data) / 255.\n",
    "        #dataset = jax.image.resize(dataset, (len(dataset), img_size, img_size, 3), method='bilinear')    \n",
    "\n",
    "    return jnp.array(data)"
   ]
  },
  {
   "cell_type": "code",
   "execution_count": 51,
   "metadata": {},
   "outputs": [
    {
     "name": "stdout",
     "output_type": "stream",
     "text": [
      "Keys: <KeysViewHDF5 ['imgs']>\n"
     ]
    }
   ],
   "source": [
    "h = h5py_2(\"../../../../data/handbag_128.hdf5\")"
   ]
  },
  {
   "cell_type": "code",
   "execution_count": 53,
   "metadata": {},
   "outputs": [
    {
     "data": {
      "text/plain": [
       "(138767, 128, 128, 3)"
      ]
     },
     "execution_count": 53,
     "metadata": {},
     "output_type": "execute_result"
    }
   ],
   "source": [
    "h.shape"
   ]
  },
  {
   "cell_type": "code",
   "execution_count": null,
   "metadata": {},
   "outputs": [],
   "source": [
    "kg = KantorovichGapModel(epsilon=0.1, input_dim=10, iterations=5000)"
   ]
  },
  {
   "cell_type": "code",
   "execution_count": 15,
   "metadata": {},
   "outputs": [
    {
     "ename": "ImportError",
     "evalue": "cannot import name 'UNet' from 'entot.nets' (/home/dominikk/git_repos/entot/entot/nets/__init__.py)",
     "output_type": "error",
     "traceback": [
      "\u001b[0;31m---------------------------------------------------------------------------\u001b[0m",
      "\u001b[0;31mImportError\u001b[0m                               Traceback (most recent call last)",
      "Cell \u001b[0;32mIn[15], line 1\u001b[0m\n\u001b[0;32m----> 1\u001b[0m \u001b[39mfrom\u001b[39;00m \u001b[39mentot\u001b[39;00m\u001b[39m.\u001b[39;00m\u001b[39mnets\u001b[39;00m \u001b[39mimport\u001b[39;00m UNet\n",
      "\u001b[0;31mImportError\u001b[0m: cannot import name 'UNet' from 'entot.nets' (/home/dominikk/git_repos/entot/entot/nets/__init__.py)"
     ]
    }
   ],
   "source": [
    "from entot.nets import UNet"
   ]
  },
  {
   "cell_type": "code",
   "execution_count": 12,
   "metadata": {},
   "outputs": [],
   "source": [
    "dl = DataLoader(handbags, batch_size=32)"
   ]
  },
  {
   "cell_type": "code",
   "execution_count": 14,
   "metadata": {},
   "outputs": [
    {
     "ename": "NameError",
     "evalue": "name 'entot' is not defined",
     "output_type": "error",
     "traceback": [
      "\u001b[0;31m---------------------------------------------------------------------------\u001b[0m",
      "\u001b[0;31mNameError\u001b[0m                                 Traceback (most recent call last)",
      "Cell \u001b[0;32mIn[14], line 1\u001b[0m\n\u001b[0;32m----> 1\u001b[0m \u001b[39mdir\u001b[39m(entot\u001b[39m.\u001b[39mnets)\n",
      "\u001b[0;31mNameError\u001b[0m: name 'entot' is not defined"
     ]
    }
   ],
   "source": [
    "dir(entot.nets)"
   ]
  },
  {
   "cell_type": "code",
   "execution_count": null,
   "metadata": {},
   "outputs": [],
   "source": []
  },
  {
   "cell_type": "code",
   "execution_count": null,
   "metadata": {},
   "outputs": [],
   "source": []
  }
 ],
 "metadata": {
  "kernelspec": {
   "display_name": "ott",
   "language": "python",
   "name": "ott"
  },
  "language_info": {
   "codemirror_mode": {
    "name": "ipython",
    "version": 3
   },
   "file_extension": ".py",
   "mimetype": "text/x-python",
   "name": "python",
   "nbconvert_exporter": "python",
   "pygments_lexer": "ipython3",
   "version": "3.10.10"
  },
  "orig_nbformat": 4
 },
 "nbformat": 4,
 "nbformat_minor": 2
}
