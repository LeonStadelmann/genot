{
 "cells": [
  {
   "cell_type": "code",
   "execution_count": 1,
   "metadata": {},
   "outputs": [],
   "source": [
    "%load_ext autoreload\n",
    "%autoreload 2"
   ]
  },
  {
   "cell_type": "code",
   "execution_count": 2,
   "metadata": {},
   "outputs": [],
   "source": [
    "import jax\n",
    "jax.config.update('jax_platform_name', 'cpu')"
   ]
  },
  {
   "cell_type": "code",
   "execution_count": 3,
   "metadata": {},
   "outputs": [],
   "source": [
    "from entot.data.data import create_gaussians, create_gaussian_split\n",
    "from entot.plotting.plots import plot_1D\n",
    "from entot.models.models import NoiseOutsourcingModel\n",
    "from entot.models.utils import MixtureNormalSampler\n",
    "import matplotlib.pyplot as plt\n",
    "import numpy as np\n",
    "\n",
    "import jax.numpy as jnp"
   ]
  },
  {
   "cell_type": "code",
   "execution_count": 22,
   "metadata": {},
   "outputs": [],
   "source": [
    "sampler_source = MixtureNormalSampler([0], 1, 100, 0.5)\n",
    "sampler_target = MixtureNormalSampler([-1.0,1.0], 1, 100, 0.1)"
   ]
  },
  {
   "attachments": {},
   "cell_type": "markdown",
   "metadata": {},
   "source": [
    "sampler_source(jax.random.PRNGKey(0))"
   ]
  },
  {
   "cell_type": "code",
   "execution_count": 23,
   "metadata": {},
   "outputs": [],
   "source": [
    "ss = jnp.atleast_2d(sampler_source(jax.random.PRNGKey(0)))#.shape\n",
    "st = jnp.atleast_2d(sampler_target(jax.random.PRNGKey(0)))"
   ]
  },
  {
   "cell_type": "code",
   "execution_count": 19,
   "metadata": {},
   "outputs": [
    {
     "data": {
      "text/plain": [
       "SinkhornOutput(f=Array([7.6293945e-06], dtype=float32), g=Array([114.96431], dtype=float32), errors=Array([ 0., -1., -1., -1., -1., -1., -1., -1., -1., -1., -1., -1., -1.,\n",
       "       -1., -1., -1., -1., -1., -1., -1., -1., -1., -1., -1., -1., -1.,\n",
       "       -1., -1., -1., -1., -1., -1., -1., -1., -1., -1., -1., -1., -1.,\n",
       "       -1., -1., -1., -1., -1., -1., -1., -1., -1., -1., -1., -1., -1.,\n",
       "       -1., -1., -1., -1., -1., -1., -1., -1., -1., -1., -1., -1., -1.,\n",
       "       -1., -1., -1., -1., -1., -1., -1., -1., -1., -1., -1., -1., -1.,\n",
       "       -1., -1., -1., -1., -1., -1., -1., -1., -1., -1., -1., -1., -1.,\n",
       "       -1., -1., -1., -1., -1., -1., -1., -1., -1., -1., -1., -1., -1.,\n",
       "       -1., -1., -1., -1., -1., -1., -1., -1., -1., -1., -1., -1., -1.,\n",
       "       -1., -1., -1., -1., -1., -1., -1., -1., -1., -1., -1., -1., -1.,\n",
       "       -1., -1., -1., -1., -1., -1., -1., -1., -1., -1., -1., -1., -1.,\n",
       "       -1., -1., -1., -1., -1., -1., -1., -1., -1., -1., -1., -1., -1.,\n",
       "       -1., -1., -1., -1., -1., -1., -1., -1., -1., -1., -1., -1., -1.,\n",
       "       -1., -1., -1., -1., -1., -1., -1., -1., -1., -1., -1., -1., -1.,\n",
       "       -1., -1., -1., -1., -1., -1., -1., -1., -1., -1., -1., -1., -1.,\n",
       "       -1., -1., -1., -1., -1.], dtype=float32), reg_ot_cost=Array(114.96432, dtype=float32), ot_prob=<ott.problems.linear.linear_problem.LinearProblem object at 0x7fc3901d9bd0>)"
      ]
     },
     "execution_count": 19,
     "metadata": {},
     "output_type": "execute_result"
    }
   ],
   "source": [
    "from ott.solvers.linear import sinkhorn\n",
    "from ott.problems.linear import linear_problem\n",
    "from ott.geometry.pointcloud import PointCloud\n",
    "sinkhorn.Sinkhorn()(linear_problem.LinearProblem(PointCloud(ss, st)))"
   ]
  },
  {
   "cell_type": "code",
   "execution_count": 24,
   "metadata": {},
   "outputs": [],
   "source": [
    "sm = NoiseOutsourcingModel(1.0, 64, 64, iterations=3, inner_iterations=10, input_dim=2, noise_dim=2, callback=plot_1D, callback_iters=1)"
   ]
  },
  {
   "cell_type": "code",
   "execution_count": 26,
   "metadata": {},
   "outputs": [
    {
     "name": "stderr",
     "output_type": "stream",
     "text": [
      "  0%|          | 0/3 [00:00<?, ?it/s]"
     ]
    },
    {
     "name": "stdout",
     "output_type": "stream",
     "text": [
      "(1, 100) (1, 100)\n"
     ]
    },
    {
     "name": "stderr",
     "output_type": "stream",
     "text": [
      "\n"
     ]
    },
    {
     "ename": "ScopeParamShapeError",
     "evalue": "Initializer expected to generate shape (4, 256) but got shape (102, 256) instead for parameter \"kernel\" in \"/Dense_0\". (https://flax.readthedocs.io/en/latest/api_reference/flax.errors.html#flax.errors.ScopeParamShapeError)",
     "output_type": "error",
     "traceback": [
      "\u001b[0;31m---------------------------------------------------------------------------\u001b[0m",
      "\u001b[0;31mScopeParamShapeError\u001b[0m                      Traceback (most recent call last)",
      "Cell \u001b[0;32mIn[26], line 1\u001b[0m\n\u001b[0;32m----> 1\u001b[0m sm(sampler_source, sampler_target)\n",
      "File \u001b[0;32m~/git_repos/entot/entot/models/models.py:420\u001b[0m, in \u001b[0;36mNoiseOutsourcingModel.__call__\u001b[0;34m(self, x, y)\u001b[0m\n\u001b[1;32m    418\u001b[0m batch[\u001b[39m\"\u001b[39m\u001b[39mtarget\u001b[39m\u001b[39m\"\u001b[39m] \u001b[39m=\u001b[39m \u001b[39mself\u001b[39m\u001b[39m.\u001b[39my_loader(rng_y)\n\u001b[1;32m    419\u001b[0m batch[\u001b[39m\"\u001b[39m\u001b[39mlatent\u001b[39m\u001b[39m\"\u001b[39m] \u001b[39m=\u001b[39m \u001b[39mself\u001b[39m\u001b[39m.\u001b[39mnoise_fn(rng_noise, shape\u001b[39m=\u001b[39m[\u001b[39mlen\u001b[39m(batch[\u001b[39m\"\u001b[39m\u001b[39msource\u001b[39m\u001b[39m\"\u001b[39m]), \u001b[39mself\u001b[39m\u001b[39m.\u001b[39mnoise_dim]) \u001b[39m*\u001b[39m \u001b[39mself\u001b[39m\u001b[39m.\u001b[39mstd\n\u001b[0;32m--> 420\u001b[0m metrics, t_xz \u001b[39m=\u001b[39m \u001b[39mself\u001b[39;49m\u001b[39m.\u001b[39;49mtrain(batch, \u001b[39mself\u001b[39;49m\u001b[39m.\u001b[39;49mepsilon, rng_sample)\n\u001b[1;32m    421\u001b[0m \u001b[39mfor\u001b[39;00m key, value \u001b[39min\u001b[39;00m metrics\u001b[39m.\u001b[39mitems():\n\u001b[1;32m    422\u001b[0m     \u001b[39mself\u001b[39m\u001b[39m.\u001b[39mmetrics[key]\u001b[39m.\u001b[39mappend(value)\n",
      "File \u001b[0;32m~/git_repos/entot/entot/models/models.py:438\u001b[0m, in \u001b[0;36mNoiseOutsourcingModel.train\u001b[0;34m(self, batch, epsilon, key)\u001b[0m\n\u001b[1;32m    435\u001b[0m batch[\u001b[39m\"\u001b[39m\u001b[39mpi_star_samples\u001b[39m\u001b[39m\"\u001b[39m] \u001b[39m=\u001b[39m _concatenate(batch[\u001b[39m\"\u001b[39m\u001b[39msource\u001b[39m\u001b[39m\"\u001b[39m][inds_source], batch[\u001b[39m\"\u001b[39m\u001b[39mtarget\u001b[39m\u001b[39m\"\u001b[39m][inds_target])\n\u001b[1;32m    437\u001b[0m \u001b[39mfor\u001b[39;00m _ \u001b[39min\u001b[39;00m \u001b[39mrange\u001b[39m(\u001b[39mself\u001b[39m\u001b[39m.\u001b[39minner_iterations):   \n\u001b[0;32m--> 438\u001b[0m     \u001b[39mself\u001b[39m\u001b[39m.\u001b[39mstate_phi, metrics_phi \u001b[39m=\u001b[39m \u001b[39mself\u001b[39;49m\u001b[39m.\u001b[39;49mtrain_step_phi(\u001b[39mself\u001b[39;49m\u001b[39m.\u001b[39;49mstate_t, \u001b[39mself\u001b[39;49m\u001b[39m.\u001b[39;49mstate_phi, batch)\n\u001b[1;32m    440\u001b[0m \u001b[39mself\u001b[39m\u001b[39m.\u001b[39mstate_t, metrics_t, t_xz \u001b[39m=\u001b[39m \u001b[39mself\u001b[39m\u001b[39m.\u001b[39mtrain_step_t(\u001b[39mself\u001b[39m\u001b[39m.\u001b[39mstate_t, \u001b[39mself\u001b[39m\u001b[39m.\u001b[39mstate_phi, batch)\n\u001b[1;32m    441\u001b[0m \u001b[39mreturn\u001b[39;00m \u001b[39mdict\u001b[39m(metrics_t, \u001b[39m*\u001b[39m\u001b[39m*\u001b[39mmetrics_phi), t_xz\n",
      "File \u001b[0;32m~/git_repos/entot/entot/models/models.py:468\u001b[0m, in \u001b[0;36mNoiseOutsourcingModel.get_train_step.<locals>.step_fn\u001b[0;34m(state_t, state_phi, batch)\u001b[0m\n\u001b[1;32m    466\u001b[0m \u001b[39melif\u001b[39;00m to_optimize \u001b[39m==\u001b[39m \u001b[39m\"\u001b[39m\u001b[39mphi\u001b[39m\u001b[39m\"\u001b[39m:\n\u001b[1;32m    467\u001b[0m     grad_fn \u001b[39m=\u001b[39m jax\u001b[39m.\u001b[39mvalue_and_grad(loss_phi, has_aux\u001b[39m=\u001b[39m\u001b[39mFalse\u001b[39;00m, argnums\u001b[39m=\u001b[39m\u001b[39m1\u001b[39m)\n\u001b[0;32m--> 468\u001b[0m     obj_value, grads \u001b[39m=\u001b[39m grad_fn(state_t\u001b[39m.\u001b[39;49mparams, state_phi\u001b[39m.\u001b[39;49mparams, state_t, state_phi, batch)\n\u001b[1;32m    469\u001b[0m     metrics \u001b[39m=\u001b[39m {\u001b[39m\"\u001b[39m\u001b[39mphi_obj\u001b[39m\u001b[39m\"\u001b[39m: obj_value} \n\u001b[1;32m    470\u001b[0m     \u001b[39mreturn\u001b[39;00m state_phi\u001b[39m.\u001b[39mapply_gradients(grads\u001b[39m=\u001b[39mgrads), metrics\n",
      "    \u001b[0;31m[... skipping hidden 8 frame]\u001b[0m\n",
      "File \u001b[0;32m~/git_repos/entot/entot/models/models.py:451\u001b[0m, in \u001b[0;36mNoiseOutsourcingModel.get_train_step.<locals>.loss_phi\u001b[0;34m(params_t, params_phi, state_t, state_phi, batch)\u001b[0m\n\u001b[1;32m    450\u001b[0m \u001b[39mdef\u001b[39;00m \u001b[39mloss_phi\u001b[39m(params_t: jnp\u001b[39m.\u001b[39mndarray, params_phi: jnp\u001b[39m.\u001b[39mndarray, state_t: TrainState, state_phi: TrainState, batch: Dict[\u001b[39mstr\u001b[39m, jnp\u001b[39m.\u001b[39mndarray]): \n\u001b[0;32m--> 451\u001b[0m     t_xz \u001b[39m=\u001b[39m state_t\u001b[39m.\u001b[39;49mapply_fn({\u001b[39m\"\u001b[39;49m\u001b[39mparams\u001b[39;49m\u001b[39m\"\u001b[39;49m: params_t}, _concatenate(batch[\u001b[39m\"\u001b[39;49m\u001b[39msource\u001b[39;49m\u001b[39m\"\u001b[39;49m], batch[\u001b[39m\"\u001b[39;49m\u001b[39mlatent\u001b[39;49m\u001b[39m\"\u001b[39;49m]))\n\u001b[1;32m    452\u001b[0m     phi_pi_hat \u001b[39m=\u001b[39m state_phi\u001b[39m.\u001b[39mapply_fn({\u001b[39m\"\u001b[39m\u001b[39mparams\u001b[39m\u001b[39m\"\u001b[39m: params_phi}, _concatenate(batch[\u001b[39m\"\u001b[39m\u001b[39msource\u001b[39m\u001b[39m\"\u001b[39m], t_xz))\n\u001b[1;32m    453\u001b[0m     phi_pi_star \u001b[39m=\u001b[39m state_phi\u001b[39m.\u001b[39mapply_fn({\u001b[39m\"\u001b[39m\u001b[39mparams\u001b[39m\u001b[39m\"\u001b[39m: params_phi}, batch[\u001b[39m\"\u001b[39m\u001b[39mpi_star_samples\u001b[39m\u001b[39m\"\u001b[39m])\n",
      "    \u001b[0;31m[... skipping hidden 6 frame]\u001b[0m\n",
      "File \u001b[0;32m~/git_repos/entot/entot/models/utils.py:67\u001b[0m, in \u001b[0;36mMLP.__call__\u001b[0;34m(self, x)\u001b[0m\n\u001b[1;32m     65\u001b[0m \u001b[39mfor\u001b[39;00m n_hidden \u001b[39min\u001b[39;00m \u001b[39mself\u001b[39m\u001b[39m.\u001b[39mdim_hidden:\n\u001b[1;32m     66\u001b[0m     Wx \u001b[39m=\u001b[39m nn\u001b[39m.\u001b[39mDense(n_hidden, use_bias\u001b[39m=\u001b[39m\u001b[39mTrue\u001b[39;00m)\n\u001b[0;32m---> 67\u001b[0m     z \u001b[39m=\u001b[39m \u001b[39mself\u001b[39m\u001b[39m.\u001b[39mact_fn(Wx(z))\n\u001b[1;32m     69\u001b[0m \u001b[39mif\u001b[39;00m \u001b[39mself\u001b[39m\u001b[39m.\u001b[39mis_potential:\n\u001b[1;32m     70\u001b[0m     Wx \u001b[39m=\u001b[39m nn\u001b[39m.\u001b[39mDense(\u001b[39m1\u001b[39m, use_bias\u001b[39m=\u001b[39m\u001b[39mTrue\u001b[39;00m)\n",
      "    \u001b[0;31m[... skipping hidden 2 frame]\u001b[0m\n",
      "File \u001b[0;32m~/mambaforge/envs/ott/lib/python3.10/site-packages/flax/linen/linear.py:196\u001b[0m, in \u001b[0;36mDense.__call__\u001b[0;34m(self, inputs)\u001b[0m\n\u001b[1;32m    186\u001b[0m \u001b[39m@compact\u001b[39m\n\u001b[1;32m    187\u001b[0m \u001b[39mdef\u001b[39;00m \u001b[39m__call__\u001b[39m(\u001b[39mself\u001b[39m, inputs: Array) \u001b[39m-\u001b[39m\u001b[39m>\u001b[39m Array:\n\u001b[1;32m    188\u001b[0m \u001b[39m  \u001b[39m\u001b[39m\"\"\"Applies a linear transformation to the inputs along the last dimension.\u001b[39;00m\n\u001b[1;32m    189\u001b[0m \n\u001b[1;32m    190\u001b[0m \u001b[39m  Args:\u001b[39;00m\n\u001b[0;32m   (...)\u001b[0m\n\u001b[1;32m    194\u001b[0m \u001b[39m    The transformed input.\u001b[39;00m\n\u001b[1;32m    195\u001b[0m \u001b[39m  \"\"\"\u001b[39;00m\n\u001b[0;32m--> 196\u001b[0m   kernel \u001b[39m=\u001b[39m \u001b[39mself\u001b[39;49m\u001b[39m.\u001b[39;49mparam(\u001b[39m'\u001b[39;49m\u001b[39mkernel\u001b[39;49m\u001b[39m'\u001b[39;49m,\n\u001b[1;32m    197\u001b[0m                       \u001b[39mself\u001b[39;49m\u001b[39m.\u001b[39;49mkernel_init,\n\u001b[1;32m    198\u001b[0m                       (jnp\u001b[39m.\u001b[39;49mshape(inputs)[\u001b[39m-\u001b[39;49m\u001b[39m1\u001b[39;49m], \u001b[39mself\u001b[39;49m\u001b[39m.\u001b[39;49mfeatures),\n\u001b[1;32m    199\u001b[0m                       \u001b[39mself\u001b[39;49m\u001b[39m.\u001b[39;49mparam_dtype)\n\u001b[1;32m    200\u001b[0m   \u001b[39mif\u001b[39;00m \u001b[39mself\u001b[39m\u001b[39m.\u001b[39muse_bias:\n\u001b[1;32m    201\u001b[0m     bias \u001b[39m=\u001b[39m \u001b[39mself\u001b[39m\u001b[39m.\u001b[39mparam(\u001b[39m'\u001b[39m\u001b[39mbias\u001b[39m\u001b[39m'\u001b[39m, \u001b[39mself\u001b[39m\u001b[39m.\u001b[39mbias_init, (\u001b[39mself\u001b[39m\u001b[39m.\u001b[39mfeatures,),\n\u001b[1;32m    202\u001b[0m                       \u001b[39mself\u001b[39m\u001b[39m.\u001b[39mparam_dtype)\n",
      "    \u001b[0;31m[... skipping hidden 1 frame]\u001b[0m\n",
      "File \u001b[0;32m~/mambaforge/envs/ott/lib/python3.10/site-packages/flax/core/scope.py:835\u001b[0m, in \u001b[0;36mScope.param\u001b[0;34m(self, name, init_fn, unbox, *init_args)\u001b[0m\n\u001b[1;32m    830\u001b[0m   \u001b[39mfor\u001b[39;00m val, abs_val \u001b[39min\u001b[39;00m \u001b[39mzip\u001b[39m(value_flat, abs_value_flat):\n\u001b[1;32m    831\u001b[0m     \u001b[39m# NOTE: We could check dtype consistency here as well but it's\u001b[39;00m\n\u001b[1;32m    832\u001b[0m     \u001b[39m# usefuleness is less obvious. We might intentionally change the dtype\u001b[39;00m\n\u001b[1;32m    833\u001b[0m     \u001b[39m# for inference to a half float type for example.\u001b[39;00m\n\u001b[1;32m    834\u001b[0m     \u001b[39mif\u001b[39;00m jnp\u001b[39m.\u001b[39mshape(val) \u001b[39m!=\u001b[39m jnp\u001b[39m.\u001b[39mshape(abs_val):\n\u001b[0;32m--> 835\u001b[0m       \u001b[39mraise\u001b[39;00m errors\u001b[39m.\u001b[39mScopeParamShapeError(name, \u001b[39mself\u001b[39m\u001b[39m.\u001b[39mpath_text,\n\u001b[1;32m    836\u001b[0m                                         jnp\u001b[39m.\u001b[39mshape(abs_val), jnp\u001b[39m.\u001b[39mshape(val))\n\u001b[1;32m    837\u001b[0m \u001b[39melse\u001b[39;00m:\n\u001b[1;32m    838\u001b[0m   \u001b[39mif\u001b[39;00m \u001b[39mnot\u001b[39;00m \u001b[39mself\u001b[39m\u001b[39m.\u001b[39mis_mutable_collection(\u001b[39m'\u001b[39m\u001b[39mparams\u001b[39m\u001b[39m'\u001b[39m):\n",
      "\u001b[0;31mScopeParamShapeError\u001b[0m: Initializer expected to generate shape (4, 256) but got shape (102, 256) instead for parameter \"kernel\" in \"/Dense_0\". (https://flax.readthedocs.io/en/latest/api_reference/flax.errors.html#flax.errors.ScopeParamShapeError)"
     ]
    }
   ],
   "source": [
    "sm(sampler_source, sampler_target)"
   ]
  },
  {
   "cell_type": "code",
   "execution_count": null,
   "metadata": {},
   "outputs": [],
   "source": []
  }
 ],
 "metadata": {
  "kernelspec": {
   "display_name": "ott",
   "language": "python",
   "name": "ott"
  },
  "language_info": {
   "codemirror_mode": {
    "name": "ipython",
    "version": 3
   },
   "file_extension": ".py",
   "mimetype": "text/x-python",
   "name": "python",
   "nbconvert_exporter": "python",
   "pygments_lexer": "ipython3",
   "version": "3.10.10"
  },
  "orig_nbformat": 4
 },
 "nbformat": 4,
 "nbformat_minor": 2
}
