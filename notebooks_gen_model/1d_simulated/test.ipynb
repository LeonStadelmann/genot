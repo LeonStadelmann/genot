{
 "cells": [
  {
   "cell_type": "code",
   "execution_count": 1,
   "metadata": {},
   "outputs": [],
   "source": [
    "import jax\n",
    "jax.config.update('jax_platform_name', 'cpu')"
   ]
  },
  {
   "cell_type": "code",
   "execution_count": 2,
   "metadata": {},
   "outputs": [],
   "source": [
    "import jax\n",
    "import ott\n",
    "import jax.numpy as jnp\n",
    "from typing import Tuple, Optional"
   ]
  },
  {
   "cell_type": "code",
   "execution_count": 3,
   "metadata": {},
   "outputs": [],
   "source": [
    "def sample_indices_from_tmap(key: jax.random.PRNGKeyArray, tmat: jnp.ndarray, n_samples: Optional[int]) -> Tuple[jnp.array, jnp.array]:\n",
    "    n_samples = n_samples if isinstance(n_samples, int) else tmat.shape[1]\n",
    "    pi_star_inds = jax.random.categorical(\n",
    "                key, logits=jnp.log(tmat.flatten()), shape=(n_samples,)\n",
    "            )\n",
    "    return pi_star_inds // tmat.shape[1], pi_star_inds % tmat.shape[1]"
   ]
  },
  {
   "cell_type": "code",
   "execution_count": 4,
   "metadata": {},
   "outputs": [],
   "source": [
    "def sample_indices_from_tmap(key: jax.random.PRNGKeyArray, tmat: jnp.ndarray, k_samples_per_x: Optional[int]) -> Tuple[jnp.array, jnp.array]:\n",
    "    indices_per_row = jax.vmap(lambda tmat: jax.random.choice(key=key, a=jnp.arange(len(tmat)), p=tmat, shape=(k_samples_per_x,)), in_axes=0, out_axes=0)(tmat)\n",
    "    return jnp.repeat(jnp.arange(tmat.shape[0]), k_samples_per_x), indices_per_row % tmat.shape[1]\n",
    "\n"
   ]
  },
  {
   "cell_type": "code",
   "execution_count": 62,
   "metadata": {},
   "outputs": [],
   "source": [
    "from ott.geometry import pointcloud\n",
    "from ott.problems.linear import linear_problem\n",
    "\n",
    "x = jax.random.uniform(jax.random.PRNGKey(0), (6,1))\n",
    "x= jnp.sort(x, axis=1)\n",
    "\n",
    "y = jax.random.uniform(jax.random.PRNGKey(1), (6,1))\n",
    "y = jnp.sort(y, axis=1)\n",
    "\n",
    "ot_solver = ott.solvers.linear.sinkhorn.Sinkhorn()\n",
    "geom = pointcloud.PointCloud(x, y, epsilon=1e-1)\n",
    "out = ot_solver(linear_problem.LinearProblem(geom))\n",
    "\n",
    "                \n"
   ]
  },
  {
   "cell_type": "code",
   "execution_count": 63,
   "metadata": {},
   "outputs": [],
   "source": [
    "s,t = sample_indices_from_tmap(jax.random.PRNGKey(0), out.matrix, 4)"
   ]
  },
  {
   "cell_type": "code",
   "execution_count": 64,
   "metadata": {},
   "outputs": [],
   "source": [
    "random_batches = jax.random.uniform(jax.random.PRNGKey(0), ((*t.shape, 1)))"
   ]
  },
  {
   "cell_type": "code",
   "execution_count": 65,
   "metadata": {},
   "outputs": [
    {
     "data": {
      "text/plain": [
       "(6, 4, 1)"
      ]
     },
     "execution_count": 65,
     "metadata": {},
     "output_type": "execute_result"
    }
   ],
   "source": [
    "random_batches.shape"
   ]
  },
  {
   "cell_type": "code",
   "execution_count": 77,
   "metadata": {},
   "outputs": [
    {
     "data": {
      "text/plain": [
       "(6, 4, 1)"
      ]
     },
     "execution_count": 77,
     "metadata": {},
     "output_type": "execute_result"
    }
   ],
   "source": [
    "y[t].shape"
   ]
  },
  {
   "cell_type": "code",
   "execution_count": 78,
   "metadata": {},
   "outputs": [
    {
     "data": {
      "text/plain": [
       "(6, 2)"
      ]
     },
     "execution_count": 78,
     "metadata": {},
     "output_type": "execute_result"
    }
   ],
   "source": [
    "a = jax.random.split(jax.random.PRNGKey(0), len(random_batches))\n",
    "a.shape"
   ]
  },
  {
   "cell_type": "code",
   "execution_count": 68,
   "metadata": {},
   "outputs": [],
   "source": [
    "def sinkhorn(x, y, key):\n",
    "    ot_solver = ott.solvers.linear.sinkhorn.Sinkhorn()\n",
    "    geom = pointcloud.PointCloud(x, y, epsilon=1e-2, scale_cost=\"mean\")\n",
    "    out = ot_solver(linear_problem.LinearProblem(geom))\n",
    "    inds_source, inds_target = sample_indices_from_tmap(key, out.matrix, 1)\n",
    "    return x[inds_source], y[inds_target]\n",
    "    "
   ]
  },
  {
   "cell_type": "code",
   "execution_count": 69,
   "metadata": {},
   "outputs": [],
   "source": [
    "r1, r2 = jax.vmap(sinkhorn, 0, 0)(random_batches, y[t], a)"
   ]
  },
  {
   "cell_type": "code",
   "execution_count": 70,
   "metadata": {},
   "outputs": [
    {
     "data": {
      "text/plain": [
       "((6, 4, 1), (6, 4, 1, 1))"
      ]
     },
     "execution_count": 70,
     "metadata": {},
     "output_type": "execute_result"
    }
   ],
   "source": [
    "r1.shape, r2.shape"
   ]
  },
  {
   "cell_type": "code",
   "execution_count": 75,
   "metadata": {},
   "outputs": [
    {
     "data": {
      "text/plain": [
       "Array([0.6433916 , 0.18188512, 0.02240455, 0.563781  , 0.5526401 ,\n",
       "       0.0958724 , 0.34253013, 0.03644359, 0.08744538, 0.7909105 ,\n",
       "       0.35205448, 0.53364205, 0.02900076, 0.4168595 , 0.5802449 ,\n",
       "       0.91486526, 0.27414513, 0.14991808, 0.9383501 , 0.5209162 ,\n",
       "       0.51207185, 0.90618336, 0.7309413 , 0.95533276], dtype=float32)"
      ]
     },
     "execution_count": 75,
     "metadata": {},
     "output_type": "execute_result"
    }
   ],
   "source": [
    "r1.flatten()"
   ]
  },
  {
   "cell_type": "code",
   "execution_count": 76,
   "metadata": {},
   "outputs": [
    {
     "data": {
      "text/plain": [
       "Array([[[0.6433916 ],\n",
       "        [0.18188512],\n",
       "        [0.02240455],\n",
       "        [0.563781  ]],\n",
       "\n",
       "       [[0.5526401 ],\n",
       "        [0.0958724 ],\n",
       "        [0.34253013],\n",
       "        [0.03644359]],\n",
       "\n",
       "       [[0.08744538],\n",
       "        [0.7909105 ],\n",
       "        [0.35205448],\n",
       "        [0.53364205]],\n",
       "\n",
       "       [[0.02900076],\n",
       "        [0.4168595 ],\n",
       "        [0.5802449 ],\n",
       "        [0.91486526]],\n",
       "\n",
       "       [[0.27414513],\n",
       "        [0.14991808],\n",
       "        [0.9383501 ],\n",
       "        [0.5209162 ]],\n",
       "\n",
       "       [[0.51207185],\n",
       "        [0.90618336],\n",
       "        [0.7309413 ],\n",
       "        [0.95533276]]], dtype=float32)"
      ]
     },
     "execution_count": 76,
     "metadata": {},
     "output_type": "execute_result"
    }
   ],
   "source": [
    "r1"
   ]
  },
  {
   "cell_type": "code",
   "execution_count": null,
   "metadata": {},
   "outputs": [],
   "source": []
  }
 ],
 "metadata": {
  "kernelspec": {
   "display_name": "ott_new",
   "language": "python",
   "name": "python3"
  },
  "language_info": {
   "codemirror_mode": {
    "name": "ipython",
    "version": 3
   },
   "file_extension": ".py",
   "mimetype": "text/x-python",
   "name": "python",
   "nbconvert_exporter": "python",
   "pygments_lexer": "ipython3",
   "version": "3.10.12"
  },
  "orig_nbformat": 4
 },
 "nbformat": 4,
 "nbformat_minor": 2
}
