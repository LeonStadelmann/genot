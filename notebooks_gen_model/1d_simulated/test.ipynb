{
 "cells": [
  {
   "cell_type": "code",
   "execution_count": 1,
   "metadata": {},
   "outputs": [],
   "source": [
    "import jax\n",
    "jax.config.update('jax_platform_name', 'cpu')"
   ]
  },
  {
   "cell_type": "code",
   "execution_count": 2,
   "metadata": {},
   "outputs": [],
   "source": [
    "import jax\n",
    "import ott\n",
    "import jax.numpy as jnp\n",
    "from typing import Tuple, Optional"
   ]
  },
  {
   "cell_type": "code",
   "execution_count": 3,
   "metadata": {},
   "outputs": [],
   "source": [
    "def sample_indices_from_tmap(key: jax.random.PRNGKeyArray, tmat: jnp.ndarray, n_samples: Optional[int]) -> Tuple[jnp.array, jnp.array]:\n",
    "    n_samples = n_samples if isinstance(n_samples, int) else tmat.shape[1]\n",
    "    pi_star_inds = jax.random.categorical(\n",
    "                key, logits=jnp.log(tmat.flatten()), shape=(n_samples,)\n",
    "            )\n",
    "    return pi_star_inds // tmat.shape[1], pi_star_inds % tmat.shape[1]"
   ]
  },
  {
   "cell_type": "code",
   "execution_count": 28,
   "metadata": {},
   "outputs": [],
   "source": [
    "def sample_indices_from_tmap(key: jax.random.PRNGKeyArray, tmat: jnp.ndarray, k_samples_per_x: Optional[int]) -> Tuple[jnp.array, jnp.array]:\n",
    "    indices_per_row = jax.vmap(lambda tmat: jax.random.choice(key=key, a=jnp.arange(len(tmat)), p=tmat, shape=(k_samples_per_x,)), in_axes=0, out_axes=0)(tmat)\n",
    "    return jnp.repeat(jnp.arange(tmat.shape[0]), k_samples_per_x), indices_per_row % tmat.shape[1]\n",
    "\n"
   ]
  },
  {
   "cell_type": "code",
   "execution_count": 35,
   "metadata": {},
   "outputs": [],
   "source": [
    "from ott.geometry import pointcloud\n",
    "from ott.problems.linear import linear_problem\n",
    "\n",
    "x = jax.random.uniform(jax.random.PRNGKey(0), (20,1))\n",
    "\n",
    "y = jax.random.uniform(jax.random.PRNGKey(1), (20,1))\n",
    "\n",
    "ot_solver = ott.solvers.linear.sinkhorn.Sinkhorn()\n",
    "geom = pointcloud.PointCloud(x, y, epsilon=1e-3)\n",
    "out = ot_solver(linear_problem.LinearProblem(geom))\n",
    "\n",
    "                \n"
   ]
  },
  {
   "cell_type": "code",
   "execution_count": 39,
   "metadata": {},
   "outputs": [],
   "source": [
    "s,t = sample_indices_from_tmap(jax.random.PRNGKey(0), out.matrix, 4)"
   ]
  },
  {
   "cell_type": "code",
   "execution_count": 40,
   "metadata": {},
   "outputs": [
    {
     "data": {
      "text/plain": [
       "Array([[ 7, 13,  7, 13],\n",
       "       [ 5, 14, 11, 14],\n",
       "       [ 0,  3,  1,  3],\n",
       "       [ 9,  9,  9,  9],\n",
       "       [ 4, 16, 12, 16],\n",
       "       [ 5, 11,  5,  5],\n",
       "       [ 3, 10, 10, 10],\n",
       "       [ 6, 15,  6,  6],\n",
       "       [ 2,  8,  2,  8],\n",
       "       [ 4, 16,  4, 16],\n",
       "       [ 5, 14, 11, 14],\n",
       "       [ 4, 18, 18, 18],\n",
       "       [ 0, 15,  1, 15],\n",
       "       [ 0, 15,  1, 10],\n",
       "       [ 2, 17,  8,  8],\n",
       "       [ 7, 13,  7, 13],\n",
       "       [ 9, 19, 19, 19],\n",
       "       [ 2, 17,  8, 17],\n",
       "       [ 4, 16, 12, 12],\n",
       "       [ 0,  3,  1,  3]], dtype=int32)"
      ]
     },
     "execution_count": 40,
     "metadata": {},
     "output_type": "execute_result"
    }
   ],
   "source": [
    "t"
   ]
  },
  {
   "cell_type": "code",
   "execution_count": 41,
   "metadata": {},
   "outputs": [
    {
     "data": {
      "text/plain": [
       "Array([ 7, 13,  7, 13,  5, 14, 11, 14,  0,  3,  1,  3,  9,  9,  9,  9,  4,\n",
       "       16, 12, 16,  5, 11,  5,  5,  3, 10, 10, 10,  6, 15,  6,  6,  2,  8,\n",
       "        2,  8,  4, 16,  4, 16,  5, 14, 11, 14,  4, 18, 18, 18,  0, 15,  1,\n",
       "       15,  0, 15,  1, 10,  2, 17,  8,  8,  7, 13,  7, 13,  9, 19, 19, 19,\n",
       "        2, 17,  8, 17,  4, 16, 12, 12,  0,  3,  1,  3], dtype=int32)"
      ]
     },
     "execution_count": 41,
     "metadata": {},
     "output_type": "execute_result"
    }
   ],
   "source": [
    "jnp.reshape(t, 4*len(t))\n"
   ]
  },
  {
   "cell_type": "code",
   "execution_count": 27,
   "metadata": {},
   "outputs": [
    {
     "data": {
      "text/plain": [
       "Array([ 0,  0,  0,  0,  1,  1,  1,  1,  2,  2,  2,  2,  3,  3,  3,  3,  4,\n",
       "        4,  4,  4,  5,  5,  5,  5,  6,  6,  6,  6,  7,  7,  7,  7,  8,  8,\n",
       "        8,  8,  9,  9,  9,  9, 10, 10, 10, 10, 11, 11, 11, 11, 12, 12, 12,\n",
       "       12, 13, 13, 13, 13, 14, 14, 14, 14, 15, 15, 15, 15, 16, 16, 16, 16,\n",
       "       17, 17, 17, 17, 18, 18, 18, 18, 19, 19, 19, 19], dtype=int32)"
      ]
     },
     "execution_count": 27,
     "metadata": {},
     "output_type": "execute_result"
    }
   ],
   "source": [
    "jnp.repeat(jnp.arange(tmat.shape[0]), 4) "
   ]
  },
  {
   "cell_type": "code",
   "execution_count": null,
   "metadata": {},
   "outputs": [],
   "source": []
  }
 ],
 "metadata": {
  "kernelspec": {
   "display_name": "ott_new",
   "language": "python",
   "name": "python3"
  },
  "language_info": {
   "codemirror_mode": {
    "name": "ipython",
    "version": 3
   },
   "file_extension": ".py",
   "mimetype": "text/x-python",
   "name": "python",
   "nbconvert_exporter": "python",
   "pygments_lexer": "ipython3",
   "version": "3.10.12"
  },
  "orig_nbformat": 4
 },
 "nbformat": 4,
 "nbformat_minor": 2
}
