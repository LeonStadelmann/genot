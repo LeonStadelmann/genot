{
 "cells": [
  {
   "cell_type": "code",
   "execution_count": 1,
   "metadata": {},
   "outputs": [],
   "source": [
    "%load_ext autoreload\n",
    "%autoreload 2"
   ]
  },
  {
   "cell_type": "code",
   "execution_count": 2,
   "metadata": {},
   "outputs": [],
   "source": [
    "#import jax\n",
    "#jax.config.update('jax_platform_name', 'cpu')"
   ]
  },
  {
   "cell_type": "code",
   "execution_count": 3,
   "metadata": {},
   "outputs": [],
   "source": [
    "\n",
    "import matplotlib.pyplot as plt\n",
    "import torch\n",
    "import torch.nn as nn\n",
    "import torchdiffeq \n",
    "import zuko\n",
    "from sklearn.datasets import make_moons, make_swiss_roll\n",
    "from sklearn.preprocessing import StandardScaler\n",
    "from torch import Tensor\n",
    "from torch.distributions import Normal\n",
    "from torch.utils.data import TensorDataset, DataLoader\n",
    "from tqdm import tqdm\n",
    "from typing import *\n",
    "import numpy as np\n",
    "from zuko.utils import odeint\n",
    "import pandas as pd"
   ]
  },
  {
   "cell_type": "code",
   "execution_count": 4,
   "metadata": {},
   "outputs": [
    {
     "name": "stderr",
     "output_type": "stream",
     "text": [
      "2023-07-07 12:20:26.588140: W tensorflow/compiler/tf2tensorrt/utils/py_utils.cc:38] TF-TRT Warning: Could not find TensorRT\n",
      "/home/dominikk/mambaforge/envs/ott/lib/python3.10/site-packages/tqdm/auto.py:21: TqdmWarning: IProgress not found. Please update jupyter and ipywidgets. See https://ipywidgets.readthedocs.io/en/stable/user_install.html\n",
      "  from .autonotebook import tqdm as notebook_tqdm\n"
     ]
    }
   ],
   "source": [
    "import time\n",
    "\n",
    "import diffrax\n",
    "import equinox as eqx  # https://github.com/patrick-kidger/equinox\n",
    "import jax\n",
    "import jax.nn as jnn\n",
    "import jax.numpy as jnp\n",
    "import jax.random as jrandom\n",
    "import matplotlib.pyplot as plt\n",
    "import optax  # https://github.com/deepmind/optax\n",
    "from entot.models.utils import MLP, MLP_FM\n",
    "\n",
    "from ott.solvers.nn.models import ModelBase, NeuralTrainState\n",
    "from typing import Any\n",
    "from flax.training.train_state import TrainState\n",
    "import tensorflow as tf\n",
    "import tensorflow_datasets as tfds\n",
    "from typing import Any\n",
    "from flax.training.train_state import TrainState\n",
    "import tensorflow as tf\n",
    "import tensorflow_datasets as tfds"
   ]
  },
  {
   "cell_type": "code",
   "execution_count": 5,
   "metadata": {},
   "outputs": [],
   "source": [
    "from flax.training import train_state\n",
    "import flax.linen as nn\n",
    "\n",
    "class MLP_FM(ModelBase):\n",
    "    dim_hidden: Sequence[int]\n",
    "    is_potential: bool = False\n",
    "    act_fn: Callable[[jnp.ndarray], jnp.ndarray] = nn.leaky_relu\n",
    "    noise_dim: int = 0\n",
    "    output_dim: Optional[int] = None\n",
    "\n",
    "    @nn.compact\n",
    "    def __call__(self, t: float, x: jnp.ndarray, noise: jnp.ndarray) -> jnp.ndarray:  # noqa: D102\n",
    "        \n",
    "        t = jnp.full(shape=(len(x), 1), fill_value=t)\n",
    "        squeeze = x.ndim == 1\n",
    "        if squeeze:\n",
    "            x = jnp.expand_dims(x, 0)\n",
    "        assert x.ndim == 2, x.ndim\n",
    "        n_input = x.shape[-1]\n",
    "\n",
    "        if noise.ndim > 1 and noise.shape[-1] > 0:\n",
    "            z = jnp.concatenate((x, noise, t), axis=-1)\n",
    "        else:\n",
    "            z = jnp.concatenate((x, t), axis=-1)\n",
    "        for n_hidden in self.dim_hidden:\n",
    "            Wx = nn.Dense(n_hidden, use_bias=True)\n",
    "            z = self.act_fn(Wx(z))\n",
    "\n",
    "        if self.is_potential:\n",
    "            Wx = nn.Dense(1, use_bias=True)\n",
    "            z = Wx(z).squeeze(-1)\n",
    "\n",
    "            quad_term = 0.5 * jax.vmap(jnp.dot)(x, x)\n",
    "            z += quad_term\n",
    "        elif self.output_dim is None:\n",
    "            Wx = nn.Dense(n_input - self.noise_dim, use_bias=True)\n",
    "            z = Wx(z)\n",
    "        else:\n",
    "            Wx = nn.Dense(self.output_dim, use_bias=True)\n",
    "            z = Wx(z)\n",
    "\n",
    "        return z.squeeze(0) if squeeze else z\n",
    "\n",
    "    def create_train_state(\n",
    "        self, rng: jax.random.PRNGKeyArray, optimizer: optax.OptState, source_dim: int, t_dim: int, noise_dim: int, **kwargs: Any\n",
    "    ) -> NeuralTrainState:\n",
    "        params = self.init(rng, jnp.ones((*t_dim,1)), jnp.ones(source_dim), jnp.ones(noise_dim))[\"params\"]\n",
    "        return train_state.TrainState.create(apply_fn=self.apply, params=params, tx=optimizer)"
   ]
  },
  {
   "cell_type": "code",
   "execution_count": 6,
   "metadata": {},
   "outputs": [
    {
     "name": "stderr",
     "output_type": "stream",
     "text": [
      "No GPU/TPU found, falling back to CPU. (Set TF_CPP_MIN_LOG_LEVEL=0 and rerun for more info.)\n"
     ]
    }
   ],
   "source": [
    "from entot.models.utils import MixtureNormalSampler\n",
    "source = MixtureNormalSampler([0], 1,  0.5, batch_size=2048)(jax.random.PRNGKey(0))\n",
    "target = MixtureNormalSampler([-1.0,1.0], 1,  0.1, batch_size=2048)(jax.random.PRNGKey(0))"
   ]
  },
  {
   "cell_type": "code",
   "execution_count": 32,
   "metadata": {},
   "outputs": [],
   "source": [
    "from typing import Any\n",
    "from functools import partial\n",
    "\n",
    "\n",
    "class OTFlowMatching:\n",
    "    def __init__(self, neural_net: Type[ModelBase], input_dim: int, iterations: int, sig_min: float = 0.001, opt: Optional[Any]= None) -> None:\n",
    "        self.sig_min = sig_min\n",
    "        self.eps = 1e-5\n",
    "        self.optimizer = optax.adamw(learning_rate=1e-4, weight_decay=1e-10) if opt is None else opt\n",
    "        self.noise_fn = jax.random.normal\n",
    "        self.input_dim = input_dim\n",
    "        self.std = 1.0\n",
    "        self.noise_dim=0\n",
    "        self.rng = jax.random.PRNGKey(0)\n",
    "        self.k_noise_per_x: int = 1\n",
    "        self.iterations = iterations\n",
    "        \n",
    "        self.neural_net = neural_net\n",
    "\n",
    "        self.state_mlp: Optional[TrainState] = None\n",
    "\n",
    "        self.setup(self.input_dim, self.noise_dim, self.neural_net, self.optimizer)\n",
    "    \n",
    "    def setup(self, input_dim: int, noise_dim: int, neural_net: Type[ModelBase], optimizer: optax.OptState) -> None:\n",
    "        #self.state_mlp = neural_net.create_train_state(self.rng, optimizer, (*input_dim[:-1], input_dim[-1] + noise_dim + 1))\n",
    "        self.state_mlp = neural_net.create_train_state(self.rng, optimizer, input_dim, [1], [self.noise_dim])\n",
    "        \n",
    "        self.step_fn = self._get_step_fn()\n",
    "\n",
    "\n",
    "    def __call__(self, x: jnp.array, y: jnp.array, batch_size_source: int, batch_size_target: int) -> Any:\n",
    "        x_loader = iter(tf.data.Dataset.from_tensor_slices(x).repeat().shuffle(buffer_size=10_000).batch(batch_size_source))\n",
    "        y_loader = iter(tf.data.Dataset.from_tensor_slices(y).repeat().shuffle(buffer_size=10_000).batch(batch_size_target))\n",
    "\n",
    "        batch: Dict[str, jnp.array] = {}\n",
    "        for step in tqdm(range(self.iterations)):\n",
    "\n",
    "            x_batch, y_batch = tfds.as_numpy(next(x_loader)), tfds.as_numpy(next(y_loader))\n",
    "            self.rng, rng_time, rng_noise = jax.random.split(self.rng, 3)\n",
    "            source_batch = jnp.tile(x_batch, (self.k_noise_per_x, *((1,) * (x_batch.ndim-1))))\n",
    "            noise_shape = (\n",
    "                (*source_batch.shape[:-1], self.noise_dim)\n",
    "                if len(source_batch.shape[:-1]) > 1\n",
    "                else (source_batch.shape[:-1][0], self.noise_dim)\n",
    "            )\n",
    "            latent_batch = self.noise_fn(rng_noise, shape=noise_shape) * self.std\n",
    "            #x_with_noise = jnp.concatenate((source_batch, latent_batch), axis=-1)\n",
    "            batch[\"source\"] = source_batch\n",
    "            batch[\"noise\"] = latent_batch\n",
    "            batch[\"target\"] = y_batch\n",
    "            batch[\"time\"] = jax.random.uniform(rng_time, (len(source_batch), 1))\n",
    "            self.state_mlp = self.step_fn(self.state_mlp, batch, self.sig_min)\n",
    "\n",
    "\n",
    "    def _get_step_fn(self) -> Callable:\n",
    "        def psi_t(x_0, x_1, t, sig_min):\n",
    "            return (1-(1-sig_min)*t)*x_0+t*x_1\n",
    "        \n",
    "        def loss_fn(params_mlp: jnp.array, apply_fn_mlp: Callable, batch: Dict[str, jnp.array], sig_min: float):\n",
    "            psi_t_eval = psi_t(batch[\"source\"], batch[\"target\"], batch[\"time\"], sig_min)\n",
    "            mlp_pred = apply_fn_mlp({\"params\": params_mlp}, batch[\"time\"], psi_t_eval, batch[\"noise\"])\n",
    "            d_psi = batch[\"target\"] - (1 - sig_min) * batch[\"source\"]\n",
    "            if len(mlp_pred.shape) == 1:\n",
    "                mlp_pred = mlp_pred[:, None]\n",
    "            return jnp.mean(optax.l2_loss(mlp_pred, d_psi))\n",
    "        \n",
    "        def transform_t(t: float) -> float: #TODO: adapt\n",
    "            return t \n",
    "        \n",
    "        @jax.jit\n",
    "        def step_fn(state_neural_net: TrainState, batch: Dict[str, jnp.array], sig_min: float):\n",
    "            grad_fn = jax.value_and_grad(loss_fn, argnums=0, has_aux=False)\n",
    "            val, grads_mlp = grad_fn(state_neural_net.params, state_neural_net.apply_fn, batch, sig_min)\n",
    "\n",
    "            return state_neural_net.apply_gradients(grads=grads_mlp)\n",
    "        \n",
    "        return step_fn\n",
    "    \n",
    "        \n",
    "\n",
    "    def transport(self, x: jnp.array, samples_per_x: int = 1, seed: int = None) -> jnp.array:\n",
    "        assert x.ndim==len(self.input_dim)+1\n",
    "        rng = jax.random.PRNGKey(seed)\n",
    "        source_batch = jnp.tile(x, (samples_per_x, *((1,) * (x.ndim-1))))\n",
    "        noise_shape = (\n",
    "            (*source_batch.shape[:-1], self.noise_dim)\n",
    "            if len(source_batch.shape[:-1]) > 1\n",
    "            else (source_batch.shape[:-1][0], self.noise_dim)\n",
    "        )\n",
    "        latent_batch = self.noise_fn(rng, shape=noise_shape) * self.std\n",
    "        \n",
    "        apply_fn_partial = partial(self.state_mlp.apply_fn, noise=latent_batch)    \n",
    "        solution = diffrax.diffeqsolve(\n",
    "                    #diffrax.ODETerm(lambda t,y, args: apply_fn_mlp({\"params\": params_mlp}, t, y, args)),\n",
    "                    #diffrax.ODETerm(lambda t, y, args: partial_eval(t, y)),\n",
    "                    diffrax.ODETerm(lambda t,y,args: apply_fn_partial({\"params\":self.state_mlp.params}, t=t, x=y)),\n",
    "                    diffrax.Tsit5(),\n",
    "                    t0=0,\n",
    "                    t1=1,\n",
    "                    dt0=None,\n",
    "                    y0=source_batch,\n",
    "                    stepsize_controller=diffrax.PIDController(rtol=1e-3, atol=1e-6),\n",
    "                    #saveat=diffrax.SaveAt(ts=ts),\n",
    "                    )\n",
    "        t_xz =solution.ys\n",
    "        #t_xz = self.state_mlp.apply_fn({\"params\": self.state_mlp.params}, jnp.concatenate((x_with_noise, jnp.zeros((len(x_with_noise),)), axis=-1)))\n",
    "        return jnp.reshape(t_xz, (samples_per_x, *(x.shape)))\n",
    "\n",
    "\n",
    "\n",
    "        \n",
    "\n"
   ]
  },
  {
   "cell_type": "code",
   "execution_count": 33,
   "metadata": {},
   "outputs": [],
   "source": [
    "neural_net = MLP_FM([64, 64, 64, 64])"
   ]
  },
  {
   "cell_type": "code",
   "execution_count": 34,
   "metadata": {},
   "outputs": [],
   "source": [
    "#f = partial(otfm.state_mlp.apply_fn, noise=jnp.ones(len(source),))\n",
    "#f({\"params\":otfm.state_mlp.params}, t=jnp.zeros((len(source), 1)), x=source)"
   ]
  },
  {
   "cell_type": "code",
   "execution_count": null,
   "metadata": {},
   "outputs": [],
   "source": []
  },
  {
   "cell_type": "code",
   "execution_count": 36,
   "metadata": {},
   "outputs": [],
   "source": [
    "otfm = OTFlowMatching(neural_net, input_dim=[1], iterations=1000)"
   ]
  },
  {
   "cell_type": "code",
   "execution_count": 37,
   "metadata": {},
   "outputs": [
    {
     "name": "stderr",
     "output_type": "stream",
     "text": [
      "100%|██████████| 1000/1000 [00:05<00:00, 174.74it/s]\n"
     ]
    }
   ],
   "source": [
    "otfm(source, target, 1024,1024)"
   ]
  },
  {
   "cell_type": "code",
   "execution_count": 38,
   "metadata": {},
   "outputs": [],
   "source": [
    "res = otfm.transport(source, seed=0)"
   ]
  },
  {
   "cell_type": "code",
   "execution_count": 39,
   "metadata": {},
   "outputs": [
    {
     "data": {
      "text/plain": [
       "<Axes: ylabel='Density'>"
      ]
     },
     "execution_count": 39,
     "metadata": {},
     "output_type": "execute_result"
    },
    {
     "data": {
      "image/png": "[encoded data removed]",
      "text/plain": [
       "<Figure size 640x480 with 1 Axes>"
      ]
     },
     "metadata": {},
     "output_type": "display_data"
    }
   ],
   "source": [
    "import seaborn as sns\n",
    "sns.kdeplot(res[0,...])"
   ]
  },
  {
   "cell_type": "code",
   "execution_count": 40,
   "metadata": {},
   "outputs": [
    {
     "data": {
      "text/plain": [
       "<Axes: ylabel='Density'>"
      ]
     },
     "execution_count": 40,
     "metadata": {},
     "output_type": "execute_result"
    },
    {
     "data": {
      "image/png": "[encoded data removed]",
      "text/plain": [
       "<Figure size 640x480 with 1 Axes>"
      ]
     },
     "metadata": {},
     "output_type": "display_data"
    }
   ],
   "source": [
    "sns.kdeplot(target)"
   ]
  },
  {
   "cell_type": "code",
   "execution_count": null,
   "metadata": {},
   "outputs": [],
   "source": []
  }
 ],
 "metadata": {
  "kernelspec": {
   "display_name": "ott",
   "language": "python",
   "name": "ott"
  },
  "language_info": {
   "codemirror_mode": {
    "name": "ipython",
    "version": 3
   },
   "file_extension": ".py",
   "mimetype": "text/x-python",
   "name": "python",
   "nbconvert_exporter": "python",
   "pygments_lexer": "ipython3",
   "version": "3.10.10"
  },
  "orig_nbformat": 4
 },
 "nbformat": 4,
 "nbformat_minor": 2
}
